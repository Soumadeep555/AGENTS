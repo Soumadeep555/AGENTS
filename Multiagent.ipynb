{
 "cells": [
  {
   "cell_type": "markdown",
   "id": "bb6fd767",
   "metadata": {},
   "source": [
    "## COLLABORATIVE AGENT / NETWORK AGENT:"
   ]
  },
  {
   "cell_type": "code",
   "execution_count": 1,
   "id": "55b1a9a4",
   "metadata": {},
   "outputs": [],
   "source": [
    "from typing_extensions import Literal\n",
    "from langchain_core.tools import tool\n",
    "from langchain_groq import ChatGroq\n",
    "from langgraph.graph import MessagesState, StateGraph,START,END\n",
    "from langgraph.types import Command\n",
    "from dotenv import load_dotenv\n",
    "from IPython.display import Image, display\n",
    "from langchain_openai import ChatOpenAI\n",
    "from langchain_core.messages import BaseMessage, HumanMessage\n",
    "from langgraph.prebuilt import create_react_agent\n",
    "from typing import Annotated\n",
    "from langchain_experimental.utilities import PythonREPL"
   ]
  },
  {
   "cell_type": "code",
   "execution_count": 2,
   "id": "cdf1069e",
   "metadata": {},
   "outputs": [
    {
     "data": {
      "text/plain": [
       "True"
      ]
     },
     "execution_count": 2,
     "metadata": {},
     "output_type": "execute_result"
    }
   ],
   "source": [
    "load_dotenv()"
   ]
  },
  {
   "cell_type": "code",
   "execution_count": 3,
   "id": "d60cb9d8",
   "metadata": {},
   "outputs": [],
   "source": [
    "openai_model = ChatOpenAI(model=\"gpt-4\")"
   ]
  },
  {
   "cell_type": "code",
   "execution_count": 4,
   "id": "b50a1bdb",
   "metadata": {},
   "outputs": [
    {
     "data": {
      "text/plain": [
       "'Hello! How can I assist you today?'"
      ]
     },
     "execution_count": 4,
     "metadata": {},
     "output_type": "execute_result"
    }
   ],
   "source": [
    "openai_model.invoke(\"hi\").content"
   ]
  },
  {
   "cell_type": "code",
   "execution_count": 5,
   "id": "c4564686",
   "metadata": {},
   "outputs": [],
   "source": [
    "def add_numbers(state):\n",
    "    result=state[\"num1\"]+state[\"num2\"]\n",
    "    print(f\"additional result: {result}\")\n",
    "    return Command(goto=\"multiply\",update={\"sum\":result})"
   ]
  },
  {
   "cell_type": "code",
   "execution_count": 6,
   "id": "549d22e5",
   "metadata": {},
   "outputs": [],
   "source": [
    "state = {\"num1\":1, \"num2\":2}"
   ]
  },
  {
   "cell_type": "code",
   "execution_count": 7,
   "id": "75f91859",
   "metadata": {},
   "outputs": [
    {
     "name": "stdout",
     "output_type": "stream",
     "text": [
      "additional result: 3\n"
     ]
    },
    {
     "data": {
      "text/plain": [
       "Command(update={'sum': 3}, goto='multiply')"
      ]
     },
     "execution_count": 7,
     "metadata": {},
     "output_type": "execute_result"
    }
   ],
   "source": [
    "add_numbers(state)"
   ]
  },
  {
   "cell_type": "markdown",
   "id": "66eb451e",
   "metadata": {},
   "source": [
    "## Tools/Functions:"
   ]
  },
  {
   "cell_type": "code",
   "execution_count": 8,
   "id": "72ae2dad",
   "metadata": {},
   "outputs": [],
   "source": [
    "@tool\n",
    "def transfer_to_multiplication_expert():\n",
    "    \"\"\"Ask multiplication agent for help\"\"\"\n",
    "    return \n",
    "\n",
    "@tool\n",
    "def transfer_to_addition_expert():\n",
    "    \"\"\"Ask addition agent for help\"\"\"\n",
    "    return "
   ]
  },
  {
   "cell_type": "code",
   "execution_count": 9,
   "id": "e9483269",
   "metadata": {},
   "outputs": [],
   "source": [
    "\n",
    "model_with_tool = openai_model.bind_tools([transfer_to_multiplication_expert])"
   ]
  },
  {
   "cell_type": "code",
   "execution_count": 10,
   "id": "34dedba2",
   "metadata": {},
   "outputs": [],
   "source": [
    "ai_message = model_with_tool.invoke(\"hi how are you?\")"
   ]
  },
  {
   "cell_type": "code",
   "execution_count": 11,
   "id": "a78cb865",
   "metadata": {},
   "outputs": [
    {
     "data": {
      "text/plain": [
       "[]"
      ]
     },
     "execution_count": 11,
     "metadata": {},
     "output_type": "execute_result"
    }
   ],
   "source": [
    "ai_message.tool_calls"
   ]
  },
  {
   "cell_type": "code",
   "execution_count": 12,
   "id": "6f126e76",
   "metadata": {},
   "outputs": [],
   "source": [
    "ai_message = model_with_tool.invoke(\"what's (3 + 5) * 12. Provide me the output\")"
   ]
  },
  {
   "cell_type": "code",
   "execution_count": 13,
   "id": "72fdae54",
   "metadata": {},
   "outputs": [
    {
     "data": {
      "text/plain": [
       "AIMessage(content='', additional_kwargs={'tool_calls': [{'id': 'call_8Cphoza99E0h09UmS4eDZmOK', 'function': {'arguments': '{}', 'name': 'transfer_to_multiplication_expert'}, 'type': 'function'}], 'refusal': None}, response_metadata={'token_usage': {'completion_tokens': 11, 'prompt_tokens': 58, 'total_tokens': 69, 'completion_tokens_details': {'accepted_prediction_tokens': 0, 'audio_tokens': 0, 'reasoning_tokens': 0, 'rejected_prediction_tokens': 0}, 'prompt_tokens_details': {'audio_tokens': 0, 'cached_tokens': 0}}, 'model_name': 'gpt-4-0613', 'system_fingerprint': None, 'id': 'chatcmpl-C19RFRt4oVKxPcDuYpgtRw8u2x361', 'service_tier': 'default', 'finish_reason': 'tool_calls', 'logprobs': None}, id='run--908232a2-c67f-4d83-84d5-79f719370f25-0', tool_calls=[{'name': 'transfer_to_multiplication_expert', 'args': {}, 'id': 'call_8Cphoza99E0h09UmS4eDZmOK', 'type': 'tool_call'}], usage_metadata={'input_tokens': 58, 'output_tokens': 11, 'total_tokens': 69, 'input_token_details': {'audio': 0, 'cache_read': 0}, 'output_token_details': {'audio': 0, 'reasoning': 0}})"
      ]
     },
     "execution_count": 13,
     "metadata": {},
     "output_type": "execute_result"
    }
   ],
   "source": [
    "ai_message"
   ]
  },
  {
   "cell_type": "code",
   "execution_count": 14,
   "id": "97e420bf",
   "metadata": {},
   "outputs": [
    {
     "data": {
      "text/plain": [
       "[{'name': 'transfer_to_multiplication_expert',\n",
       "  'args': {},\n",
       "  'id': 'call_8Cphoza99E0h09UmS4eDZmOK',\n",
       "  'type': 'tool_call'}]"
      ]
     },
     "execution_count": 14,
     "metadata": {},
     "output_type": "execute_result"
    }
   ],
   "source": [
    "ai_message.tool_calls"
   ]
  },
  {
   "cell_type": "markdown",
   "id": "1aebee49",
   "metadata": {},
   "source": [
    "## Tool/Agent 1 (Addition Expert):"
   ]
  },
  {
   "cell_type": "code",
   "execution_count": 15,
   "id": "d0c34824",
   "metadata": {},
   "outputs": [],
   "source": [
    "def additional_expert(state:MessagesState)-> Command[Literal[\"multiplication_expert\", \"__end__\"]]:\n",
    "    \n",
    "    system_prompt = (\n",
    "        \"You are an addition expert, you can ask the multiplication expert for help with multiplication.\"\n",
    "        \"Always do your portion of calculation before the handoff.\"\n",
    "    )\n",
    "    \n",
    "    messages = [{\"role\": \"system\", \"content\": system_prompt}] + state[\"messages\"]\n",
    "    \n",
    "    \n",
    "    ai_msg = openai_model.bind_tools([transfer_to_multiplication_expert]).invoke(messages)\n",
    "    \n",
    "    \n",
    "    if len(ai_msg.tool_calls) > 0:\n",
    "        tool_call_id = ai_msg.tool_calls[-1][\"id\"]\n",
    "        tool_msg = {\n",
    "            \"role\": \"tool\",\n",
    "            \"content\": \"Successfully transferred\",\n",
    "            \"tool_call_id\": tool_call_id,\n",
    "        }\n",
    "        \n",
    "        return Command(\n",
    "            goto=\"multiplication_expert\", update={\"messages\": [ai_msg, tool_msg]}\n",
    "        )\n",
    "    return {\"messages\": [ai_msg]}"
   ]
  },
  {
   "cell_type": "markdown",
   "id": "995928d1",
   "metadata": {},
   "source": [
    "## Tool/Agent 2 (Multiplication Expert):"
   ]
  },
  {
   "cell_type": "code",
   "execution_count": 16,
   "id": "00aa29cc",
   "metadata": {},
   "outputs": [],
   "source": [
    "def multiplication_expert(state:MessagesState)-> Command[Literal[\"additional_expert\", \"__end__\"]]:\n",
    "    \n",
    "    system_prompt = (\n",
    "        \"You are a multiplication expert, you can ask an addition expert for help with addition. \"\n",
    "        \"Always do your portion of calculation before the handoff.\"\n",
    "    )\n",
    "    \n",
    "    messages = [{\"role\": \"system\", \"content\": system_prompt}] + state[\"messages\"]\n",
    "    \n",
    "    ai_msg = openai_model.bind_tools([transfer_to_addition_expert]).invoke(messages)\n",
    "    \n",
    "    if len(ai_msg.tool_calls) > 0:\n",
    "        tool_call_id = ai_msg.tool_calls[-1][\"id\"]\n",
    "        tool_msg = {\n",
    "            \"role\": \"tool\",\n",
    "            \"content\": \"Successfully transferred\",\n",
    "            \"tool_call_id\": tool_call_id,\n",
    "        }\n",
    "        return Command(goto=\"additional_expert\", update={\"messages\": [ai_msg, tool_msg]})\n",
    "    return {\"messages\": [ai_msg]}"
   ]
  },
  {
   "cell_type": "markdown",
   "id": "3589f70b",
   "metadata": {},
   "source": [
    "## Workflow:"
   ]
  },
  {
   "cell_type": "code",
   "execution_count": 17,
   "id": "e1147963",
   "metadata": {},
   "outputs": [],
   "source": [
    "graph = StateGraph(MessagesState)"
   ]
  },
  {
   "cell_type": "code",
   "execution_count": 18,
   "id": "3acd23e6",
   "metadata": {},
   "outputs": [
    {
     "data": {
      "text/plain": [
       "<langgraph.graph.state.StateGraph at 0x1608c927e00>"
      ]
     },
     "execution_count": 18,
     "metadata": {},
     "output_type": "execute_result"
    }
   ],
   "source": [
    "graph.add_node(\"additional_expert\",additional_expert)\n",
    "graph.add_node(\"multiplication_expert\",multiplication_expert)"
   ]
  },
  {
   "cell_type": "code",
   "execution_count": 19,
   "id": "a41792d6",
   "metadata": {},
   "outputs": [
    {
     "data": {
      "text/plain": [
       "<langgraph.graph.state.StateGraph at 0x1608c927e00>"
      ]
     },
     "execution_count": 19,
     "metadata": {},
     "output_type": "execute_result"
    }
   ],
   "source": [
    "graph.add_edge(START, \"additional_expert\")"
   ]
  },
  {
   "cell_type": "code",
   "execution_count": 20,
   "id": "e7d83d54",
   "metadata": {},
   "outputs": [],
   "source": [
    "app = graph.compile()"
   ]
  },
  {
   "cell_type": "code",
   "execution_count": 21,
   "id": "a93fae17",
   "metadata": {},
   "outputs": [
    {
     "data": {
      "image/png": "[encoded data removed]",
      "text/plain": [
       "<IPython.core.display.Image object>"
      ]
     },
     "metadata": {},
     "output_type": "display_data"
    }
   ],
   "source": [
    "#app=graph.compile()\n",
    "display(Image(app.get_graph().draw_mermaid_png()))"
   ]
  },
  {
   "cell_type": "markdown",
   "id": "9b2e2688",
   "metadata": {},
   "source": [
    "#### Response:"
   ]
  },
  {
   "cell_type": "code",
   "execution_count": 22,
   "id": "61383fe4",
   "metadata": {},
   "outputs": [
    {
     "data": {
      "text/plain": [
       "{'messages': [HumanMessage(content=\"what's (3 + 5) * 12. Provide me the output\", additional_kwargs={}, response_metadata={}, id='3d57e428-2814-4f3c-9fe4-f34c8058084c'),\n",
       "  AIMessage(content='', additional_kwargs={'tool_calls': [{'id': 'call_iSo23Y3VPc3YhTenP3qcqcuz', 'function': {'arguments': '{\\n  \"numbers\": [8, 12]\\n}', 'name': 'transfer_to_multiplication_expert'}, 'type': 'function'}], 'refusal': None}, response_metadata={'token_usage': {'completion_tokens': 22, 'prompt_tokens': 86, 'total_tokens': 108, 'completion_tokens_details': {'accepted_prediction_tokens': 0, 'audio_tokens': 0, 'reasoning_tokens': 0, 'rejected_prediction_tokens': 0}, 'prompt_tokens_details': {'audio_tokens': 0, 'cached_tokens': 0}}, 'model_name': 'gpt-4-0613', 'system_fingerprint': None, 'id': 'chatcmpl-C19Rcs0nLTWz99QaeU5pwg7lMetf7', 'service_tier': 'default', 'finish_reason': 'tool_calls', 'logprobs': None}, id='run--32c3fea5-af9e-4a84-8175-83bc279aed55-0', tool_calls=[{'name': 'transfer_to_multiplication_expert', 'args': {'numbers': [8, 12]}, 'id': 'call_iSo23Y3VPc3YhTenP3qcqcuz', 'type': 'tool_call'}], usage_metadata={'input_tokens': 86, 'output_tokens': 22, 'total_tokens': 108, 'input_token_details': {'audio': 0, 'cache_read': 0}, 'output_token_details': {'audio': 0, 'reasoning': 0}}),\n",
       "  ToolMessage(content='Successfully transferred', id='e33555ce-af92-4c29-acd0-ff4ce8b3db0f', tool_call_id='call_iSo23Y3VPc3YhTenP3qcqcuz'),\n",
       "  AIMessage(content='(3 + 5) * 12 equals to 96.', additional_kwargs={'refusal': None}, response_metadata={'token_usage': {'completion_tokens': 15, 'prompt_tokens': 119, 'total_tokens': 134, 'completion_tokens_details': {'accepted_prediction_tokens': 0, 'audio_tokens': 0, 'reasoning_tokens': 0, 'rejected_prediction_tokens': 0}, 'prompt_tokens_details': {'audio_tokens': 0, 'cached_tokens': 0}}, 'model_name': 'gpt-4-0613', 'system_fingerprint': None, 'id': 'chatcmpl-C19RfDVndzQuBPvUjUAox6Al3U6cj', 'service_tier': 'default', 'finish_reason': 'stop', 'logprobs': None}, id='run--10e89314-a7a2-4c6c-ab2a-4b181a073af8-0', usage_metadata={'input_tokens': 119, 'output_tokens': 15, 'total_tokens': 134, 'input_token_details': {'audio': 0, 'cache_read': 0}, 'output_token_details': {'audio': 0, 'reasoning': 0}})]}"
      ]
     },
     "execution_count": 22,
     "metadata": {},
     "output_type": "execute_result"
    }
   ],
   "source": [
    "app.invoke({\"messages\":[(\"user\",\"what's (3 + 5) * 12. Provide me the output\")]})"
   ]
  },
  {
   "cell_type": "markdown",
   "id": "0c340424",
   "metadata": {},
   "source": [
    "## SUPERVISOR AGENT:"
   ]
  },
  {
   "cell_type": "code",
   "execution_count": 23,
   "id": "5a004e5c",
   "metadata": {},
   "outputs": [],
   "source": [
    "from typing import Annotated\n",
    "from typing import Literal\n",
    "from langchain_community.tools.tavily_search import TavilySearchResults\n",
    "from langchain_core.tools import tool\n",
    "from langchain_experimental.utilities import PythonREPL\n",
    "from typing_extensions import TypedDict\n",
    "from langgraph.graph import MessagesState, END,StateGraph, START\n",
    "from langgraph.types import Command\n",
    "from langchain_core.messages import HumanMessage\n",
    "from langgraph.prebuilt import create_react_agent"
   ]
  },
  {
   "cell_type": "code",
   "execution_count": 24,
   "id": "49341bca",
   "metadata": {},
   "outputs": [],
   "source": [
    "from dotenv import load_dotenv"
   ]
  },
  {
   "cell_type": "code",
   "execution_count": 25,
   "id": "e30ebd74",
   "metadata": {},
   "outputs": [
    {
     "data": {
      "text/plain": [
       "True"
      ]
     },
     "execution_count": 25,
     "metadata": {},
     "output_type": "execute_result"
    }
   ],
   "source": [
    "load_dotenv()"
   ]
  },
  {
   "cell_type": "markdown",
   "id": "0e954aeb",
   "metadata": {},
   "source": [
    "## Tool 1 (TAVILY WEB SEARCH -> RESEARCHER): "
   ]
  },
  {
   "cell_type": "code",
   "execution_count": 26,
   "id": "04b255fe",
   "metadata": {},
   "outputs": [],
   "source": [
    "TAVILY_API_KEY = \"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\"\n",
    "\n",
    "\n",
    "import os\n",
    "os.environ[\"TAVILY_API_KEY\"] = TAVILY_API_KEY"
   ]
  },
  {
   "cell_type": "code",
   "execution_count": 27,
   "id": "18771717",
   "metadata": {},
   "outputs": [],
   "source": [
    "tavaily_tool=TavilySearchResults()"
   ]
  },
  {
   "cell_type": "code",
   "execution_count": 28,
   "id": "2f886735",
   "metadata": {},
   "outputs": [
    {
     "data": {
      "text/plain": [
       "[{'title': 'Gross domestic product - Wikipedia',\n",
       "  'url': 'https://en.wikipedia.org/wiki/Gross_domestic_product',\n",
       "  'content': 'Gross domestic product (GDP) is a monetarymeasure of the total market value( of all the final goods and services produced and rendered in a specific time period by a country( or countries.( GDP is often used to measure the economic performance of a country or region.( Several national and international economic organizations maintain definitions of GDP, such as the OECD and the International Monetary Fund.( [...] GDP (Y) is the sum of consumption (C), investment (I), government expenditures (G) and net exports (X − M).\\n\\nY = C + I + G + (X − M)\\nHere is a description of each GDP component: [...] GDP.',\n",
       "  'score': 0.8665964},\n",
       " {'title': 'Beginners:GDP - What is gross domestic product (GDP)?',\n",
       "  'url': 'https://ec.europa.eu/eurostat/statistics-explained/index.php/Beginners:GDP_-_What_is_gross_domestic_product_(GDP)%3F',\n",
       "  'content': 'GDP \"Glossary:Gross domestic product (GDP)\") is the most common measure for the size of an economy. It measures the total value of goods and services produced by that economy during a specific time period, typically a year or a quarter, so it helps us understand the size of an economy and the standard of living of its population. [...] GDP is a key measure within a wider framework of economic statistics which is often simply referred to as national accounts. The European system of national and regional accounts (ESA) defines the binding standards and methods used for compiling these accounts, whereas the global standard set by the United Nations (UN) is called the System of National Accounts (SNA) \"Glossary:System of national accounts (SNA)\").\\n\\nGDP can be calculated in 3 ways, but the most common is the production method.',\n",
       "  'score': 0.85567063},\n",
       " {'title': 'What Is GDP and Why Is It So Important to Economists and Investors?',\n",
       "  'url': 'https://www.investopedia.com/ask/answers/what-is-gdp-why-its-important-to-economists-investors/',\n",
       "  'content': \"Gross domestic product (GDP) is one of the most widely used indicators of economic performance. Gross domestic product measures a national economy's total output in a given period and is seasonally adjusted to eliminate quarterly variations based on climate or holidays. The most closely watched GDP measure is also adjusted for inflation to measure changes in output rather than changes in the prices of goods and services. [...] ### Key Takeaways\\n\\n## Understanding Gross Domestic Product (GDP)\\n\\nGDP measures the monetary value of goods and services produced within a country's borders in a given time, usually a quarter or a year. Changes in output over time as measured by the GDP are the most comprehensive gauge of an economy's health. [...] The income approach, which is sometimes referred to as GDP(I), is the sum of the aggregate compensation paid to employees, business profits, and taxes less subsidies. The expenditure method already discussed is the more common approach and is calculated by adding private consumption and investment, government spending, and net exports.\",\n",
       "  'score': 0.85509074},\n",
       " {'title': 'The Importance of GDP - Investopedia',\n",
       "  'url': 'https://www.investopedia.com/articles/investing/121213/gdp-and-its-importance.asp',\n",
       "  'content': \"Justin Sullivan / Getty Images\\n\\nGross domestic product (GDP) is defined as the total value of goods and services produced within a country’s borders in a specific period. This can be monthly, quarterly, or annually. GDP is one of the most widely used measures of an economy’s output or production. But, why is it important? It is an accurate indicator of the output of an economy, and the GDP growth rate is probably the single best indicator of economic growth.\\n\\n### Key Takeaways [...] Gross domestic product is a measure of the total market value of all finished goods and services produced domestically within a certain period. Real GDP accounts for inflation, so it is considered to be more accurate than nominal GDP. Compare this to nominal GDP, which can be skewed because it doesn't account for inflation or deflation.\\n\\n## The Bottom Line\",\n",
       "  'score': 0.85008353},\n",
       " {'title': 'Gross domestic product (GDP) | Definition & Formula - Britannica',\n",
       "  'url': 'https://www.britannica.com/money/gross-domestic-product',\n",
       "  'content': 'gross domestic product (GDP), total market value of the goods and services produced by a country’s economy during a specified period of time. It includes all final goods and services—that is, those that are produced by the economic agents located in that country regardless of their ownership and that are not resold in any form. It is used throughout the world as the main measure of output and economic activity. [...] In economics, the final users of goods and services are divided into three main groups: households, businesses, and the government. One way gross domestic product (GDP) is calculated—known as the expenditure approach—is by adding the expenditures made by those three groups of users. Accordingly, GDP is defined by the following formula: GDP = Consumption + Investment + Government Spending + Net Exports or more succinctly as GDP = C + I + G + NX where consumption (C) represents [...] GDP per capita (also called GDP per person) is used as a measure of a country’s standard of living. A country with a higher level of GDP per capita is considered to be better off in economic terms than a country with a lower level.',\n",
       "  'score': 0.8296166}]"
      ]
     },
     "execution_count": 28,
     "metadata": {},
     "output_type": "execute_result"
    }
   ],
   "source": [
    "tavaily_tool.invoke(\"what is a gdp?\")"
   ]
  },
  {
   "cell_type": "markdown",
   "id": "b840aaed",
   "metadata": {},
   "source": [
    "## Tool 2 (Python REPL -> CODER):"
   ]
  },
  {
   "cell_type": "code",
   "execution_count": 29,
   "id": "65cb6923",
   "metadata": {},
   "outputs": [
    {
     "name": "stderr",
     "output_type": "stream",
     "text": [
      "<>:13: SyntaxWarning: invalid escape sequence '\\`'\n",
      "<>:13: SyntaxWarning: invalid escape sequence '\\`'\n",
      "<>:13: SyntaxWarning: invalid escape sequence '\\`'\n",
      "<>:13: SyntaxWarning: invalid escape sequence '\\`'\n",
      "C:\\Users\\souma\\AppData\\Local\\Temp\\ipykernel_18508\\3901756031.py:13: SyntaxWarning: invalid escape sequence '\\`'\n",
      "  result_str = f\"Successfully executed:\\n\\`\\`\\`python\\n{code}\\n\\`\\`\\`\\nStdout: {result}\"\n",
      "C:\\Users\\souma\\AppData\\Local\\Temp\\ipykernel_18508\\3901756031.py:13: SyntaxWarning: invalid escape sequence '\\`'\n",
      "  result_str = f\"Successfully executed:\\n\\`\\`\\`python\\n{code}\\n\\`\\`\\`\\nStdout: {result}\"\n"
     ]
    }
   ],
   "source": [
    "@tool\n",
    "def python_repl_tool(\n",
    "    code: Annotated[str, \"The python code to execute to generate your chart.\"],\n",
    "):\n",
    "    \"\"\"Use this to execute python code and do math. If you want to see the output of a value,\n",
    "    you should print it out with `print(...)`. This is visible to the user.\"\"\"\n",
    "    \n",
    "    try:\n",
    "        result = repl.run(code)\n",
    "    except BaseException as e:\n",
    "        return f\"Failed to execute. Error: {repr(e)}\"\n",
    "    \n",
    "    result_str = f\"Successfully executed:\\n\\`\\`\\`python\\n{code}\\n\\`\\`\\`\\nStdout: {result}\"\n",
    "    return result_str"
   ]
  },
  {
   "cell_type": "markdown",
   "id": "d0ef7a94",
   "metadata": {},
   "source": [
    "#### Input Code as String:"
   ]
  },
  {
   "cell_type": "code",
   "execution_count": 31,
   "id": "27a2595a",
   "metadata": {},
   "outputs": [],
   "source": [
    "code = \"\"\"\n",
    "x = 5\n",
    "y = x * 2\n",
    "print(y)\n",
    "\"\"\""
   ]
  },
  {
   "cell_type": "code",
   "execution_count": 30,
   "id": "14226e35",
   "metadata": {},
   "outputs": [],
   "source": [
    "repl=PythonREPL()"
   ]
  },
  {
   "cell_type": "code",
   "execution_count": 32,
   "id": "0e33a289",
   "metadata": {},
   "outputs": [
    {
     "name": "stderr",
     "output_type": "stream",
     "text": [
      "Python REPL can execute arbitrary code. Use with caution.\n"
     ]
    },
    {
     "data": {
      "text/plain": [
       "'10\\n'"
      ]
     },
     "execution_count": 32,
     "metadata": {},
     "output_type": "execute_result"
    }
   ],
   "source": [
    "repl.run(code)"
   ]
  },
  {
   "cell_type": "code",
   "execution_count": 33,
   "id": "c514ecaa",
   "metadata": {},
   "outputs": [],
   "source": [
    "members = [\"researcher\",\"coder\"]"
   ]
  },
  {
   "cell_type": "code",
   "execution_count": 34,
   "id": "fb63d7d6",
   "metadata": {},
   "outputs": [],
   "source": [
    "options = members+[\"FINISH\"]"
   ]
  },
  {
   "cell_type": "code",
   "execution_count": 35,
   "id": "c8d457fc",
   "metadata": {},
   "outputs": [
    {
     "data": {
      "text/plain": [
       "['researcher', 'coder', 'FINISH']"
      ]
     },
     "execution_count": 35,
     "metadata": {},
     "output_type": "execute_result"
    }
   ],
   "source": [
    "options"
   ]
  },
  {
   "cell_type": "markdown",
   "id": "8f06bad4",
   "metadata": {},
   "source": [
    "## Router Function:"
   ]
  },
  {
   "cell_type": "code",
   "execution_count": 36,
   "id": "f45001a9",
   "metadata": {},
   "outputs": [],
   "source": [
    "class Router(TypedDict):\n",
    "    \"\"\"Worker to route to next. If no workers needed, route to FINISH.\"\"\"\n",
    "    next: Literal['researcher', 'coder', 'FINISH']"
   ]
  },
  {
   "cell_type": "markdown",
   "id": "b9182e88",
   "metadata": {},
   "source": [
    "## State:"
   ]
  },
  {
   "cell_type": "code",
   "execution_count": 37,
   "id": "8abcae0f",
   "metadata": {},
   "outputs": [],
   "source": [
    "class State(MessagesState):\n",
    "    next:str"
   ]
  },
  {
   "cell_type": "markdown",
   "id": "9f714ae6",
   "metadata": {},
   "source": [
    "## SYSTEM PROMPT:"
   ]
  },
  {
   "cell_type": "code",
   "execution_count": 38,
   "id": "4315e5e1",
   "metadata": {},
   "outputs": [],
   "source": [
    "system_prompt=f\"\"\"\n",
    "You are a supervisor, tasked with managing a conversation between the following workers: {members}. \n",
    "Given the following user request, respond with the worker to act next. \n",
    "Each worker will perform a task and respond with their results and status. \n",
    "When finished, respond with FINISH.\n",
    "\"\"\""
   ]
  },
  {
   "cell_type": "code",
   "execution_count": 39,
   "id": "30f9e656",
   "metadata": {},
   "outputs": [
    {
     "data": {
      "text/plain": [
       "[{'role': 'system',\n",
       "  'content': \"\\nYou are a supervisor, tasked with managing a conversation between the following workers: ['researcher', 'coder']. \\nGiven the following user request, respond with the worker to act next. \\nEach worker will perform a task and respond with their results and status. \\nWhen finished, respond with FINISH.\\n\"}]"
      ]
     },
     "execution_count": 39,
     "metadata": {},
     "output_type": "execute_result"
    }
   ],
   "source": [
    "[{\"role\": \"system\", \"content\": system_prompt},]"
   ]
  },
  {
   "cell_type": "markdown",
   "id": "99351dc1",
   "metadata": {},
   "source": [
    "## Supervisor Node/Agent (Command Module):"
   ]
  },
  {
   "cell_type": "code",
   "execution_count": 40,
   "id": "04b10d87",
   "metadata": {},
   "outputs": [],
   "source": [
    "def supervisor_node(state: State) -> Command[Literal[\"researcher\", \"coder\", \"__end__\"]]:\n",
    "    \n",
    "    messages = [{\"role\": \"system\", \"content\": system_prompt},] + state[\"messages\"]\n",
    "    \n",
    "    response = openai_model.with_structured_output(Router).invoke(messages)\n",
    "    \n",
    "    goto = response[\"next\"]\n",
    "    \n",
    "    print(\"below my goto**********************************\")\n",
    "    \n",
    "    print(goto)\n",
    "    \n",
    "    if goto == \"FINISH\":\n",
    "        goto = END\n",
    "        \n",
    "    return Command(goto=goto, update={\"next\": goto})"
   ]
  },
  {
   "cell_type": "markdown",
   "id": "1645c57a",
   "metadata": {},
   "source": [
    "## Agent 1 (Researcher Node/Agent):"
   ]
  },
  {
   "cell_type": "code",
   "execution_count": 41,
   "id": "997fe56a",
   "metadata": {},
   "outputs": [],
   "source": [
    "def research_node(state: State) -> Command[Literal[\"supervisor\"]]:\n",
    "    \n",
    "    research_agent = create_react_agent(openai_model, tools=[tavaily_tool], prompt=\"You are a researcher. DO NOT do any math.\")\n",
    "    \n",
    "    result = research_agent.invoke(state)\n",
    "    \n",
    "    return Command(\n",
    "        update={\n",
    "            \"messages\": [\n",
    "                HumanMessage(content=result[\"messages\"][-1].content, name=\"researcher\")\n",
    "            ]\n",
    "        },\n",
    "        goto=\"supervisor\",\n",
    "    )"
   ]
  },
  {
   "cell_type": "markdown",
   "id": "8ac95bd2",
   "metadata": {},
   "source": [
    "## Agent 2 (Coder Node/Agent):"
   ]
  },
  {
   "cell_type": "code",
   "execution_count": 42,
   "id": "93ce7b46",
   "metadata": {},
   "outputs": [],
   "source": [
    "def code_node(state: State) -> Command[Literal[\"supervisor\"]]:\n",
    "    \n",
    "    code_agent = create_react_agent(openai_model, tools=[python_repl_tool])\n",
    "    \n",
    "    result = code_agent.invoke(state)\n",
    "    \n",
    "    return Command(\n",
    "        update={\n",
    "            \"messages\": [\n",
    "                HumanMessage(content=result[\"messages\"][-1].content, name=\"coder\")\n",
    "            ]\n",
    "        },\n",
    "        goto=\"supervisor\",\n",
    "    )"
   ]
  },
  {
   "cell_type": "markdown",
   "id": "4dd6f356",
   "metadata": {},
   "source": [
    "## Workflow:"
   ]
  },
  {
   "cell_type": "code",
   "execution_count": 43,
   "id": "bc75a09c",
   "metadata": {},
   "outputs": [],
   "source": [
    "graph=StateGraph(State)"
   ]
  },
  {
   "cell_type": "code",
   "execution_count": 44,
   "id": "0df6717f",
   "metadata": {},
   "outputs": [],
   "source": [
    "graph.add_node(\"supervisor\",supervisor_node)\n",
    "graph.add_node(\"researcher\", research_node)\n",
    "graph.add_node(\"coder\", code_node)\n",
    "\n",
    "graph.add_edge(START,\"supervisor\")\n",
    "app=graph.compile()"
   ]
  },
  {
   "cell_type": "markdown",
   "id": "95336ee6",
   "metadata": {},
   "source": [
    "## APP:"
   ]
  },
  {
   "cell_type": "code",
   "execution_count": 45,
   "id": "42dc4911",
   "metadata": {},
   "outputs": [
    {
     "data": {
      "image/png": "[encoded data removed]",
      "text/plain": [
       "<IPython.core.display.Image object>"
      ]
     },
     "metadata": {},
     "output_type": "display_data"
    }
   ],
   "source": [
    "from IPython.display import display, Image\n",
    "\n",
    "display(Image(app.get_graph().draw_mermaid_png()))"
   ]
  },
  {
   "cell_type": "markdown",
   "id": "d93d2f47",
   "metadata": {},
   "source": [
    "## Response (Stream Output):"
   ]
  },
  {
   "cell_type": "code",
   "execution_count": 46,
   "id": "5aa4f881",
   "metadata": {},
   "outputs": [
    {
     "name": "stderr",
     "output_type": "stream",
     "text": [
      "c:\\Users\\souma\\anaconda3\\envs\\rag\\Lib\\site-packages\\langchain_openai\\chat_models\\base.py:1685: UserWarning: Cannot use method='json_schema' with model gpt-4 since it doesn't support OpenAI's Structured Output API. You can see supported models here: https://platform.openai.com/docs/guides/structured-outputs#supported-models. To fix this warning, set `method='function_calling'. Overriding to method='function_calling'.\n",
      "  warnings.warn(\n"
     ]
    },
    {
     "name": "stdout",
     "output_type": "stream",
     "text": [
      "below my goto**********************************\n",
      "coder\n",
      "((), {'supervisor': {'next': 'coder'}})\n",
      "----\n",
      "(('coder:cebb92c0-52f4-2b2c-6eb3-8638df1e2d15',), {'agent': {'messages': [AIMessage(content='', additional_kwargs={'tool_calls': [{'id': 'call_wvmkCjYwd6oU99yAtiD3zZNv', 'function': {'arguments': '{\\n  \"code\": \"import math\\\\nprint(math.sqrt(42))\"\\n}', 'name': 'python_repl_tool'}, 'type': 'function'}], 'refusal': None}, response_metadata={'token_usage': {'completion_tokens': 24, 'prompt_tokens': 100, 'total_tokens': 124, 'completion_tokens_details': {'accepted_prediction_tokens': 0, 'audio_tokens': 0, 'reasoning_tokens': 0, 'rejected_prediction_tokens': 0}, 'prompt_tokens_details': {'audio_tokens': 0, 'cached_tokens': 0}}, 'model_name': 'gpt-4-0613', 'system_fingerprint': None, 'id': 'chatcmpl-C19h4PC48vaJeuBK5JPMzcociJS0a', 'service_tier': 'default', 'finish_reason': 'tool_calls', 'logprobs': None}, id='run--73e969cd-2c1a-41c1-8fac-88f881d35419-0', tool_calls=[{'name': 'python_repl_tool', 'args': {'code': 'import math\\nprint(math.sqrt(42))'}, 'id': 'call_wvmkCjYwd6oU99yAtiD3zZNv', 'type': 'tool_call'}], usage_metadata={'input_tokens': 100, 'output_tokens': 24, 'total_tokens': 124, 'input_token_details': {'audio': 0, 'cache_read': 0}, 'output_token_details': {'audio': 0, 'reasoning': 0}})]}})\n",
      "----\n",
      "(('coder:cebb92c0-52f4-2b2c-6eb3-8638df1e2d15',), {'tools': {'messages': [ToolMessage(content='Successfully executed:\\n\\\\`\\\\`\\\\`python\\nimport math\\nprint(math.sqrt(42))\\n\\\\`\\\\`\\\\`\\nStdout: 6.48074069840786\\n', name='python_repl_tool', id='c13ee290-7c71-4247-9fe3-23c4d9d3e0e7', tool_call_id='call_wvmkCjYwd6oU99yAtiD3zZNv')]}})\n",
      "----\n",
      "(('coder:cebb92c0-52f4-2b2c-6eb3-8638df1e2d15',), {'agent': {'messages': [AIMessage(content='The square root of 42 is approximately 6.48.', additional_kwargs={'refusal': None}, response_metadata={'token_usage': {'completion_tokens': 14, 'prompt_tokens': 166, 'total_tokens': 180, 'completion_tokens_details': {'accepted_prediction_tokens': 0, 'audio_tokens': 0, 'reasoning_tokens': 0, 'rejected_prediction_tokens': 0}, 'prompt_tokens_details': {'audio_tokens': 0, 'cached_tokens': 0}}, 'model_name': 'gpt-4-0613', 'system_fingerprint': None, 'id': 'chatcmpl-C19h7gBpe5HJnn2hjD5w1iwe38es8', 'service_tier': 'default', 'finish_reason': 'stop', 'logprobs': None}, id='run--b739a8b0-5658-4ab4-837e-678f52ef89ec-0', usage_metadata={'input_tokens': 166, 'output_tokens': 14, 'total_tokens': 180, 'input_token_details': {'audio': 0, 'cache_read': 0}, 'output_token_details': {'audio': 0, 'reasoning': 0}})]}})\n",
      "----\n",
      "((), {'coder': {'messages': [HumanMessage(content='The square root of 42 is approximately 6.48.', additional_kwargs={}, response_metadata={}, name='coder')]}})\n",
      "----\n"
     ]
    },
    {
     "name": "stderr",
     "output_type": "stream",
     "text": [
      "c:\\Users\\souma\\anaconda3\\envs\\rag\\Lib\\site-packages\\langchain_openai\\chat_models\\base.py:1685: UserWarning: Cannot use method='json_schema' with model gpt-4 since it doesn't support OpenAI's Structured Output API. You can see supported models here: https://platform.openai.com/docs/guides/structured-outputs#supported-models. To fix this warning, set `method='function_calling'. Overriding to method='function_calling'.\n",
      "  warnings.warn(\n",
      "Task supervisor with path ('__pregel_pull', 'supervisor') wrote to unknown channel branch:to:__end__, ignoring it.\n"
     ]
    },
    {
     "name": "stdout",
     "output_type": "stream",
     "text": [
      "below my goto**********************************\n",
      "FINISH\n",
      "((), {'supervisor': {'next': '__end__'}})\n",
      "----\n"
     ]
    }
   ],
   "source": [
    "for s in app.stream({\"messages\": [(\"user\", \"What's the square root of 42?\")]}, subgraphs=True):\n",
    "    print(s)\n",
    "    print(\"----\")"
   ]
  },
  {
   "cell_type": "code",
   "execution_count": null,
   "id": "2eb76b2d",
   "metadata": {},
   "outputs": [],
   "source": []
  }
 ],
 "metadata": {
  "kernelspec": {
   "display_name": "rag",
   "language": "python",
   "name": "python3"
  },
  "language_info": {
   "codemirror_mode": {
    "name": "ipython",
    "version": 3
   },
   "file_extension": ".py",
   "mimetype": "text/x-python",
   "name": "python",
   "nbconvert_exporter": "python",
   "pygments_lexer": "ipython3",
   "version": "3.13.3"
  }
 },
 "nbformat": 4,
 "nbformat_minor": 5
}
