{
 "cells": [
  {
   "cell_type": "code",
   "execution_count": 1,
   "id": "478f35ba",
   "metadata": {},
   "outputs": [],
   "source": [
    "from langchain_openai import ChatOpenAI"
   ]
  },
  {
   "cell_type": "code",
   "execution_count": 2,
   "id": "d4f6e774",
   "metadata": {},
   "outputs": [],
   "source": [
    "from dotenv import load_dotenv"
   ]
  },
  {
   "cell_type": "code",
   "execution_count": 3,
   "id": "31e4cea3",
   "metadata": {},
   "outputs": [
    {
     "data": {
      "text/plain": [
       "True"
      ]
     },
     "execution_count": 3,
     "metadata": {},
     "output_type": "execute_result"
    }
   ],
   "source": [
    "load_dotenv()"
   ]
  },
  {
   "cell_type": "code",
   "execution_count": 4,
   "id": "0fd3bd4a",
   "metadata": {},
   "outputs": [],
   "source": [
    "import os\n",
    "OPENAI_API_KEY=os.getenv(\"OPENAI_API_KEY\")"
   ]
  },
  {
   "cell_type": "code",
   "execution_count": 5,
   "id": "e403ceb6",
   "metadata": {},
   "outputs": [],
   "source": [
    "os.environ[\"OPENAI_API_KEY\"]=OPENAI_API_KEY"
   ]
  },
  {
   "cell_type": "code",
   "execution_count": 6,
   "id": "856994ba",
   "metadata": {},
   "outputs": [],
   "source": [
    "openai_model=ChatOpenAI(model=\"gpt-4o\")"
   ]
  },
  {
   "cell_type": "code",
   "execution_count": 7,
   "id": "c175070d",
   "metadata": {},
   "outputs": [
    {
     "data": {
      "text/plain": [
       "AIMessage(content='Hello! How can I assist you today?', additional_kwargs={'refusal': None}, response_metadata={'token_usage': {'completion_tokens': 9, 'prompt_tokens': 8, 'total_tokens': 17, 'completion_tokens_details': {'accepted_prediction_tokens': 0, 'audio_tokens': 0, 'reasoning_tokens': 0, 'rejected_prediction_tokens': 0}, 'prompt_tokens_details': {'audio_tokens': 0, 'cached_tokens': 0}}, 'model_name': 'gpt-4o-2024-08-06', 'system_fingerprint': 'fp_a288987b44', 'id': 'chatcmpl-BzhmOAbhU8CKarHDm6bescuJE2miZ', 'service_tier': 'default', 'finish_reason': 'stop', 'logprobs': None}, id='run--f44cc448-26a7-48fa-ac9a-084df02f4bb9-0', usage_metadata={'input_tokens': 8, 'output_tokens': 9, 'total_tokens': 17, 'input_token_details': {'audio': 0, 'cache_read': 0}, 'output_token_details': {'audio': 0, 'reasoning': 0}})"
      ]
     },
     "execution_count": 7,
     "metadata": {},
     "output_type": "execute_result"
    }
   ],
   "source": [
    "openai_model.invoke(\"hi\")"
   ]
  },
  {
   "cell_type": "code",
   "execution_count": 8,
   "id": "76abd31a",
   "metadata": {},
   "outputs": [
    {
     "data": {
      "text/plain": [
       "'Hello! How can I assist you today?'"
      ]
     },
     "execution_count": 8,
     "metadata": {},
     "output_type": "execute_result"
    }
   ],
   "source": [
    "openai_model.invoke(\"hi\").content"
   ]
  },
  {
   "cell_type": "code",
   "execution_count": 9,
   "id": "bb8831a3",
   "metadata": {},
   "outputs": [],
   "source": [
    "from langgraph.graph import StateGraph,MessagesState, START, END\n",
    "from langgraph.graph.message import add_messages\n",
    "from typing import Annotated, Literal, TypedDict\n",
    "from langchain_core.tools import tool\n",
    "from langchain_core.messages import HumanMessage\n",
    "from langgraph.checkpoint.memory import MemorySaver\n",
    "from langgraph.prebuilt import ToolNode"
   ]
  },
  {
   "cell_type": "code",
   "execution_count": 11,
   "id": "4d63ba09",
   "metadata": {},
   "outputs": [],
   "source": [
    "state={}"
   ]
  },
  {
   "cell_type": "code",
   "execution_count": 12,
   "id": "e96a5150",
   "metadata": {},
   "outputs": [],
   "source": [
    "state[\"messages\"]=[]"
   ]
  },
  {
   "cell_type": "code",
   "execution_count": 13,
   "id": "a41d4f7c",
   "metadata": {},
   "outputs": [
    {
     "data": {
      "text/plain": [
       "{'messages': []}"
      ]
     },
     "execution_count": 13,
     "metadata": {},
     "output_type": "execute_result"
    }
   ],
   "source": [
    "state"
   ]
  },
  {
   "cell_type": "code",
   "execution_count": 14,
   "id": "4d162fea",
   "metadata": {},
   "outputs": [],
   "source": [
    "state[\"messages\"].append(\"hi\")"
   ]
  },
  {
   "cell_type": "code",
   "execution_count": 15,
   "id": "e80daffe",
   "metadata": {},
   "outputs": [
    {
     "data": {
      "text/plain": [
       "{'messages': ['hi']}"
      ]
     },
     "execution_count": 15,
     "metadata": {},
     "output_type": "execute_result"
    }
   ],
   "source": [
    "state"
   ]
  },
  {
   "cell_type": "code",
   "execution_count": 16,
   "id": "8d3ff228",
   "metadata": {},
   "outputs": [],
   "source": [
    "state[\"messages\"].append(\"how are you?\")"
   ]
  },
  {
   "cell_type": "code",
   "execution_count": 17,
   "id": "368a2a61",
   "metadata": {},
   "outputs": [
    {
     "data": {
      "text/plain": [
       "{'messages': ['hi', 'how are you?']}"
      ]
     },
     "execution_count": 17,
     "metadata": {},
     "output_type": "execute_result"
    }
   ],
   "source": [
    "state"
   ]
  },
  {
   "cell_type": "code",
   "execution_count": 18,
   "id": "8d15bf38",
   "metadata": {},
   "outputs": [],
   "source": [
    "state[\"messages\"].append(\"what going on?\")"
   ]
  },
  {
   "cell_type": "code",
   "execution_count": 19,
   "id": "b9ae3eca",
   "metadata": {},
   "outputs": [
    {
     "data": {
      "text/plain": [
       "{'messages': ['hi', 'how are you?', 'what going on?']}"
      ]
     },
     "execution_count": 19,
     "metadata": {},
     "output_type": "execute_result"
    }
   ],
   "source": [
    "state"
   ]
  },
  {
   "cell_type": "code",
   "execution_count": 20,
   "id": "38148f61",
   "metadata": {},
   "outputs": [
    {
     "data": {
      "text/plain": [
       "'hi'"
      ]
     },
     "execution_count": 20,
     "metadata": {},
     "output_type": "execute_result"
    }
   ],
   "source": [
    "state[\"messages\"][0]"
   ]
  },
  {
   "cell_type": "code",
   "execution_count": 21,
   "id": "49718b78",
   "metadata": {},
   "outputs": [
    {
     "data": {
      "text/plain": [
       "'what going on?'"
      ]
     },
     "execution_count": 21,
     "metadata": {},
     "output_type": "execute_result"
    }
   ],
   "source": [
    "state[\"messages\"][-1]"
   ]
  },
  {
   "attachments": {
    "image.png": {
     "image/png": "[encoded data removed]"
    }
   },
   "cell_type": "markdown",
   "id": "9aa3687d",
   "metadata": {},
   "source": [
    "https://github.com/langchain-ai/langgraph/blob/main/libs/langgraph/langgraph/graph/message.py\n",
    "\n",
    "![image.png](attachment:image.png)"
   ]
  },
  {
   "cell_type": "code",
   "execution_count": 34,
   "id": "f58b40ea",
   "metadata": {},
   "outputs": [],
   "source": [
    "#class MessagesState(TypedDict):\n",
    "#    messages: Annotated[list[AnyMessage], add_messages]"
   ]
  },
  {
   "cell_type": "markdown",
   "id": "c05e7e5d",
   "metadata": {},
   "source": [
    "#### this state is a dict which containing the message as list and inside the list there could be n numbers of messages\n",
    "\n",
    "#### this state will be flowing across all the nodes(function) in langgraph"
   ]
  },
  {
   "cell_type": "code",
   "execution_count": 22,
   "id": "a5319fbd",
   "metadata": {},
   "outputs": [],
   "source": [
    "def call_model(state:MessagesState):\n",
    "    question=state[\"messages\"]\n",
    "    response=openai_model.invoke(question)\n",
    "    return {\"messages\":[response]}"
   ]
  },
  {
   "cell_type": "code",
   "execution_count": 23,
   "id": "ebc0a3ab",
   "metadata": {},
   "outputs": [],
   "source": [
    "workflow=StateGraph(MessagesState)"
   ]
  },
  {
   "cell_type": "code",
   "execution_count": 24,
   "id": "09e3efcf",
   "metadata": {},
   "outputs": [
    {
     "data": {
      "text/plain": [
       "<langgraph.graph.state.StateGraph at 0x22c16cbb8c0>"
      ]
     },
     "execution_count": 24,
     "metadata": {},
     "output_type": "execute_result"
    }
   ],
   "source": [
    "workflow.add_node(\"chatbot\",call_model)"
   ]
  },
  {
   "cell_type": "code",
   "execution_count": 25,
   "id": "8885ba76",
   "metadata": {},
   "outputs": [
    {
     "data": {
      "text/plain": [
       "<langgraph.graph.state.StateGraph at 0x22c16cbb8c0>"
      ]
     },
     "execution_count": 25,
     "metadata": {},
     "output_type": "execute_result"
    }
   ],
   "source": [
    "workflow.add_edge(START,\"chatbot\")"
   ]
  },
  {
   "cell_type": "code",
   "execution_count": 26,
   "id": "610a14c2",
   "metadata": {},
   "outputs": [
    {
     "data": {
      "text/plain": [
       "<langgraph.graph.state.StateGraph at 0x22c16cbb8c0>"
      ]
     },
     "execution_count": 26,
     "metadata": {},
     "output_type": "execute_result"
    }
   ],
   "source": [
    "workflow.add_edge(\"chatbot\",END)"
   ]
  },
  {
   "cell_type": "code",
   "execution_count": 27,
   "id": "43f2ee2d",
   "metadata": {},
   "outputs": [],
   "source": [
    "app=workflow.compile()"
   ]
  },
  {
   "cell_type": "code",
   "execution_count": 28,
   "id": "8a856bbd",
   "metadata": {},
   "outputs": [],
   "source": [
    "from IPython.display import Image,display"
   ]
  },
  {
   "cell_type": "code",
   "execution_count": 29,
   "id": "bfa21563",
   "metadata": {},
   "outputs": [
    {
     "data": {
      "image/png": "[encoded data removed]",
      "text/plain": [
       "<IPython.core.display.Image object>"
      ]
     },
     "metadata": {},
     "output_type": "display_data"
    }
   ],
   "source": [
    "display(Image(app.get_graph().draw_mermaid_png()))"
   ]
  },
  {
   "cell_type": "code",
   "execution_count": 30,
   "id": "110c0b0b",
   "metadata": {},
   "outputs": [],
   "source": [
    "input={\"messages\":[\"hi my name is sunny\"]}"
   ]
  },
  {
   "cell_type": "code",
   "execution_count": 31,
   "id": "4487276c",
   "metadata": {},
   "outputs": [],
   "source": [
    "response=app.invoke(input)"
   ]
  },
  {
   "cell_type": "code",
   "execution_count": 32,
   "id": "4a87894e",
   "metadata": {},
   "outputs": [
    {
     "data": {
      "text/plain": [
       "'Hello Sunny! How can I assist you today?'"
      ]
     },
     "execution_count": 32,
     "metadata": {},
     "output_type": "execute_result"
    }
   ],
   "source": [
    "response[\"messages\"][-1].content"
   ]
  },
  {
   "cell_type": "code",
   "execution_count": 33,
   "id": "9a955f33",
   "metadata": {},
   "outputs": [
    {
     "name": "stdout",
     "output_type": "stream",
     "text": [
      "Output from chatbot Node\n",
      "_______\n",
      "{'messages': [AIMessage(content='Hello, Sunny! How can I assist you today?', additional_kwargs={'refusal': None}, response_metadata={'token_usage': {'completion_tokens': 11, 'prompt_tokens': 12, 'total_tokens': 23, 'completion_tokens_details': {'accepted_prediction_tokens': 0, 'audio_tokens': 0, 'reasoning_tokens': 0, 'rejected_prediction_tokens': 0}, 'prompt_tokens_details': {'audio_tokens': 0, 'cached_tokens': 0}}, 'model_name': 'gpt-4o-2024-08-06', 'system_fingerprint': 'fp_a288987b44', 'id': 'chatcmpl-BzhNiyKDrnMxjxgTJpVdLaEmJVWG8', 'service_tier': 'default', 'finish_reason': 'stop', 'logprobs': None}, id='run--10c09222-548a-47ab-a53e-60e41885fa6b-0', usage_metadata={'input_tokens': 12, 'output_tokens': 11, 'total_tokens': 23, 'input_token_details': {'audio': 0, 'cache_read': 0}, 'output_token_details': {'audio': 0, 'reasoning': 0}})]}\n",
      "\n",
      "\n"
     ]
    }
   ],
   "source": [
    "for output in app.stream(input):\n",
    "    for key,value in output.items():\n",
    "        print(f\"Output from {key} Node\")\n",
    "        print(\"_______\")\n",
    "        print(value)\n",
    "        print(\"\\n\")"
   ]
  },
  {
   "cell_type": "markdown",
   "id": "104294e5",
   "metadata": {},
   "source": [
    "## TOOLS:"
   ]
  },
  {
   "cell_type": "code",
   "execution_count": 34,
   "id": "9007efa6",
   "metadata": {},
   "outputs": [],
   "source": [
    "@tool\n",
    "def search(query:str):\n",
    "    \"\"\"this is a tool for weather checking\"\"\"\n",
    "    if \"india\" in query.lower() or \"delhi\" in query.lower():\n",
    "        return \"the weather is hot with some foggy\"\n",
    "    return \"weather is cloudy with some darkness\""
   ]
  },
  {
   "cell_type": "code",
   "execution_count": 35,
   "id": "e3976a85",
   "metadata": {},
   "outputs": [
    {
     "data": {
      "text/plain": [
       "'weather is cloudy with some darkness'"
      ]
     },
     "execution_count": 35,
     "metadata": {},
     "output_type": "execute_result"
    }
   ],
   "source": [
    "search.invoke(\"what is a weather in japan?\")"
   ]
  },
  {
   "cell_type": "code",
   "execution_count": 36,
   "id": "de3f2f61",
   "metadata": {},
   "outputs": [
    {
     "data": {
      "text/plain": [
       "'the weather is hot with some foggy'"
      ]
     },
     "execution_count": 36,
     "metadata": {},
     "output_type": "execute_result"
    }
   ],
   "source": [
    "search.invoke(\"what is a weather in delhi?\")"
   ]
  },
  {
   "cell_type": "code",
   "execution_count": 37,
   "id": "52d77bc2",
   "metadata": {},
   "outputs": [],
   "source": [
    "tools=[search]"
   ]
  },
  {
   "cell_type": "code",
   "execution_count": 38,
   "id": "2acdcb3f",
   "metadata": {},
   "outputs": [],
   "source": [
    "llm_with_tool = openai_model.bind_tools(tools)"
   ]
  },
  {
   "cell_type": "code",
   "execution_count": 39,
   "id": "68759128",
   "metadata": {},
   "outputs": [],
   "source": [
    "response = llm_with_tool.invoke(\"hi\")"
   ]
  },
  {
   "cell_type": "code",
   "execution_count": 40,
   "id": "0a3c7868",
   "metadata": {},
   "outputs": [
    {
     "data": {
      "text/plain": [
       "'Hello! How can I assist you today?'"
      ]
     },
     "execution_count": 40,
     "metadata": {},
     "output_type": "execute_result"
    }
   ],
   "source": [
    "response.content"
   ]
  },
  {
   "cell_type": "code",
   "execution_count": 41,
   "id": "21f3f5b9",
   "metadata": {},
   "outputs": [
    {
     "data": {
      "text/plain": [
       "[]"
      ]
     },
     "execution_count": 41,
     "metadata": {},
     "output_type": "execute_result"
    }
   ],
   "source": [
    "response.tool_calls"
   ]
  },
  {
   "cell_type": "code",
   "execution_count": 42,
   "id": "8e42ddba",
   "metadata": {},
   "outputs": [],
   "source": [
    "result=llm_with_tool.invoke(\"what is a weather in europe?\")"
   ]
  },
  {
   "cell_type": "code",
   "execution_count": 43,
   "id": "83291f96",
   "metadata": {},
   "outputs": [
    {
     "data": {
      "text/plain": [
       "''"
      ]
     },
     "execution_count": 43,
     "metadata": {},
     "output_type": "execute_result"
    }
   ],
   "source": [
    "result.content"
   ]
  },
  {
   "cell_type": "code",
   "execution_count": 44,
   "id": "e3722e31",
   "metadata": {},
   "outputs": [
    {
     "data": {
      "text/plain": [
       "[{'name': 'search',\n",
       "  'args': {'query': 'weather in Europe'},\n",
       "  'id': 'call_GVHX8x5DG4hWdosNxJwyEuPA',\n",
       "  'type': 'tool_call'}]"
      ]
     },
     "execution_count": 44,
     "metadata": {},
     "output_type": "execute_result"
    }
   ],
   "source": [
    "result.tool_calls"
   ]
  },
  {
   "cell_type": "code",
   "execution_count": 45,
   "id": "d810a7fe",
   "metadata": {},
   "outputs": [],
   "source": [
    "def call_model(state:MessagesState):\n",
    "    question=state[\"messages\"]\n",
    "    response=llm_with_tool.invoke(question)\n",
    "    return {\"messages\":[response]}"
   ]
  },
  {
   "cell_type": "code",
   "execution_count": 46,
   "id": "46448b70",
   "metadata": {},
   "outputs": [],
   "source": [
    "input={'messages': ['hi my name is sunny']}"
   ]
  },
  {
   "cell_type": "code",
   "execution_count": 47,
   "id": "9bcabdea",
   "metadata": {},
   "outputs": [],
   "source": [
    "response = call_model(input)"
   ]
  },
  {
   "cell_type": "code",
   "execution_count": 48,
   "id": "5ff7c13f",
   "metadata": {},
   "outputs": [],
   "source": [
    "message = response[\"messages\"]"
   ]
  },
  {
   "cell_type": "code",
   "execution_count": 49,
   "id": "9dd08409",
   "metadata": {},
   "outputs": [],
   "source": [
    "last_message = message[-1]"
   ]
  },
  {
   "cell_type": "code",
   "execution_count": 50,
   "id": "726cf236",
   "metadata": {},
   "outputs": [
    {
     "data": {
      "text/plain": [
       "'Hello Sunny! How can I assist you today?'"
      ]
     },
     "execution_count": 50,
     "metadata": {},
     "output_type": "execute_result"
    }
   ],
   "source": [
    "last_message.content"
   ]
  },
  {
   "cell_type": "code",
   "execution_count": 51,
   "id": "1771da82",
   "metadata": {},
   "outputs": [
    {
     "data": {
      "text/plain": [
       "[]"
      ]
     },
     "execution_count": 51,
     "metadata": {},
     "output_type": "execute_result"
    }
   ],
   "source": [
    "last_message.tool_calls"
   ]
  },
  {
   "cell_type": "code",
   "execution_count": 52,
   "id": "8c60e464",
   "metadata": {},
   "outputs": [],
   "source": [
    "input={'messages': ['what is a weather in mumbai?']}"
   ]
  },
  {
   "cell_type": "code",
   "execution_count": 53,
   "id": "d1ba3b12",
   "metadata": {},
   "outputs": [],
   "source": [
    "response = call_model(input)"
   ]
  },
  {
   "cell_type": "code",
   "execution_count": 54,
   "id": "b069b559",
   "metadata": {},
   "outputs": [
    {
     "data": {
      "text/plain": [
       "''"
      ]
     },
     "execution_count": 54,
     "metadata": {},
     "output_type": "execute_result"
    }
   ],
   "source": [
    "message = response[\"messages\"]\n",
    "last_message = message[-1]\n",
    "last_message.content"
   ]
  },
  {
   "cell_type": "code",
   "execution_count": 55,
   "id": "bd5e822e",
   "metadata": {},
   "outputs": [
    {
     "data": {
      "text/plain": [
       "[{'name': 'search',\n",
       "  'args': {'query': 'weather in Mumbai'},\n",
       "  'id': 'call_cH4PPUbGeyaeA1Uj0Lg3Bd5s',\n",
       "  'type': 'tool_call'}]"
      ]
     },
     "execution_count": 55,
     "metadata": {},
     "output_type": "execute_result"
    }
   ],
   "source": [
    "last_message.tool_calls"
   ]
  },
  {
   "cell_type": "code",
   "execution_count": 56,
   "id": "09eda53d",
   "metadata": {},
   "outputs": [],
   "source": [
    "def router_function(state: MessagesState):\n",
    "    message=state[\"messages\"]\n",
    "    last_message=message[-1]\n",
    "    if last_message.tool_calls:\n",
    "        return \"tools\"\n",
    "    return END"
   ]
  },
  {
   "cell_type": "code",
   "execution_count": 57,
   "id": "40cf115c",
   "metadata": {},
   "outputs": [
    {
     "data": {
      "text/plain": [
       "[StructuredTool(name='search', description='this is a tool for weather checking', args_schema=<class 'langchain_core.utils.pydantic.search'>, func=<function search at 0x0000022C1B852980>)]"
      ]
     },
     "execution_count": 57,
     "metadata": {},
     "output_type": "execute_result"
    }
   ],
   "source": [
    "tools"
   ]
  },
  {
   "cell_type": "code",
   "execution_count": 58,
   "id": "cd2caa03",
   "metadata": {},
   "outputs": [],
   "source": [
    "tool_node = ToolNode(tools)"
   ]
  },
  {
   "cell_type": "code",
   "execution_count": 59,
   "id": "8da84a49",
   "metadata": {},
   "outputs": [],
   "source": [
    "workflow = StateGraph(MessagesState)"
   ]
  },
  {
   "cell_type": "code",
   "execution_count": 60,
   "id": "0441f048",
   "metadata": {},
   "outputs": [
    {
     "data": {
      "text/plain": [
       "<langgraph.graph.state.StateGraph at 0x22c16d0ec10>"
      ]
     },
     "execution_count": 60,
     "metadata": {},
     "output_type": "execute_result"
    }
   ],
   "source": [
    "workflow.add_node(\"assistant\",call_model)\n",
    "workflow.add_node(\"myweathertool\",tool_node)"
   ]
  },
  {
   "cell_type": "code",
   "execution_count": 61,
   "id": "073e628b",
   "metadata": {},
   "outputs": [],
   "source": [
    "workflow.add_edge(START, \"assistant\")\n",
    "\n",
    "workflow.add_conditional_edges(\"assistant\",\n",
    "                               router_function,\n",
    "                               {\"tools\": \"myweathertool\", END: END})\n",
    "\n",
    "app = workflow.compile()"
   ]
  },
  {
   "cell_type": "code",
   "execution_count": 62,
   "id": "f1385ee4",
   "metadata": {},
   "outputs": [
    {
     "data": {
      "image/png": "[encoded data removed]",
      "text/plain": [
       "<IPython.core.display.Image object>"
      ]
     },
     "metadata": {},
     "output_type": "display_data"
    }
   ],
   "source": [
    "display(Image(app.get_graph().draw_mermaid_png()))"
   ]
  },
  {
   "cell_type": "code",
   "execution_count": 63,
   "id": "183643c0",
   "metadata": {},
   "outputs": [
    {
     "data": {
      "text/plain": [
       "{'messages': [HumanMessage(content='how are you?', additional_kwargs={}, response_metadata={}, id='173beead-f36a-40a7-a7b7-df4b5532cda4'),\n",
       "  AIMessage(content=\"I'm just a computer program, so I don't have feelings, but I'm here and ready to assist you! How can I help you today?\", additional_kwargs={'refusal': None}, response_metadata={'token_usage': {'completion_tokens': 29, 'prompt_tokens': 48, 'total_tokens': 77, 'completion_tokens_details': {'accepted_prediction_tokens': 0, 'audio_tokens': 0, 'reasoning_tokens': 0, 'rejected_prediction_tokens': 0}, 'prompt_tokens_details': {'audio_tokens': 0, 'cached_tokens': 0}}, 'model_name': 'gpt-4o-2024-08-06', 'system_fingerprint': 'fp_a288987b44', 'id': 'chatcmpl-BzhOTqog1pGLQOmZzkjdneCnaeo59', 'service_tier': 'default', 'finish_reason': 'stop', 'logprobs': None}, id='run--46a2e8f4-19c7-484a-8aad-8137f458449c-0', usage_metadata={'input_tokens': 48, 'output_tokens': 29, 'total_tokens': 77, 'input_token_details': {'audio': 0, 'cache_read': 0}, 'output_token_details': {'audio': 0, 'reasoning': 0}})]}"
      ]
     },
     "execution_count": 63,
     "metadata": {},
     "output_type": "execute_result"
    }
   ],
   "source": [
    "app.invoke({\"messages\": [\"how are you?\"]})"
   ]
  },
  {
   "cell_type": "code",
   "execution_count": 64,
   "id": "a1b03647",
   "metadata": {},
   "outputs": [
    {
     "data": {
      "text/plain": [
       "\"I'm just a virtual assistant, so I don't have feelings, but I'm here to help you! How can I assist you today?\""
      ]
     },
     "execution_count": 64,
     "metadata": {},
     "output_type": "execute_result"
    }
   ],
   "source": [
    "query1 = app.invoke({\"messages\": [\"how are you?\"]})\n",
    "query1[\"messages\"][-1].content"
   ]
  },
  {
   "cell_type": "code",
   "execution_count": 65,
   "id": "80372ca7",
   "metadata": {},
   "outputs": [
    {
     "data": {
      "text/plain": [
       "{'messages': [HumanMessage(content='what is a weather in delhi?', additional_kwargs={}, response_metadata={}, id='b5fec27a-2718-4ad4-911a-8939cc9c9fa8'),\n",
       "  AIMessage(content='', additional_kwargs={'tool_calls': [{'id': 'call_ZUmTbPAXyQBPLzBBdq2Gbuo1', 'function': {'arguments': '{\"query\":\"Delhi weather\"}', 'name': 'search'}, 'type': 'function'}], 'refusal': None}, response_metadata={'token_usage': {'completion_tokens': 14, 'prompt_tokens': 52, 'total_tokens': 66, 'completion_tokens_details': {'accepted_prediction_tokens': 0, 'audio_tokens': 0, 'reasoning_tokens': 0, 'rejected_prediction_tokens': 0}, 'prompt_tokens_details': {'audio_tokens': 0, 'cached_tokens': 0}}, 'model_name': 'gpt-4o-2024-08-06', 'system_fingerprint': 'fp_a288987b44', 'id': 'chatcmpl-BzhOXcaeu61ApRE2QFP7pBtk5CY6s', 'service_tier': 'default', 'finish_reason': 'tool_calls', 'logprobs': None}, id='run--3de163b6-0e99-44c5-b66c-d0ad9c90fcaf-0', tool_calls=[{'name': 'search', 'args': {'query': 'Delhi weather'}, 'id': 'call_ZUmTbPAXyQBPLzBBdq2Gbuo1', 'type': 'tool_call'}], usage_metadata={'input_tokens': 52, 'output_tokens': 14, 'total_tokens': 66, 'input_token_details': {'audio': 0, 'cache_read': 0}, 'output_token_details': {'audio': 0, 'reasoning': 0}}),\n",
       "  ToolMessage(content='the weather is hot with some foggy', name='search', id='ccbed750-747f-4ad0-bcb0-c63b7db0f661', tool_call_id='call_ZUmTbPAXyQBPLzBBdq2Gbuo1')]}"
      ]
     },
     "execution_count": 65,
     "metadata": {},
     "output_type": "execute_result"
    }
   ],
   "source": [
    "app.invoke({\"messages\": [\"what is a weather in delhi?\"]})"
   ]
  },
  {
   "cell_type": "code",
   "execution_count": 66,
   "id": "1aff99e0",
   "metadata": {},
   "outputs": [
    {
     "data": {
      "text/plain": [
       "'the weather is hot with some foggy'"
      ]
     },
     "execution_count": 66,
     "metadata": {},
     "output_type": "execute_result"
    }
   ],
   "source": [
    "query2 = app.invoke({\"messages\": [\"what is a weather in delhi?\"]})\n",
    "query2[\"messages\"][-1].content"
   ]
  },
  {
   "cell_type": "code",
   "execution_count": 67,
   "id": "34260be5",
   "metadata": {},
   "outputs": [
    {
     "name": "stderr",
     "output_type": "stream",
     "text": [
      "Adding an edge to a graph that has already been compiled. This will not be reflected in the compiled graph.\n"
     ]
    },
    {
     "data": {
      "text/plain": [
       "<langgraph.graph.state.StateGraph at 0x22c16d0ec10>"
      ]
     },
     "execution_count": 67,
     "metadata": {},
     "output_type": "execute_result"
    }
   ],
   "source": [
    "workflow.add_edge(\"myweathertool\",\"assistant\")  "
   ]
  },
  {
   "cell_type": "code",
   "execution_count": 68,
   "id": "a1ecd9c7",
   "metadata": {},
   "outputs": [],
   "source": [
    "app = workflow.compile()"
   ]
  },
  {
   "cell_type": "code",
   "execution_count": 69,
   "id": "f2b75bdf",
   "metadata": {},
   "outputs": [
    {
     "data": {
      "image/png": "[encoded data removed]",
      "text/plain": [
       "<IPython.core.display.Image object>"
      ]
     },
     "metadata": {},
     "output_type": "display_data"
    }
   ],
   "source": [
    "display(Image(app.get_graph().draw_mermaid_png()))"
   ]
  },
  {
   "cell_type": "code",
   "execution_count": 70,
   "id": "10c8747e",
   "metadata": {},
   "outputs": [
    {
     "data": {
      "text/plain": [
       "{'messages': [HumanMessage(content='what is a weather in delhi?', additional_kwargs={}, response_metadata={}, id='130cc99a-243b-486a-875a-12cc60b9fd6b'),\n",
       "  AIMessage(content='', additional_kwargs={'tool_calls': [{'id': 'call_rYwpIp62BUHAp9qsu1VJKpQz', 'function': {'arguments': '{\"query\":\"current weather in Delhi\"}', 'name': 'search'}, 'type': 'function'}], 'refusal': None}, response_metadata={'token_usage': {'completion_tokens': 16, 'prompt_tokens': 52, 'total_tokens': 68, 'completion_tokens_details': {'accepted_prediction_tokens': 0, 'audio_tokens': 0, 'reasoning_tokens': 0, 'rejected_prediction_tokens': 0}, 'prompt_tokens_details': {'audio_tokens': 0, 'cached_tokens': 0}}, 'model_name': 'gpt-4o-2024-08-06', 'system_fingerprint': 'fp_a288987b44', 'id': 'chatcmpl-BzhOfaC4R2TxNcG2wvfh0w2vzdHsj', 'service_tier': 'default', 'finish_reason': 'tool_calls', 'logprobs': None}, id='run--e6c77a86-c1f6-4885-8383-1e427d69538d-0', tool_calls=[{'name': 'search', 'args': {'query': 'current weather in Delhi'}, 'id': 'call_rYwpIp62BUHAp9qsu1VJKpQz', 'type': 'tool_call'}], usage_metadata={'input_tokens': 52, 'output_tokens': 16, 'total_tokens': 68, 'input_token_details': {'audio': 0, 'cache_read': 0}, 'output_token_details': {'audio': 0, 'reasoning': 0}}),\n",
       "  ToolMessage(content='the weather is hot with some foggy', name='search', id='0448136c-a9d0-41c9-b984-2d3e394885c0', tool_call_id='call_rYwpIp62BUHAp9qsu1VJKpQz'),\n",
       "  AIMessage(content='The current weather in Delhi is hot with some foggy conditions.', additional_kwargs={'refusal': None}, response_metadata={'token_usage': {'completion_tokens': 14, 'prompt_tokens': 83, 'total_tokens': 97, 'completion_tokens_details': {'accepted_prediction_tokens': 0, 'audio_tokens': 0, 'reasoning_tokens': 0, 'rejected_prediction_tokens': 0}, 'prompt_tokens_details': {'audio_tokens': 0, 'cached_tokens': 0}}, 'model_name': 'gpt-4o-2024-08-06', 'system_fingerprint': 'fp_a288987b44', 'id': 'chatcmpl-BzhOfIosZ3YmtRdPCAHGCoCj9QKpL', 'service_tier': 'default', 'finish_reason': 'stop', 'logprobs': None}, id='run--28fd0c82-1e5c-41e8-9160-2f50ed3c0b60-0', usage_metadata={'input_tokens': 83, 'output_tokens': 14, 'total_tokens': 97, 'input_token_details': {'audio': 0, 'cache_read': 0}, 'output_token_details': {'audio': 0, 'reasoning': 0}})]}"
      ]
     },
     "execution_count": 70,
     "metadata": {},
     "output_type": "execute_result"
    }
   ],
   "source": [
    "app.invoke({\"messages\": [\"what is a weather in delhi?\"]})"
   ]
  },
  {
   "cell_type": "code",
   "execution_count": 71,
   "id": "f2deb276",
   "metadata": {},
   "outputs": [
    {
     "name": "stdout",
     "output_type": "stream",
     "text": [
      "here is output from assistant\n",
      "_______\n",
      "{'messages': [AIMessage(content='', additional_kwargs={'tool_calls': [{'id': 'call_ZWkw2NxMeG8lyyydTAz632sA', 'function': {'arguments': '{\"query\":\"Delhi weather\"}', 'name': 'search'}, 'type': 'function'}], 'refusal': None}, response_metadata={'token_usage': {'completion_tokens': 14, 'prompt_tokens': 51, 'total_tokens': 65, 'completion_tokens_details': {'accepted_prediction_tokens': 0, 'audio_tokens': 0, 'reasoning_tokens': 0, 'rejected_prediction_tokens': 0}, 'prompt_tokens_details': {'audio_tokens': 0, 'cached_tokens': 0}}, 'model_name': 'gpt-4o-2024-08-06', 'system_fingerprint': 'fp_a288987b44', 'id': 'chatcmpl-BzhOiOQWc2pYeZZWH2OCuVBg29oYu', 'service_tier': 'default', 'finish_reason': 'tool_calls', 'logprobs': None}, id='run--8a4e9c28-d0c7-4408-ba29-86a4329aa3fd-0', tool_calls=[{'name': 'search', 'args': {'query': 'Delhi weather'}, 'id': 'call_ZWkw2NxMeG8lyyydTAz632sA', 'type': 'tool_call'}], usage_metadata={'input_tokens': 51, 'output_tokens': 14, 'total_tokens': 65, 'input_token_details': {'audio': 0, 'cache_read': 0}, 'output_token_details': {'audio': 0, 'reasoning': 0}})]}\n",
      "\n",
      "\n",
      "here is output from myweathertool\n",
      "_______\n",
      "{'messages': [ToolMessage(content='the weather is hot with some foggy', name='search', id='15e7bf9d-ea2c-4237-b4da-4e95e34d663d', tool_call_id='call_ZWkw2NxMeG8lyyydTAz632sA')]}\n",
      "\n",
      "\n",
      "here is output from assistant\n",
      "_______\n",
      "{'messages': [AIMessage(content='The weather in Delhi is currently hot with some fog.', additional_kwargs={'refusal': None}, response_metadata={'token_usage': {'completion_tokens': 12, 'prompt_tokens': 80, 'total_tokens': 92, 'completion_tokens_details': {'accepted_prediction_tokens': 0, 'audio_tokens': 0, 'reasoning_tokens': 0, 'rejected_prediction_tokens': 0}, 'prompt_tokens_details': {'audio_tokens': 0, 'cached_tokens': 0}}, 'model_name': 'gpt-4o-2024-08-06', 'system_fingerprint': 'fp_a288987b44', 'id': 'chatcmpl-BzhOjMTN9rccRb3RndLhBJVYmCbLG', 'service_tier': 'default', 'finish_reason': 'stop', 'logprobs': None}, id='run--c96de799-b34f-4d01-8914-24859600de2e-0', usage_metadata={'input_tokens': 80, 'output_tokens': 12, 'total_tokens': 92, 'input_token_details': {'audio': 0, 'cache_read': 0}, 'output_token_details': {'audio': 0, 'reasoning': 0}})]}\n",
      "\n",
      "\n"
     ]
    }
   ],
   "source": [
    "for output in app.stream({\"messages\": [\"what is the weather in delhi\"]}):\n",
    "    for key,value in output.items():\n",
    "        print(f\"here is output from {key}\")\n",
    "        print(\"_______\")\n",
    "        print(value)\n",
    "        print(\"\\n\")"
   ]
  },
  {
   "cell_type": "markdown",
   "id": "df692cbf",
   "metadata": {},
   "source": [
    "## Next Tool:"
   ]
  },
  {
   "cell_type": "code",
   "execution_count": 72,
   "id": "84a6da14",
   "metadata": {},
   "outputs": [],
   "source": [
    "@tool\n",
    "def multiply(a:int,b:int)->int:\n",
    "    \"\"\"multiply a and b\"\"\"\n",
    "    return a*b"
   ]
  },
  {
   "cell_type": "code",
   "execution_count": 73,
   "id": "fc5eadbf",
   "metadata": {},
   "outputs": [],
   "source": [
    "@tool\n",
    "def add(a:int,b:int)->int:\n",
    "    \"\"\"adding two numbers a and b\"\"\"\n",
    "    return a+b"
   ]
  },
  {
   "cell_type": "code",
   "execution_count": 74,
   "id": "c3c711c9",
   "metadata": {},
   "outputs": [],
   "source": [
    "@tool\n",
    "def divide(a:int,b:int)->int:\n",
    "    \"\"\"dividing two numbers a and b\"\"\"\n",
    "    return a/b"
   ]
  },
  {
   "cell_type": "code",
   "execution_count": 75,
   "id": "35e1b22e",
   "metadata": {},
   "outputs": [],
   "source": [
    "@tool\n",
    "def subtract(a:int,b:int)->int:\n",
    "    \"\"\"subtracting two numbers a and b \"\"\"\n",
    "    return a-b"
   ]
  },
  {
   "cell_type": "code",
   "execution_count": 76,
   "id": "f27fde2f",
   "metadata": {},
   "outputs": [],
   "source": [
    "from langchain_community.tools import DuckDuckGoSearchRun\n"
   ]
  },
  {
   "cell_type": "code",
   "execution_count": 77,
   "id": "ae2569f9",
   "metadata": {},
   "outputs": [],
   "source": [
    "duckduckgo_search = DuckDuckGoSearchRun()"
   ]
  },
  {
   "cell_type": "code",
   "execution_count": 79,
   "id": "7b4846fd",
   "metadata": {},
   "outputs": [
    {
     "name": "stderr",
     "output_type": "stream",
     "text": [
      "c:\\Users\\souma\\anaconda3\\envs\\rag\\Lib\\site-packages\\langchain_community\\utilities\\duckduckgo_search.py:63: RuntimeWarning: This package (`duckduckgo_search`) has been renamed to `ddgs`! Use `pip install ddgs` instead.\n",
      "  with DDGS() as ddgs:\n"
     ]
    },
    {
     "data": {
      "text/plain": [
       "'Terms and conditions apply. When you buy or sell cryptocurrency, a difference between the current market price and the price you buy or sell that asset for is called a … An electric current is a flow of charged particles, such as electrons or ions, moving through an electrical conductor or space. It is defined as the net rate of flow of … Current is a measure of how much electric charge flows through a circuit. The more charge that flows, the bigger the current. Real‑time electricity generation, demand, and carbon intensity data for Great Britain, updated every 5–30 minutes. View the full generation mix or focus on renewables, … Current is sometimes confused with electric potential or voltage, but a voltage difference between two points (such as the two terminals of a battery) means only that …'"
      ]
     },
     "execution_count": 79,
     "metadata": {},
     "output_type": "execute_result"
    }
   ],
   "source": [
    "duckduckgo_search.invoke(\"who is a current prime minister of USA??\")"
   ]
  },
  {
   "cell_type": "markdown",
   "id": "3368e707",
   "metadata": {},
   "source": [
    "#### Toolkit:"
   ]
  },
  {
   "cell_type": "code",
   "execution_count": 80,
   "id": "412f68f1",
   "metadata": {},
   "outputs": [],
   "source": [
    "tools = [multiply, add, divide, subtract, duckduckgo_search]"
   ]
  },
  {
   "cell_type": "markdown",
   "id": "8fc75812",
   "metadata": {},
   "source": [
    "BIND_TOOLS: https://python.langchain.com/api_reference/openai/chat_models/langchain_openai.chat_models.base.ChatOpenAI.html"
   ]
  },
  {
   "cell_type": "code",
   "execution_count": 81,
   "id": "4adc205e",
   "metadata": {},
   "outputs": [],
   "source": [
    "llm_with_tools = openai_model.bind_tools(tools)"
   ]
  },
  {
   "cell_type": "code",
   "execution_count": 82,
   "id": "5c733a83",
   "metadata": {},
   "outputs": [
    {
     "data": {
      "text/plain": [
       "RunnableBinding(bound=ChatOpenAI(client=<openai.resources.chat.completions.completions.Completions object at 0x0000022C1B07D940>, async_client=<openai.resources.chat.completions.completions.AsyncCompletions object at 0x0000022C1B07E3C0>, root_client=<openai.OpenAI object at 0x0000022C1AEFEA50>, root_async_client=<openai.AsyncOpenAI object at 0x0000022C1B07E120>, model_name='gpt-4o', model_kwargs={}, openai_api_key=SecretStr('**********')), kwargs={'tools': [{'type': 'function', 'function': {'name': 'multiply', 'description': 'multiply a and b', 'parameters': {'properties': {'a': {'type': 'integer'}, 'b': {'type': 'integer'}}, 'required': ['a', 'b'], 'type': 'object'}}}, {'type': 'function', 'function': {'name': 'add', 'description': 'adding two numbers a and b', 'parameters': {'properties': {'a': {'type': 'integer'}, 'b': {'type': 'integer'}}, 'required': ['a', 'b'], 'type': 'object'}}}, {'type': 'function', 'function': {'name': 'divide', 'description': 'dividing two numbers a and b', 'parameters': {'properties': {'a': {'type': 'integer'}, 'b': {'type': 'integer'}}, 'required': ['a', 'b'], 'type': 'object'}}}, {'type': 'function', 'function': {'name': 'subtract', 'description': 'subtracting two numbers a and b', 'parameters': {'properties': {'a': {'type': 'integer'}, 'b': {'type': 'integer'}}, 'required': ['a', 'b'], 'type': 'object'}}}, {'type': 'function', 'function': {'name': 'duckduckgo_search', 'description': 'A wrapper around DuckDuckGo Search. Useful for when you need to answer questions about current events. Input should be a search query.', 'parameters': {'properties': {'query': {'description': 'search query to look up', 'type': 'string'}}, 'required': ['query'], 'type': 'object'}}}]}, config={}, config_factories=[])"
      ]
     },
     "execution_count": 82,
     "metadata": {},
     "output_type": "execute_result"
    }
   ],
   "source": [
    "llm_with_tools"
   ]
  },
  {
   "cell_type": "code",
   "execution_count": 83,
   "id": "5c654799",
   "metadata": {},
   "outputs": [
    {
     "data": {
      "text/plain": [
       "[]"
      ]
     },
     "execution_count": 83,
     "metadata": {},
     "output_type": "execute_result"
    }
   ],
   "source": [
    "llm_with_tools.invoke(\"hi\").tool_calls"
   ]
  },
  {
   "cell_type": "code",
   "execution_count": 84,
   "id": "21628b05",
   "metadata": {},
   "outputs": [
    {
     "data": {
      "text/plain": [
       "[{'name': 'add',\n",
       "  'args': {'a': 5, 'b': 40},\n",
       "  'id': 'call_hDLRYpjhkfw6Iwv86mAtt3kO',\n",
       "  'type': 'tool_call'}]"
      ]
     },
     "execution_count": 84,
     "metadata": {},
     "output_type": "execute_result"
    }
   ],
   "source": [
    "llm_with_tools.invoke(\"can you add these two number 5 and 40?\").tool_calls"
   ]
  },
  {
   "cell_type": "code",
   "execution_count": 85,
   "id": "42fbff3e",
   "metadata": {},
   "outputs": [
    {
     "data": {
      "text/plain": [
       "[{'name': 'multiply',\n",
       "  'args': {'a': 5, 'b': 40},\n",
       "  'id': 'call_0BVmY6m9YEeZzYyXVHXAU4qI',\n",
       "  'type': 'tool_call'}]"
      ]
     },
     "execution_count": 85,
     "metadata": {},
     "output_type": "execute_result"
    }
   ],
   "source": [
    "llm_with_tools.invoke(\"can you multiply these two number 5 and 40?\").tool_calls"
   ]
  },
  {
   "cell_type": "code",
   "execution_count": 86,
   "id": "5cfcfa43",
   "metadata": {},
   "outputs": [
    {
     "data": {
      "text/plain": [
       "[{'name': 'divide',\n",
       "  'args': {'a': 5, 'b': 40},\n",
       "  'id': 'call_dQDUnOqLWzEPClpACoIeJyoT',\n",
       "  'type': 'tool_call'}]"
      ]
     },
     "execution_count": 86,
     "metadata": {},
     "output_type": "execute_result"
    }
   ],
   "source": [
    "llm_with_tools.invoke(\"can you divide these two number 5 and 40?\").tool_calls"
   ]
  },
  {
   "cell_type": "code",
   "execution_count": 87,
   "id": "8febcbae",
   "metadata": {},
   "outputs": [
    {
     "data": {
      "text/plain": [
       "[{'name': 'duckduckgo_search',\n",
       "  'args': {'query': 'current GDP of India 2023'},\n",
       "  'id': 'call_zcwI3uVYpXkM4fls5VNidVvr',\n",
       "  'type': 'tool_call'}]"
      ]
     },
     "execution_count": 87,
     "metadata": {},
     "output_type": "execute_result"
    }
   ],
   "source": [
    "llm_with_tools.invoke(\"what is a current gdp of india with current affaires\").tool_calls"
   ]
  },
  {
   "cell_type": "code",
   "execution_count": 88,
   "id": "650a34e4",
   "metadata": {},
   "outputs": [],
   "source": [
    "from langchain_core.messages import HumanMessage, SystemMessage"
   ]
  },
  {
   "cell_type": "code",
   "execution_count": 89,
   "id": "24925dc4",
   "metadata": {},
   "outputs": [],
   "source": [
    "# System message\n",
    "sys_msg = SystemMessage(content=\"You are a helpful assistant tasked with using search and performing arithmetic on a set of inputs.\")\n",
    "     "
   ]
  },
  {
   "cell_type": "markdown",
   "id": "6f0e8e95",
   "metadata": {},
   "source": [
    "## Creating Assistant:"
   ]
  },
  {
   "cell_type": "code",
   "execution_count": 90,
   "id": "a19a024a",
   "metadata": {},
   "outputs": [],
   "source": [
    "def assistant(state:MessagesState):\n",
    "    return {\"messages\":[llm_with_tools.invoke([sys_msg]+state[\"messages\"])]}"
   ]
  },
  {
   "cell_type": "markdown",
   "id": "31b85139",
   "metadata": {},
   "source": [
    "## Workflow:"
   ]
  },
  {
   "cell_type": "code",
   "execution_count": 91,
   "id": "877fa1d5",
   "metadata": {},
   "outputs": [],
   "source": [
    "builder = StateGraph(MessagesState)"
   ]
  },
  {
   "cell_type": "code",
   "execution_count": 92,
   "id": "1c2042af",
   "metadata": {},
   "outputs": [
    {
     "data": {
      "text/plain": [
       "<langgraph.graph.state.StateGraph at 0x22c1b950f50>"
      ]
     },
     "execution_count": 92,
     "metadata": {},
     "output_type": "execute_result"
    }
   ],
   "source": [
    "builder.add_node(\"assistant\",assistant)"
   ]
  },
  {
   "cell_type": "code",
   "execution_count": 93,
   "id": "2cb6ce21",
   "metadata": {},
   "outputs": [
    {
     "data": {
      "text/plain": [
       "<langgraph.graph.state.StateGraph at 0x22c1b950f50>"
      ]
     },
     "execution_count": 93,
     "metadata": {},
     "output_type": "execute_result"
    }
   ],
   "source": [
    "builder.add_node(\"tools\",ToolNode(tools))"
   ]
  },
  {
   "cell_type": "code",
   "execution_count": 94,
   "id": "ac5d6718",
   "metadata": {},
   "outputs": [
    {
     "data": {
      "text/plain": [
       "<langgraph.graph.state.StateGraph at 0x22c1b950f50>"
      ]
     },
     "execution_count": 94,
     "metadata": {},
     "output_type": "execute_result"
    }
   ],
   "source": [
    "builder.add_edge(START,\"assistant\")"
   ]
  },
  {
   "cell_type": "code",
   "execution_count": 95,
   "id": "32722c39",
   "metadata": {},
   "outputs": [],
   "source": [
    "\n",
    "from langgraph.prebuilt import tools_condition"
   ]
  },
  {
   "cell_type": "code",
   "execution_count": 96,
   "id": "34d176f2",
   "metadata": {},
   "outputs": [
    {
     "data": {
      "text/plain": [
       "<langgraph.graph.state.StateGraph at 0x22c1b950f50>"
      ]
     },
     "execution_count": 96,
     "metadata": {},
     "output_type": "execute_result"
    }
   ],
   "source": [
    "builder.add_conditional_edges(\n",
    "    \"assistant\",\n",
    "    tools_condition\n",
    ")"
   ]
  },
  {
   "cell_type": "code",
   "execution_count": 97,
   "id": "b8b3e95b",
   "metadata": {},
   "outputs": [],
   "source": [
    "react_app = builder.compile()"
   ]
  },
  {
   "cell_type": "code",
   "execution_count": 98,
   "id": "0f009e31",
   "metadata": {},
   "outputs": [
    {
     "data": {
      "image/png": "[encoded data removed]",
      "text/plain": [
       "<IPython.core.display.Image object>"
      ]
     },
     "metadata": {},
     "output_type": "display_data"
    }
   ],
   "source": [
    "display(Image(react_app.get_graph().draw_mermaid_png()))"
   ]
  },
  {
   "cell_type": "code",
   "execution_count": 99,
   "id": "197108a8",
   "metadata": {},
   "outputs": [
    {
     "name": "stderr",
     "output_type": "stream",
     "text": [
      "Adding an edge to a graph that has already been compiled. This will not be reflected in the compiled graph.\n"
     ]
    },
    {
     "data": {
      "text/plain": [
       "<langgraph.graph.state.StateGraph at 0x22c1b950f50>"
      ]
     },
     "execution_count": 99,
     "metadata": {},
     "output_type": "execute_result"
    }
   ],
   "source": [
    "builder.add_edge(\"tools\",\"assistant\")"
   ]
  },
  {
   "cell_type": "code",
   "execution_count": 100,
   "id": "90bc0cec",
   "metadata": {},
   "outputs": [],
   "source": [
    "react_app = builder.compile()"
   ]
  },
  {
   "cell_type": "code",
   "execution_count": 101,
   "id": "100c88e5",
   "metadata": {},
   "outputs": [
    {
     "data": {
      "image/png": "[encoded data removed]",
      "text/plain": [
       "<IPython.core.display.Image object>"
      ]
     },
     "metadata": {},
     "output_type": "display_data"
    }
   ],
   "source": [
    "display(Image(react_app.get_graph().draw_mermaid_png()))"
   ]
  },
  {
   "cell_type": "code",
   "execution_count": 102,
   "id": "3a4f5fb0",
   "metadata": {},
   "outputs": [],
   "source": [
    "message = [HumanMessage(content=\"what is twice of narendra modi's current age?\")]"
   ]
  },
  {
   "cell_type": "markdown",
   "id": "4c878be8",
   "metadata": {},
   "source": [
    "#### This below detail is called a Agentic Flow:\n",
    "- first it will come to assistant\n",
    "- then it will search narendra modi age\n",
    "- then it will come to again assistant\n",
    "- then it wil call the multiply tool for getting twice of age\n",
    "- then again it will come to assistant \n",
    "- then it will generate a final answer\n",
    "\n",
    "#### REACT WORKFLOW:\n",
    "#### REACT->> Reasoning+actions\n",
    "\n",
    "- Thinking, action, observation, thiniking,action, observation---> if everything is going to be fullfill\n",
    "- then generating a final ans"
   ]
  },
  {
   "cell_type": "code",
   "execution_count": 103,
   "id": "030c2974",
   "metadata": {},
   "outputs": [
    {
     "name": "stderr",
     "output_type": "stream",
     "text": [
      "c:\\Users\\souma\\anaconda3\\envs\\rag\\Lib\\site-packages\\langchain_community\\utilities\\duckduckgo_search.py:63: RuntimeWarning: This package (`duckduckgo_search`) has been renamed to `ddgs`! Use `pip install ddgs` instead.\n",
      "  with DDGS() as ddgs:\n",
      "c:\\Users\\souma\\anaconda3\\envs\\rag\\Lib\\site-packages\\langchain_community\\utilities\\duckduckgo_search.py:63: RuntimeWarning: This package (`duckduckgo_search`) has been renamed to `ddgs`! Use `pip install ddgs` instead.\n",
      "  with DDGS() as ddgs:\n",
      "c:\\Users\\souma\\anaconda3\\envs\\rag\\Lib\\site-packages\\langchain_community\\utilities\\duckduckgo_search.py:63: RuntimeWarning: This package (`duckduckgo_search`) has been renamed to `ddgs`! Use `pip install ddgs` instead.\n",
      "  with DDGS() as ddgs:\n"
     ]
    }
   ],
   "source": [
    "response = react_app.invoke({\"messages\":message})"
   ]
  },
  {
   "cell_type": "code",
   "execution_count": 104,
   "id": "2a757c13",
   "metadata": {},
   "outputs": [
    {
     "name": "stdout",
     "output_type": "stream",
     "text": [
      "================================\u001b[1m Human Message \u001b[0m=================================\n",
      "\n",
      "what is twice of narendra modi's current age?\n",
      "==================================\u001b[1m Ai Message \u001b[0m==================================\n",
      "Tool Calls:\n",
      "  duckduckgo_search (call_gGESqlTq4ZKzvrkRPUL3kTZj)\n",
      " Call ID: call_gGESqlTq4ZKzvrkRPUL3kTZj\n",
      "  Args:\n",
      "    query: Narendra Modi current age\n",
      "=================================\u001b[1m Tool Message \u001b[0m=================================\n",
      "Name: duckduckgo_search\n",
      "\n",
      "1 day ago · A list of recent death notices for Cork, Ireland. Click on any entry to view the full death notice and add your condolences. Find death and funeral notices from Cork, as well as in memoriams and acknowledgements. RIP.ie Cork - death notices for County Cork, Ireland. Jan 9, 2025 · RUTH CAHILL (nee O’Connell) Youghal and late of Ballyshane and Douglas Road Cork. On March 16th 2025 passed away peacefully at Marymount University Hospital and Hospice surrounded by her loving… Nov 10, 2017 · CASEY - Dr. Pat (Millstreet, Co. Cork) died February 18, 2021. On his first anniversary, Nora and family wish to thank and acknowledge everyone who sympathised with them on the very sad loss of...\n",
      "==================================\u001b[1m Ai Message \u001b[0m==================================\n",
      "Tool Calls:\n",
      "  duckduckgo_search (call_WWlbZJEpAGqlYh7YG3JEpnKL)\n",
      " Call ID: call_WWlbZJEpAGqlYh7YG3JEpnKL\n",
      "  Args:\n",
      "    query: Narendra Modi age\n",
      "=================================\u001b[1m Tool Message \u001b[0m=================================\n",
      "Name: duckduckgo_search\n",
      "\n",
      "Set your homepage and start-up page You can customise Google Chrome to open any page for the homepage or start-up page. These two pages aren’t the same unless you set them to be. Your … To get results from Google each time you search, you can make Google your default search engine. Set Google as your default on your browser If your browser isn’t listed below, check its help … Status dashboard If you're having trouble accessing a Google product, there's a chance we're currently experiencing a temporary problem. You can check for outages and downtime on the … Official Google Search Help Center where you can find tips and tutorials on using Google Search and other answers to frequently asked questions. On your computer, go to gmail.com. Enter your Google Account email address or phone number and password. If information is already filled in and you need to sign in to a different account, click …\n",
      "==================================\u001b[1m Ai Message \u001b[0m==================================\n",
      "Tool Calls:\n",
      "  duckduckgo_search (call_wqmN1uIyv7rUMklRhyizvTfn)\n",
      " Call ID: call_wqmN1uIyv7rUMklRhyizvTfn\n",
      "  Args:\n",
      "    query: current age of Indian Prime Minister Narendra Modi\n",
      "=================================\u001b[1m Tool Message \u001b[0m=================================\n",
      "Name: duckduckgo_search\n",
      "\n",
      "No good DuckDuckGo Search Result was found\n",
      "==================================\u001b[1m Ai Message \u001b[0m==================================\n",
      "\n",
      "I'm unable to find the current age of Narendra Modi from the search results. However, Narendra Modi was born on September 17, 1950. Let's calculate his current age:\n",
      "\n",
      "1. Calculate the year difference from 1950 to 2023.\n",
      "2. Adjust for whether or not he has had his birthday this year.\n",
      "\n",
      "I'll now calculate this.\n",
      "Tool Calls:\n",
      "  subtract (call_7doIzGrv36bVLvr47W03jHfq)\n",
      " Call ID: call_7doIzGrv36bVLvr47W03jHfq\n",
      "  Args:\n",
      "    a: 2023\n",
      "    b: 1950\n",
      "=================================\u001b[1m Tool Message \u001b[0m=================================\n",
      "Name: subtract\n",
      "\n",
      "73\n",
      "==================================\u001b[1m Ai Message \u001b[0m==================================\n",
      "\n",
      "As of 2023, Narendra Modi is 73 years old. Now, I will calculate twice his age.\n",
      "Tool Calls:\n",
      "  multiply (call_KO0azfC354KdLFPdtyHiSgb5)\n",
      " Call ID: call_KO0azfC354KdLFPdtyHiSgb5\n",
      "  Args:\n",
      "    a: 73\n",
      "    b: 2\n",
      "=================================\u001b[1m Tool Message \u001b[0m=================================\n",
      "Name: multiply\n",
      "\n",
      "146\n",
      "==================================\u001b[1m Ai Message \u001b[0m==================================\n",
      "\n",
      "Twice the current age of Narendra Modi, who is 73 years old, is 146.\n"
     ]
    }
   ],
   "source": [
    "for m in response[\"messages\"]:\n",
    "    m.pretty_print()"
   ]
  },
  {
   "cell_type": "code",
   "execution_count": 105,
   "id": "83208432",
   "metadata": {},
   "outputs": [],
   "source": [
    "messages = [HumanMessage(content=\"hi hello how are you?\")]"
   ]
  },
  {
   "cell_type": "code",
   "execution_count": 106,
   "id": "b811ca15",
   "metadata": {},
   "outputs": [],
   "source": [
    "response = react_app.invoke({\"messages\":messages})"
   ]
  },
  {
   "cell_type": "code",
   "execution_count": 107,
   "id": "e19b73e2",
   "metadata": {},
   "outputs": [
    {
     "name": "stdout",
     "output_type": "stream",
     "text": [
      "================================\u001b[1m Human Message \u001b[0m=================================\n",
      "\n",
      "hi hello how are you?\n",
      "==================================\u001b[1m Ai Message \u001b[0m==================================\n",
      "\n",
      "Hello! I'm here to help you with any questions or tasks you have. How can I assist you today?\n"
     ]
    }
   ],
   "source": [
    "for m in response[\"messages\"]:\n",
    "    m.pretty_print()"
   ]
  },
  {
   "cell_type": "code",
   "execution_count": 108,
   "id": "5c69e77a",
   "metadata": {},
   "outputs": [],
   "source": [
    "messages=[HumanMessage(content=\"what is current gdp of china and india can you give me difference between them?\")]"
   ]
  },
  {
   "cell_type": "markdown",
   "id": "4bf7dd46",
   "metadata": {},
   "source": [
    "1. humanmessage\n",
    "2. ai mesage:toolcall\n",
    "3. duckcuk\n",
    "4. ai assistant\n",
    "5. sustract\n",
    "6. ai\n",
    "7. final answer"
   ]
  },
  {
   "cell_type": "code",
   "execution_count": 109,
   "id": "52ca8147",
   "metadata": {},
   "outputs": [
    {
     "name": "stderr",
     "output_type": "stream",
     "text": [
      "c:\\Users\\souma\\anaconda3\\envs\\rag\\Lib\\site-packages\\langchain_community\\utilities\\duckduckgo_search.py:63: RuntimeWarning: This package (`duckduckgo_search`) has been renamed to `ddgs`! Use `pip install ddgs` instead.\n",
      "  with DDGS() as ddgs:\n",
      "c:\\Users\\souma\\anaconda3\\envs\\rag\\Lib\\site-packages\\langchain_community\\utilities\\duckduckgo_search.py:63: RuntimeWarning: This package (`duckduckgo_search`) has been renamed to `ddgs`! Use `pip install ddgs` instead.\n",
      "  with DDGS() as ddgs:\n",
      "c:\\Users\\souma\\anaconda3\\envs\\rag\\Lib\\site-packages\\langchain_community\\utilities\\duckduckgo_search.py:63: RuntimeWarning: This package (`duckduckgo_search`) has been renamed to `ddgs`! Use `pip install ddgs` instead.\n",
      "  with DDGS() as ddgs:\n",
      "c:\\Users\\souma\\anaconda3\\envs\\rag\\Lib\\site-packages\\langchain_community\\utilities\\duckduckgo_search.py:63: RuntimeWarning: This package (`duckduckgo_search`) has been renamed to `ddgs`! Use `pip install ddgs` instead.\n",
      "  with DDGS() as ddgs:\n"
     ]
    }
   ],
   "source": [
    "response = react_app.invoke({\"messages\":messages})"
   ]
  },
  {
   "cell_type": "code",
   "execution_count": 110,
   "id": "ed95b3be",
   "metadata": {},
   "outputs": [
    {
     "name": "stdout",
     "output_type": "stream",
     "text": [
      "================================\u001b[1m Human Message \u001b[0m=================================\n",
      "\n",
      "what is current gdp of china and india can you give me difference between them?\n",
      "==================================\u001b[1m Ai Message \u001b[0m==================================\n",
      "Tool Calls:\n",
      "  duckduckgo_search (call_Fuk8LAbE7J8qpaNGEWK0WwVU)\n",
      " Call ID: call_Fuk8LAbE7J8qpaNGEWK0WwVU\n",
      "  Args:\n",
      "    query: current GDP of China 2023\n",
      "  duckduckgo_search (call_p3hTpg5swYfMjhg2upslgriY)\n",
      " Call ID: call_p3hTpg5swYfMjhg2upslgriY\n",
      "  Args:\n",
      "    query: current GDP of India 2023\n",
      "=================================\u001b[1m Tool Message \u001b[0m=================================\n",
      "Name: duckduckgo_search\n",
      "\n",
      "2 days ago · Countries are sorted by nominal GDP estimates from financial and statistical institutions, which are calculated at market or government official exchange rates. Dec 26, 2024 · Gross domestic product (GDP) in 2023 was raised by 3.4 trillion yuan to 129.4 trillion ($17.73 trillion), Kang Yi, the head of the National Bureau of Statistics, told a presss conference, while... Dec 26, 2024 · China's 2023 gross domestic product (GDP) has been revised to 129.4 trillion yuan (about 18 trillion U.S. dollars), official data showed Thursday. The amount represents an increase of 3.4 trillion yuan from the preliminary calculation, according to data from the National Bureau of Statistics (NBS). Dec 26, 2024 · China's gross domestic product (GDP) in 2023 was revised to 129.4 trillion yuan ($17.73 trillion), up 3.37 trillion yuan, or 2.7 percent, from the preliminary figure, data from the National... Dec 26, 2024 · China raised its 2023 gross domestic product by 2.7% to 129.4 trillion yuan, equivalent to $17.730 trillion, the chief of the nation's statistics bureau said in a press conference on Thursday.\n",
      "=================================\u001b[1m Tool Message \u001b[0m=================================\n",
      "Name: duckduckgo_search\n",
      "\n",
      "Terms and conditions apply. When you buy or sell cryptocurrency, a difference between the current market price and the price you buy or sell that asset for is called a spread. … An electric current is a flow of charged particles, such as electrons or ions, moving through an electrical conductor or space. It is defined as the net rate of flow of electric … Current is a measure of how much electric charge flows through a circuit. The more charge that flows, the bigger the current. Real‑time electricity generation, demand, and carbon intensity data for Great Britain, updated every 5–30 minutes. View the full generation mix or focus on renewables, fossil fuels, … Current is sometimes confused with electric potential or voltage, but a voltage difference between two points (such as the two terminals of a battery) means only that current can …\n",
      "==================================\u001b[1m Ai Message \u001b[0m==================================\n",
      "Tool Calls:\n",
      "  duckduckgo_search (call_3erXPd1ErXUDCZi3VNeLYCnD)\n",
      " Call ID: call_3erXPd1ErXUDCZi3VNeLYCnD\n",
      "  Args:\n",
      "    query: current GDP of India 2023\n",
      "=================================\u001b[1m Tool Message \u001b[0m=================================\n",
      "Name: duckduckgo_search\n",
      "\n",
      "Terms and conditions apply. When you buy or sell cryptocurrency, a difference between the current market price and the price you buy or sell that asset for is called a spread. However, … An electric current is a flow of charged particles, such as electrons or ions, moving through an electrical conductor or space. It is defined as the net rate of flow of electric charge through a … Current is a measure of how much electric charge flows through a circuit. The more charge that flows, the bigger the current. Real‑time electricity generation, demand, and carbon intensity data for Great Britain, updated every 5–30 minutes. View the full generation mix or focus on renewables, fossil fuels, … Current is sometimes confused with electric potential or voltage, but a voltage difference between two points (such as the two terminals of a battery) means only that current can potentially flow …\n",
      "==================================\u001b[1m Ai Message \u001b[0m==================================\n",
      "Tool Calls:\n",
      "  duckduckgo_search (call_lChVltdLa4ME5HoFAuZY6INZ)\n",
      " Call ID: call_lChVltdLa4ME5HoFAuZY6INZ\n",
      "  Args:\n",
      "    query: GDP of India 2023 estimate\n",
      "=================================\u001b[1m Tool Message \u001b[0m=================================\n",
      "Name: duckduckgo_search\n",
      "\n",
      "比如说一件衣服，厂家以10块钱买进布，然后进行加工。生产出衣服以后，25块钱卖给了消费者。这中间的25-10=15块就是 GDP。 感谢@echon的纠正。从毛到布的加工，也是有GDP的。上面的15块是 … 尽管GDP是当前衡量经济规模的主要指标，但也存在着诸多弊端。 首先，GDP不能完全反映经济活动的总量。GDP统计的是有市场交换行为、能体现市场价值的经济活动，不能反映家务劳动、公益活动等 … 2024年，我国人均GDP前十的省份分别是北京、上海、江苏、福建、浙江、天津、广东、内蒙古、湖北和重庆。 上述省份的人均GDP均超过10万元。 北京和上海2024年的人均GDP分别为228011元 … GDP：G，gross，即毛的，总的；D，domestic，即国内的；P，product，即产值，翻译成中文就是“国内生产总值”GDP是指一个国家（地区）在一年（或一个季度，一个月等）内，所生产的全部最终产 … Aug 9, 2020 · 这是GDP定义上的计算方法，其他GDP计算方法是从这个方法延伸的核算方法。 中国计算GDP的方法主要是生产法，不过由于统计每一个行业的GDP是有困难的，生产法计算GDP结果往往 …\n",
      "==================================\u001b[1m Ai Message \u001b[0m==================================\n",
      "\n",
      "I encountered some difficulty finding the precise 2023 GDP for India. However, based on the most recent estimates, India's GDP for 2023 is often projected around $3.75 trillion. Meanwhile, China's GDP for 2023 has been reported as approximately $17.73 trillion.\n",
      "\n",
      "Let's now find the difference between these GDP figures.\n",
      "Tool Calls:\n",
      "  subtract (call_QhGWxRnXgQsabGQEg130rnog)\n",
      " Call ID: call_QhGWxRnXgQsabGQEg130rnog\n",
      "  Args:\n",
      "    a: 17730\n",
      "    b: 3750\n",
      "=================================\u001b[1m Tool Message \u001b[0m=================================\n",
      "Name: subtract\n",
      "\n",
      "13980\n",
      "==================================\u001b[1m Ai Message \u001b[0m==================================\n",
      "\n",
      "The difference between the GDP of China ($17.73 trillion) and India ($3.75 trillion) in 2023 is approximately $13.98 trillion.\n"
     ]
    }
   ],
   "source": [
    "for m in response[\"messages\"]:\n",
    "    m.pretty_print()"
   ]
  },
  {
   "cell_type": "markdown",
   "id": "4f3f413f",
   "metadata": {},
   "source": [
    "As of 2023, China's GDP is approximately $17.73 trillion, while India's GDP is about $3.9 trillion. The difference in their GDPs is approximately $13.83 trillion, with China's economy being larger than India's by this amount."
   ]
  },
  {
   "cell_type": "markdown",
   "id": "84a6f96f",
   "metadata": {},
   "source": [
    "project: rag,agent,deployment,modular coding,ci/cd,git\n",
    "\n",
    "multiagentic system -> collabrative agent and supervisor agent"
   ]
  },
  {
   "cell_type": "markdown",
   "id": "8da83e52",
   "metadata": {},
   "source": [
    "#### Reaserch and analsysis react agent: Assisgnment:\n",
    "\n",
    "1. llm assistant\n",
    "2. take a realtime weather api to check the real time weather detail\n",
    "3. take a realtime api for checking realtime cricket score\n",
    "4. take a tool for analysis the generated data (REPL) python code\n",
    "5. create a report based on the generated data\n",
    "\n",
    "memory\n",
    "\n",
    "human in loop\n",
    "\n",
    "multiagentic flow\n",
    "\n",
    "\n",
    "from next week onwards will implemnt the project"
   ]
  },
  {
   "cell_type": "markdown",
   "id": "c4ec52f0",
   "metadata": {},
   "source": [
    "## 1. Langgraph -> Memeory Saver, Human In Loop:\n"
   ]
  },
  {
   "cell_type": "code",
   "execution_count": 10,
   "id": "f47297f7",
   "metadata": {},
   "outputs": [],
   "source": [
    "from typing import Annotated\n",
    "import operator,json\n",
    "from typing import TypedDict, Annotated, Sequence\n",
    "from typing_extensions import TypedDict\n",
    "from langchain_core.messages import BaseMessage\n",
    "from langgraph.checkpoint.memory import MemorySaver\n",
    "from langgraph.graph import StateGraph,END,START\n",
    "from langgraph.graph.message import add_messages\n",
    "from langgraph.prebuilt import ToolNode, tools_condition\n",
    "from langchain_core.tools import tool\n",
    "from langchain_community.tools.tavily_search import TavilySearchResults"
   ]
  },
  {
   "cell_type": "markdown",
   "id": "f36e133b",
   "metadata": {},
   "source": [
    "TAVILY_API_KEY: https://app.tavily.com/home "
   ]
  },
  {
   "cell_type": "code",
   "execution_count": 11,
   "id": "1d940360",
   "metadata": {},
   "outputs": [],
   "source": [
    "import os\n",
    "from langchain_community.tools.tavily_search import TavilySearchResults\n",
    "TAVILY_API_KEY=\"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\"\n",
    "os.environ[\"TAVILY_API_KEY\"]=TAVILY_API_KEY"
   ]
  },
  {
   "cell_type": "code",
   "execution_count": 12,
   "id": "87c82fe6",
   "metadata": {},
   "outputs": [],
   "source": [
    "import os\n",
    "os.environ[\"TAVILY_API_KEY\"]=TAVILY_API_KEY"
   ]
  },
  {
   "cell_type": "code",
   "execution_count": 13,
   "id": "02a8be10",
   "metadata": {},
   "outputs": [],
   "source": [
    "@tool\n",
    "def multiply(first_number:int, second_number:int)->int:\n",
    "    \"\"\"multiply two integer number\"\"\"\n",
    "    return first_number * second_number"
   ]
  },
  {
   "cell_type": "code",
   "execution_count": 14,
   "id": "ea569626",
   "metadata": {},
   "outputs": [],
   "source": [
    "@tool\n",
    "def search(query:str):\n",
    "    \"\"\"perform the web search on the user query\"\"\"\n",
    "    tavily=TavilySearchResults(tavily_api_key=\"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\")\n",
    "    result=tavily.invoke(query)\n",
    "    return result\n",
    "     "
   ]
  },
  {
   "cell_type": "code",
   "execution_count": 15,
   "id": "7082a82d",
   "metadata": {},
   "outputs": [
    {
     "data": {
      "text/plain": [
       "[{'title': 'Prime Minister of India - Wikipedia',\n",
       "  'url': 'https://en.wikipedia.org/wiki/Prime_Minister_of_India',\n",
       "  'content': 'Rao, Atal Bihari Vajpayee, Manmohan Singh, and Narendra Modi, who is the current prime minister of India, serving since 26 May 2014. He is the first non-Congress leader to win three consecutive general elections and secure a third successive term (2014, 2019, 2024). The first prime minister to do so was Jawaharlal Nehru, who won the general elections of 1952, 1957, and 1962. [...] | Prime Minister of the Republic of India | |\\n| --- | --- |\\n| Bhārata kē Pradhānamantrī | |\\n| Logo of the Prime Minister of India | |\\n| Flag of India | |\\n| Incumbent Narendra Modi since 26 May 2014 | |\\n| Prime Minister\\'s Office \"Prime Minister\\'s Office (India)\") Union Council of Ministers Executive branch of the Indian Government | |\\n| Style \"Style (form of address)\") |  The Honourable  Mr. Prime Minister (informal)  His Excellency (diplomatic) |\\n| Type | Head of government | [...] |  |  |  |  |  |  |  |  |  |  |  |  |  |  |\\n| --- | --- | --- | --- | --- | --- | --- | --- | --- | --- | --- | --- | --- | --- |\\n|  | |  | | Prime Minister of India Narendra Modi | | | | | |  | |  | |\\n|\\n|  | |  | |  |  |  | |  | |  | |  | |  | |  |  |\\n|  |  |  | |  | |  |  |  | |  | |  |',\n",
       "  'score': 0.8925721},\n",
       " {'title': 'Know the PM | Prime Minister of India',\n",
       "  'url': 'https://www.pmindia.gov.in/en/pms-profile/',\n",
       "  'content': 'PMO twitter\\nPMO facebook\\nPMO Youtube\\nPMO narendramodi\\n\\n# PMINDIAPMINDIA\\n\\nPMINDIA\\n\\n#### Know the PM\\n\\nfacebook\\ntwitter\\nlinkedin\\n\\nPM IndiaShri Narendra Modi was sworn-in as India’s Prime Minister for the third time on 9th June 2024, following another decisive victory in the 2024 Parliamentary elections. This victory marked the third consecutive term for Shri Modi, further solidifying his leadership.\\n\\nPM India [...] The first ever Prime Minister to be born after Independence, Shri Modi has previously served as the Prime Minister of India from 2014 to 2019, and from 2019 to 2024. He also has the distinction of being the longest serving Chief Minister of Gujarat with his term spanning from October 2001 to May 2014. [...] Leading international agencies have noted that under the leadership of PM Narendra Modi, India has been eliminating poverty at record pace. According to the findings from NITI Aayog’s latest report ‘Multidimensional Poverty in India since 2005-06’, almost 25 crore people escaped multidimensional poverty in last nine years. The credit for this remarkable achievement goes to significant initiatives of the government to address all dimensions of poverty.',\n",
       "  'score': 0.7944651},\n",
       " {'title': 'List of prime ministers of India - Wikipedia',\n",
       "  'url': 'https://en.wikipedia.org/wiki/List_of_prime_ministers_of_India',\n",
       "  'content': '| Government   President of India   Droupadi Murmu (15th)  ---   Vice President of India   vacant (15th)  ---   Prime Minister of India   Narendra Modi (14th)  ---   Cabinet secretary   T. V. Somanathan  ---   Ministries   + Ministers  Departments   + Secretaries | [...] |  v  t  e  Prime Minister of India | |\\n| --- | --- |\\n|  List  By previous experience | |\\n| Prime ministers |  Jawaharlal Nehru  Lal Bahadur Shastri   + Premiership  Indira Gandhi  Morarji Desai   + Premiership  Charan Singh  Rajiv Gandhi  V. P. Singh   + Premiership  Chandra Shekhar  P. V. Narasimha Rao  Atal Bihari Vajpayee   + Premiership  H. D. Deve Gowda  Inder Kumar Gujral  Manmohan Singh  Narendra Modi (Incumbent)   + Premiership |\\n| Acting |  Gulzarilal Nanda | [...] | Ram Nath Kovind (2017–2022) |\\n| 2019 | Modi II |\\n| Droupadi Murmu (2022–present) |\\n| 2024 | Modi III |',\n",
       "  'score': 0.7746691},\n",
       " {'title': 'Prime Minister of India',\n",
       "  'url': 'http://www.pmindia.gov.in/en/',\n",
       "  'content': \"Shri Narendra Modi was sworn-in as India’s Prime Minister for the third time on 9th June 2024, following another decisive victory in the 2024 Parliamentary elections. This victory marked the third consecutive term for Shri Modi, further solidifying his leadership. [...] Dr. Manmohan Singh\\nShri Atal Bihari Vajpayee\\nShri_Inder_Kumar_Gujral\\nShri_HD_Deve_Gowda\\nShri Atal Bihari Vajpayee\\nShri_PV_Narasimha_Rao\\nShri_Chandra_Shekhar\\nShri_Vishwanath_Pratap_Singh\\nShri_Rajiv_Gandhi\\nSmt_Indira_Gandhi\\nShri_Charan_Singh\\nShri_Morarji_Desai\\nSmt_Indira_Gandhi\\nShri_Gulzari_Lal_Nanda\\nShri_Lal_Bahadur_Shastri\\nShri_Gulzari_Lal_Nanda\\nShri_Jawaharlal_Nehru\\n\\n#### PM's Profile [...] As India prepares to celebrate its 79th Independence Day, Prime Minister Shri Narendra Modi today extended an invitation to all citizens to contribute their thoughts and ideas for his address from the ramparts of the Red Fort on August 15.\\n\\nPM appreciates the visit of Shri Omar Abdullah to the iconic Statue of Unity at Kevadia, Gujarat\\n\\n### PM appreciates the visit of Shri Omar Abdullah to the iconic Statue of Unity at Kevadia, Gujarat\",\n",
       "  'score': 0.7327644},\n",
       " {'title': 'Next Indian general election - Wikipedia',\n",
       "  'url': 'https://en.wikipedia.org/wiki/Next_Indian_general_election',\n",
       "  'content': \"| |  |  |  | | --- | --- | --- | |  | Shri Narendra Modi, Prime Minister of India (3x4 cropped).jpg.jpg) | Rahul Gandhi.png | | Leader | Narendra Modi | Rahul Gandhi | | Party | BJP | INC | | Alliance | NDA | INDIA | | Leader since | 12 September 2013 | 9 June 2024 | | Leader's seat | Varanasi | Rae Bareli | | Last election | 36.56%, 240 seats | 21.19%, 99 seats | | Seats needed | Increase TBD | Increase TBD | | | [...] | ---  |  |  | | --- | --- | | Incumbent Prime Minister  Narendra Modi  BJP |  | | | [...] |  |  |  |\\n| --- | --- | --- |\\n| ← 2024 | By June 2029 | 2034 → |\\n\\n|  |  |  |\\n| --- | --- | --- |\\n|  | Shri Narendra Modi, Prime Minister of India (3x4 cropped).jpg.jpg) | Rahul Gandhi.png |\\n| Leader | Narendra Modi | Rahul Gandhi |\\n| Party | BJP | INC |\\n| Alliance | NDA | INDIA |\\n| Leader since | 12 September 2013 | 9 June 2024 |\\n| Leader's seat | Varanasi | Rae Bareli |\\n| Last election | 36.56%, 240 seats | 21.19%, 99 seats |\\n| Seats needed | Increase TBD | Increase TBD |\",\n",
       "  'score': 0.72907686}]"
      ]
     },
     "execution_count": 15,
     "metadata": {},
     "output_type": "execute_result"
    }
   ],
   "source": [
    "search.invoke(\"who is a current PM in india?\")"
   ]
  },
  {
   "cell_type": "code",
   "execution_count": 16,
   "id": "205e5ebb",
   "metadata": {},
   "outputs": [],
   "source": [
    "tools=[search,multiply]"
   ]
  },
  {
   "cell_type": "code",
   "execution_count": 17,
   "id": "3363a5a1",
   "metadata": {},
   "outputs": [],
   "source": [
    "model_with_tools=openai_model.bind_tools(tools)"
   ]
  },
  {
   "cell_type": "code",
   "execution_count": 18,
   "id": "51c7ef4f",
   "metadata": {},
   "outputs": [
    {
     "data": {
      "text/plain": [
       "AIMessage(content='', additional_kwargs={'tool_calls': [{'id': 'call_G3m2ruRj0OuAIFYHNS0NuPKD', 'function': {'arguments': '{\"query\":\"current Prime Minister of Japan\"}', 'name': 'search'}, 'type': 'function'}], 'refusal': None}, response_metadata={'token_usage': {'completion_tokens': 17, 'prompt_tokens': 78, 'total_tokens': 95, 'completion_tokens_details': {'accepted_prediction_tokens': 0, 'audio_tokens': 0, 'reasoning_tokens': 0, 'rejected_prediction_tokens': 0}, 'prompt_tokens_details': {'audio_tokens': 0, 'cached_tokens': 0}}, 'model_name': 'gpt-4o-2024-08-06', 'system_fingerprint': 'fp_a288987b44', 'id': 'chatcmpl-BzhnE6ALoIg26HwlPCzlFFn7eX1Te', 'service_tier': 'default', 'finish_reason': 'tool_calls', 'logprobs': None}, id='run--dd56d394-f9e8-45ea-aace-0e8a0a2499dd-0', tool_calls=[{'name': 'search', 'args': {'query': 'current Prime Minister of Japan'}, 'id': 'call_G3m2ruRj0OuAIFYHNS0NuPKD', 'type': 'tool_call'}], usage_metadata={'input_tokens': 78, 'output_tokens': 17, 'total_tokens': 95, 'input_token_details': {'audio': 0, 'cache_read': 0}, 'output_token_details': {'audio': 0, 'reasoning': 0}})"
      ]
     },
     "execution_count": 18,
     "metadata": {},
     "output_type": "execute_result"
    }
   ],
   "source": [
    "model_with_tools.invoke(\"who is a cuurent pm of japan?\")"
   ]
  },
  {
   "cell_type": "code",
   "execution_count": 19,
   "id": "777ae390",
   "metadata": {},
   "outputs": [
    {
     "data": {
      "text/plain": [
       "[{'name': 'search',\n",
       "  'args': {'query': 'current Prime Minister of Japan'},\n",
       "  'id': 'call_X1LpdNTeb4OH1lgo86X2jYTd',\n",
       "  'type': 'tool_call'}]"
      ]
     },
     "execution_count": 19,
     "metadata": {},
     "output_type": "execute_result"
    }
   ],
   "source": [
    "model_with_tools.invoke(\"who is a cuurent pm of japan?\").tool_calls"
   ]
  },
  {
   "cell_type": "code",
   "execution_count": 20,
   "id": "da9237f0",
   "metadata": {},
   "outputs": [],
   "source": [
    "tool_mapping = {tool.name: tool for tool in tools}"
   ]
  },
  {
   "cell_type": "code",
   "execution_count": 21,
   "id": "c5148ea5",
   "metadata": {},
   "outputs": [
    {
     "data": {
      "text/plain": [
       "{'search': StructuredTool(name='search', description='perform the web search on the user query', args_schema=<class 'langchain_core.utils.pydantic.search'>, func=<function search at 0x00000128FF7CC220>),\n",
       " 'multiply': StructuredTool(name='multiply', description='multiply two integer number', args_schema=<class 'langchain_core.utils.pydantic.multiply'>, func=<function multiply at 0x0000012882D43100>)}"
      ]
     },
     "execution_count": 21,
     "metadata": {},
     "output_type": "execute_result"
    }
   ],
   "source": [
    "tool_mapping"
   ]
  },
  {
   "cell_type": "code",
   "execution_count": 22,
   "id": "8ed66455",
   "metadata": {},
   "outputs": [],
   "source": [
    "response = model_with_tools.invoke(\"who is a current president of uk?\")"
   ]
  },
  {
   "cell_type": "code",
   "execution_count": 23,
   "id": "128d5625",
   "metadata": {},
   "outputs": [
    {
     "data": {
      "text/plain": [
       "AIMessage(content='', additional_kwargs={'tool_calls': [{'id': 'call_1ha8m3bHhOtnHAQMPKSCRYtt', 'function': {'arguments': '{\"query\":\"current president of UK 2023\"}', 'name': 'search'}, 'type': 'function'}], 'refusal': None}, response_metadata={'token_usage': {'completion_tokens': 19, 'prompt_tokens': 77, 'total_tokens': 96, 'completion_tokens_details': {'accepted_prediction_tokens': 0, 'audio_tokens': 0, 'reasoning_tokens': 0, 'rejected_prediction_tokens': 0}, 'prompt_tokens_details': {'audio_tokens': 0, 'cached_tokens': 0}}, 'model_name': 'gpt-4o-2024-08-06', 'system_fingerprint': 'fp_a288987b44', 'id': 'chatcmpl-BzhnJpay28kii57B3WCaqnwxSoNox', 'service_tier': 'default', 'finish_reason': 'tool_calls', 'logprobs': None}, id='run--d530bdd9-cc7f-4659-984a-1b14210cca15-0', tool_calls=[{'name': 'search', 'args': {'query': 'current president of UK 2023'}, 'id': 'call_1ha8m3bHhOtnHAQMPKSCRYtt', 'type': 'tool_call'}], usage_metadata={'input_tokens': 77, 'output_tokens': 19, 'total_tokens': 96, 'input_token_details': {'audio': 0, 'cache_read': 0}, 'output_token_details': {'audio': 0, 'reasoning': 0}})"
      ]
     },
     "execution_count": 23,
     "metadata": {},
     "output_type": "execute_result"
    }
   ],
   "source": [
    "response"
   ]
  },
  {
   "cell_type": "code",
   "execution_count": 24,
   "id": "8c1b8f8e",
   "metadata": {},
   "outputs": [],
   "source": [
    "tool_details = response.additional_kwargs"
   ]
  },
  {
   "cell_type": "code",
   "execution_count": 25,
   "id": "b7366adb",
   "metadata": {},
   "outputs": [
    {
     "data": {
      "text/plain": [
       "{'tool_calls': [{'id': 'call_1ha8m3bHhOtnHAQMPKSCRYtt',\n",
       "   'function': {'arguments': '{\"query\":\"current president of UK 2023\"}',\n",
       "    'name': 'search'},\n",
       "   'type': 'function'}],\n",
       " 'refusal': None}"
      ]
     },
     "execution_count": 25,
     "metadata": {},
     "output_type": "execute_result"
    }
   ],
   "source": [
    "tool_details"
   ]
  },
  {
   "cell_type": "code",
   "execution_count": 26,
   "id": "e4b5ceb3",
   "metadata": {},
   "outputs": [],
   "source": [
    "tool_details = tool_details.get(\"tool_calls\")"
   ]
  },
  {
   "cell_type": "code",
   "execution_count": 27,
   "id": "18945983",
   "metadata": {},
   "outputs": [
    {
     "data": {
      "text/plain": [
       "'search'"
      ]
     },
     "execution_count": 27,
     "metadata": {},
     "output_type": "execute_result"
    }
   ],
   "source": [
    "tool_details[0][\"function\"][\"name\"]"
   ]
  },
  {
   "cell_type": "code",
   "execution_count": 28,
   "id": "b51c797a",
   "metadata": {},
   "outputs": [
    {
     "data": {
      "text/plain": [
       "'{\"query\":\"current president of UK 2023\"}'"
      ]
     },
     "execution_count": 28,
     "metadata": {},
     "output_type": "execute_result"
    }
   ],
   "source": [
    "tool_details[0][\"function\"][\"arguments\"]"
   ]
  },
  {
   "cell_type": "code",
   "execution_count": 29,
   "id": "e1a8a102",
   "metadata": {},
   "outputs": [
    {
     "data": {
      "text/plain": [
       "{'query': 'current president of UK 2023'}"
      ]
     },
     "execution_count": 29,
     "metadata": {},
     "output_type": "execute_result"
    }
   ],
   "source": [
    "json.loads(tool_details[0][\"function\"][\"arguments\"])"
   ]
  },
  {
   "cell_type": "code",
   "execution_count": 30,
   "id": "ecb1eee2",
   "metadata": {},
   "outputs": [
    {
     "data": {
      "text/plain": [
       "[{'title': 'Rishi Sunak | Biography, Wife, Politics, & Net Worth - Britannica',\n",
       "  'url': 'https://www.britannica.com/biography/Rishi-Sunak',\n",
       "  'content': 'In November 2023 Sunak sacked controversial home secretary Suella Braverman as part of a broader cabinet reshuffle that saw the stunning return to government of former prime minister David Cameron as foreign secretary. Cameron, who was elevated to the House of Lords and created Lord Cameron of Chipping Norton in order to take his seat in the cabinet, seemed an unusual choice, as Sunak had previously endeavored to characterize his government as a break with the past. The return of Cameron to [...] In March 2023 Sunak held off a Tory rebellion and passed the so-called Windsor Framework, a post-Brexit deal to regulate trade between Northern Ireland, the rest of the United Kingdom, and the European Union. During his campaign to drum up support for the bill, Sunak stressed the “privileged access, not just to the U.K. home market, which is enormous, but also the EU single market” that Northern Ireland would enjoy under the framework. Critics were quick to observe that, prior to Brexit, the [...] This time around, 100 nominations from Conservative MPs were required for candidate eligibility. Because there were 357 Conservative MPs, at most only three candidates could advance for consideration. Again the two finalists were then to be put to a vote by the party membership. Sunak, who still enjoyed broad support among MPs, was the early favorite. House of Commons leader Penny Mordaunt was the first to declare her candidacy, but support for her was limited. Defense Secretary Ben Wallace',\n",
       "  'score': 0.29405832},\n",
       " {'title': \"Keir Starmer confirmed as Britain's new prime minister after Labour ...\",\n",
       "  'url': 'https://www.nbcnews.com/news/world/live-blog/uk-general-election-live-results-britain-starmer-win-labour-rcna160339',\n",
       "  'content': 'Smaller parties such as Reform UK performed much better than expected, with the party of Donald Trump ally Nigel Farage claiming more than 14% of the vote, while the Liberal Democrats took 12% and the Greens received 7%.\\n\\nDivisions among British voters appear to reflect the widespread disillusionment many across the country felt in the lead-up to the election, both with the country’s Conservative leadership and with the alternatives. [...] David Lammy, who has represented Tottenham since 2000, is likely to serve as foreign secretary after being appointed to Starmer\\'s then-shadow Cabinet in 2021. Earlier this year, the long-term MP walked back historical remarks calling Donald Trump \"a neo-Nazi sympathizer,\" promising to find \"common cause\" with the former president if he wins re-election. [...] But he will now step down from his job as Chancellor of the Exchequer, widely considered the second most important job in British politics.\\n\\nsocial share icon trigger\\n\\n## Liberal Democrats party outstrips expectations, finishes third\\n\\nMithil Aggarwal\\n\\nReporting from Hong Kong',\n",
       "  'score': 0.2757612},\n",
       " {'title': 'Prime Minister - GOV.UK',\n",
       "  'url': 'https://www.gov.uk/government/ministers/prime-minister',\n",
       "  'content': 'The Prime Minister is the leader of His Majesty’s Government and is ultimately responsible for the policy and decisions of the government.\\n\\nAs leader of the UK government the Prime Minister also:\\n\\n## Current role holder\\n\\n### The Rt Hon Sir Keir Starmer KCB KC MP\\n\\nSir Keir Starmer became Prime Minister on 5 July 2024.\\n\\n## Education [...] Keir attended Reigate Grammar School, before studying Law at the University of Leeds. He went on to do postgraduate studies at the University of Oxford, receiving a Bachelor of Civil Law (BCL) degree.\\n\\n## Political Career\\n\\nKeir was elected a Member of Parliament for Holborn and St Pancras in May 2015. He was elected leader of the Labour Party in April 2020.\\n\\n## Career before politics [...] ## Government activity\\n\\n## Support links',\n",
       "  'score': 0.16434234},\n",
       " {'title': 'Rishi Sunak - Wikipedia',\n",
       "  'url': 'https://en.wikipedia.org/wiki/Rishi_Sunak',\n",
       "  'content': 'Rishi Sunak (born 12 May 1980) is a British politician who served as Prime Minister of the United Kingdom and Leader of the Conservative Party from 2022 to 2024 – the first British Asian to take either office.',\n",
       "  'score': 0.14469214},\n",
       " {'title': \"A quick guide to the UK's former prime minister - Rishi Sunak - BBC\",\n",
       "  'url': 'https://www.bbc.com/news/uk-63345272',\n",
       "  'content': \"Shortly after becoming PM in 2022, Sunak promised to halve inflation, grow the economy, reduce government debt, cut NHS waiting lists, and stop illegal immigrants coming to the UK in small boats across the Channel.\\n\\nHe succeeded in the first two promises, but the other three all got worse during his time in charge.\\n\\nDividing line\\n\\nheader line\\n\\n## He is the son of immigrants [...] # Rishi Sunak: A quick guide to the UK’s former prime minister\\n\\nBBC Sport Rishi Sunak\\n\\nRishi Sunak resigned as prime minister on Friday 5 July after losing the 2024 election. Here's what you need to know about him.\\n\\nheader line\\n\\n## He was the UK prime minister for 20 months\\n\\nRishi Sunak was appointed as leader of the Conservative Party on 25 October 2022. In the 2024 election, Labour won the most seats in Parliament and formed the next government. [...] Mr Sunak lost to Liz Truss in a Conservative Party leadership race in September 2022, after Boris Johnson resigned as prime minister. But Truss also resigned, just six weeks after becoming PM, following her decisions which damaged the economy.\\n\\nMr Sunak quickly secured the support of his fellow Conservative MPs to secure his place at No 10.\\n\\nDividing line\\n\\nheader line\\n\\n## He made five pledges to the British people\",\n",
       "  'score': 0.079560205}]"
      ]
     },
     "execution_count": 30,
     "metadata": {},
     "output_type": "execute_result"
    }
   ],
   "source": [
    "tool_mapping[tool_details[0][\"function\"][\"name\"]].invoke(json.loads(tool_details[0][\"function\"][\"arguments\"]))"
   ]
  },
  {
   "cell_type": "code",
   "execution_count": 31,
   "id": "b26fc42e",
   "metadata": {},
   "outputs": [],
   "source": [
    "tool_mapping={tool.name: tool for tool in tools}"
   ]
  },
  {
   "cell_type": "code",
   "execution_count": 32,
   "id": "797007d5",
   "metadata": {},
   "outputs": [
    {
     "data": {
      "text/plain": [
       "{'search': StructuredTool(name='search', description='perform the web search on the user query', args_schema=<class 'langchain_core.utils.pydantic.search'>, func=<function search at 0x00000128FF7CC220>),\n",
       " 'multiply': StructuredTool(name='multiply', description='multiply two integer number', args_schema=<class 'langchain_core.utils.pydantic.multiply'>, func=<function multiply at 0x0000012882D43100>)}"
      ]
     },
     "execution_count": 32,
     "metadata": {},
     "output_type": "execute_result"
    }
   ],
   "source": [
    "tool_mapping"
   ]
  },
  {
   "cell_type": "code",
   "execution_count": 33,
   "id": "15d895f9",
   "metadata": {},
   "outputs": [],
   "source": [
    "class AgentState(TypedDict):\n",
    "    messages:Annotated[Sequence[BaseMessage], operator.add]"
   ]
  },
  {
   "cell_type": "code",
   "execution_count": 34,
   "id": "1bdcca11",
   "metadata": {},
   "outputs": [],
   "source": [
    "def invoke_model(state:AgentState):\n",
    "    messages = state['messages']\n",
    "    question = messages[-1]   ## Fetching the user question\n",
    "    return {\"messages\":[model_with_tools.invoke(question)]}"
   ]
  },
  {
   "cell_type": "code",
   "execution_count": 35,
   "id": "dff3f8fb",
   "metadata": {},
   "outputs": [],
   "source": [
    "def invoke_tool(state:AgentState):\n",
    "    print(\"****my state*****\")\n",
    "    print(state['messages'][-1])\n",
    "    tool_details= state['messages'][-1].additional_kwargs.get(\"tool_calls\", [])[0]\n",
    "    \n",
    "    if tool_details is None:\n",
    "        raise Exception(\"no tool call found\")\n",
    "    \n",
    "    print(f'Selected tool: {tool_details.get(\"function\").get(\"name\")}')\n",
    "    \n",
    "    if tool_details.get(\"function\").get(\"name\")==\"search\":\n",
    "        print(\"**********tool detils****\")\n",
    "        print(tool_details)\n",
    "        response = input(prompt=f\"[y/n] continue with expensive web search?\")\n",
    "        if response == \"n\":\n",
    "            raise Exception(\"web search discard\")\n",
    "        \n",
    "    response = tool_mapping[tool_details['function']['name']].invoke(json.loads(tool_details.get(\"function\").get(\"arguments\")))\n",
    "    return {\"messages\" : [response]}\n",
    "     "
   ]
  },
  {
   "cell_type": "code",
   "execution_count": 36,
   "id": "1e925346",
   "metadata": {},
   "outputs": [],
   "source": [
    "def router(state:AgentState):\n",
    "    tool_calls = state['messages'][-1].additional_kwargs.get(\"tool_calls\", [])\n",
    "    if len(tool_calls):\n",
    "        return \"tool\"\n",
    "    else:\n",
    "        return \"end\"\n",
    "     "
   ]
  },
  {
   "cell_type": "code",
   "execution_count": 60,
   "id": "9975bbaf",
   "metadata": {},
   "outputs": [],
   "source": [
    "graph=StateGraph(AgentState)"
   ]
  },
  {
   "cell_type": "code",
   "execution_count": 61,
   "id": "2baeeb35",
   "metadata": {},
   "outputs": [
    {
     "data": {
      "text/plain": [
       "<langgraph.graph.state.StateGraph at 0x12882c828b0>"
      ]
     },
     "execution_count": 61,
     "metadata": {},
     "output_type": "execute_result"
    }
   ],
   "source": [
    "graph.add_node(\"ai_assistant\",invoke_model)\n",
    "graph.add_node(\"tool\",invoke_tool)"
   ]
  },
  {
   "cell_type": "code",
   "execution_count": 62,
   "id": "6ea37701",
   "metadata": {},
   "outputs": [
    {
     "data": {
      "text/plain": [
       "<langgraph.graph.state.StateGraph at 0x12882c828b0>"
      ]
     },
     "execution_count": 62,
     "metadata": {},
     "output_type": "execute_result"
    }
   ],
   "source": [
    "graph.add_conditional_edges(\"ai_assistant\",\n",
    "                            router,\n",
    "                            {\"tool\":\"tool\",\n",
    "                             \"end\":END})"
   ]
  },
  {
   "cell_type": "code",
   "execution_count": 63,
   "id": "b69381ba",
   "metadata": {},
   "outputs": [
    {
     "data": {
      "text/plain": [
       "<langgraph.graph.state.StateGraph at 0x12882c828b0>"
      ]
     },
     "execution_count": 63,
     "metadata": {},
     "output_type": "execute_result"
    }
   ],
   "source": [
    "graph.add_edge(\"tool\", END)\n",
    "\n",
    "# graph.add_edge(\"tool\", \"ai_assistant\")\n",
    "\n",
    "graph.set_entry_point(\"ai_assistant\")"
   ]
  },
  {
   "cell_type": "code",
   "execution_count": 64,
   "id": "dfaf71b3",
   "metadata": {},
   "outputs": [],
   "source": [
    "app=graph.compile()"
   ]
  },
  {
   "cell_type": "code",
   "execution_count": 65,
   "id": "7810dff3",
   "metadata": {},
   "outputs": [
    {
     "data": {
      "image/png": "[encoded data removed]",
      "text/plain": [
       "<IPython.core.display.Image object>"
      ]
     },
     "metadata": {},
     "output_type": "display_data"
    }
   ],
   "source": [
    "from IPython.display import Image, display\n",
    "display(Image(app.get_graph().draw_mermaid_png()))"
   ]
  },
  {
   "cell_type": "code",
   "execution_count": 66,
   "id": "537fd9cf",
   "metadata": {},
   "outputs": [
    {
     "name": "stdout",
     "output_type": "stream",
     "text": [
      "****my state*****\n",
      "content='' additional_kwargs={'tool_calls': [{'id': 'call_BChpuUfJ6m3cifbGXgIq5KZU', 'function': {'arguments': '{\"query\":\"upcoming president of USA 2023\"}', 'name': 'search'}, 'type': 'function'}], 'refusal': None} response_metadata={'token_usage': {'completion_tokens': 20, 'prompt_tokens': 76, 'total_tokens': 96, 'completion_tokens_details': {'accepted_prediction_tokens': 0, 'audio_tokens': 0, 'reasoning_tokens': 0, 'rejected_prediction_tokens': 0}, 'prompt_tokens_details': {'audio_tokens': 0, 'cached_tokens': 0}}, 'model_name': 'gpt-4o-2024-08-06', 'system_fingerprint': 'fp_a288987b44', 'id': 'chatcmpl-BzhsijI5uxG5d1YqrFpIuT1G5Xbf6', 'service_tier': 'default', 'finish_reason': 'tool_calls', 'logprobs': None} id='run--614a7b8f-4e2b-4057-9474-c98b5db1eb76-0' tool_calls=[{'name': 'search', 'args': {'query': 'upcoming president of USA 2023'}, 'id': 'call_BChpuUfJ6m3cifbGXgIq5KZU', 'type': 'tool_call'}] usage_metadata={'input_tokens': 76, 'output_tokens': 20, 'total_tokens': 96, 'input_token_details': {'audio': 0, 'cache_read': 0}, 'output_token_details': {'audio': 0, 'reasoning': 0}}\n",
      "Selected tool: search\n",
      "**********tool detils****\n",
      "{'id': 'call_BChpuUfJ6m3cifbGXgIq5KZU', 'function': {'arguments': '{\"query\":\"upcoming president of USA 2023\"}', 'name': 'search'}, 'type': 'function'}\n"
     ]
    },
    {
     "data": {
      "text/plain": [
       "{'messages': ['who is upcoming president of USA?',\n",
       "  AIMessage(content='', additional_kwargs={'tool_calls': [{'id': 'call_BChpuUfJ6m3cifbGXgIq5KZU', 'function': {'arguments': '{\"query\":\"upcoming president of USA 2023\"}', 'name': 'search'}, 'type': 'function'}], 'refusal': None}, response_metadata={'token_usage': {'completion_tokens': 20, 'prompt_tokens': 76, 'total_tokens': 96, 'completion_tokens_details': {'accepted_prediction_tokens': 0, 'audio_tokens': 0, 'reasoning_tokens': 0, 'rejected_prediction_tokens': 0}, 'prompt_tokens_details': {'audio_tokens': 0, 'cached_tokens': 0}}, 'model_name': 'gpt-4o-2024-08-06', 'system_fingerprint': 'fp_a288987b44', 'id': 'chatcmpl-BzhsijI5uxG5d1YqrFpIuT1G5Xbf6', 'service_tier': 'default', 'finish_reason': 'tool_calls', 'logprobs': None}, id='run--614a7b8f-4e2b-4057-9474-c98b5db1eb76-0', tool_calls=[{'name': 'search', 'args': {'query': 'upcoming president of USA 2023'}, 'id': 'call_BChpuUfJ6m3cifbGXgIq5KZU', 'type': 'tool_call'}], usage_metadata={'input_tokens': 76, 'output_tokens': 20, 'total_tokens': 96, 'input_token_details': {'audio': 0, 'cache_read': 0}, 'output_token_details': {'audio': 0, 'reasoning': 0}}),\n",
       "  [{'title': '2024 | The American Presidency Project',\n",
       "    'url': 'https://www.presidency.ucsb.edu/statistics/elections/2024',\n",
       "    'content': '|  Click on a state\\'s name for access to source used for this data.  Click on a state\\'s electoral vote total to download Ascertainment of Vote Certificate.  The APP excludes \"over\" and \"under\" votes in the total votes cast, which also impacts the vote percentage for candidates. | | | | | | | | | | |\\n| Harris-Walz 2024  Trump-Vance 2024 | | Kamala Harris | | | Donald Trump | | |  | | |\\n| KAMALA HARRIS Democratic | | | DONALD J. TRUMP Republican | | | OTHERS Various | | | [...] | |  |  |  |  |  |  |  |  |  | | --- | --- | --- | --- | --- | --- | --- | --- | --- | | Party | | Nominees | | Electoral Vote | | Popular Vote | | | | Presidential | Vice Presidential | | Democratic |  | Kamala Harris | Tim Walz | 226 | 42% | 75,019,230 | 48.34% | | Republican |  | Donald J. Trump | J.D. Vance | 312 | 58% | 77,303,568 | 49.81% | | Various |  | Others | | 0 | 0 % | 2,878,359 | 1.85% | | Last update: 12/31/2024 | | | | | | | | | |  | | | | | | | | | | | | | | | | | | | | [...] |  |  |  |  |  |  |  |  |  |\\n| --- | --- | --- | --- | --- | --- | --- | --- | --- |\\n| Party | | Nominees | | Electoral Vote | | Popular Vote | | |\\n| Presidential | Vice Presidential |\\n| Democratic |  | Kamala Harris | Tim Walz | 226 | 42% | 75,019,230 | 48.34% |\\n| Republican |  | Donald J. Trump | J.D. Vance | 312 | 58% | 77,303,568 | 49.81% |\\n| Various |  | Others | | 0 | 0 % | 2,878,359 | 1.85% |\\n| Last update: 12/31/2024 | | | | | | | | |\\n|  | | | | | | | | |\\n\\nLast update: 12/31/2024',\n",
       "    'score': 0.3204708},\n",
       "   {'title': 'Selected Images: Chronological List of Presidents, First Spouses ...',\n",
       "    'url': 'https://guides.loc.gov/presidents-portraits/chronological',\n",
       "    'content': '| 2009-2017 | Barack Obama | Michelle Obama | Joseph R. Biden |\\n| 2017-2021 | Donald J. Trump | Melania Trump | Mike Pence |\\n| 2021-2025 | Joseph R. Biden | Jill Biden | Kamala Harris |\\n| 2025- | Donald J. Trump | Melania Trump | JD Vance | [...] | 1901-1905 | Theodore Roosevelt | Edith Kermit Carow Roosevelt | office vacant |\\n| 1905-1909 | Theodore Roosevelt | Edith Kermit Carow Roosevelt | Charles W. Fairbanks |\\n| 1909-1912 | William H. Taft | Helen Herron Taft | James S. Sherman |\\n| 1912-1913 | William H. Taft | Helen Herron Taft | office vacant |\\n| 1913-1921 | Woodrow Wilson | Ellen Axson Wilson and  Edith Bolling Galt Wilson | Thomas R. Marshall |\\n| 1921-1923 | Warren G. Harding | Florence Kling Harding | Calvin Coolidge | [...] # Presidents of the United States: Selected Images\\n\\n## Prints & Photographs: Ask a Librarian\\n\\nHave a question? Need assistance? Use our online form to ask a librarian for help.\\n\\n# Chronological List of Presidents, First Spouses, and Vice Presidents of the United States',\n",
       "    'score': 0.28527287},\n",
       "   {'title': 'Presidential election results 2024 | CNN Politics',\n",
       "    'url': 'https://www.cnn.com/election/2024/results/president',\n",
       "    'content': 'Former first lady Melania Trump, former President Donald Trump and Barron Trump at the Palm Beach County Convention Center in West Palm Beach, Florida, on Wednesday, November 6.\\nThe sun rises behind the US Capitol building on October 26, in Washington, DC. \\nThe US Capitol building is seen in Washington, DC on November 11. [...] LANCASTER, PENNSYLVANIA - OCTOBER 20: Republican presidential nominee, former U.S. President Donald Trump, arrives on stage during a town hall campaign event at the Lancaster County Convention Center on October 20, 2024 in Lancaster, Pennsylvania. Trump is campaigning the entire day in the state of Pennsylvania. Trump and Democratic presidential nominee Vice President Kamala Harris continue to campaign in battleground swing states ahead of the November 5 election.  (Photo by Win McNamee/Getty [...] Donald Trump became America’s 47th president after mounting the most momentous comeback in political history that handed him massive, disruptive power at home and sent shockwaves around the world. Four years after leaving Washington as a pariah, following his attempt to overturn the 2020 election to stay in office, Trump’s victory defied two assassination attempts, two presidential impeachments, his criminal conviction, and many other criminal charges.\\n\\n## Key presidential races',\n",
       "    'score': 0.16027948},\n",
       "   {'title': 'The Presidents Timeline - White House Historical Association',\n",
       "    'url': 'https://www.whitehousehistory.org/the-presidents-timeline',\n",
       "    'content': 'Donald Trump\\nPresident Obama and National Security Team Monitor bin Laden Raid\\nState Dinner Honoring President Hu Jinato of China\\nTable Settings for Dinner Celebrating 40th Anniversary of NEH and NEA\\nPresident Johnson Delivers \"The American Promise\" Speech\\nDr. Biden On Stage with Jon Batiste at France State Dinner\\nPresident Biden Holds Joint Press Conference with President Macron\\nPresident Biden Speaks at State Arrival Ceremony\\nArrival Ceremony in Honor of Queen Elizabeth II [...] President Reagan Signs the Reparations Bill for Japanese-Americans\\nPresident Obama Meets with Japanese-American World War II Veterans\\n2024 North Portico Holiday Decorations, Biden Administration\\n2024 State Dining Room Holiday Decorations, Biden Administration\\n2024 East Colonnade Holiday Decorations, Biden Administration\\n2024 Green Room Holiday Decorations, Biden Administration\\n2024 East Entrance Holiday Decorations, Biden Administration [...] 2024 Cross Hall Holiday Decorations, Biden Administration',\n",
       "    'score': 0.1554502},\n",
       "   {'title': 'all 2024 presidential candidates - FEC',\n",
       "    'url': 'https://www.fec.gov/data/candidates/president/?election_year=2024&cycle=2024&election_full=true',\n",
       "    'content': \"Search across legal resources\\n\\nSearch guidance documents\\n\\nIntroduction to campaign finance and elections\\n\\nNewly filed summary data may not appear for up to 48 hours.\\n\\n# Browse Candidates for president\\n\\n| Name | Party | Receipts | Disbursements |  |\\n| --- | --- | --- | --- | --- |\\n\\n|  |\\n| --- |\\n|  |\\n\\nSeal of the Federal Election Commission | United States of America\\n\\nFederal Election Commission\\n\\nThis information is produced and disseminated at U.S. taxpayer expense.\\n\\n## Glossary [...] Javascript recommended: FEC.gov uses Javascript to provide the best possible user experience. Learn how to enable Javascript in your browser\\n\\n## Your web browser is not supported\\n\\nThis site uses features that are not supported by this browser. For a better experience, please switch to a modern browser.\\n\\nUS flag signifying that this is a United States Federal Government website\\n\\nAn official website of the United States government\\n\\nHere's how you know\\n\\nDot gov [...] Official websites use .gov\\n  \\nA .gov website belongs to an official government organization in the United States.\\n\\nSSL\\n\\nSecure .gov websites use HTTPS\\n  \\nA lock ( LockA locked padlock ) or  means you've safely connected to the .gov website. Share sensitive information only on official, secure websites.\\n\\n## Menu\\n\\nFind elections. Search by state or ZIP code\\n\\nLook up contributions from specific individuals\\n\\nLearn about electronic filing\\n\\nFind and contact your committee's analyst\",\n",
       "    'score': 0.07311853}]]}"
      ]
     },
     "execution_count": 66,
     "metadata": {},
     "output_type": "execute_result"
    }
   ],
   "source": [
    "app.invoke({\"messages\": [\"who is upcoming president of USA?\"]})"
   ]
  },
  {
   "cell_type": "code",
   "execution_count": 67,
   "id": "d1addde7",
   "metadata": {},
   "outputs": [
    {
     "name": "stdout",
     "output_type": "stream",
     "text": [
      "{'messages': [AIMessage(content='', additional_kwargs={'tool_calls': [{'id': 'call_X25smEnFJA1BvRlgK1fWba03', 'function': {'arguments': '{\"query\":\"upcoming president of USA 2024\"}', 'name': 'search'}, 'type': 'function'}], 'refusal': None}, response_metadata={'token_usage': {'completion_tokens': 20, 'prompt_tokens': 76, 'total_tokens': 96, 'completion_tokens_details': {'accepted_prediction_tokens': 0, 'audio_tokens': 0, 'reasoning_tokens': 0, 'rejected_prediction_tokens': 0}, 'prompt_tokens_details': {'audio_tokens': 0, 'cached_tokens': 0}}, 'model_name': 'gpt-4o-2024-08-06', 'system_fingerprint': 'fp_a288987b44', 'id': 'chatcmpl-BzhtjZPplWFgvRLqCxyNruSCCQNpg', 'service_tier': 'default', 'finish_reason': 'tool_calls', 'logprobs': None}, id='run--86a4bb4c-2707-44ba-bd13-a8e9a6592ac5-0', tool_calls=[{'name': 'search', 'args': {'query': 'upcoming president of USA 2024'}, 'id': 'call_X25smEnFJA1BvRlgK1fWba03', 'type': 'tool_call'}], usage_metadata={'input_tokens': 76, 'output_tokens': 20, 'total_tokens': 96, 'input_token_details': {'audio': 0, 'cache_read': 0}, 'output_token_details': {'audio': 0, 'reasoning': 0}})]}\n",
      "----\n",
      "****my state*****\n",
      "content='' additional_kwargs={'tool_calls': [{'id': 'call_X25smEnFJA1BvRlgK1fWba03', 'function': {'arguments': '{\"query\":\"upcoming president of USA 2024\"}', 'name': 'search'}, 'type': 'function'}], 'refusal': None} response_metadata={'token_usage': {'completion_tokens': 20, 'prompt_tokens': 76, 'total_tokens': 96, 'completion_tokens_details': {'accepted_prediction_tokens': 0, 'audio_tokens': 0, 'reasoning_tokens': 0, 'rejected_prediction_tokens': 0}, 'prompt_tokens_details': {'audio_tokens': 0, 'cached_tokens': 0}}, 'model_name': 'gpt-4o-2024-08-06', 'system_fingerprint': 'fp_a288987b44', 'id': 'chatcmpl-BzhtjZPplWFgvRLqCxyNruSCCQNpg', 'service_tier': 'default', 'finish_reason': 'tool_calls', 'logprobs': None} id='run--86a4bb4c-2707-44ba-bd13-a8e9a6592ac5-0' tool_calls=[{'name': 'search', 'args': {'query': 'upcoming president of USA 2024'}, 'id': 'call_X25smEnFJA1BvRlgK1fWba03', 'type': 'tool_call'}] usage_metadata={'input_tokens': 76, 'output_tokens': 20, 'total_tokens': 96, 'input_token_details': {'audio': 0, 'cache_read': 0}, 'output_token_details': {'audio': 0, 'reasoning': 0}}\n",
      "Selected tool: search\n",
      "**********tool detils****\n",
      "{'id': 'call_X25smEnFJA1BvRlgK1fWba03', 'function': {'arguments': '{\"query\":\"upcoming president of USA 2024\"}', 'name': 'search'}, 'type': 'function'}\n",
      "{'messages': [[{'title': 'Presidential election, 2028 - Ballotpedia', 'url': 'https://ballotpedia.org/Presidential_election,_2028', 'content': '|  |\\n| --- |\\n| 2024 Presidential Election Date: November 5, 2024  White House Logo.png   --- |\\n| Presidential candidates |\\n| Democratic Party Kamala Harris (D) Republican Party Donald Trump (R) (won) Green Party Jill Stein (G) Libertarian Party Chase Oliver (L)  --- | [...] |  |\\n| Dates and deadlines | Important dates in the 2024 presidential race • Deadline to run for president, 2024 • Filing deadlines for independent presidential candidates, 2024 • State laws and party rules on replacing a presidential nominee, 2024 |\\n|  |\\n| Noteworthy candidates | Kamala Harris (D) • Donald Trump (R) • Jill Stein (G) • Chase Oliver (L) |\\n|  |\\n| Noteworthy campaign staff | Kamala Harris (D) • Donald Trump (R) • Chase Oliver (L) |\\n|  | [...] 2024 presidential race • Deadline to run for president, 2024 • Filing deadlines for independent presidential candidates, 2024 • State laws and party rules on replacing a presidential nominee, 2024 | |  | | Noteworthy candidates | Kamala Harris (D) • Donald Trump (R) • Jill Stein (G) • Chase Oliver (L) | |  | | Noteworthy campaign staff | Kamala Harris (D) • Donald Trump (R) • Chase Oliver (L) | |  | | Democratic primary | Democratic presidential nomination, 2024 • Democratic National', 'score': 0.81595254}, {'title': '2024 | The American Presidency Project', 'url': 'https://www.presidency.ucsb.edu/statistics/elections/2024', 'content': '|  |  |  |  |  |  |  |  |  |\\n| --- | --- | --- | --- | --- | --- | --- | --- | --- |\\n| Party | | Nominees | | Electoral Vote | | Popular Vote | | |\\n| Presidential | Vice Presidential |\\n| Democratic |  | Kamala Harris | Tim Walz | 226 | 42% | 75,019,230 | 48.34% |\\n| Republican |  | Donald J. Trump | J.D. Vance | 312 | 58% | 77,303,568 | 49.81% |\\n| Various |  | Others | | 0 | 0 % | 2,878,359 | 1.85% |\\n| Last update: 12/31/2024 | | | | | | | | |\\n|  | | | | | | | | |\\n\\nLast update: 12/31/2024 [...] | |  |  |  |  |  |  |  |  |  | | --- | --- | --- | --- | --- | --- | --- | --- | --- | | Party | | Nominees | | Electoral Vote | | Popular Vote | | | | Presidential | Vice Presidential | | Democratic |  | Kamala Harris | Tim Walz | 226 | 42% | 75,019,230 | 48.34% | | Republican |  | Donald J. Trump | J.D. Vance | 312 | 58% | 77,303,568 | 49.81% | | Various |  | Others | | 0 | 0 % | 2,878,359 | 1.85% | | Last update: 12/31/2024 | | | | | | | | | |  | | | | | | | | | | | | | | | | | | | | [...] |  Click on a state\\'s name for access to source used for this data.  Click on a state\\'s electoral vote total to download Ascertainment of Vote Certificate.  The APP excludes \"over\" and \"under\" votes in the total votes cast, which also impacts the vote percentage for candidates. | | | | | | | | | | |\\n| Harris-Walz 2024  Trump-Vance 2024 | | Kamala Harris | | | Donald Trump | | |  | | |\\n| KAMALA HARRIS Democratic | | | DONALD J. TRUMP Republican | | | OTHERS Various | | |', 'score': 0.80698997}, {'title': 'Presidential election results 2024 | CNN Politics', 'url': 'https://www.cnn.com/election/2024/results/president', 'content': 'LANCASTER, PENNSYLVANIA - OCTOBER 20: Republican presidential nominee, former U.S. President Donald Trump, arrives on stage during a town hall campaign event at the Lancaster County Convention Center on October 20, 2024 in Lancaster, Pennsylvania. Trump is campaigning the entire day in the state of Pennsylvania. Trump and Democratic presidential nominee Vice President Kamala Harris continue to campaign in battleground swing states ahead of the November 5 election.  (Photo by Win McNamee/Getty [...] Supporters of Republican presidential nominee former President Donald Trump cheer as Pennsylvania votes are counted, during an election night watch party Tuesday, Nov. 5, 2024, in Las Vegas, Nev. (AP Photo/Ian Maule)\\nVice President Kamala Harris delivers a concession speech for the 2024 presidential election on the campus of Howard University in Washington, DC, on Wednesday, November 6. [...] Former first lady Melania Trump, former President Donald Trump and Barron Trump at the Palm Beach County Convention Center in West Palm Beach, Florida, on Wednesday, November 6.\\nThe sun rises behind the US Capitol building on October 26, in Washington, DC. \\nThe US Capitol building is seen in Washington, DC on November 11.', 'score': 0.7644879}, {'title': 'The Needle: Live 2024 Presidential Election Forecast', 'url': 'https://www.nytimes.com/interactive/2024/11/05/us/elections/results-president-forecast-needle.html', 'content': 'Advertisement\\n\\n# Live Presidential Forecast\\n\\n### Results by state\\n\\nLast updated Nov. 6, 2024\\n\\n# Live Presidential Forecast\\n\\n## Presidential Forecast\\n\\nOur election model estimates the outcome of the race in real time based on polling data, the votes reported so far and what we expect from remaining votes. Read how it works ›\\n\\n### Chance of winning\\n\\nTrump\\n\\n### Electoral college estimate\\n\\nTrump 312\\n\\n286 to 312\\n\\nHarris 226\\n\\n226 to 252\\n\\n226\\n\\nHarris\\n\\n312\\n\\nTrump\\n\\n### Popular vote estimate\\n\\nTrump +1.5 [...] | Race | Percent of votes in Votes in | NYT win probability NYT win prob. | NYT estimate of final vote NYT est. of final vote |\\n| --- | --- | --- | --- |\\n| Maine | 100% | Harris | D +6.3 |\\n| N.M. | 100% | Harris | D +5.9 |\\n| N.J. | 100% | Harris | D +5.4 |\\n| Va. | 100% | Harris | D +5.2 |\\n| Minn. | 100% | Harris | D +4.3 |\\n| Neb. 2 | 100% | Harris | D +3.8 |\\n| N.H. | 100% | Harris | D +2.9 |\\n| Wis. | 100% | Trump | R +1.1 |\\n| Mich. | 100% | Trump | R +1.5 |\\n| Pa. | 100% | Trump | R +2.1 | [...] | Ga. | 100% | Trump | R +2.3 |\\n| N.C. | 100% | Trump | R +3.4 |\\n| Ariz. | 100% | Trump | R +4.3 |\\n| Nev. | 100% | Trump | R +4.6 |\\n|  |  |  |  |  |  |\\n| --- | --- | --- | --- | --- | --- |\\n| + Show all states | | | | | |', 'score': 0.67347145}, {'title': 'FINAL Silver Bulletin 2024 presidential election forecast', 'url': 'https://www.natesilver.net/p/nate-silver-2024-president-election-polls-model', 'content': \"🕒 Last and final update: 12:30 a.m., Tuesday, November 5. Happy Election Day! At exactly midnight on Tuesday, we ran our simulation model for the final time in this election cycle. Out of 80,000 simulations, Kamala Harris won in 40,012 (50.015%) cases. She did not win in 39,988 simulations (49.985%). Of those, 39,718 were outright wins for Donald Trump and the remainder (270 simulations) were exact 269-269 Electoral College ties: these ties are likely to eventually result in Trump wins in the [...] The model is the direct descendant of the f/k/a FiveThirtyEight election forecast2 and the methodology is largely the same, other than removing COVID-19 provisions introduced for 2020. Other changes from 2020 are documented here. And an archive of the Biden-Trump forecast can be found here.\\n\\n# The polls: who’s ahead right now? [...] Silver Bulletin\\n\\n# Silver Bulletin\\n\\nSilver Bulletin\\n\\n#### Share this post\\n\\nSilver Bulletin\\n\\n# FINAL Silver Bulletin 2024 presidential election forecast\\n\\n### All the numbers for Trump vs. Harris.\\n\\nNate Silver's avatar\\nEli McKown-Dawson's avatar\\n\\n#### Share this post\\n\\nSilver Bulletin\", 'score': 0.61140573}]]}\n",
      "----\n"
     ]
    }
   ],
   "source": [
    "for s in app.stream({\"messages\": [\"who is upcoming president of USA?\"]}):\n",
    "    print(list(s.values())[0])\n",
    "    print(\"----\")"
   ]
  },
  {
   "cell_type": "code",
   "execution_count": 68,
   "id": "4679352d",
   "metadata": {},
   "outputs": [
    {
     "name": "stdout",
     "output_type": "stream",
     "text": [
      "****my state*****\n",
      "content='' additional_kwargs={'tool_calls': [{'id': 'call_akd20opvKUscX6mL9UNOPrkL', 'function': {'arguments': '{\"first_number\":23,\"second_number\":46}', 'name': 'multiply'}, 'type': 'function'}], 'refusal': None} response_metadata={'token_usage': {'completion_tokens': 19, 'prompt_tokens': 79, 'total_tokens': 98, 'completion_tokens_details': {'accepted_prediction_tokens': 0, 'audio_tokens': 0, 'reasoning_tokens': 0, 'rejected_prediction_tokens': 0}, 'prompt_tokens_details': {'audio_tokens': 0, 'cached_tokens': 0}}, 'model_name': 'gpt-4o-2024-08-06', 'system_fingerprint': 'fp_a288987b44', 'id': 'chatcmpl-Bzhufh82PqI7kWt4djR019V5O4OTy', 'service_tier': 'default', 'finish_reason': 'tool_calls', 'logprobs': None} id='run--ec243643-034f-4f26-9489-b6dc206c02d8-0' tool_calls=[{'name': 'multiply', 'args': {'first_number': 23, 'second_number': 46}, 'id': 'call_akd20opvKUscX6mL9UNOPrkL', 'type': 'tool_call'}] usage_metadata={'input_tokens': 79, 'output_tokens': 19, 'total_tokens': 98, 'input_token_details': {'audio': 0, 'cache_read': 0}, 'output_token_details': {'audio': 0, 'reasoning': 0}}\n",
      "Selected tool: multiply\n"
     ]
    },
    {
     "data": {
      "text/plain": [
       "{'messages': ['what is multiplication of 23 and 46?',\n",
       "  AIMessage(content='', additional_kwargs={'tool_calls': [{'id': 'call_akd20opvKUscX6mL9UNOPrkL', 'function': {'arguments': '{\"first_number\":23,\"second_number\":46}', 'name': 'multiply'}, 'type': 'function'}], 'refusal': None}, response_metadata={'token_usage': {'completion_tokens': 19, 'prompt_tokens': 79, 'total_tokens': 98, 'completion_tokens_details': {'accepted_prediction_tokens': 0, 'audio_tokens': 0, 'reasoning_tokens': 0, 'rejected_prediction_tokens': 0}, 'prompt_tokens_details': {'audio_tokens': 0, 'cached_tokens': 0}}, 'model_name': 'gpt-4o-2024-08-06', 'system_fingerprint': 'fp_a288987b44', 'id': 'chatcmpl-Bzhufh82PqI7kWt4djR019V5O4OTy', 'service_tier': 'default', 'finish_reason': 'tool_calls', 'logprobs': None}, id='run--ec243643-034f-4f26-9489-b6dc206c02d8-0', tool_calls=[{'name': 'multiply', 'args': {'first_number': 23, 'second_number': 46}, 'id': 'call_akd20opvKUscX6mL9UNOPrkL', 'type': 'tool_call'}], usage_metadata={'input_tokens': 79, 'output_tokens': 19, 'total_tokens': 98, 'input_token_details': {'audio': 0, 'cache_read': 0}, 'output_token_details': {'audio': 0, 'reasoning': 0}}),\n",
       "  1058]}"
      ]
     },
     "execution_count": 68,
     "metadata": {},
     "output_type": "execute_result"
    }
   ],
   "source": [
    "app.invoke({\"messages\": [\"what is multiplication of 23 and 46?\"]})"
   ]
  },
  {
   "cell_type": "code",
   "execution_count": 70,
   "id": "c4567be5",
   "metadata": {},
   "outputs": [
    {
     "name": "stdout",
     "output_type": "stream",
     "text": [
      "****my state*****\n",
      "content='' additional_kwargs={'tool_calls': [{'id': 'call_1L27TLzpDwzZRpeYFxMxG6JG', 'function': {'arguments': '{\"query\":\"today\\'s cricket match score\"}', 'name': 'search'}, 'type': 'function'}], 'refusal': None} response_metadata={'token_usage': {'completion_tokens': 17, 'prompt_tokens': 76, 'total_tokens': 93, 'completion_tokens_details': {'accepted_prediction_tokens': 0, 'audio_tokens': 0, 'reasoning_tokens': 0, 'rejected_prediction_tokens': 0}, 'prompt_tokens_details': {'audio_tokens': 0, 'cached_tokens': 0}}, 'model_name': 'gpt-4o-2024-08-06', 'system_fingerprint': 'fp_a288987b44', 'id': 'chatcmpl-BzhvnTlT79MEC7rhPuUmejFKrmdLB', 'service_tier': 'default', 'finish_reason': 'tool_calls', 'logprobs': None} id='run--cfcab8b5-ba56-4d3d-a1ee-a715b5025ab4-0' tool_calls=[{'name': 'search', 'args': {'query': \"today's cricket match score\"}, 'id': 'call_1L27TLzpDwzZRpeYFxMxG6JG', 'type': 'tool_call'}] usage_metadata={'input_tokens': 76, 'output_tokens': 17, 'total_tokens': 93, 'input_token_details': {'audio': 0, 'cache_read': 0}, 'output_token_details': {'audio': 0, 'reasoning': 0}}\n",
      "Selected tool: search\n",
      "**********tool detils****\n",
      "{'id': 'call_1L27TLzpDwzZRpeYFxMxG6JG', 'function': {'arguments': '{\"query\":\"today\\'s cricket match score\"}', 'name': 'search'}, 'type': 'function'}\n"
     ]
    },
    {
     "data": {
      "text/plain": [
       "{'messages': [\"what is today's cricket match score?\",\n",
       "  AIMessage(content='', additional_kwargs={'tool_calls': [{'id': 'call_1L27TLzpDwzZRpeYFxMxG6JG', 'function': {'arguments': '{\"query\":\"today\\'s cricket match score\"}', 'name': 'search'}, 'type': 'function'}], 'refusal': None}, response_metadata={'token_usage': {'completion_tokens': 17, 'prompt_tokens': 76, 'total_tokens': 93, 'completion_tokens_details': {'accepted_prediction_tokens': 0, 'audio_tokens': 0, 'reasoning_tokens': 0, 'rejected_prediction_tokens': 0}, 'prompt_tokens_details': {'audio_tokens': 0, 'cached_tokens': 0}}, 'model_name': 'gpt-4o-2024-08-06', 'system_fingerprint': 'fp_a288987b44', 'id': 'chatcmpl-BzhvnTlT79MEC7rhPuUmejFKrmdLB', 'service_tier': 'default', 'finish_reason': 'tool_calls', 'logprobs': None}, id='run--cfcab8b5-ba56-4d3d-a1ee-a715b5025ab4-0', tool_calls=[{'name': 'search', 'args': {'query': \"today's cricket match score\"}, 'id': 'call_1L27TLzpDwzZRpeYFxMxG6JG', 'type': 'tool_call'}], usage_metadata={'input_tokens': 76, 'output_tokens': 17, 'total_tokens': 93, 'input_token_details': {'audio': 0, 'cache_read': 0}, 'output_token_details': {'audio': 0, 'reasoning': 0}}),\n",
       "  [{'title': 'IND vs ENG Live Score, 5th Test Match Day 2 - Times of India',\n",
       "    'url': 'https://timesofindia.indiatimes.com/sports/cricket/ind-vs-eng-live-score-today-cricket-match-india-vs-england-5th-test-match-day-2-scorecard-london-oval-rain-weather-update/liveblog/123038532.cms',\n",
       "    'content': '## TOI\\n\\n# IND vs ENG Live Score, 5th Test Match Day 2: England off to a flying start after bundling India out for 224\\n\\nIndia vs England Live Score: NOT OUT! [...] IND vs ENG Live Score, 5th Test Match Day 2: Hours of play today\\n\\nMorning session: 1100 - 1300 (3:30 pm - 5:30 pm IST)  \\n  \\nLunch: 1300 - 1340 (5:30 pm - 6:10 pm IST)  \\n  \\nAfternoon session: 1340 - 1555 (6:10 pm - 8:25 pm IST)  \\n  \\nTea: 1555 - 1615 (8:25 pm - 8:45 pm IST)  \\n  \\nEvening session: 1615 - 1830 (8:45 pm - 11 pm IST)  \\n  \\n\\\\ Plus 30 mins extra to complete the 98 overs\\n\\nIND vs ENG Live Score: Update on Chris Woakes\\n\\nIndia vs England Live Score: Pitch Report for Day 2 [...] Tidy start from Akash Deep — just a single from his opening over. A neat contrast to the first over of the innings, where Mohammed Siraj conceded 8 runs, including a boundary from Zak Crawley.  \\n  \\nEngland 9/0 in 2 overs, trailing by 215 after bowling India out for 224\\n\\nIND vs ENG Live Score, 5th Test Match Day 2: Welcome Back!\\n\\nEngland openers Ben Duckett and Zak Crawley are in the middle to start their innings.  \\n  \\nMohammed Siraj with the new ball for India.',\n",
       "    'score': 0.459586},\n",
       "   {'title': 'India vs England Live Score, 5th Test Day 2 - The Indian Express',\n",
       "    'url': 'https://indianexpress.com/article/sports/cricket/live-cricket-score-ind-vs-eng-5th-test-2025-india-vs-england-national-cricket-team-match-scorecard-kennington-oval-live-updates-10161022/',\n",
       "    'content': \"Just 64 overs were possible today, largely because of an uninterrupted and extended third session. England would be happier of the two sides and well, if this wicket flattens out tomorrow, Karun and Sundar better make good use of it or else India will face quite a task to get in front.\\n\\nThat's it for today! Goodnight and goodbye!\\n\\n## India vs England 5th Test Updates: FIFTY FOR KARUN NAIR! [...] There's your lot for the second session. Neither side would be too happy with how things have gone so far but England would definitely like the fact that they won't be seeing Shubman Gill in his batting gear whenever play resumes. An incredible moment of madnesss from the Indian captain provides the only significant moment from yet another session hampered by rain today. The third session, for now, is scheduled to start at 9pm. India 85/3 in 29 overs [...] Hello and welcome to our live blog for Day 2 of India taking on England. We have had rain play its part on Day 1, but we did have quite a bit of action. Today we will have an extension of 30 minutes, and it is going to be a fascinating day of Test cricket. Do stay with us.\\n\\n## India vs England 5th Test Updates: Stumps! India 204/6 in 64 overs\",\n",
       "    'score': 0.43698296},\n",
       "   {'title': \"IND vs ENG 5th Test Live Score Day 2: Gus Atkinson wraps India's ...\",\n",
       "    'url': 'https://www.hindustantimes.com/cricket/india-vs-england-5th-test-live-score-day-2-ind-vs-eng-live-scorecard-today-1-august-2025-london-oval-101754029829402.html',\n",
       "    'content': \"## India vs England 5th Test Live Score Day 2: India 224 all out in 69.4 overs!\\n\\nIndia vs England 5th Test Live Score Day 2: Gus Atkinson completes a fifer with the wicket of Prasidh Krishna as India are bundled out for 224. It is definitely a below-par score, and the Indian pacers have to do something special to pull the visitors back in the game. The early wickets of Karun Nair and Washington Sundar pushed India on the back foot. India 224 all out [...] Hindustan Times Cricket\\nHT Home\\n\\nSubscribe Now! Get features like\\n\\nAd lite experience\\nAd lite experience\\nPremium articles\\nPremium articles\\nQuick read\\nQuick read\\nE-paper\\nE-paper\\nSubscription features\\nSubscription features\\ncrown\\nFacebook\\nTwitter\\nWhatsApp\\nLinkedIn\\nCricket in L1\\nLive Score in L1\\nShorts in L1\\nICC Ranking in L1\\nCricket Teams in L1\\nCricket Players in L1\\n\\n# IND vs ENG 5th Test Live Score Day 2: Crawley counter-attacks Siraj; Akash Deep engages in battle with Duckett [...] India vs England 5th Test Live Score Day 2: Zak Crawley just smoked the last delivery for a boundary. It was wide enough for Crawley to smash it on the cover for the first four of the innings. India can't afford to leak boundaries here. ENG 8/0 in 1 over\\n\\n## India vs England 5th Test Live Score Day 2: Siraj with the new ball!\\n\\nIndia vs England 5th Test Live Score Day 2: Zak Crawley and Ben Duckett are in the middle to open the innings for England. Mohammed Siraj has the ball in hand.\",\n",
       "    'score': 0.33261433},\n",
       "   {'title': \"England v India: fifth men's cricket Test, day two – live - The Guardian\",\n",
       "    'url': 'https://www.theguardian.com/sport/live/2025/aug/01/england-v-india-fifth-cricket-test-day-two-live-score-updates',\n",
       "    'content': 'Quick one on Graham Thorpe - I started watching cricket at the end of the 90s, and he always stood out as a rock of determination, thoughtfulness as well as quality. A great man gone much too soon.”\\n\\nI guess I don’t want more complexity in the game; I’m fine with the status quo, and enjoy the randomness of unpredictable misfortune, then watching the teams deal with it.\\n\\n## WICKET! Krishna c Smith b Atkinson 0 (India 224 all out) [...] 68th over: India 220-7 (Sundar 26, Deep 0) Washington knows he needs to score so, sent a short one, he leaps looking to let ball hit cross-bat and will be relieved to see it land safe as he runs two.\\n\\n67th over: India 218-7 (Sundar 24, Deep 0) This is Mitchell Johnson bowling from Tongue, spraying it all over before finding something unplayable.\\n\\n## REVIEW! OUT! [...] Tongue, though, can’t sustain pressure, swinging one in but from too close to straight; Washington flicks it around the corner for four, and that’s nine off the over, today just a continuation of yesterday – so far.',\n",
       "    'score': 0.29709303},\n",
       "   {'title': 'India tour of England 2025 | Live Cricket Score - Cricbuzz.com',\n",
       "    'url': 'https://www.cricbuzz.com/cricket-match/live-scores',\n",
       "    'content': 'Cricbuzz Logo\\n\\n#### Test Teams\\n\\n#### Associate\\n\\n# Live Cricket Score\\n\\n## INDIA TOUR OF ENGLAND, 2025\\n\\n### India vs England,\\n\\n## NEW ZEALAND TOUR OF ZIMBABWE, 2025\\n\\n### Zimbabwe vs New Zealand,\\n\\n## COUNTY CHAMPIONSHIP DIVISION ONE 2025\\n\\n### Sussex vs Yorkshire,\\n\\n### Hampshire vs Worcestershire,\\n\\n### Essex vs Warwickshire,\\n\\n### Somerset vs Nottinghamshire,\\n\\n## COUNTY CHAMPIONSHIP DIVISION TWO 2025\\n\\n### Derbyshire vs Northamptonshire,\\n\\n### Leicestershire vs Kent,\\n\\n### Middlesex vs Gloucestershire, [...] #### Crawley looked uncomplicated, should remain consistent: Vaughan\\n\\n#### LATEST NEWS\\n\\nThakur will lead the 15-member squad.\\nChris Woakes hurt his left shoulder after landing awkwardly on a dive he put in on Day 1 at the Oval\\nThis will be the sixth edition of LPL \\nAfghanistan and Pakistan will kick-off the series on August 29\\nJasprit Bumrah was rested for the Oval Test\\nCricbuzz Logo',\n",
       "    'score': 0.18746005}]]}"
      ]
     },
     "execution_count": 70,
     "metadata": {},
     "output_type": "execute_result"
    }
   ],
   "source": [
    "app.invoke({\"messages\": [\"what is today's cricket match score?\"]})"
   ]
  },
  {
   "cell_type": "markdown",
   "id": "bd7e73b0",
   "metadata": {},
   "source": [
    "## Langgraph Human In Loop Concept:"
   ]
  },
  {
   "cell_type": "code",
   "execution_count": 86,
   "id": "3294232a",
   "metadata": {},
   "outputs": [],
   "source": [
    "\n",
    "tavily=TavilySearchResults()\n",
    "     "
   ]
  },
  {
   "cell_type": "markdown",
   "id": "343f6425",
   "metadata": {},
   "source": [
    "#### Single Tool:"
   ]
  },
  {
   "cell_type": "code",
   "execution_count": 106,
   "id": "74d6f4bf",
   "metadata": {},
   "outputs": [],
   "source": [
    "\n",
    "tools = [tavily]"
   ]
  },
  {
   "cell_type": "code",
   "execution_count": 107,
   "id": "68b0ceba",
   "metadata": {},
   "outputs": [],
   "source": [
    "llm_with_tools = openai_model.bind_tools(tools)"
   ]
  },
  {
   "cell_type": "code",
   "execution_count": 108,
   "id": "ffb59517",
   "metadata": {},
   "outputs": [],
   "source": [
    "def ai_assistant(state: AgentState):\n",
    "    return {\"messages\": [llm_with_tools.invoke(state[\"messages\"])]}"
   ]
  },
  {
   "cell_type": "markdown",
   "id": "254b4c29",
   "metadata": {},
   "source": [
    "#### MEMORY SAVER:"
   ]
  },
  {
   "cell_type": "code",
   "execution_count": 109,
   "id": "dedeb6ab",
   "metadata": {},
   "outputs": [],
   "source": [
    "memory = MemorySaver()"
   ]
  },
  {
   "cell_type": "code",
   "execution_count": 110,
   "id": "0a5f6b0e",
   "metadata": {},
   "outputs": [
    {
     "data": {
      "text/plain": [
       "<langgraph.graph.state.StateGraph at 0x12882dc7f00>"
      ]
     },
     "execution_count": 110,
     "metadata": {},
     "output_type": "execute_result"
    }
   ],
   "source": [
    "graph_builder = StateGraph(AgentState)\n",
    "graph_builder.add_node(\"ai_assistant\", ai_assistant)\n",
    "\n",
    "tool_node = ToolNode(tools=tools)\n",
    "graph_builder.add_node(\"tools\", tool_node)"
   ]
  },
  {
   "cell_type": "code",
   "execution_count": 111,
   "id": "443026c0",
   "metadata": {},
   "outputs": [
    {
     "data": {
      "text/plain": [
       "<langgraph.graph.state.StateGraph at 0x12882dc7f00>"
      ]
     },
     "execution_count": 111,
     "metadata": {},
     "output_type": "execute_result"
    }
   ],
   "source": [
    "graph_builder.add_edge(START, \"ai_assistant\")\n",
    "\n",
    "graph_builder.add_conditional_edges(\n",
    "    \"ai_assistant\",\n",
    "    tools_condition,\n",
    ")\n",
    "graph_builder.add_edge(\"tools\", \"ai_assistant\")"
   ]
  },
  {
   "cell_type": "code",
   "execution_count": 112,
   "id": "405dc3b0",
   "metadata": {},
   "outputs": [],
   "source": [
    "app2=graph_builder.compile(\n",
    "    checkpointer=memory,\n",
    "    interrupt_before=[\"tools\"]\n",
    ")"
   ]
  },
  {
   "cell_type": "code",
   "execution_count": 113,
   "id": "2082b686",
   "metadata": {},
   "outputs": [
    {
     "data": {
      "image/png": "[encoded data removed]",
      "text/plain": [
       "<IPython.core.display.Image object>"
      ]
     },
     "metadata": {},
     "output_type": "display_data"
    }
   ],
   "source": [
    "from IPython.display import Image, display\n",
    "display(Image(app2.get_graph().draw_mermaid_png()))"
   ]
  },
  {
   "cell_type": "code",
   "execution_count": 80,
   "id": "deccc725",
   "metadata": {},
   "outputs": [],
   "source": [
    "user_input = \"what is the current capital of india?\"\n",
    "config = {\"configurable\": {\"thread_id\": \"1\"}}"
   ]
  },
  {
   "cell_type": "code",
   "execution_count": 95,
   "id": "44b4eea5",
   "metadata": {},
   "outputs": [],
   "source": [
    "user_input = \"what is today value of apple stock?\"\n",
    "config = {\"configurable\": {\"thread_id\": \"1\"}}"
   ]
  },
  {
   "cell_type": "code",
   "execution_count": 114,
   "id": "02f25c22",
   "metadata": {},
   "outputs": [],
   "source": [
    "user_input = \"famous places of the bangalore and must visit restaurants?\"\n",
    "config = {\"configurable\": {\"thread_id\": \"1\"}}"
   ]
  },
  {
   "cell_type": "code",
   "execution_count": 115,
   "id": "00f815a2",
   "metadata": {},
   "outputs": [],
   "source": [
    "events = app2.stream(\n",
    "    {\"messages\": [(\"user\", user_input)]}, config, stream_mode=\"values\"\n",
    ")"
   ]
  },
  {
   "cell_type": "code",
   "execution_count": 116,
   "id": "1a9940c2",
   "metadata": {},
   "outputs": [
    {
     "name": "stdout",
     "output_type": "stream",
     "text": [
      "{'messages': [('user', 'famous places of the bangalore and must visit restaurants?')]}\n",
      "{'messages': [('user', 'famous places of the bangalore and must visit restaurants?'), AIMessage(content='', additional_kwargs={'tool_calls': [{'id': 'call_LKwaaj05CufAYNRjx74E8TxV', 'function': {'arguments': '{\"query\": \"famous places to visit in Bangalore\"}', 'name': 'tavily_search_results_json'}, 'type': 'function'}, {'id': 'call_odHppkx11gaGQwooaF8VfyOw', 'function': {'arguments': '{\"query\": \"must visit restaurants in Bangalore\"}', 'name': 'tavily_search_results_json'}, 'type': 'function'}], 'refusal': None}, response_metadata={'token_usage': {'completion_tokens': 62, 'prompt_tokens': 91, 'total_tokens': 153, 'completion_tokens_details': {'accepted_prediction_tokens': 0, 'audio_tokens': 0, 'reasoning_tokens': 0, 'rejected_prediction_tokens': 0}, 'prompt_tokens_details': {'audio_tokens': 0, 'cached_tokens': 0}}, 'model_name': 'gpt-4o-2024-08-06', 'system_fingerprint': 'fp_a288987b44', 'id': 'chatcmpl-BziR5hqhkogo8uVUkYbjDwSy0BoDc', 'service_tier': 'default', 'finish_reason': 'tool_calls', 'logprobs': None}, id='run--28988e0d-f048-4626-9f8a-6afe7dee3c94-0', tool_calls=[{'name': 'tavily_search_results_json', 'args': {'query': 'famous places to visit in Bangalore'}, 'id': 'call_LKwaaj05CufAYNRjx74E8TxV', 'type': 'tool_call'}, {'name': 'tavily_search_results_json', 'args': {'query': 'must visit restaurants in Bangalore'}, 'id': 'call_odHppkx11gaGQwooaF8VfyOw', 'type': 'tool_call'}], usage_metadata={'input_tokens': 91, 'output_tokens': 62, 'total_tokens': 153, 'input_token_details': {'audio': 0, 'cache_read': 0}, 'output_token_details': {'audio': 0, 'reasoning': 0}})]}\n"
     ]
    }
   ],
   "source": [
    "for event in events:\n",
    "    print(event)"
   ]
  },
  {
   "cell_type": "code",
   "execution_count": 117,
   "id": "07fbb446",
   "metadata": {},
   "outputs": [],
   "source": [
    "snapshot=app2.get_state(config)"
   ]
  },
  {
   "cell_type": "code",
   "execution_count": 118,
   "id": "0729842a",
   "metadata": {},
   "outputs": [
    {
     "data": {
      "text/plain": [
       "('tools',)"
      ]
     },
     "execution_count": 118,
     "metadata": {},
     "output_type": "execute_result"
    }
   ],
   "source": [
    "snapshot.next"
   ]
  },
  {
   "cell_type": "code",
   "execution_count": 119,
   "id": "37659523",
   "metadata": {},
   "outputs": [],
   "source": [
    "\n",
    "last_message=snapshot.values[\"messages\"][-1]"
   ]
  },
  {
   "cell_type": "code",
   "execution_count": 120,
   "id": "eeb1df61",
   "metadata": {},
   "outputs": [
    {
     "data": {
      "text/plain": [
       "[{'name': 'tavily_search_results_json',\n",
       "  'args': {'query': 'famous places to visit in Bangalore'},\n",
       "  'id': 'call_LKwaaj05CufAYNRjx74E8TxV',\n",
       "  'type': 'tool_call'},\n",
       " {'name': 'tavily_search_results_json',\n",
       "  'args': {'query': 'must visit restaurants in Bangalore'},\n",
       "  'id': 'call_odHppkx11gaGQwooaF8VfyOw',\n",
       "  'type': 'tool_call'}]"
      ]
     },
     "execution_count": 120,
     "metadata": {},
     "output_type": "execute_result"
    }
   ],
   "source": [
    "\n",
    "last_message.tool_calls"
   ]
  },
  {
   "cell_type": "code",
   "execution_count": 121,
   "id": "6d61f9e1",
   "metadata": {},
   "outputs": [],
   "source": [
    "events = app2.stream(None, config, stream_mode=\"values\")"
   ]
  },
  {
   "cell_type": "code",
   "execution_count": 122,
   "id": "69b6793f",
   "metadata": {},
   "outputs": [
    {
     "name": "stdout",
     "output_type": "stream",
     "text": [
      "==================================\u001b[1m Ai Message \u001b[0m==================================\n",
      "Tool Calls:\n",
      "  tavily_search_results_json (call_LKwaaj05CufAYNRjx74E8TxV)\n",
      " Call ID: call_LKwaaj05CufAYNRjx74E8TxV\n",
      "  Args:\n",
      "    query: famous places to visit in Bangalore\n",
      "  tavily_search_results_json (call_odHppkx11gaGQwooaF8VfyOw)\n",
      " Call ID: call_odHppkx11gaGQwooaF8VfyOw\n",
      "  Args:\n",
      "    query: must visit restaurants in Bangalore\n",
      "=================================\u001b[1m Tool Message \u001b[0m=================================\n",
      "Name: tavily_search_results_json\n",
      "\n",
      "[{\"title\": \"The 11 best restaurants in Bengaluru to know about\", \"url\": \"https://www.cntraveller.in/story/the-11-best-restaurants-in-bengaluru-to-know-about-top-restaurant-awards/\", \"content\": \"There’s no denying that Bengaluru is a salad bowl of all things food and brews, and a look at Condé Nast Traveller’s Top Restaurant Awards 2023 just confirms that. With 11 restaurants in the top 50, the city represented a wild mix of cuisines, cooking techniques, and innovations in fine dining. Alongside familiar names such as Falak and Burma Burma Restaurant & Tearoom, along with a bunch of newer and smaller haunts to take note of, from a ramen bar that took birth in the heat of the pandemic [...] Boteco, led by Brazilian-origin chef Guto Souza, specialises in South American and Brazilian cuisine. Grapefruit sours, Rositos and Twisted Negronis can be paired with prawn croquettes, beef carpaccio and Brazilian cheese bread. The restaurant also has its own ‘Churrasqueira’ or charcoal grill section for sizzling, smokey meat and vegetable barbecues. Look out for chef Guto’s exclusive chef’s tables, which he hosts every few months, with a six-course degustation dinner with wine pairings. [...] From the team behind Olive Bar & Kitchen, Toast & Tonic is all about innovation and sustainability, taking inspiration from local ingredients and American cuisine. Dishes here are led by curiosity but remain comforting and indulgent, like their signature flatbreads, lamb turnovers, ragi chips with edamame hummus and juicy burgers with fries. Head chef Chirag Makwana specialises in Italian, French-Canadian and North American cuisines brings more than 13 years of culinary experience to the table.\", \"score\": 0.7485182}, {\"title\": \"10 Must Eat Foods for Bangalore Visitors and Foodies - Evoma Hotel\", \"url\": \"https://www.evomahotels.com/blog/10-must-eat-foods-for-bangalore-visitors-and-foodies.html\", \"content\": \"You can visit Halli Mane for your great tasting Bisi bele bath. [...] Veena Stores: Margosa Road, Malleswaram (at the Sankey Tank end of the road).  \\n Brahminâs Coffee Bar: Near Shankar Mutt, Basavanagudi. [...] The best place to try out Benne Masala is at Central Tiffin Room (CTR), Margosa Road at its K.G. General Hospital end. This place has been dishing out this variety of dosas for more than six decades.  \\n Â\", \"score\": 0.7476348}, {\"title\": \"Street Food In Bangalore: 20 Delicacies You Can't Miss In 2025\", \"url\": \"https://traveltriangle.com/blog/street-food-in-bangalore/\", \"content\": \"Some of the popular restaurants in Bangalore are Karavalli, JW Kitchen, The Only Place, and Smally's Resto Cafe. If you are planning a trip to some of these restaurants, make sure you call or book in advance as they are often fairly crowded.\\n\\n## What is the best time to visit Bangalore?\\n\\nThe best time to visit Bangalore is from March to May and from October to February as the temperatures are favourable during this time.\\n\\n## Is Bangalore worth visiting? [...] The best way to satisfy your evening cravings in Bangalore is to go out and munch on these golden Sabudana Vadas. They are light, crispy, and are often served with an assortment of dips which makes the experience a special one. The classic way to try them is in central Bangalore where you can find them in street food shacks or in southern restaurants.\\n\\nWhere to try: Purnabramha Maharashtrian Restaurant, Rajvardhan Foods  \\nMust Try:Sabudana Vada with green chutney  \\nPrice: INR 20-200 [...] This one dish is evergreen and gets a new flavor everywhere. Try Pav Bhaji in Bangalore for the soul-satisfying taste of it. One of the famous foods in Bangalore, Pav Bhaji is a delicacy made from soft bread and served with thick vegetable curry.  It is delicious and you must not miss it out on your trip to Bangalore.\\n\\nWhere to try:Village- The Soul Of India, Sukh Sagar, Sikori, and Chaat Street  \\nMust Try: Dahi puri, Cheese Pav Bhaji  \\nPrice: INR 20-200\\n\\n### 13. Shawarma\\n\\nShawarma\\nShawarma\", \"score\": 0.7366474}, {\"title\": \"THE 10 BEST Restaurants in Bengaluru (Updated August 2025)\", \"url\": \"https://www.tripadvisor.com/Restaurants-g297628-Bengaluru_Bangalore_District_Karnataka.html\", \"content\": \"Restaurants in Bengaluru · 1. Karavalli @ Taj. 4.8. (2,559 reviews) · 2. WBG - Whitefield Bar and Grill. 4.9. (224 reviews) · 3. Byg Brewski Brewing Company. 4.9.\", \"score\": 0.73459625}, {\"title\": \"Best restaurant in Bangalore - Reddit\", \"url\": \"https://www.reddit.com/r/bangalore/comments/14mznia/best_restaurant_in_bangalore/\", \"content\": \"Kebabs and Curries and Rim Naam for luxe dining. Burma Burma for fancy vegan. Chianti and Toscano for Italian. Bangalore's speciality is the brewpub.\", \"score\": 0.62523276}]\n",
      "==================================\u001b[1m Ai Message \u001b[0m==================================\n",
      "\n",
      "**Famous Places to Visit in Bangalore:**\n",
      "\n",
      "1. **Bangalore Palace**: A historic palace showcasing Tudor-style architecture and offering a glimpse into royal heritage.\n",
      "2. **Cubbon Park**: A massive green park in the heart of the city perfect for walks and picnics.\n",
      "3. **Lalbagh Botanical Garden**: Known for its glasshouse and beautiful flora.\n",
      "4. **Vidhana Soudha**: The iconic government building known for its grand architecture.\n",
      "5. **ISKCON Temple**: A spiritual center famous for its architectural beauty.\n",
      "6. **Bannerghatta National Park**: Ideal for wildlife enthusiasts looking to see a variety of animals including tigers and lions.\n",
      "7. **Tipu Sultan’s Summer Palace**: A beautiful Indo-Islamic architecture structure, offering rich historical insights.\n",
      "8. **Bull Temple**: Famous for its monolithic statue of Nandi and historical significance.\n",
      "\n",
      "You can explore more about these places at [Capture a Trip](https://www.captureatrip.com/blog/places-to-visit-in-bangalore) or [Holidify](https://www.holidify.com/places/bangalore/sightseeing-and-things-to-do.html).\n",
      "\n",
      "**Must Visit Restaurants in Bangalore:**\n",
      "\n",
      "1. **Karavalli**: Famous for serving traditional coastal and Malabar cuisine.\n",
      "2. **Byg Brewski Brewing Company**: Known for its brewpub atmosphere.\n",
      "3. **The Only Place**: Offers colonial-era steaks and continental dishes.\n",
      "4. **Boteco**: Specializes in South American and Brazilian cuisine, featuring unique churrasco grills.\n",
      "5. **Burma Burma Restaurant & Tearoom**: Known for its vegan-friendly Burmese cuisine and delightful teas.\n",
      "6. **Toast & Tonic**: Focuses on innovative dishes with local ingredients, offering a mix of American cuisines.\n",
      "7. **CTR (Central Tiffin Room)**: Renowned for its crispy Benne Masala Dosa.\n",
      "8. **Brahmin’s Coffee Bar**: A go-to spot for traditional South Indian breakfasts like idli and vada.\n",
      "\n",
      "For more detailed reviews and options, you can visit [Condé Nast Traveller](https://www.cntraveller.in/story/the-11-best-restaurants-in-bengaluru-to-know-about-top-restaurant-awards/) or [TripAdvisor](https://www.tripadvisor.com/Restaurants-g297628-Bengaluru_Bangalore_District_Karnataka.html).\n",
      "\n",
      "Both the places to visit and restaurants reflect the diverse cultural and culinary spirit of Bangalore.\n"
     ]
    }
   ],
   "source": [
    "for event in events:\n",
    "    if \"messages\" in event:\n",
    "        event[\"messages\"][-1].pretty_print()"
   ]
  },
  {
   "cell_type": "code",
   "execution_count": 123,
   "id": "16f94bc6",
   "metadata": {},
   "outputs": [],
   "source": [
    "user_input = \"what is the weather there?\"\n",
    "\n",
    "config = {\"configurable\": {\"thread_id\": \"1\"}}"
   ]
  },
  {
   "cell_type": "code",
   "execution_count": 124,
   "id": "79242d3d",
   "metadata": {},
   "outputs": [],
   "source": [
    "events = app2.stream(\n",
    "    {\"messages\": [(\"user\", user_input)]}, config, stream_mode=\"values\"\n",
    ")"
   ]
  },
  {
   "cell_type": "code",
   "execution_count": 125,
   "id": "714f60fe",
   "metadata": {},
   "outputs": [
    {
     "name": "stdout",
     "output_type": "stream",
     "text": [
      "{'messages': [['user', 'famous places of the bangalore and must visit restaurants?'], AIMessage(content='', additional_kwargs={'tool_calls': [{'id': 'call_LKwaaj05CufAYNRjx74E8TxV', 'function': {'arguments': '{\"query\": \"famous places to visit in Bangalore\"}', 'name': 'tavily_search_results_json'}, 'type': 'function'}, {'id': 'call_odHppkx11gaGQwooaF8VfyOw', 'function': {'arguments': '{\"query\": \"must visit restaurants in Bangalore\"}', 'name': 'tavily_search_results_json'}, 'type': 'function'}], 'refusal': None}, response_metadata={'token_usage': {'completion_tokens': 62, 'prompt_tokens': 91, 'total_tokens': 153, 'completion_tokens_details': {'accepted_prediction_tokens': 0, 'audio_tokens': 0, 'reasoning_tokens': 0, 'rejected_prediction_tokens': 0}, 'prompt_tokens_details': {'audio_tokens': 0, 'cached_tokens': 0}}, 'model_name': 'gpt-4o-2024-08-06', 'system_fingerprint': 'fp_a288987b44', 'id': 'chatcmpl-BziR5hqhkogo8uVUkYbjDwSy0BoDc', 'service_tier': 'default', 'finish_reason': 'tool_calls', 'logprobs': None}, id='run--28988e0d-f048-4626-9f8a-6afe7dee3c94-0', tool_calls=[{'name': 'tavily_search_results_json', 'args': {'query': 'famous places to visit in Bangalore'}, 'id': 'call_LKwaaj05CufAYNRjx74E8TxV', 'type': 'tool_call'}, {'name': 'tavily_search_results_json', 'args': {'query': 'must visit restaurants in Bangalore'}, 'id': 'call_odHppkx11gaGQwooaF8VfyOw', 'type': 'tool_call'}], usage_metadata={'input_tokens': 91, 'output_tokens': 62, 'total_tokens': 153, 'input_token_details': {'audio': 0, 'cache_read': 0}, 'output_token_details': {'audio': 0, 'reasoning': 0}}), ToolMessage(content='[{\"title\": \"Explore The List Of Places To Visit In Bangalore\", \"url\": \"https://www.captureatrip.com/blog/places-to-visit-in-bangalore\", \"content\": \"3. What are the famous places to visit in Bangalore ?\\\\n\\\\nOthers are Vidhana Soudha, Bangalore Palace and Bull Temple for its historical and cultural value.\\\\n\\\\n4. Where can I go for a weekend in Bangalore?\\\\n\\\\nNandi Hills is another suitable place for a weekend trip and it offers scenic views of the city while Bannerghatta National Park offers a wildlife experience.\\\\n\\\\nRecent Blogs\\\\n\\\\n8 Best Bikes in India for Ladakh Trip: Ultimate Adventure Ride\\\\n\\\\nFlame Towers Baku- A Fiery Marvel in the Land of Fire [...] This beautiful palace was the summer residence of the great Kingdom’s ruler, Tipu Sultan and is an Indo Islamic architectural masterpiece. This place is one of the most famous places to visit in Bangalore due to the presence of gorgeous wooden carved work and history.\\\\n\\\\n4. ISKCON Temple: [...] 2. Bannerghatta National Park:\\\\n\\\\nSituated on the outskirts of the city, this national park harbors different wild animals such as tigers, lions and elephants. This is a great way to spend the day with the family making it one of the most popular places to visit in Bangalore.\\\\n\\\\n3. Tipu Sultan’s Summer Palace:\", \"score\": 0.9035075}, {\"title\": \"52 Best Places to visit in Bangalore | Top Tourist Attractions - Holidify\", \"url\": \"https://www.holidify.com/places/bangalore/sightseeing-and-things-to-do.html\", \"content\": \"Reach out to us on: [\\\\\\\\[email protected\\\\\\\\]](\\\\n\\\\n  \\\\n\\\\n  \\\\n\\\\n© Holidify Travels Pvt Ltd.- All Right Reserved\\\\n\\\\n   Bangalore\\\\n   Places To Visit\\\\n   Packages\\\\n   Hotels\\\\n   How to Reach\\\\n   Best Time To Visit\\\\n   Photos\\\\n   Food\\\\n   More\\\\n       Collections\\\\n        \\\\n       Map\\\\n        \\\\n       Reviews & QnA\\\\n        \\\\n       Travel Agents\\\\n        \\\\n   Collections\\\\n   Map\\\\n   Reviews & QnA\\\\n   Travel Agents\\\\n\\\\n     \\\\n\\\\nBangalore, Karnataka\\\\n\\\\nCubbon Park\\\\n\\\\nLalbagh\\\\n\\\\nCubbon Park\\\\n\\\\nBangalore Palace\\\\n\\\\nImage 2 [...] Located in : Central Bangalore\\\\n\\\\nBuilt in 1882, St. Mary\\'s Basilica is the oldest church in Bangalore and is the only church in the state that has been elevated to the status of a minor basilica. It is famous for the festivities it holds during the St. Mary\\'s Feast, in September each year. It is a marvellous sight to behold with its towering façade, glass windows, and the loving statues of Mother Mary.\\\\n\\\\n  Read More [...] Art Gallery (19)\\\\n   Garden & Park (13)\\\\n   Amusement & Theme Park (7)\\\\n   Forts & Palaces (7)\\\\n   Hills & Valleys (7)\\\\n   Temple (6)\\\\n   Lake (4)\\\\n   Museum (4)\\\\n   Waterfall (3)\\\\n   Commercial Street (2)\\\\n   Shopping Market (2)\\\\n   Monument (1)\\\\n   National Park (1)\\\\n   Yoga & Meditation (1)\\\\n   Buddhist Temple (1)\\\\n   Planetarium (1)\\\\n   Church & Cathedral (1)\\\\n   Aquarium (1)\\\\n   Adventure Zone (1)\\\\n\\\\nTop Categories\\\\n--------------\", \"score\": 0.8446273}, {\"title\": \"20 places to visit in Bengaluru that are not tourist traps\", \"url\": \"https://www.cntraveller.in/story/places-to-visit-in-bengaluru-not-tourist-traps/\", \"content\": \"Bengaluru is an epicurean paradise for foodies – do the classic tiffin trail from MTR to CTR, Airlines Hotel, Vidyarthi Bhavan and Veena Stores (Deepika Padukone’s favourite). Try colonial-era cuisine at Koshy’s, Tycoon and The Only Place for steaks. Dig in to some Maratha-style donne biryani at Shivaji Military Hotel and SG Rao Military Hotel at Cottonpet or head to Hoskote for its 4am dum biryani. Try ‘naati’ or native flavours of Gowda cuisine at Malgudi Mylare Mane and Bengaluru Oota [...] Lending its name to one of the oldest residential localities in Bengaluru, Basavana gudi, literally Bull Temple, is one of the city’s most famous landmarks. Nandi’s monolithic idol was built out of black stone during the reign of Kempegowda I. Kempegowda chanced upon a Ganesha rock etching near the Bull Temple, so an 18 ft high, 16 ft wide stone sculpture of Dodda Ganesha, or ‘Satya/Shakti Ganapati’ was carved. Benne alankara, the decoration of the idol with butter, betel leaves, flowers and [...] Bengaluru appreciates music across all genres, from rock shows in Palace Grounds, blues and jazz concerts at Windmills Craftworks, Carnatic and Hindustani recitals at Bangalore Gayana Samaja to EDM and hip hop at Gylt and Sunburn Union, various venues across the city like Hard Rock Café, The Blue Room, Max Mueller Bhavan and Alliance Française de Bangalore host regular gigs. The violin-shaped Chowdiah Memorial Hall, dedicated to Karnataka’s celebrated violinist T Chowdiah, is a popular venue.\", \"score\": 0.8440111}, {\"title\": \"Bengaluru (Bangalore) travel guide - things to do | Qantas NL\", \"url\": \"https://www.qantas.com/us/en/travel-guides/asia/india/bengaluru-bangalore.html\", \"content\": \"A vibrant city with a multi-dimensional aura, Bengaluru is modern while also calming and traditional. With so much to see and do, Bengaluru is one of the most popular holiday destinations for tourists exploring India. You can visit the cultural temples, monuments and buildings such as the ISKCON Temple and Vidhana Soudha. You can also venture on a wildlife safari, relax in the lap of nature at Cubbon Park, or shop your heart out on Bengaluru’s Commercial Street.\", \"score\": 0.8415267}, {\"title\": \"Bengaluru Tourist Places | Best Places To Visit - Incredible India\", \"url\": \"https://www.incredibleindia.gov.in/en/karnataka/bengaluru\", \"content\": \"A welcome green space in the city\\'s heart, shaded by massive clumps of bamboo, Cubbon Park is entered from the western end of MG Road, presided over by a statue of Queen Victoria. On Kasturba Road, which runs along its southern edge, the Government Museum features prehistoric artifacts, Vijayanagar, Hoysala, and Chalukya sculptures, musical instruments, Thanjavur paintings, and Deccani and Rajasthani miniatures. It includes the adjacent Venkat Appa Art Gallery, which exhibits 20th-century [...] The big boom may be over, but Bengaluru’s bright young things still have money to spend, and nightlife in the city is thriving. A night on the town generally starts with a bar crawl along Brigade Road, Residency Road, or Church Street. For quiet, elegant drinking, head for the bars of five-star hotels such as the Jockey Club at the Taj Residency or its competition, the Polo Club at the Oberoi, and for a taste of colonial grandeur, the Colonnade at the Taj West End.\\\\n\\\\n#### A shopper’s paradise [...] Welcome to Bengaluru, the Silicon Valley of India. This vibrant metropolis, nestled in Karnataka, is not just about its dynamic tech scene. It offers a variety of experiences—from lush parks to serene lakes and ancient temples to bustling markets. Whether exploring the majestic Bangalore Palace, enjoying a stroll through Cubbon Park, or indulging in the city\\'s legendary coffee culture, Bengaluru has something to captivate your heart and inspire your soul!\", \"score\": 0.7859175}]', name='tavily_search_results_json', tool_call_id='call_LKwaaj05CufAYNRjx74E8TxV', artifact={'query': 'famous places to visit in Bangalore', 'follow_up_questions': None, 'answer': None, 'images': [], 'results': [{'url': 'https://www.captureatrip.com/blog/places-to-visit-in-bangalore', 'title': 'Explore The List Of Places To Visit In Bangalore', 'content': '3. What are the famous places to visit in Bangalore ?\\n\\nOthers are Vidhana Soudha, Bangalore Palace and Bull Temple for its historical and cultural value.\\n\\n4. Where can I go for a weekend in Bangalore?\\n\\nNandi Hills is another suitable place for a weekend trip and it offers scenic views of the city while Bannerghatta National Park offers a wildlife experience.\\n\\nRecent Blogs\\n\\n8 Best Bikes in India for Ladakh Trip: Ultimate Adventure Ride\\n\\nFlame Towers Baku- A Fiery Marvel in the Land of Fire [...] This beautiful palace was the summer residence of the great Kingdom’s ruler, Tipu Sultan and is an Indo Islamic architectural masterpiece. This place is one of the most famous places to visit in Bangalore due to the presence of gorgeous wooden carved work and history.\\n\\n4. ISKCON Temple: [...] 2. Bannerghatta National Park:\\n\\nSituated on the outskirts of the city, this national park harbors different wild animals such as tigers, lions and elephants. This is a great way to spend the day with the family making it one of the most popular places to visit in Bangalore.\\n\\n3. Tipu Sultan’s Summer Palace:', 'score': 0.9035075, 'raw_content': None}, {'url': 'https://www.holidify.com/places/bangalore/sightseeing-and-things-to-do.html', 'title': '52 Best Places to visit in Bangalore | Top Tourist Attractions - Holidify', 'content': \"Reach out to us on: [\\\\[email protected\\\\]](\\n\\n  \\n\\n  \\n\\n© Holidify Travels Pvt Ltd.- All Right Reserved\\n\\n   Bangalore\\n   Places To Visit\\n   Packages\\n   Hotels\\n   How to Reach\\n   Best Time To Visit\\n   Photos\\n   Food\\n   More\\n       Collections\\n        \\n       Map\\n        \\n       Reviews & QnA\\n        \\n       Travel Agents\\n        \\n   Collections\\n   Map\\n   Reviews & QnA\\n   Travel Agents\\n\\n     \\n\\nBangalore, Karnataka\\n\\nCubbon Park\\n\\nLalbagh\\n\\nCubbon Park\\n\\nBangalore Palace\\n\\nImage 2 [...] Located in : Central Bangalore\\n\\nBuilt in 1882, St. Mary's Basilica is the oldest church in Bangalore and is the only church in the state that has been elevated to the status of a minor basilica. It is famous for the festivities it holds during the St. Mary's Feast, in September each year. It is a marvellous sight to behold with its towering façade, glass windows, and the loving statues of Mother Mary.\\n\\n  Read More [...] Art Gallery (19)\\n   Garden & Park (13)\\n   Amusement & Theme Park (7)\\n   Forts & Palaces (7)\\n   Hills & Valleys (7)\\n   Temple (6)\\n   Lake (4)\\n   Museum (4)\\n   Waterfall (3)\\n   Commercial Street (2)\\n   Shopping Market (2)\\n   Monument (1)\\n   National Park (1)\\n   Yoga & Meditation (1)\\n   Buddhist Temple (1)\\n   Planetarium (1)\\n   Church & Cathedral (1)\\n   Aquarium (1)\\n   Adventure Zone (1)\\n\\nTop Categories\\n--------------\", 'score': 0.8446273, 'raw_content': None}, {'url': 'https://www.cntraveller.in/story/places-to-visit-in-bengaluru-not-tourist-traps/', 'title': '20 places to visit in Bengaluru that are not tourist traps', 'content': 'Bengaluru is an epicurean paradise for foodies – do the classic tiffin trail from MTR to CTR, Airlines Hotel, Vidyarthi Bhavan and Veena Stores (Deepika Padukone’s favourite). Try colonial-era cuisine at Koshy’s, Tycoon and The Only Place for steaks. Dig in to some Maratha-style donne biryani at Shivaji Military Hotel and SG Rao Military Hotel at Cottonpet or head to Hoskote for its 4am dum biryani. Try ‘naati’ or native flavours of Gowda cuisine at Malgudi Mylare Mane and Bengaluru Oota [...] Lending its name to one of the oldest residential localities in Bengaluru, Basavana gudi, literally Bull Temple, is one of the city’s most famous landmarks. Nandi’s monolithic idol was built out of black stone during the reign of Kempegowda I. Kempegowda chanced upon a Ganesha rock etching near the Bull Temple, so an 18 ft high, 16 ft wide stone sculpture of Dodda Ganesha, or ‘Satya/Shakti Ganapati’ was carved. Benne alankara, the decoration of the idol with butter, betel leaves, flowers and [...] Bengaluru appreciates music across all genres, from rock shows in Palace Grounds, blues and jazz concerts at Windmills Craftworks, Carnatic and Hindustani recitals at Bangalore Gayana Samaja to EDM and hip hop at Gylt and Sunburn Union, various venues across the city like Hard Rock Café, The Blue Room, Max Mueller Bhavan and Alliance Française de Bangalore host regular gigs. The violin-shaped Chowdiah Memorial Hall, dedicated to Karnataka’s celebrated violinist T Chowdiah, is a popular venue.', 'score': 0.8440111, 'raw_content': None}, {'url': 'https://www.qantas.com/us/en/travel-guides/asia/india/bengaluru-bangalore.html', 'title': 'Bengaluru (Bangalore) travel guide - things to do | Qantas NL', 'content': 'A vibrant city with a multi-dimensional aura, Bengaluru is modern while also calming and traditional. With so much to see and do, Bengaluru is one of the most popular holiday destinations for tourists exploring India. You can visit the cultural temples, monuments and buildings such as the ISKCON Temple and Vidhana Soudha. You can also venture on a wildlife safari, relax in the lap of nature at Cubbon Park, or shop your heart out on Bengaluru’s Commercial Street.', 'score': 0.8415267, 'raw_content': None}, {'url': 'https://www.incredibleindia.gov.in/en/karnataka/bengaluru', 'title': 'Bengaluru Tourist Places | Best Places To Visit - Incredible India', 'content': \"A welcome green space in the city's heart, shaded by massive clumps of bamboo, Cubbon Park is entered from the western end of MG Road, presided over by a statue of Queen Victoria. On Kasturba Road, which runs along its southern edge, the Government Museum features prehistoric artifacts, Vijayanagar, Hoysala, and Chalukya sculptures, musical instruments, Thanjavur paintings, and Deccani and Rajasthani miniatures. It includes the adjacent Venkat Appa Art Gallery, which exhibits 20th-century [...] The big boom may be over, but Bengaluru’s bright young things still have money to spend, and nightlife in the city is thriving. A night on the town generally starts with a bar crawl along Brigade Road, Residency Road, or Church Street. For quiet, elegant drinking, head for the bars of five-star hotels such as the Jockey Club at the Taj Residency or its competition, the Polo Club at the Oberoi, and for a taste of colonial grandeur, the Colonnade at the Taj West End.\\n\\n#### A shopper’s paradise [...] Welcome to Bengaluru, the Silicon Valley of India. This vibrant metropolis, nestled in Karnataka, is not just about its dynamic tech scene. It offers a variety of experiences—from lush parks to serene lakes and ancient temples to bustling markets. Whether exploring the majestic Bangalore Palace, enjoying a stroll through Cubbon Park, or indulging in the city's legendary coffee culture, Bengaluru has something to captivate your heart and inspire your soul!\", 'score': 0.7859175, 'raw_content': None}], 'response_time': 2.34}), ToolMessage(content='[{\"title\": \"The 11 best restaurants in Bengaluru to know about\", \"url\": \"https://www.cntraveller.in/story/the-11-best-restaurants-in-bengaluru-to-know-about-top-restaurant-awards/\", \"content\": \"There’s no denying that Bengaluru is a salad bowl of all things food and brews, and a look at Condé Nast Traveller’s Top Restaurant Awards 2023 just confirms that. With 11 restaurants in the top 50, the city represented a wild mix of cuisines, cooking techniques, and innovations in fine dining. Alongside familiar names such as Falak and Burma Burma Restaurant & Tearoom, along with a bunch of newer and smaller haunts to take note of, from a ramen bar that took birth in the heat of the pandemic [...] Boteco, led by Brazilian-origin chef Guto Souza, specialises in South American and Brazilian cuisine. Grapefruit sours, Rositos and Twisted Negronis can be paired with prawn croquettes, beef carpaccio and Brazilian cheese bread. The restaurant also has its own ‘Churrasqueira’ or charcoal grill section for sizzling, smokey meat and vegetable barbecues. Look out for chef Guto’s exclusive chef’s tables, which he hosts every few months, with a six-course degustation dinner with wine pairings. [...] From the team behind Olive Bar & Kitchen, Toast & Tonic is all about innovation and sustainability, taking inspiration from local ingredients and American cuisine. Dishes here are led by curiosity but remain comforting and indulgent, like their signature flatbreads, lamb turnovers, ragi chips with edamame hummus and juicy burgers with fries. Head chef Chirag Makwana specialises in Italian, French-Canadian and North American cuisines brings more than 13 years of culinary experience to the table.\", \"score\": 0.7485182}, {\"title\": \"10 Must Eat Foods for Bangalore Visitors and Foodies - Evoma Hotel\", \"url\": \"https://www.evomahotels.com/blog/10-must-eat-foods-for-bangalore-visitors-and-foodies.html\", \"content\": \"You can visit Halli Mane for your great tasting Bisi bele bath. [...] Veena Stores: Margosa Road, Malleswaram (at the Sankey Tank end of the road).  \\\\n Brahminâ\\x80\\x99s Coffee Bar: Near Shankar Mutt, Basavanagudi. [...] The best place to try out Benne Masala is at Central Tiffin Room (CTR), Margosa Road at its K.G. General Hospital end. This place has been dishing out this variety of dosas for more than six decades.  \\\\n Â\", \"score\": 0.7476348}, {\"title\": \"Street Food In Bangalore: 20 Delicacies You Can\\'t Miss In 2025\", \"url\": \"https://traveltriangle.com/blog/street-food-in-bangalore/\", \"content\": \"Some of the popular restaurants in Bangalore are Karavalli, JW Kitchen, The Only Place, and Smally\\'s Resto Cafe. If you are planning a trip to some of these restaurants, make sure you call or book in advance as they are often fairly crowded.\\\\n\\\\n## What is the best time to visit Bangalore?\\\\n\\\\nThe best time to visit Bangalore is from March to May and from October to February as the temperatures are favourable during this time.\\\\n\\\\n## Is Bangalore worth visiting? [...] The best way to satisfy your evening cravings in Bangalore is to go out and munch on these golden Sabudana Vadas. They are light, crispy, and are often served with an assortment of dips which makes the experience a special one. The classic way to try them is in central Bangalore where you can find them in street food shacks or in southern restaurants.\\\\n\\\\nWhere to try: Purnabramha Maharashtrian Restaurant, Rajvardhan Foods  \\\\nMust Try:Sabudana Vada with green chutney  \\\\nPrice: INR 20-200 [...] This one dish is evergreen and gets a new flavor everywhere. Try Pav Bhaji in Bangalore for the soul-satisfying taste of it. One of the famous foods in Bangalore, Pav Bhaji is a delicacy made from soft bread and served with thick vegetable curry.  It is delicious and you must not miss it out on your trip to Bangalore.\\\\n\\\\nWhere to try:Village- The Soul Of India, Sukh Sagar, Sikori, and Chaat Street  \\\\nMust Try: Dahi puri, Cheese Pav Bhaji  \\\\nPrice: INR 20-200\\\\n\\\\n### 13. Shawarma\\\\n\\\\nShawarma\\\\nShawarma\", \"score\": 0.7366474}, {\"title\": \"THE 10 BEST Restaurants in Bengaluru (Updated August 2025)\", \"url\": \"https://www.tripadvisor.com/Restaurants-g297628-Bengaluru_Bangalore_District_Karnataka.html\", \"content\": \"Restaurants in Bengaluru · 1. Karavalli @ Taj. 4.8. (2,559 reviews) · 2. WBG - Whitefield Bar and Grill. 4.9. (224 reviews) · 3. Byg Brewski Brewing Company. 4.9.\", \"score\": 0.73459625}, {\"title\": \"Best restaurant in Bangalore - Reddit\", \"url\": \"https://www.reddit.com/r/bangalore/comments/14mznia/best_restaurant_in_bangalore/\", \"content\": \"Kebabs and Curries and Rim Naam for luxe dining. Burma Burma for fancy vegan. Chianti and Toscano for Italian. Bangalore\\'s speciality is the brewpub.\", \"score\": 0.62523276}]', name='tavily_search_results_json', tool_call_id='call_odHppkx11gaGQwooaF8VfyOw', artifact={'query': 'must visit restaurants in Bangalore', 'follow_up_questions': None, 'answer': None, 'images': [], 'results': [{'url': 'https://www.cntraveller.in/story/the-11-best-restaurants-in-bengaluru-to-know-about-top-restaurant-awards/', 'title': 'The 11 best restaurants in Bengaluru to know about', 'content': 'There’s no denying that Bengaluru is a salad bowl of all things food and brews, and a look at Condé Nast Traveller’s Top Restaurant Awards 2023 just confirms that. With 11 restaurants in the top 50, the city represented a wild mix of cuisines, cooking techniques, and innovations in fine dining. Alongside familiar names such as Falak and Burma Burma Restaurant & Tearoom, along with a bunch of newer and smaller haunts to take note of, from a ramen bar that took birth in the heat of the pandemic [...] Boteco, led by Brazilian-origin chef Guto Souza, specialises in South American and Brazilian cuisine. Grapefruit sours, Rositos and Twisted Negronis can be paired with prawn croquettes, beef carpaccio and Brazilian cheese bread. The restaurant also has its own ‘Churrasqueira’ or charcoal grill section for sizzling, smokey meat and vegetable barbecues. Look out for chef Guto’s exclusive chef’s tables, which he hosts every few months, with a six-course degustation dinner with wine pairings. [...] From the team behind Olive Bar & Kitchen, Toast & Tonic is all about innovation and sustainability, taking inspiration from local ingredients and American cuisine. Dishes here are led by curiosity but remain comforting and indulgent, like their signature flatbreads, lamb turnovers, ragi chips with edamame hummus and juicy burgers with fries. Head chef Chirag Makwana specialises in Italian, French-Canadian and North American cuisines brings more than 13 years of culinary experience to the table.', 'score': 0.7485182, 'raw_content': None}, {'url': 'https://www.evomahotels.com/blog/10-must-eat-foods-for-bangalore-visitors-and-foodies.html', 'title': '10 Must Eat Foods for Bangalore Visitors and Foodies - Evoma Hotel', 'content': 'You can visit Halli Mane for your great tasting Bisi bele bath. [...] Veena Stores: Margosa Road, Malleswaram (at the Sankey Tank end of the road).  \\n Brahminâ\\x80\\x99s Coffee Bar: Near Shankar Mutt, Basavanagudi. [...] The best place to try out Benne Masala is at Central Tiffin Room (CTR), Margosa Road at its K.G. General Hospital end. This place has been dishing out this variety of dosas for more than six decades.  \\n Â', 'score': 0.7476348, 'raw_content': None}, {'url': 'https://traveltriangle.com/blog/street-food-in-bangalore/', 'title': \"Street Food In Bangalore: 20 Delicacies You Can't Miss In 2025\", 'content': \"Some of the popular restaurants in Bangalore are Karavalli, JW Kitchen, The Only Place, and Smally's Resto Cafe. If you are planning a trip to some of these restaurants, make sure you call or book in advance as they are often fairly crowded.\\n\\n## What is the best time to visit Bangalore?\\n\\nThe best time to visit Bangalore is from March to May and from October to February as the temperatures are favourable during this time.\\n\\n## Is Bangalore worth visiting? [...] The best way to satisfy your evening cravings in Bangalore is to go out and munch on these golden Sabudana Vadas. They are light, crispy, and are often served with an assortment of dips which makes the experience a special one. The classic way to try them is in central Bangalore where you can find them in street food shacks or in southern restaurants.\\n\\nWhere to try: Purnabramha Maharashtrian Restaurant, Rajvardhan Foods  \\nMust Try:Sabudana Vada with green chutney  \\nPrice: INR 20-200 [...] This one dish is evergreen and gets a new flavor everywhere. Try Pav Bhaji in Bangalore for the soul-satisfying taste of it. One of the famous foods in Bangalore, Pav Bhaji is a delicacy made from soft bread and served with thick vegetable curry.  It is delicious and you must not miss it out on your trip to Bangalore.\\n\\nWhere to try:Village- The Soul Of India, Sukh Sagar, Sikori, and Chaat Street  \\nMust Try: Dahi puri, Cheese Pav Bhaji  \\nPrice: INR 20-200\\n\\n### 13. Shawarma\\n\\nShawarma\\nShawarma\", 'score': 0.7366474, 'raw_content': None}, {'url': 'https://www.tripadvisor.com/Restaurants-g297628-Bengaluru_Bangalore_District_Karnataka.html', 'title': 'THE 10 BEST Restaurants in Bengaluru (Updated August 2025)', 'content': 'Restaurants in Bengaluru · 1. Karavalli @ Taj. 4.8. (2,559 reviews) · 2. WBG - Whitefield Bar and Grill. 4.9. (224 reviews) · 3. Byg Brewski Brewing Company. 4.9.', 'score': 0.73459625, 'raw_content': None}, {'url': 'https://www.reddit.com/r/bangalore/comments/14mznia/best_restaurant_in_bangalore/', 'title': 'Best restaurant in Bangalore - Reddit', 'content': \"Kebabs and Curries and Rim Naam for luxe dining. Burma Burma for fancy vegan. Chianti and Toscano for Italian. Bangalore's speciality is the brewpub.\", 'score': 0.62523276, 'raw_content': None}], 'response_time': 4.58}), AIMessage(content='**Famous Places to Visit in Bangalore:**\\n\\n1. **Bangalore Palace**: A historic palace showcasing Tudor-style architecture and offering a glimpse into royal heritage.\\n2. **Cubbon Park**: A massive green park in the heart of the city perfect for walks and picnics.\\n3. **Lalbagh Botanical Garden**: Known for its glasshouse and beautiful flora.\\n4. **Vidhana Soudha**: The iconic government building known for its grand architecture.\\n5. **ISKCON Temple**: A spiritual center famous for its architectural beauty.\\n6. **Bannerghatta National Park**: Ideal for wildlife enthusiasts looking to see a variety of animals including tigers and lions.\\n7. **Tipu Sultan’s Summer Palace**: A beautiful Indo-Islamic architecture structure, offering rich historical insights.\\n8. **Bull Temple**: Famous for its monolithic statue of Nandi and historical significance.\\n\\nYou can explore more about these places at [Capture a Trip](https://www.captureatrip.com/blog/places-to-visit-in-bangalore) or [Holidify](https://www.holidify.com/places/bangalore/sightseeing-and-things-to-do.html).\\n\\n**Must Visit Restaurants in Bangalore:**\\n\\n1. **Karavalli**: Famous for serving traditional coastal and Malabar cuisine.\\n2. **Byg Brewski Brewing Company**: Known for its brewpub atmosphere.\\n3. **The Only Place**: Offers colonial-era steaks and continental dishes.\\n4. **Boteco**: Specializes in South American and Brazilian cuisine, featuring unique churrasco grills.\\n5. **Burma Burma Restaurant & Tearoom**: Known for its vegan-friendly Burmese cuisine and delightful teas.\\n6. **Toast & Tonic**: Focuses on innovative dishes with local ingredients, offering a mix of American cuisines.\\n7. **CTR (Central Tiffin Room)**: Renowned for its crispy Benne Masala Dosa.\\n8. **Brahmin’s Coffee Bar**: A go-to spot for traditional South Indian breakfasts like idli and vada.\\n\\nFor more detailed reviews and options, you can visit [Condé Nast Traveller](https://www.cntraveller.in/story/the-11-best-restaurants-in-bengaluru-to-know-about-top-restaurant-awards/) or [TripAdvisor](https://www.tripadvisor.com/Restaurants-g297628-Bengaluru_Bangalore_District_Karnataka.html).\\n\\nBoth the places to visit and restaurants reflect the diverse cultural and culinary spirit of Bangalore.', additional_kwargs={'refusal': None}, response_metadata={'token_usage': {'completion_tokens': 520, 'prompt_tokens': 3151, 'total_tokens': 3671, 'completion_tokens_details': {'accepted_prediction_tokens': 0, 'audio_tokens': 0, 'reasoning_tokens': 0, 'rejected_prediction_tokens': 0}, 'prompt_tokens_details': {'audio_tokens': 0, 'cached_tokens': 0}}, 'model_name': 'gpt-4o-2024-08-06', 'system_fingerprint': 'fp_a288987b44', 'id': 'chatcmpl-BziRXV95WXdVMKrvZ3sm1mMotrUfH', 'service_tier': 'default', 'finish_reason': 'stop', 'logprobs': None}, id='run--63e64252-f55c-495d-b9f9-51d83ba9d6f7-0', usage_metadata={'input_tokens': 3151, 'output_tokens': 520, 'total_tokens': 3671, 'input_token_details': {'audio': 0, 'cache_read': 0}, 'output_token_details': {'audio': 0, 'reasoning': 0}}), ('user', 'what is the weather there?')]}\n",
      "{'messages': [['user', 'famous places of the bangalore and must visit restaurants?'], AIMessage(content='', additional_kwargs={'tool_calls': [{'id': 'call_LKwaaj05CufAYNRjx74E8TxV', 'function': {'arguments': '{\"query\": \"famous places to visit in Bangalore\"}', 'name': 'tavily_search_results_json'}, 'type': 'function'}, {'id': 'call_odHppkx11gaGQwooaF8VfyOw', 'function': {'arguments': '{\"query\": \"must visit restaurants in Bangalore\"}', 'name': 'tavily_search_results_json'}, 'type': 'function'}], 'refusal': None}, response_metadata={'token_usage': {'completion_tokens': 62, 'prompt_tokens': 91, 'total_tokens': 153, 'completion_tokens_details': {'accepted_prediction_tokens': 0, 'audio_tokens': 0, 'reasoning_tokens': 0, 'rejected_prediction_tokens': 0}, 'prompt_tokens_details': {'audio_tokens': 0, 'cached_tokens': 0}}, 'model_name': 'gpt-4o-2024-08-06', 'system_fingerprint': 'fp_a288987b44', 'id': 'chatcmpl-BziR5hqhkogo8uVUkYbjDwSy0BoDc', 'service_tier': 'default', 'finish_reason': 'tool_calls', 'logprobs': None}, id='run--28988e0d-f048-4626-9f8a-6afe7dee3c94-0', tool_calls=[{'name': 'tavily_search_results_json', 'args': {'query': 'famous places to visit in Bangalore'}, 'id': 'call_LKwaaj05CufAYNRjx74E8TxV', 'type': 'tool_call'}, {'name': 'tavily_search_results_json', 'args': {'query': 'must visit restaurants in Bangalore'}, 'id': 'call_odHppkx11gaGQwooaF8VfyOw', 'type': 'tool_call'}], usage_metadata={'input_tokens': 91, 'output_tokens': 62, 'total_tokens': 153, 'input_token_details': {'audio': 0, 'cache_read': 0}, 'output_token_details': {'audio': 0, 'reasoning': 0}}), ToolMessage(content='[{\"title\": \"Explore The List Of Places To Visit In Bangalore\", \"url\": \"https://www.captureatrip.com/blog/places-to-visit-in-bangalore\", \"content\": \"3. What are the famous places to visit in Bangalore ?\\\\n\\\\nOthers are Vidhana Soudha, Bangalore Palace and Bull Temple for its historical and cultural value.\\\\n\\\\n4. Where can I go for a weekend in Bangalore?\\\\n\\\\nNandi Hills is another suitable place for a weekend trip and it offers scenic views of the city while Bannerghatta National Park offers a wildlife experience.\\\\n\\\\nRecent Blogs\\\\n\\\\n8 Best Bikes in India for Ladakh Trip: Ultimate Adventure Ride\\\\n\\\\nFlame Towers Baku- A Fiery Marvel in the Land of Fire [...] This beautiful palace was the summer residence of the great Kingdom’s ruler, Tipu Sultan and is an Indo Islamic architectural masterpiece. This place is one of the most famous places to visit in Bangalore due to the presence of gorgeous wooden carved work and history.\\\\n\\\\n4. ISKCON Temple: [...] 2. Bannerghatta National Park:\\\\n\\\\nSituated on the outskirts of the city, this national park harbors different wild animals such as tigers, lions and elephants. This is a great way to spend the day with the family making it one of the most popular places to visit in Bangalore.\\\\n\\\\n3. Tipu Sultan’s Summer Palace:\", \"score\": 0.9035075}, {\"title\": \"52 Best Places to visit in Bangalore | Top Tourist Attractions - Holidify\", \"url\": \"https://www.holidify.com/places/bangalore/sightseeing-and-things-to-do.html\", \"content\": \"Reach out to us on: [\\\\\\\\[email protected\\\\\\\\]](\\\\n\\\\n  \\\\n\\\\n  \\\\n\\\\n© Holidify Travels Pvt Ltd.- All Right Reserved\\\\n\\\\n   Bangalore\\\\n   Places To Visit\\\\n   Packages\\\\n   Hotels\\\\n   How to Reach\\\\n   Best Time To Visit\\\\n   Photos\\\\n   Food\\\\n   More\\\\n       Collections\\\\n        \\\\n       Map\\\\n        \\\\n       Reviews & QnA\\\\n        \\\\n       Travel Agents\\\\n        \\\\n   Collections\\\\n   Map\\\\n   Reviews & QnA\\\\n   Travel Agents\\\\n\\\\n     \\\\n\\\\nBangalore, Karnataka\\\\n\\\\nCubbon Park\\\\n\\\\nLalbagh\\\\n\\\\nCubbon Park\\\\n\\\\nBangalore Palace\\\\n\\\\nImage 2 [...] Located in : Central Bangalore\\\\n\\\\nBuilt in 1882, St. Mary\\'s Basilica is the oldest church in Bangalore and is the only church in the state that has been elevated to the status of a minor basilica. It is famous for the festivities it holds during the St. Mary\\'s Feast, in September each year. It is a marvellous sight to behold with its towering façade, glass windows, and the loving statues of Mother Mary.\\\\n\\\\n  Read More [...] Art Gallery (19)\\\\n   Garden & Park (13)\\\\n   Amusement & Theme Park (7)\\\\n   Forts & Palaces (7)\\\\n   Hills & Valleys (7)\\\\n   Temple (6)\\\\n   Lake (4)\\\\n   Museum (4)\\\\n   Waterfall (3)\\\\n   Commercial Street (2)\\\\n   Shopping Market (2)\\\\n   Monument (1)\\\\n   National Park (1)\\\\n   Yoga & Meditation (1)\\\\n   Buddhist Temple (1)\\\\n   Planetarium (1)\\\\n   Church & Cathedral (1)\\\\n   Aquarium (1)\\\\n   Adventure Zone (1)\\\\n\\\\nTop Categories\\\\n--------------\", \"score\": 0.8446273}, {\"title\": \"20 places to visit in Bengaluru that are not tourist traps\", \"url\": \"https://www.cntraveller.in/story/places-to-visit-in-bengaluru-not-tourist-traps/\", \"content\": \"Bengaluru is an epicurean paradise for foodies – do the classic tiffin trail from MTR to CTR, Airlines Hotel, Vidyarthi Bhavan and Veena Stores (Deepika Padukone’s favourite). Try colonial-era cuisine at Koshy’s, Tycoon and The Only Place for steaks. Dig in to some Maratha-style donne biryani at Shivaji Military Hotel and SG Rao Military Hotel at Cottonpet or head to Hoskote for its 4am dum biryani. Try ‘naati’ or native flavours of Gowda cuisine at Malgudi Mylare Mane and Bengaluru Oota [...] Lending its name to one of the oldest residential localities in Bengaluru, Basavana gudi, literally Bull Temple, is one of the city’s most famous landmarks. Nandi’s monolithic idol was built out of black stone during the reign of Kempegowda I. Kempegowda chanced upon a Ganesha rock etching near the Bull Temple, so an 18 ft high, 16 ft wide stone sculpture of Dodda Ganesha, or ‘Satya/Shakti Ganapati’ was carved. Benne alankara, the decoration of the idol with butter, betel leaves, flowers and [...] Bengaluru appreciates music across all genres, from rock shows in Palace Grounds, blues and jazz concerts at Windmills Craftworks, Carnatic and Hindustani recitals at Bangalore Gayana Samaja to EDM and hip hop at Gylt and Sunburn Union, various venues across the city like Hard Rock Café, The Blue Room, Max Mueller Bhavan and Alliance Française de Bangalore host regular gigs. The violin-shaped Chowdiah Memorial Hall, dedicated to Karnataka’s celebrated violinist T Chowdiah, is a popular venue.\", \"score\": 0.8440111}, {\"title\": \"Bengaluru (Bangalore) travel guide - things to do | Qantas NL\", \"url\": \"https://www.qantas.com/us/en/travel-guides/asia/india/bengaluru-bangalore.html\", \"content\": \"A vibrant city with a multi-dimensional aura, Bengaluru is modern while also calming and traditional. With so much to see and do, Bengaluru is one of the most popular holiday destinations for tourists exploring India. You can visit the cultural temples, monuments and buildings such as the ISKCON Temple and Vidhana Soudha. You can also venture on a wildlife safari, relax in the lap of nature at Cubbon Park, or shop your heart out on Bengaluru’s Commercial Street.\", \"score\": 0.8415267}, {\"title\": \"Bengaluru Tourist Places | Best Places To Visit - Incredible India\", \"url\": \"https://www.incredibleindia.gov.in/en/karnataka/bengaluru\", \"content\": \"A welcome green space in the city\\'s heart, shaded by massive clumps of bamboo, Cubbon Park is entered from the western end of MG Road, presided over by a statue of Queen Victoria. On Kasturba Road, which runs along its southern edge, the Government Museum features prehistoric artifacts, Vijayanagar, Hoysala, and Chalukya sculptures, musical instruments, Thanjavur paintings, and Deccani and Rajasthani miniatures. It includes the adjacent Venkat Appa Art Gallery, which exhibits 20th-century [...] The big boom may be over, but Bengaluru’s bright young things still have money to spend, and nightlife in the city is thriving. A night on the town generally starts with a bar crawl along Brigade Road, Residency Road, or Church Street. For quiet, elegant drinking, head for the bars of five-star hotels such as the Jockey Club at the Taj Residency or its competition, the Polo Club at the Oberoi, and for a taste of colonial grandeur, the Colonnade at the Taj West End.\\\\n\\\\n#### A shopper’s paradise [...] Welcome to Bengaluru, the Silicon Valley of India. This vibrant metropolis, nestled in Karnataka, is not just about its dynamic tech scene. It offers a variety of experiences—from lush parks to serene lakes and ancient temples to bustling markets. Whether exploring the majestic Bangalore Palace, enjoying a stroll through Cubbon Park, or indulging in the city\\'s legendary coffee culture, Bengaluru has something to captivate your heart and inspire your soul!\", \"score\": 0.7859175}]', name='tavily_search_results_json', tool_call_id='call_LKwaaj05CufAYNRjx74E8TxV', artifact={'query': 'famous places to visit in Bangalore', 'follow_up_questions': None, 'answer': None, 'images': [], 'results': [{'url': 'https://www.captureatrip.com/blog/places-to-visit-in-bangalore', 'title': 'Explore The List Of Places To Visit In Bangalore', 'content': '3. What are the famous places to visit in Bangalore ?\\n\\nOthers are Vidhana Soudha, Bangalore Palace and Bull Temple for its historical and cultural value.\\n\\n4. Where can I go for a weekend in Bangalore?\\n\\nNandi Hills is another suitable place for a weekend trip and it offers scenic views of the city while Bannerghatta National Park offers a wildlife experience.\\n\\nRecent Blogs\\n\\n8 Best Bikes in India for Ladakh Trip: Ultimate Adventure Ride\\n\\nFlame Towers Baku- A Fiery Marvel in the Land of Fire [...] This beautiful palace was the summer residence of the great Kingdom’s ruler, Tipu Sultan and is an Indo Islamic architectural masterpiece. This place is one of the most famous places to visit in Bangalore due to the presence of gorgeous wooden carved work and history.\\n\\n4. ISKCON Temple: [...] 2. Bannerghatta National Park:\\n\\nSituated on the outskirts of the city, this national park harbors different wild animals such as tigers, lions and elephants. This is a great way to spend the day with the family making it one of the most popular places to visit in Bangalore.\\n\\n3. Tipu Sultan’s Summer Palace:', 'score': 0.9035075, 'raw_content': None}, {'url': 'https://www.holidify.com/places/bangalore/sightseeing-and-things-to-do.html', 'title': '52 Best Places to visit in Bangalore | Top Tourist Attractions - Holidify', 'content': \"Reach out to us on: [\\\\[email protected\\\\]](\\n\\n  \\n\\n  \\n\\n© Holidify Travels Pvt Ltd.- All Right Reserved\\n\\n   Bangalore\\n   Places To Visit\\n   Packages\\n   Hotels\\n   How to Reach\\n   Best Time To Visit\\n   Photos\\n   Food\\n   More\\n       Collections\\n        \\n       Map\\n        \\n       Reviews & QnA\\n        \\n       Travel Agents\\n        \\n   Collections\\n   Map\\n   Reviews & QnA\\n   Travel Agents\\n\\n     \\n\\nBangalore, Karnataka\\n\\nCubbon Park\\n\\nLalbagh\\n\\nCubbon Park\\n\\nBangalore Palace\\n\\nImage 2 [...] Located in : Central Bangalore\\n\\nBuilt in 1882, St. Mary's Basilica is the oldest church in Bangalore and is the only church in the state that has been elevated to the status of a minor basilica. It is famous for the festivities it holds during the St. Mary's Feast, in September each year. It is a marvellous sight to behold with its towering façade, glass windows, and the loving statues of Mother Mary.\\n\\n  Read More [...] Art Gallery (19)\\n   Garden & Park (13)\\n   Amusement & Theme Park (7)\\n   Forts & Palaces (7)\\n   Hills & Valleys (7)\\n   Temple (6)\\n   Lake (4)\\n   Museum (4)\\n   Waterfall (3)\\n   Commercial Street (2)\\n   Shopping Market (2)\\n   Monument (1)\\n   National Park (1)\\n   Yoga & Meditation (1)\\n   Buddhist Temple (1)\\n   Planetarium (1)\\n   Church & Cathedral (1)\\n   Aquarium (1)\\n   Adventure Zone (1)\\n\\nTop Categories\\n--------------\", 'score': 0.8446273, 'raw_content': None}, {'url': 'https://www.cntraveller.in/story/places-to-visit-in-bengaluru-not-tourist-traps/', 'title': '20 places to visit in Bengaluru that are not tourist traps', 'content': 'Bengaluru is an epicurean paradise for foodies – do the classic tiffin trail from MTR to CTR, Airlines Hotel, Vidyarthi Bhavan and Veena Stores (Deepika Padukone’s favourite). Try colonial-era cuisine at Koshy’s, Tycoon and The Only Place for steaks. Dig in to some Maratha-style donne biryani at Shivaji Military Hotel and SG Rao Military Hotel at Cottonpet or head to Hoskote for its 4am dum biryani. Try ‘naati’ or native flavours of Gowda cuisine at Malgudi Mylare Mane and Bengaluru Oota [...] Lending its name to one of the oldest residential localities in Bengaluru, Basavana gudi, literally Bull Temple, is one of the city’s most famous landmarks. Nandi’s monolithic idol was built out of black stone during the reign of Kempegowda I. Kempegowda chanced upon a Ganesha rock etching near the Bull Temple, so an 18 ft high, 16 ft wide stone sculpture of Dodda Ganesha, or ‘Satya/Shakti Ganapati’ was carved. Benne alankara, the decoration of the idol with butter, betel leaves, flowers and [...] Bengaluru appreciates music across all genres, from rock shows in Palace Grounds, blues and jazz concerts at Windmills Craftworks, Carnatic and Hindustani recitals at Bangalore Gayana Samaja to EDM and hip hop at Gylt and Sunburn Union, various venues across the city like Hard Rock Café, The Blue Room, Max Mueller Bhavan and Alliance Française de Bangalore host regular gigs. The violin-shaped Chowdiah Memorial Hall, dedicated to Karnataka’s celebrated violinist T Chowdiah, is a popular venue.', 'score': 0.8440111, 'raw_content': None}, {'url': 'https://www.qantas.com/us/en/travel-guides/asia/india/bengaluru-bangalore.html', 'title': 'Bengaluru (Bangalore) travel guide - things to do | Qantas NL', 'content': 'A vibrant city with a multi-dimensional aura, Bengaluru is modern while also calming and traditional. With so much to see and do, Bengaluru is one of the most popular holiday destinations for tourists exploring India. You can visit the cultural temples, monuments and buildings such as the ISKCON Temple and Vidhana Soudha. You can also venture on a wildlife safari, relax in the lap of nature at Cubbon Park, or shop your heart out on Bengaluru’s Commercial Street.', 'score': 0.8415267, 'raw_content': None}, {'url': 'https://www.incredibleindia.gov.in/en/karnataka/bengaluru', 'title': 'Bengaluru Tourist Places | Best Places To Visit - Incredible India', 'content': \"A welcome green space in the city's heart, shaded by massive clumps of bamboo, Cubbon Park is entered from the western end of MG Road, presided over by a statue of Queen Victoria. On Kasturba Road, which runs along its southern edge, the Government Museum features prehistoric artifacts, Vijayanagar, Hoysala, and Chalukya sculptures, musical instruments, Thanjavur paintings, and Deccani and Rajasthani miniatures. It includes the adjacent Venkat Appa Art Gallery, which exhibits 20th-century [...] The big boom may be over, but Bengaluru’s bright young things still have money to spend, and nightlife in the city is thriving. A night on the town generally starts with a bar crawl along Brigade Road, Residency Road, or Church Street. For quiet, elegant drinking, head for the bars of five-star hotels such as the Jockey Club at the Taj Residency or its competition, the Polo Club at the Oberoi, and for a taste of colonial grandeur, the Colonnade at the Taj West End.\\n\\n#### A shopper’s paradise [...] Welcome to Bengaluru, the Silicon Valley of India. This vibrant metropolis, nestled in Karnataka, is not just about its dynamic tech scene. It offers a variety of experiences—from lush parks to serene lakes and ancient temples to bustling markets. Whether exploring the majestic Bangalore Palace, enjoying a stroll through Cubbon Park, or indulging in the city's legendary coffee culture, Bengaluru has something to captivate your heart and inspire your soul!\", 'score': 0.7859175, 'raw_content': None}], 'response_time': 2.34}), ToolMessage(content='[{\"title\": \"The 11 best restaurants in Bengaluru to know about\", \"url\": \"https://www.cntraveller.in/story/the-11-best-restaurants-in-bengaluru-to-know-about-top-restaurant-awards/\", \"content\": \"There’s no denying that Bengaluru is a salad bowl of all things food and brews, and a look at Condé Nast Traveller’s Top Restaurant Awards 2023 just confirms that. With 11 restaurants in the top 50, the city represented a wild mix of cuisines, cooking techniques, and innovations in fine dining. Alongside familiar names such as Falak and Burma Burma Restaurant & Tearoom, along with a bunch of newer and smaller haunts to take note of, from a ramen bar that took birth in the heat of the pandemic [...] Boteco, led by Brazilian-origin chef Guto Souza, specialises in South American and Brazilian cuisine. Grapefruit sours, Rositos and Twisted Negronis can be paired with prawn croquettes, beef carpaccio and Brazilian cheese bread. The restaurant also has its own ‘Churrasqueira’ or charcoal grill section for sizzling, smokey meat and vegetable barbecues. Look out for chef Guto’s exclusive chef’s tables, which he hosts every few months, with a six-course degustation dinner with wine pairings. [...] From the team behind Olive Bar & Kitchen, Toast & Tonic is all about innovation and sustainability, taking inspiration from local ingredients and American cuisine. Dishes here are led by curiosity but remain comforting and indulgent, like their signature flatbreads, lamb turnovers, ragi chips with edamame hummus and juicy burgers with fries. Head chef Chirag Makwana specialises in Italian, French-Canadian and North American cuisines brings more than 13 years of culinary experience to the table.\", \"score\": 0.7485182}, {\"title\": \"10 Must Eat Foods for Bangalore Visitors and Foodies - Evoma Hotel\", \"url\": \"https://www.evomahotels.com/blog/10-must-eat-foods-for-bangalore-visitors-and-foodies.html\", \"content\": \"You can visit Halli Mane for your great tasting Bisi bele bath. [...] Veena Stores: Margosa Road, Malleswaram (at the Sankey Tank end of the road).  \\\\n Brahminâ\\x80\\x99s Coffee Bar: Near Shankar Mutt, Basavanagudi. [...] The best place to try out Benne Masala is at Central Tiffin Room (CTR), Margosa Road at its K.G. General Hospital end. This place has been dishing out this variety of dosas for more than six decades.  \\\\n Â\", \"score\": 0.7476348}, {\"title\": \"Street Food In Bangalore: 20 Delicacies You Can\\'t Miss In 2025\", \"url\": \"https://traveltriangle.com/blog/street-food-in-bangalore/\", \"content\": \"Some of the popular restaurants in Bangalore are Karavalli, JW Kitchen, The Only Place, and Smally\\'s Resto Cafe. If you are planning a trip to some of these restaurants, make sure you call or book in advance as they are often fairly crowded.\\\\n\\\\n## What is the best time to visit Bangalore?\\\\n\\\\nThe best time to visit Bangalore is from March to May and from October to February as the temperatures are favourable during this time.\\\\n\\\\n## Is Bangalore worth visiting? [...] The best way to satisfy your evening cravings in Bangalore is to go out and munch on these golden Sabudana Vadas. They are light, crispy, and are often served with an assortment of dips which makes the experience a special one. The classic way to try them is in central Bangalore where you can find them in street food shacks or in southern restaurants.\\\\n\\\\nWhere to try: Purnabramha Maharashtrian Restaurant, Rajvardhan Foods  \\\\nMust Try:Sabudana Vada with green chutney  \\\\nPrice: INR 20-200 [...] This one dish is evergreen and gets a new flavor everywhere. Try Pav Bhaji in Bangalore for the soul-satisfying taste of it. One of the famous foods in Bangalore, Pav Bhaji is a delicacy made from soft bread and served with thick vegetable curry.  It is delicious and you must not miss it out on your trip to Bangalore.\\\\n\\\\nWhere to try:Village- The Soul Of India, Sukh Sagar, Sikori, and Chaat Street  \\\\nMust Try: Dahi puri, Cheese Pav Bhaji  \\\\nPrice: INR 20-200\\\\n\\\\n### 13. Shawarma\\\\n\\\\nShawarma\\\\nShawarma\", \"score\": 0.7366474}, {\"title\": \"THE 10 BEST Restaurants in Bengaluru (Updated August 2025)\", \"url\": \"https://www.tripadvisor.com/Restaurants-g297628-Bengaluru_Bangalore_District_Karnataka.html\", \"content\": \"Restaurants in Bengaluru · 1. Karavalli @ Taj. 4.8. (2,559 reviews) · 2. WBG - Whitefield Bar and Grill. 4.9. (224 reviews) · 3. Byg Brewski Brewing Company. 4.9.\", \"score\": 0.73459625}, {\"title\": \"Best restaurant in Bangalore - Reddit\", \"url\": \"https://www.reddit.com/r/bangalore/comments/14mznia/best_restaurant_in_bangalore/\", \"content\": \"Kebabs and Curries and Rim Naam for luxe dining. Burma Burma for fancy vegan. Chianti and Toscano for Italian. Bangalore\\'s speciality is the brewpub.\", \"score\": 0.62523276}]', name='tavily_search_results_json', tool_call_id='call_odHppkx11gaGQwooaF8VfyOw', artifact={'query': 'must visit restaurants in Bangalore', 'follow_up_questions': None, 'answer': None, 'images': [], 'results': [{'url': 'https://www.cntraveller.in/story/the-11-best-restaurants-in-bengaluru-to-know-about-top-restaurant-awards/', 'title': 'The 11 best restaurants in Bengaluru to know about', 'content': 'There’s no denying that Bengaluru is a salad bowl of all things food and brews, and a look at Condé Nast Traveller’s Top Restaurant Awards 2023 just confirms that. With 11 restaurants in the top 50, the city represented a wild mix of cuisines, cooking techniques, and innovations in fine dining. Alongside familiar names such as Falak and Burma Burma Restaurant & Tearoom, along with a bunch of newer and smaller haunts to take note of, from a ramen bar that took birth in the heat of the pandemic [...] Boteco, led by Brazilian-origin chef Guto Souza, specialises in South American and Brazilian cuisine. Grapefruit sours, Rositos and Twisted Negronis can be paired with prawn croquettes, beef carpaccio and Brazilian cheese bread. The restaurant also has its own ‘Churrasqueira’ or charcoal grill section for sizzling, smokey meat and vegetable barbecues. Look out for chef Guto’s exclusive chef’s tables, which he hosts every few months, with a six-course degustation dinner with wine pairings. [...] From the team behind Olive Bar & Kitchen, Toast & Tonic is all about innovation and sustainability, taking inspiration from local ingredients and American cuisine. Dishes here are led by curiosity but remain comforting and indulgent, like their signature flatbreads, lamb turnovers, ragi chips with edamame hummus and juicy burgers with fries. Head chef Chirag Makwana specialises in Italian, French-Canadian and North American cuisines brings more than 13 years of culinary experience to the table.', 'score': 0.7485182, 'raw_content': None}, {'url': 'https://www.evomahotels.com/blog/10-must-eat-foods-for-bangalore-visitors-and-foodies.html', 'title': '10 Must Eat Foods for Bangalore Visitors and Foodies - Evoma Hotel', 'content': 'You can visit Halli Mane for your great tasting Bisi bele bath. [...] Veena Stores: Margosa Road, Malleswaram (at the Sankey Tank end of the road).  \\n Brahminâ\\x80\\x99s Coffee Bar: Near Shankar Mutt, Basavanagudi. [...] The best place to try out Benne Masala is at Central Tiffin Room (CTR), Margosa Road at its K.G. General Hospital end. This place has been dishing out this variety of dosas for more than six decades.  \\n Â', 'score': 0.7476348, 'raw_content': None}, {'url': 'https://traveltriangle.com/blog/street-food-in-bangalore/', 'title': \"Street Food In Bangalore: 20 Delicacies You Can't Miss In 2025\", 'content': \"Some of the popular restaurants in Bangalore are Karavalli, JW Kitchen, The Only Place, and Smally's Resto Cafe. If you are planning a trip to some of these restaurants, make sure you call or book in advance as they are often fairly crowded.\\n\\n## What is the best time to visit Bangalore?\\n\\nThe best time to visit Bangalore is from March to May and from October to February as the temperatures are favourable during this time.\\n\\n## Is Bangalore worth visiting? [...] The best way to satisfy your evening cravings in Bangalore is to go out and munch on these golden Sabudana Vadas. They are light, crispy, and are often served with an assortment of dips which makes the experience a special one. The classic way to try them is in central Bangalore where you can find them in street food shacks or in southern restaurants.\\n\\nWhere to try: Purnabramha Maharashtrian Restaurant, Rajvardhan Foods  \\nMust Try:Sabudana Vada with green chutney  \\nPrice: INR 20-200 [...] This one dish is evergreen and gets a new flavor everywhere. Try Pav Bhaji in Bangalore for the soul-satisfying taste of it. One of the famous foods in Bangalore, Pav Bhaji is a delicacy made from soft bread and served with thick vegetable curry.  It is delicious and you must not miss it out on your trip to Bangalore.\\n\\nWhere to try:Village- The Soul Of India, Sukh Sagar, Sikori, and Chaat Street  \\nMust Try: Dahi puri, Cheese Pav Bhaji  \\nPrice: INR 20-200\\n\\n### 13. Shawarma\\n\\nShawarma\\nShawarma\", 'score': 0.7366474, 'raw_content': None}, {'url': 'https://www.tripadvisor.com/Restaurants-g297628-Bengaluru_Bangalore_District_Karnataka.html', 'title': 'THE 10 BEST Restaurants in Bengaluru (Updated August 2025)', 'content': 'Restaurants in Bengaluru · 1. Karavalli @ Taj. 4.8. (2,559 reviews) · 2. WBG - Whitefield Bar and Grill. 4.9. (224 reviews) · 3. Byg Brewski Brewing Company. 4.9.', 'score': 0.73459625, 'raw_content': None}, {'url': 'https://www.reddit.com/r/bangalore/comments/14mznia/best_restaurant_in_bangalore/', 'title': 'Best restaurant in Bangalore - Reddit', 'content': \"Kebabs and Curries and Rim Naam for luxe dining. Burma Burma for fancy vegan. Chianti and Toscano for Italian. Bangalore's speciality is the brewpub.\", 'score': 0.62523276, 'raw_content': None}], 'response_time': 4.58}), AIMessage(content='**Famous Places to Visit in Bangalore:**\\n\\n1. **Bangalore Palace**: A historic palace showcasing Tudor-style architecture and offering a glimpse into royal heritage.\\n2. **Cubbon Park**: A massive green park in the heart of the city perfect for walks and picnics.\\n3. **Lalbagh Botanical Garden**: Known for its glasshouse and beautiful flora.\\n4. **Vidhana Soudha**: The iconic government building known for its grand architecture.\\n5. **ISKCON Temple**: A spiritual center famous for its architectural beauty.\\n6. **Bannerghatta National Park**: Ideal for wildlife enthusiasts looking to see a variety of animals including tigers and lions.\\n7. **Tipu Sultan’s Summer Palace**: A beautiful Indo-Islamic architecture structure, offering rich historical insights.\\n8. **Bull Temple**: Famous for its monolithic statue of Nandi and historical significance.\\n\\nYou can explore more about these places at [Capture a Trip](https://www.captureatrip.com/blog/places-to-visit-in-bangalore) or [Holidify](https://www.holidify.com/places/bangalore/sightseeing-and-things-to-do.html).\\n\\n**Must Visit Restaurants in Bangalore:**\\n\\n1. **Karavalli**: Famous for serving traditional coastal and Malabar cuisine.\\n2. **Byg Brewski Brewing Company**: Known for its brewpub atmosphere.\\n3. **The Only Place**: Offers colonial-era steaks and continental dishes.\\n4. **Boteco**: Specializes in South American and Brazilian cuisine, featuring unique churrasco grills.\\n5. **Burma Burma Restaurant & Tearoom**: Known for its vegan-friendly Burmese cuisine and delightful teas.\\n6. **Toast & Tonic**: Focuses on innovative dishes with local ingredients, offering a mix of American cuisines.\\n7. **CTR (Central Tiffin Room)**: Renowned for its crispy Benne Masala Dosa.\\n8. **Brahmin’s Coffee Bar**: A go-to spot for traditional South Indian breakfasts like idli and vada.\\n\\nFor more detailed reviews and options, you can visit [Condé Nast Traveller](https://www.cntraveller.in/story/the-11-best-restaurants-in-bengaluru-to-know-about-top-restaurant-awards/) or [TripAdvisor](https://www.tripadvisor.com/Restaurants-g297628-Bengaluru_Bangalore_District_Karnataka.html).\\n\\nBoth the places to visit and restaurants reflect the diverse cultural and culinary spirit of Bangalore.', additional_kwargs={'refusal': None}, response_metadata={'token_usage': {'completion_tokens': 520, 'prompt_tokens': 3151, 'total_tokens': 3671, 'completion_tokens_details': {'accepted_prediction_tokens': 0, 'audio_tokens': 0, 'reasoning_tokens': 0, 'rejected_prediction_tokens': 0}, 'prompt_tokens_details': {'audio_tokens': 0, 'cached_tokens': 0}}, 'model_name': 'gpt-4o-2024-08-06', 'system_fingerprint': 'fp_a288987b44', 'id': 'chatcmpl-BziRXV95WXdVMKrvZ3sm1mMotrUfH', 'service_tier': 'default', 'finish_reason': 'stop', 'logprobs': None}, id='run--63e64252-f55c-495d-b9f9-51d83ba9d6f7-0', usage_metadata={'input_tokens': 3151, 'output_tokens': 520, 'total_tokens': 3671, 'input_token_details': {'audio': 0, 'cache_read': 0}, 'output_token_details': {'audio': 0, 'reasoning': 0}}), ('user', 'what is the weather there?'), AIMessage(content='', additional_kwargs={'tool_calls': [{'id': 'call_99u2JtQ8Ozp5KtbW4bQKFQCT', 'function': {'arguments': '{\"query\":\"current weather in Bangalore\"}', 'name': 'tavily_search_results_json'}, 'type': 'function'}], 'refusal': None}, response_metadata={'token_usage': {'completion_tokens': 21, 'prompt_tokens': 3684, 'total_tokens': 3705, 'completion_tokens_details': {'accepted_prediction_tokens': 0, 'audio_tokens': 0, 'reasoning_tokens': 0, 'rejected_prediction_tokens': 0}, 'prompt_tokens_details': {'audio_tokens': 0, 'cached_tokens': 3584}}, 'model_name': 'gpt-4o-2024-08-06', 'system_fingerprint': 'fp_a288987b44', 'id': 'chatcmpl-BziTQFXiZUVtB4SgkqCnMKbJuLlk6', 'service_tier': 'default', 'finish_reason': 'tool_calls', 'logprobs': None}, id='run--59972bad-516b-41ab-80cd-7d571c4677f0-0', tool_calls=[{'name': 'tavily_search_results_json', 'args': {'query': 'current weather in Bangalore'}, 'id': 'call_99u2JtQ8Ozp5KtbW4bQKFQCT', 'type': 'tool_call'}], usage_metadata={'input_tokens': 3684, 'output_tokens': 21, 'total_tokens': 3705, 'input_token_details': {'audio': 0, 'cache_read': 3584}, 'output_token_details': {'audio': 0, 'reasoning': 0}})]}\n"
     ]
    }
   ],
   "source": [
    "for event in events:\n",
    "    print(event)"
   ]
  },
  {
   "cell_type": "code",
   "execution_count": 126,
   "id": "5d1fa134",
   "metadata": {},
   "outputs": [],
   "source": [
    "\n",
    "for event in events:\n",
    "    if \"messages\" in event:\n",
    "        event[\"messages\"][-1].pretty_print()"
   ]
  },
  {
   "cell_type": "code",
   "execution_count": 127,
   "id": "0ac49a66",
   "metadata": {},
   "outputs": [],
   "source": [
    "\n",
    "snapshot = app2.get_state(config)\n",
    "     "
   ]
  },
  {
   "cell_type": "code",
   "execution_count": 128,
   "id": "d4859c01",
   "metadata": {},
   "outputs": [
    {
     "data": {
      "text/plain": [
       "('tools',)"
      ]
     },
     "execution_count": 128,
     "metadata": {},
     "output_type": "execute_result"
    }
   ],
   "source": [
    "\n",
    "snapshot.next"
   ]
  },
  {
   "cell_type": "code",
   "execution_count": 129,
   "id": "1d7ca9b5",
   "metadata": {},
   "outputs": [],
   "source": [
    "\n",
    "last_message=snapshot.values[\"messages\"][-1]"
   ]
  },
  {
   "cell_type": "code",
   "execution_count": 130,
   "id": "bbd13975",
   "metadata": {},
   "outputs": [
    {
     "data": {
      "text/plain": [
       "[{'name': 'tavily_search_results_json',\n",
       "  'args': {'query': 'current weather in Bangalore'},\n",
       "  'id': 'call_99u2JtQ8Ozp5KtbW4bQKFQCT',\n",
       "  'type': 'tool_call'}]"
      ]
     },
     "execution_count": 130,
     "metadata": {},
     "output_type": "execute_result"
    }
   ],
   "source": [
    "\n",
    "last_message.tool_calls"
   ]
  },
  {
   "cell_type": "code",
   "execution_count": 131,
   "id": "22937065",
   "metadata": {},
   "outputs": [],
   "source": [
    "events = app2.stream(None, config, stream_mode=\"values\")"
   ]
  },
  {
   "cell_type": "code",
   "execution_count": 132,
   "id": "bbaaf8ef",
   "metadata": {},
   "outputs": [
    {
     "name": "stdout",
     "output_type": "stream",
     "text": [
      "==================================\u001b[1m Ai Message \u001b[0m==================================\n",
      "Tool Calls:\n",
      "  tavily_search_results_json (call_99u2JtQ8Ozp5KtbW4bQKFQCT)\n",
      " Call ID: call_99u2JtQ8Ozp5KtbW4bQKFQCT\n",
      "  Args:\n",
      "    query: current weather in Bangalore\n",
      "=================================\u001b[1m Tool Message \u001b[0m=================================\n",
      "Name: tavily_search_results_json\n",
      "\n",
      "[{\"title\": \"Bangalore Weather and AQI Today: Warm start at 16.5 °C, check ...\", \"url\": \"https://www.hindustantimes.com/cities/bengaluru-news/bangalore-weather-today-aqi-and-rain-forecast-updates-january-8-2025-101736299808088.html\", \"content\": \"The temperature in Bangalore today, on January 8, 2025, is 24.87 °C. The day's forecast indicates a minimum and maximum temperature of 16.5 °C and 27.25 °C,\", \"score\": 0.9332426}, {\"title\": \"Bangalore Weather Today (Friday, Aug 01, 2025) - India Today\", \"url\": \"https://www.indiatoday.in/weather/bangalore-weather-forecast-today\", \"content\": \"The minimum temperature in Bangalore today is likely to hover around 20 degrees Celsius, while the maximum temperature might reach 27 degrees Celsius.\", \"score\": 0.902687}, {\"title\": \"Bangalore weather in August 2025 - Weather25.com\", \"url\": \"https://www.weather25.com/asia/india/karnataka/bangalore?page=month&month=August\", \"content\": \"| Month | Temperatures | Rainy Days | Dry Days | Snowy Days | Rainfall | Weather | More details |\\n| --- | --- | --- | --- | --- | --- | --- | --- |\\n| January | 29° / 17° | 1 | 31 | 0 | 12 mm | Good | Bangalore in January |\\n| February | 32° / 18° | 1 | 28 | 0 | 14 mm | Good | Bangalore in February |\\n| March | 35° / 22° | 1 | 30 | 0 | 27 mm | Ok | Bangalore in March |\\n| April | 36° / 24° | 4 | 26 | 0 | 61 mm | Ok | Bangalore in April | [...] Patchy rain possible\\nPatchy rain possible\\nLight rain shower\\nLight rain shower\\nLight rain\\nLight rain shower\\nLight rain shower\\nModerate or heavy rain shower\\nLight drizzle\\nLight rain shower\\nLight rain shower\\nLight rain shower\\nLight drizzle\\nLight rain shower\\nPatchy rain possible\\nPartly cloudy\\nLight rain shower\\nTorrential rain shower\\nModerate or heavy rain shower\\nPatchy rain possible\\nModerate or heavy rain shower\\nPatchy rain possible\\nPatchy rain possible\\nPatchy rain possible\\nPatchy rain possible [...] | Sun | Mon | Tue | Wed | Thu | Fri | Sat |\\n| --- | --- | --- | --- | --- | --- | --- |\\n|  |  |  |  |  | 1 Patchy rain possible 27° /20° | 2 Patchy rain possible 28° /20° |\\n| 3 Light rain shower 28° /20° | 4 Light rain shower 25° /20° | 5 Light rain 21° /19° | 6 Light rain shower 22° /19° | 7 Light rain shower 26° /20° | 8 Moderate or heavy rain shower 22° /20° | 9 Light drizzle 23° /19° |\", \"score\": 0.6892434}, {\"title\": \"Weather Bengaluru in August 2025 - Climate-Data.org\", \"url\": \"https://en.climate-data.org/asia/india/karnataka/bengaluru-4562/t/august-8/\", \"content\": \"In the first third of the month, the average high reaches 25.8°C | 78.4°F and the low is around 19.3°C | 66.7°F. From days 11–20, highs average 25.9°C | 78.6°F,\", \"score\": 0.63152665}, {\"title\": \"Bengaluru, Karnataka, India Monthly Weather - AccuWeather\", \"url\": \"https://www.accuweather.com/en/in/bengaluru/204108/august-weather/204108\", \"content\": \"Get the monthly weather forecast for Bengaluru, Karnataka, India, including daily high/low, historical averages, to help you plan ahead.\", \"score\": 0.15753852}]\n",
      "==================================\u001b[1m Ai Message \u001b[0m==================================\n",
      "\n",
      "As of today, the weather in Bangalore is warm with a temperature around 24.87°C. The forecast indicates a minimum temperature of 16.5°C and a maximum temperature of 27.25°C. For more detailed updates, you can check out [Hindustan Times](https://www.hindustantimes.com/cities/bengaluru-news/bangalore-weather-today-aqi-and-rain-forecast-updates-january-8-2025-101736299808088.html).\n"
     ]
    }
   ],
   "source": [
    "for event in events:\n",
    "    if \"messages\" in event:\n",
    "        event[\"messages\"][-1].pretty_print()"
   ]
  },
  {
   "cell_type": "code",
   "execution_count": 133,
   "id": "38bdbcba",
   "metadata": {},
   "outputs": [
    {
     "data": {
      "text/plain": [
       "StateSnapshot(values={'messages': [['user', 'famous places of the bangalore and must visit restaurants?'], AIMessage(content='', additional_kwargs={'tool_calls': [{'id': 'call_LKwaaj05CufAYNRjx74E8TxV', 'function': {'arguments': '{\"query\": \"famous places to visit in Bangalore\"}', 'name': 'tavily_search_results_json'}, 'type': 'function'}, {'id': 'call_odHppkx11gaGQwooaF8VfyOw', 'function': {'arguments': '{\"query\": \"must visit restaurants in Bangalore\"}', 'name': 'tavily_search_results_json'}, 'type': 'function'}], 'refusal': None}, response_metadata={'token_usage': {'completion_tokens': 62, 'prompt_tokens': 91, 'total_tokens': 153, 'completion_tokens_details': {'accepted_prediction_tokens': 0, 'audio_tokens': 0, 'reasoning_tokens': 0, 'rejected_prediction_tokens': 0}, 'prompt_tokens_details': {'audio_tokens': 0, 'cached_tokens': 0}}, 'model_name': 'gpt-4o-2024-08-06', 'system_fingerprint': 'fp_a288987b44', 'id': 'chatcmpl-BziR5hqhkogo8uVUkYbjDwSy0BoDc', 'service_tier': 'default', 'finish_reason': 'tool_calls', 'logprobs': None}, id='run--28988e0d-f048-4626-9f8a-6afe7dee3c94-0', tool_calls=[{'name': 'tavily_search_results_json', 'args': {'query': 'famous places to visit in Bangalore'}, 'id': 'call_LKwaaj05CufAYNRjx74E8TxV', 'type': 'tool_call'}, {'name': 'tavily_search_results_json', 'args': {'query': 'must visit restaurants in Bangalore'}, 'id': 'call_odHppkx11gaGQwooaF8VfyOw', 'type': 'tool_call'}], usage_metadata={'input_tokens': 91, 'output_tokens': 62, 'total_tokens': 153, 'input_token_details': {'audio': 0, 'cache_read': 0}, 'output_token_details': {'audio': 0, 'reasoning': 0}}), ToolMessage(content='[{\"title\": \"Explore The List Of Places To Visit In Bangalore\", \"url\": \"https://www.captureatrip.com/blog/places-to-visit-in-bangalore\", \"content\": \"3. What are the famous places to visit in Bangalore ?\\\\n\\\\nOthers are Vidhana Soudha, Bangalore Palace and Bull Temple for its historical and cultural value.\\\\n\\\\n4. Where can I go for a weekend in Bangalore?\\\\n\\\\nNandi Hills is another suitable place for a weekend trip and it offers scenic views of the city while Bannerghatta National Park offers a wildlife experience.\\\\n\\\\nRecent Blogs\\\\n\\\\n8 Best Bikes in India for Ladakh Trip: Ultimate Adventure Ride\\\\n\\\\nFlame Towers Baku- A Fiery Marvel in the Land of Fire [...] This beautiful palace was the summer residence of the great Kingdom’s ruler, Tipu Sultan and is an Indo Islamic architectural masterpiece. This place is one of the most famous places to visit in Bangalore due to the presence of gorgeous wooden carved work and history.\\\\n\\\\n4. ISKCON Temple: [...] 2. Bannerghatta National Park:\\\\n\\\\nSituated on the outskirts of the city, this national park harbors different wild animals such as tigers, lions and elephants. This is a great way to spend the day with the family making it one of the most popular places to visit in Bangalore.\\\\n\\\\n3. Tipu Sultan’s Summer Palace:\", \"score\": 0.9035075}, {\"title\": \"52 Best Places to visit in Bangalore | Top Tourist Attractions - Holidify\", \"url\": \"https://www.holidify.com/places/bangalore/sightseeing-and-things-to-do.html\", \"content\": \"Reach out to us on: [\\\\\\\\[email protected\\\\\\\\]](\\\\n\\\\n  \\\\n\\\\n  \\\\n\\\\n© Holidify Travels Pvt Ltd.- All Right Reserved\\\\n\\\\n   Bangalore\\\\n   Places To Visit\\\\n   Packages\\\\n   Hotels\\\\n   How to Reach\\\\n   Best Time To Visit\\\\n   Photos\\\\n   Food\\\\n   More\\\\n       Collections\\\\n        \\\\n       Map\\\\n        \\\\n       Reviews & QnA\\\\n        \\\\n       Travel Agents\\\\n        \\\\n   Collections\\\\n   Map\\\\n   Reviews & QnA\\\\n   Travel Agents\\\\n\\\\n     \\\\n\\\\nBangalore, Karnataka\\\\n\\\\nCubbon Park\\\\n\\\\nLalbagh\\\\n\\\\nCubbon Park\\\\n\\\\nBangalore Palace\\\\n\\\\nImage 2 [...] Located in : Central Bangalore\\\\n\\\\nBuilt in 1882, St. Mary\\'s Basilica is the oldest church in Bangalore and is the only church in the state that has been elevated to the status of a minor basilica. It is famous for the festivities it holds during the St. Mary\\'s Feast, in September each year. It is a marvellous sight to behold with its towering façade, glass windows, and the loving statues of Mother Mary.\\\\n\\\\n  Read More [...] Art Gallery (19)\\\\n   Garden & Park (13)\\\\n   Amusement & Theme Park (7)\\\\n   Forts & Palaces (7)\\\\n   Hills & Valleys (7)\\\\n   Temple (6)\\\\n   Lake (4)\\\\n   Museum (4)\\\\n   Waterfall (3)\\\\n   Commercial Street (2)\\\\n   Shopping Market (2)\\\\n   Monument (1)\\\\n   National Park (1)\\\\n   Yoga & Meditation (1)\\\\n   Buddhist Temple (1)\\\\n   Planetarium (1)\\\\n   Church & Cathedral (1)\\\\n   Aquarium (1)\\\\n   Adventure Zone (1)\\\\n\\\\nTop Categories\\\\n--------------\", \"score\": 0.8446273}, {\"title\": \"20 places to visit in Bengaluru that are not tourist traps\", \"url\": \"https://www.cntraveller.in/story/places-to-visit-in-bengaluru-not-tourist-traps/\", \"content\": \"Bengaluru is an epicurean paradise for foodies – do the classic tiffin trail from MTR to CTR, Airlines Hotel, Vidyarthi Bhavan and Veena Stores (Deepika Padukone’s favourite). Try colonial-era cuisine at Koshy’s, Tycoon and The Only Place for steaks. Dig in to some Maratha-style donne biryani at Shivaji Military Hotel and SG Rao Military Hotel at Cottonpet or head to Hoskote for its 4am dum biryani. Try ‘naati’ or native flavours of Gowda cuisine at Malgudi Mylare Mane and Bengaluru Oota [...] Lending its name to one of the oldest residential localities in Bengaluru, Basavana gudi, literally Bull Temple, is one of the city’s most famous landmarks. Nandi’s monolithic idol was built out of black stone during the reign of Kempegowda I. Kempegowda chanced upon a Ganesha rock etching near the Bull Temple, so an 18 ft high, 16 ft wide stone sculpture of Dodda Ganesha, or ‘Satya/Shakti Ganapati’ was carved. Benne alankara, the decoration of the idol with butter, betel leaves, flowers and [...] Bengaluru appreciates music across all genres, from rock shows in Palace Grounds, blues and jazz concerts at Windmills Craftworks, Carnatic and Hindustani recitals at Bangalore Gayana Samaja to EDM and hip hop at Gylt and Sunburn Union, various venues across the city like Hard Rock Café, The Blue Room, Max Mueller Bhavan and Alliance Française de Bangalore host regular gigs. The violin-shaped Chowdiah Memorial Hall, dedicated to Karnataka’s celebrated violinist T Chowdiah, is a popular venue.\", \"score\": 0.8440111}, {\"title\": \"Bengaluru (Bangalore) travel guide - things to do | Qantas NL\", \"url\": \"https://www.qantas.com/us/en/travel-guides/asia/india/bengaluru-bangalore.html\", \"content\": \"A vibrant city with a multi-dimensional aura, Bengaluru is modern while also calming and traditional. With so much to see and do, Bengaluru is one of the most popular holiday destinations for tourists exploring India. You can visit the cultural temples, monuments and buildings such as the ISKCON Temple and Vidhana Soudha. You can also venture on a wildlife safari, relax in the lap of nature at Cubbon Park, or shop your heart out on Bengaluru’s Commercial Street.\", \"score\": 0.8415267}, {\"title\": \"Bengaluru Tourist Places | Best Places To Visit - Incredible India\", \"url\": \"https://www.incredibleindia.gov.in/en/karnataka/bengaluru\", \"content\": \"A welcome green space in the city\\'s heart, shaded by massive clumps of bamboo, Cubbon Park is entered from the western end of MG Road, presided over by a statue of Queen Victoria. On Kasturba Road, which runs along its southern edge, the Government Museum features prehistoric artifacts, Vijayanagar, Hoysala, and Chalukya sculptures, musical instruments, Thanjavur paintings, and Deccani and Rajasthani miniatures. It includes the adjacent Venkat Appa Art Gallery, which exhibits 20th-century [...] The big boom may be over, but Bengaluru’s bright young things still have money to spend, and nightlife in the city is thriving. A night on the town generally starts with a bar crawl along Brigade Road, Residency Road, or Church Street. For quiet, elegant drinking, head for the bars of five-star hotels such as the Jockey Club at the Taj Residency or its competition, the Polo Club at the Oberoi, and for a taste of colonial grandeur, the Colonnade at the Taj West End.\\\\n\\\\n#### A shopper’s paradise [...] Welcome to Bengaluru, the Silicon Valley of India. This vibrant metropolis, nestled in Karnataka, is not just about its dynamic tech scene. It offers a variety of experiences—from lush parks to serene lakes and ancient temples to bustling markets. Whether exploring the majestic Bangalore Palace, enjoying a stroll through Cubbon Park, or indulging in the city\\'s legendary coffee culture, Bengaluru has something to captivate your heart and inspire your soul!\", \"score\": 0.7859175}]', name='tavily_search_results_json', tool_call_id='call_LKwaaj05CufAYNRjx74E8TxV', artifact={'query': 'famous places to visit in Bangalore', 'follow_up_questions': None, 'answer': None, 'images': [], 'results': [{'url': 'https://www.captureatrip.com/blog/places-to-visit-in-bangalore', 'title': 'Explore The List Of Places To Visit In Bangalore', 'content': '3. What are the famous places to visit in Bangalore ?\\n\\nOthers are Vidhana Soudha, Bangalore Palace and Bull Temple for its historical and cultural value.\\n\\n4. Where can I go for a weekend in Bangalore?\\n\\nNandi Hills is another suitable place for a weekend trip and it offers scenic views of the city while Bannerghatta National Park offers a wildlife experience.\\n\\nRecent Blogs\\n\\n8 Best Bikes in India for Ladakh Trip: Ultimate Adventure Ride\\n\\nFlame Towers Baku- A Fiery Marvel in the Land of Fire [...] This beautiful palace was the summer residence of the great Kingdom’s ruler, Tipu Sultan and is an Indo Islamic architectural masterpiece. This place is one of the most famous places to visit in Bangalore due to the presence of gorgeous wooden carved work and history.\\n\\n4. ISKCON Temple: [...] 2. Bannerghatta National Park:\\n\\nSituated on the outskirts of the city, this national park harbors different wild animals such as tigers, lions and elephants. This is a great way to spend the day with the family making it one of the most popular places to visit in Bangalore.\\n\\n3. Tipu Sultan’s Summer Palace:', 'score': 0.9035075, 'raw_content': None}, {'url': 'https://www.holidify.com/places/bangalore/sightseeing-and-things-to-do.html', 'title': '52 Best Places to visit in Bangalore | Top Tourist Attractions - Holidify', 'content': \"Reach out to us on: [\\\\[email protected\\\\]](\\n\\n  \\n\\n  \\n\\n© Holidify Travels Pvt Ltd.- All Right Reserved\\n\\n   Bangalore\\n   Places To Visit\\n   Packages\\n   Hotels\\n   How to Reach\\n   Best Time To Visit\\n   Photos\\n   Food\\n   More\\n       Collections\\n        \\n       Map\\n        \\n       Reviews & QnA\\n        \\n       Travel Agents\\n        \\n   Collections\\n   Map\\n   Reviews & QnA\\n   Travel Agents\\n\\n     \\n\\nBangalore, Karnataka\\n\\nCubbon Park\\n\\nLalbagh\\n\\nCubbon Park\\n\\nBangalore Palace\\n\\nImage 2 [...] Located in : Central Bangalore\\n\\nBuilt in 1882, St. Mary's Basilica is the oldest church in Bangalore and is the only church in the state that has been elevated to the status of a minor basilica. It is famous for the festivities it holds during the St. Mary's Feast, in September each year. It is a marvellous sight to behold with its towering façade, glass windows, and the loving statues of Mother Mary.\\n\\n  Read More [...] Art Gallery (19)\\n   Garden & Park (13)\\n   Amusement & Theme Park (7)\\n   Forts & Palaces (7)\\n   Hills & Valleys (7)\\n   Temple (6)\\n   Lake (4)\\n   Museum (4)\\n   Waterfall (3)\\n   Commercial Street (2)\\n   Shopping Market (2)\\n   Monument (1)\\n   National Park (1)\\n   Yoga & Meditation (1)\\n   Buddhist Temple (1)\\n   Planetarium (1)\\n   Church & Cathedral (1)\\n   Aquarium (1)\\n   Adventure Zone (1)\\n\\nTop Categories\\n--------------\", 'score': 0.8446273, 'raw_content': None}, {'url': 'https://www.cntraveller.in/story/places-to-visit-in-bengaluru-not-tourist-traps/', 'title': '20 places to visit in Bengaluru that are not tourist traps', 'content': 'Bengaluru is an epicurean paradise for foodies – do the classic tiffin trail from MTR to CTR, Airlines Hotel, Vidyarthi Bhavan and Veena Stores (Deepika Padukone’s favourite). Try colonial-era cuisine at Koshy’s, Tycoon and The Only Place for steaks. Dig in to some Maratha-style donne biryani at Shivaji Military Hotel and SG Rao Military Hotel at Cottonpet or head to Hoskote for its 4am dum biryani. Try ‘naati’ or native flavours of Gowda cuisine at Malgudi Mylare Mane and Bengaluru Oota [...] Lending its name to one of the oldest residential localities in Bengaluru, Basavana gudi, literally Bull Temple, is one of the city’s most famous landmarks. Nandi’s monolithic idol was built out of black stone during the reign of Kempegowda I. Kempegowda chanced upon a Ganesha rock etching near the Bull Temple, so an 18 ft high, 16 ft wide stone sculpture of Dodda Ganesha, or ‘Satya/Shakti Ganapati’ was carved. Benne alankara, the decoration of the idol with butter, betel leaves, flowers and [...] Bengaluru appreciates music across all genres, from rock shows in Palace Grounds, blues and jazz concerts at Windmills Craftworks, Carnatic and Hindustani recitals at Bangalore Gayana Samaja to EDM and hip hop at Gylt and Sunburn Union, various venues across the city like Hard Rock Café, The Blue Room, Max Mueller Bhavan and Alliance Française de Bangalore host regular gigs. The violin-shaped Chowdiah Memorial Hall, dedicated to Karnataka’s celebrated violinist T Chowdiah, is a popular venue.', 'score': 0.8440111, 'raw_content': None}, {'url': 'https://www.qantas.com/us/en/travel-guides/asia/india/bengaluru-bangalore.html', 'title': 'Bengaluru (Bangalore) travel guide - things to do | Qantas NL', 'content': 'A vibrant city with a multi-dimensional aura, Bengaluru is modern while also calming and traditional. With so much to see and do, Bengaluru is one of the most popular holiday destinations for tourists exploring India. You can visit the cultural temples, monuments and buildings such as the ISKCON Temple and Vidhana Soudha. You can also venture on a wildlife safari, relax in the lap of nature at Cubbon Park, or shop your heart out on Bengaluru’s Commercial Street.', 'score': 0.8415267, 'raw_content': None}, {'url': 'https://www.incredibleindia.gov.in/en/karnataka/bengaluru', 'title': 'Bengaluru Tourist Places | Best Places To Visit - Incredible India', 'content': \"A welcome green space in the city's heart, shaded by massive clumps of bamboo, Cubbon Park is entered from the western end of MG Road, presided over by a statue of Queen Victoria. On Kasturba Road, which runs along its southern edge, the Government Museum features prehistoric artifacts, Vijayanagar, Hoysala, and Chalukya sculptures, musical instruments, Thanjavur paintings, and Deccani and Rajasthani miniatures. It includes the adjacent Venkat Appa Art Gallery, which exhibits 20th-century [...] The big boom may be over, but Bengaluru’s bright young things still have money to spend, and nightlife in the city is thriving. A night on the town generally starts with a bar crawl along Brigade Road, Residency Road, or Church Street. For quiet, elegant drinking, head for the bars of five-star hotels such as the Jockey Club at the Taj Residency or its competition, the Polo Club at the Oberoi, and for a taste of colonial grandeur, the Colonnade at the Taj West End.\\n\\n#### A shopper’s paradise [...] Welcome to Bengaluru, the Silicon Valley of India. This vibrant metropolis, nestled in Karnataka, is not just about its dynamic tech scene. It offers a variety of experiences—from lush parks to serene lakes and ancient temples to bustling markets. Whether exploring the majestic Bangalore Palace, enjoying a stroll through Cubbon Park, or indulging in the city's legendary coffee culture, Bengaluru has something to captivate your heart and inspire your soul!\", 'score': 0.7859175, 'raw_content': None}], 'response_time': 2.34}), ToolMessage(content='[{\"title\": \"The 11 best restaurants in Bengaluru to know about\", \"url\": \"https://www.cntraveller.in/story/the-11-best-restaurants-in-bengaluru-to-know-about-top-restaurant-awards/\", \"content\": \"There’s no denying that Bengaluru is a salad bowl of all things food and brews, and a look at Condé Nast Traveller’s Top Restaurant Awards 2023 just confirms that. With 11 restaurants in the top 50, the city represented a wild mix of cuisines, cooking techniques, and innovations in fine dining. Alongside familiar names such as Falak and Burma Burma Restaurant & Tearoom, along with a bunch of newer and smaller haunts to take note of, from a ramen bar that took birth in the heat of the pandemic [...] Boteco, led by Brazilian-origin chef Guto Souza, specialises in South American and Brazilian cuisine. Grapefruit sours, Rositos and Twisted Negronis can be paired with prawn croquettes, beef carpaccio and Brazilian cheese bread. The restaurant also has its own ‘Churrasqueira’ or charcoal grill section for sizzling, smokey meat and vegetable barbecues. Look out for chef Guto’s exclusive chef’s tables, which he hosts every few months, with a six-course degustation dinner with wine pairings. [...] From the team behind Olive Bar & Kitchen, Toast & Tonic is all about innovation and sustainability, taking inspiration from local ingredients and American cuisine. Dishes here are led by curiosity but remain comforting and indulgent, like their signature flatbreads, lamb turnovers, ragi chips with edamame hummus and juicy burgers with fries. Head chef Chirag Makwana specialises in Italian, French-Canadian and North American cuisines brings more than 13 years of culinary experience to the table.\", \"score\": 0.7485182}, {\"title\": \"10 Must Eat Foods for Bangalore Visitors and Foodies - Evoma Hotel\", \"url\": \"https://www.evomahotels.com/blog/10-must-eat-foods-for-bangalore-visitors-and-foodies.html\", \"content\": \"You can visit Halli Mane for your great tasting Bisi bele bath. [...] Veena Stores: Margosa Road, Malleswaram (at the Sankey Tank end of the road).  \\\\n Brahminâ\\x80\\x99s Coffee Bar: Near Shankar Mutt, Basavanagudi. [...] The best place to try out Benne Masala is at Central Tiffin Room (CTR), Margosa Road at its K.G. General Hospital end. This place has been dishing out this variety of dosas for more than six decades.  \\\\n Â\", \"score\": 0.7476348}, {\"title\": \"Street Food In Bangalore: 20 Delicacies You Can\\'t Miss In 2025\", \"url\": \"https://traveltriangle.com/blog/street-food-in-bangalore/\", \"content\": \"Some of the popular restaurants in Bangalore are Karavalli, JW Kitchen, The Only Place, and Smally\\'s Resto Cafe. If you are planning a trip to some of these restaurants, make sure you call or book in advance as they are often fairly crowded.\\\\n\\\\n## What is the best time to visit Bangalore?\\\\n\\\\nThe best time to visit Bangalore is from March to May and from October to February as the temperatures are favourable during this time.\\\\n\\\\n## Is Bangalore worth visiting? [...] The best way to satisfy your evening cravings in Bangalore is to go out and munch on these golden Sabudana Vadas. They are light, crispy, and are often served with an assortment of dips which makes the experience a special one. The classic way to try them is in central Bangalore where you can find them in street food shacks or in southern restaurants.\\\\n\\\\nWhere to try: Purnabramha Maharashtrian Restaurant, Rajvardhan Foods  \\\\nMust Try:Sabudana Vada with green chutney  \\\\nPrice: INR 20-200 [...] This one dish is evergreen and gets a new flavor everywhere. Try Pav Bhaji in Bangalore for the soul-satisfying taste of it. One of the famous foods in Bangalore, Pav Bhaji is a delicacy made from soft bread and served with thick vegetable curry.  It is delicious and you must not miss it out on your trip to Bangalore.\\\\n\\\\nWhere to try:Village- The Soul Of India, Sukh Sagar, Sikori, and Chaat Street  \\\\nMust Try: Dahi puri, Cheese Pav Bhaji  \\\\nPrice: INR 20-200\\\\n\\\\n### 13. Shawarma\\\\n\\\\nShawarma\\\\nShawarma\", \"score\": 0.7366474}, {\"title\": \"THE 10 BEST Restaurants in Bengaluru (Updated August 2025)\", \"url\": \"https://www.tripadvisor.com/Restaurants-g297628-Bengaluru_Bangalore_District_Karnataka.html\", \"content\": \"Restaurants in Bengaluru · 1. Karavalli @ Taj. 4.8. (2,559 reviews) · 2. WBG - Whitefield Bar and Grill. 4.9. (224 reviews) · 3. Byg Brewski Brewing Company. 4.9.\", \"score\": 0.73459625}, {\"title\": \"Best restaurant in Bangalore - Reddit\", \"url\": \"https://www.reddit.com/r/bangalore/comments/14mznia/best_restaurant_in_bangalore/\", \"content\": \"Kebabs and Curries and Rim Naam for luxe dining. Burma Burma for fancy vegan. Chianti and Toscano for Italian. Bangalore\\'s speciality is the brewpub.\", \"score\": 0.62523276}]', name='tavily_search_results_json', tool_call_id='call_odHppkx11gaGQwooaF8VfyOw', artifact={'query': 'must visit restaurants in Bangalore', 'follow_up_questions': None, 'answer': None, 'images': [], 'results': [{'url': 'https://www.cntraveller.in/story/the-11-best-restaurants-in-bengaluru-to-know-about-top-restaurant-awards/', 'title': 'The 11 best restaurants in Bengaluru to know about', 'content': 'There’s no denying that Bengaluru is a salad bowl of all things food and brews, and a look at Condé Nast Traveller’s Top Restaurant Awards 2023 just confirms that. With 11 restaurants in the top 50, the city represented a wild mix of cuisines, cooking techniques, and innovations in fine dining. Alongside familiar names such as Falak and Burma Burma Restaurant & Tearoom, along with a bunch of newer and smaller haunts to take note of, from a ramen bar that took birth in the heat of the pandemic [...] Boteco, led by Brazilian-origin chef Guto Souza, specialises in South American and Brazilian cuisine. Grapefruit sours, Rositos and Twisted Negronis can be paired with prawn croquettes, beef carpaccio and Brazilian cheese bread. The restaurant also has its own ‘Churrasqueira’ or charcoal grill section for sizzling, smokey meat and vegetable barbecues. Look out for chef Guto’s exclusive chef’s tables, which he hosts every few months, with a six-course degustation dinner with wine pairings. [...] From the team behind Olive Bar & Kitchen, Toast & Tonic is all about innovation and sustainability, taking inspiration from local ingredients and American cuisine. Dishes here are led by curiosity but remain comforting and indulgent, like their signature flatbreads, lamb turnovers, ragi chips with edamame hummus and juicy burgers with fries. Head chef Chirag Makwana specialises in Italian, French-Canadian and North American cuisines brings more than 13 years of culinary experience to the table.', 'score': 0.7485182, 'raw_content': None}, {'url': 'https://www.evomahotels.com/blog/10-must-eat-foods-for-bangalore-visitors-and-foodies.html', 'title': '10 Must Eat Foods for Bangalore Visitors and Foodies - Evoma Hotel', 'content': 'You can visit Halli Mane for your great tasting Bisi bele bath. [...] Veena Stores: Margosa Road, Malleswaram (at the Sankey Tank end of the road).  \\n Brahminâ\\x80\\x99s Coffee Bar: Near Shankar Mutt, Basavanagudi. [...] The best place to try out Benne Masala is at Central Tiffin Room (CTR), Margosa Road at its K.G. General Hospital end. This place has been dishing out this variety of dosas for more than six decades.  \\n Â', 'score': 0.7476348, 'raw_content': None}, {'url': 'https://traveltriangle.com/blog/street-food-in-bangalore/', 'title': \"Street Food In Bangalore: 20 Delicacies You Can't Miss In 2025\", 'content': \"Some of the popular restaurants in Bangalore are Karavalli, JW Kitchen, The Only Place, and Smally's Resto Cafe. If you are planning a trip to some of these restaurants, make sure you call or book in advance as they are often fairly crowded.\\n\\n## What is the best time to visit Bangalore?\\n\\nThe best time to visit Bangalore is from March to May and from October to February as the temperatures are favourable during this time.\\n\\n## Is Bangalore worth visiting? [...] The best way to satisfy your evening cravings in Bangalore is to go out and munch on these golden Sabudana Vadas. They are light, crispy, and are often served with an assortment of dips which makes the experience a special one. The classic way to try them is in central Bangalore where you can find them in street food shacks or in southern restaurants.\\n\\nWhere to try: Purnabramha Maharashtrian Restaurant, Rajvardhan Foods  \\nMust Try:Sabudana Vada with green chutney  \\nPrice: INR 20-200 [...] This one dish is evergreen and gets a new flavor everywhere. Try Pav Bhaji in Bangalore for the soul-satisfying taste of it. One of the famous foods in Bangalore, Pav Bhaji is a delicacy made from soft bread and served with thick vegetable curry.  It is delicious and you must not miss it out on your trip to Bangalore.\\n\\nWhere to try:Village- The Soul Of India, Sukh Sagar, Sikori, and Chaat Street  \\nMust Try: Dahi puri, Cheese Pav Bhaji  \\nPrice: INR 20-200\\n\\n### 13. Shawarma\\n\\nShawarma\\nShawarma\", 'score': 0.7366474, 'raw_content': None}, {'url': 'https://www.tripadvisor.com/Restaurants-g297628-Bengaluru_Bangalore_District_Karnataka.html', 'title': 'THE 10 BEST Restaurants in Bengaluru (Updated August 2025)', 'content': 'Restaurants in Bengaluru · 1. Karavalli @ Taj. 4.8. (2,559 reviews) · 2. WBG - Whitefield Bar and Grill. 4.9. (224 reviews) · 3. Byg Brewski Brewing Company. 4.9.', 'score': 0.73459625, 'raw_content': None}, {'url': 'https://www.reddit.com/r/bangalore/comments/14mznia/best_restaurant_in_bangalore/', 'title': 'Best restaurant in Bangalore - Reddit', 'content': \"Kebabs and Curries and Rim Naam for luxe dining. Burma Burma for fancy vegan. Chianti and Toscano for Italian. Bangalore's speciality is the brewpub.\", 'score': 0.62523276, 'raw_content': None}], 'response_time': 4.58}), AIMessage(content='**Famous Places to Visit in Bangalore:**\\n\\n1. **Bangalore Palace**: A historic palace showcasing Tudor-style architecture and offering a glimpse into royal heritage.\\n2. **Cubbon Park**: A massive green park in the heart of the city perfect for walks and picnics.\\n3. **Lalbagh Botanical Garden**: Known for its glasshouse and beautiful flora.\\n4. **Vidhana Soudha**: The iconic government building known for its grand architecture.\\n5. **ISKCON Temple**: A spiritual center famous for its architectural beauty.\\n6. **Bannerghatta National Park**: Ideal for wildlife enthusiasts looking to see a variety of animals including tigers and lions.\\n7. **Tipu Sultan’s Summer Palace**: A beautiful Indo-Islamic architecture structure, offering rich historical insights.\\n8. **Bull Temple**: Famous for its monolithic statue of Nandi and historical significance.\\n\\nYou can explore more about these places at [Capture a Trip](https://www.captureatrip.com/blog/places-to-visit-in-bangalore) or [Holidify](https://www.holidify.com/places/bangalore/sightseeing-and-things-to-do.html).\\n\\n**Must Visit Restaurants in Bangalore:**\\n\\n1. **Karavalli**: Famous for serving traditional coastal and Malabar cuisine.\\n2. **Byg Brewski Brewing Company**: Known for its brewpub atmosphere.\\n3. **The Only Place**: Offers colonial-era steaks and continental dishes.\\n4. **Boteco**: Specializes in South American and Brazilian cuisine, featuring unique churrasco grills.\\n5. **Burma Burma Restaurant & Tearoom**: Known for its vegan-friendly Burmese cuisine and delightful teas.\\n6. **Toast & Tonic**: Focuses on innovative dishes with local ingredients, offering a mix of American cuisines.\\n7. **CTR (Central Tiffin Room)**: Renowned for its crispy Benne Masala Dosa.\\n8. **Brahmin’s Coffee Bar**: A go-to spot for traditional South Indian breakfasts like idli and vada.\\n\\nFor more detailed reviews and options, you can visit [Condé Nast Traveller](https://www.cntraveller.in/story/the-11-best-restaurants-in-bengaluru-to-know-about-top-restaurant-awards/) or [TripAdvisor](https://www.tripadvisor.com/Restaurants-g297628-Bengaluru_Bangalore_District_Karnataka.html).\\n\\nBoth the places to visit and restaurants reflect the diverse cultural and culinary spirit of Bangalore.', additional_kwargs={'refusal': None}, response_metadata={'token_usage': {'completion_tokens': 520, 'prompt_tokens': 3151, 'total_tokens': 3671, 'completion_tokens_details': {'accepted_prediction_tokens': 0, 'audio_tokens': 0, 'reasoning_tokens': 0, 'rejected_prediction_tokens': 0}, 'prompt_tokens_details': {'audio_tokens': 0, 'cached_tokens': 0}}, 'model_name': 'gpt-4o-2024-08-06', 'system_fingerprint': 'fp_a288987b44', 'id': 'chatcmpl-BziRXV95WXdVMKrvZ3sm1mMotrUfH', 'service_tier': 'default', 'finish_reason': 'stop', 'logprobs': None}, id='run--63e64252-f55c-495d-b9f9-51d83ba9d6f7-0', usage_metadata={'input_tokens': 3151, 'output_tokens': 520, 'total_tokens': 3671, 'input_token_details': {'audio': 0, 'cache_read': 0}, 'output_token_details': {'audio': 0, 'reasoning': 0}}), ['user', 'what is the weather there?'], AIMessage(content='', additional_kwargs={'tool_calls': [{'id': 'call_99u2JtQ8Ozp5KtbW4bQKFQCT', 'function': {'arguments': '{\"query\":\"current weather in Bangalore\"}', 'name': 'tavily_search_results_json'}, 'type': 'function'}], 'refusal': None}, response_metadata={'token_usage': {'completion_tokens': 21, 'prompt_tokens': 3684, 'total_tokens': 3705, 'completion_tokens_details': {'accepted_prediction_tokens': 0, 'audio_tokens': 0, 'reasoning_tokens': 0, 'rejected_prediction_tokens': 0}, 'prompt_tokens_details': {'audio_tokens': 0, 'cached_tokens': 3584}}, 'model_name': 'gpt-4o-2024-08-06', 'system_fingerprint': 'fp_a288987b44', 'id': 'chatcmpl-BziTQFXiZUVtB4SgkqCnMKbJuLlk6', 'service_tier': 'default', 'finish_reason': 'tool_calls', 'logprobs': None}, id='run--59972bad-516b-41ab-80cd-7d571c4677f0-0', tool_calls=[{'name': 'tavily_search_results_json', 'args': {'query': 'current weather in Bangalore'}, 'id': 'call_99u2JtQ8Ozp5KtbW4bQKFQCT', 'type': 'tool_call'}], usage_metadata={'input_tokens': 3684, 'output_tokens': 21, 'total_tokens': 3705, 'input_token_details': {'audio': 0, 'cache_read': 3584}, 'output_token_details': {'audio': 0, 'reasoning': 0}}), ToolMessage(content='[{\"title\": \"Bangalore Weather and AQI Today: Warm start at 16.5 °C, check ...\", \"url\": \"https://www.hindustantimes.com/cities/bengaluru-news/bangalore-weather-today-aqi-and-rain-forecast-updates-january-8-2025-101736299808088.html\", \"content\": \"The temperature in Bangalore today, on January 8, 2025, is 24.87 °C. The day\\'s forecast indicates a minimum and maximum temperature of 16.5 °C and 27.25 °C,\", \"score\": 0.9332426}, {\"title\": \"Bangalore Weather Today (Friday, Aug 01, 2025) - India Today\", \"url\": \"https://www.indiatoday.in/weather/bangalore-weather-forecast-today\", \"content\": \"The minimum temperature in Bangalore today is likely to hover around 20 degrees Celsius, while the maximum temperature might reach 27 degrees Celsius.\", \"score\": 0.902687}, {\"title\": \"Bangalore weather in August 2025 - Weather25.com\", \"url\": \"https://www.weather25.com/asia/india/karnataka/bangalore?page=month&month=August\", \"content\": \"| Month | Temperatures | Rainy Days | Dry Days | Snowy Days | Rainfall | Weather | More details |\\\\n| --- | --- | --- | --- | --- | --- | --- | --- |\\\\n| January | 29° / 17° | 1 | 31 | 0 | 12 mm | Good | Bangalore in January |\\\\n| February | 32° / 18° | 1 | 28 | 0 | 14 mm | Good | Bangalore in February |\\\\n| March | 35° / 22° | 1 | 30 | 0 | 27 mm | Ok | Bangalore in March |\\\\n| April | 36° / 24° | 4 | 26 | 0 | 61 mm | Ok | Bangalore in April | [...] Patchy rain possible\\\\nPatchy rain possible\\\\nLight rain shower\\\\nLight rain shower\\\\nLight rain\\\\nLight rain shower\\\\nLight rain shower\\\\nModerate or heavy rain shower\\\\nLight drizzle\\\\nLight rain shower\\\\nLight rain shower\\\\nLight rain shower\\\\nLight drizzle\\\\nLight rain shower\\\\nPatchy rain possible\\\\nPartly cloudy\\\\nLight rain shower\\\\nTorrential rain shower\\\\nModerate or heavy rain shower\\\\nPatchy rain possible\\\\nModerate or heavy rain shower\\\\nPatchy rain possible\\\\nPatchy rain possible\\\\nPatchy rain possible\\\\nPatchy rain possible [...] | Sun | Mon | Tue | Wed | Thu | Fri | Sat |\\\\n| --- | --- | --- | --- | --- | --- | --- |\\\\n|  |  |  |  |  | 1 Patchy rain possible 27° /20° | 2 Patchy rain possible 28° /20° |\\\\n| 3 Light rain shower 28° /20° | 4 Light rain shower 25° /20° | 5 Light rain 21° /19° | 6 Light rain shower 22° /19° | 7 Light rain shower 26° /20° | 8 Moderate or heavy rain shower 22° /20° | 9 Light drizzle 23° /19° |\", \"score\": 0.6892434}, {\"title\": \"Weather Bengaluru in August 2025 - Climate-Data.org\", \"url\": \"https://en.climate-data.org/asia/india/karnataka/bengaluru-4562/t/august-8/\", \"content\": \"In the first third of the month, the average high reaches 25.8°C | 78.4°F and the low is around 19.3°C | 66.7°F. From days 11–20, highs average 25.9°C | 78.6°F,\", \"score\": 0.63152665}, {\"title\": \"Bengaluru, Karnataka, India Monthly Weather - AccuWeather\", \"url\": \"https://www.accuweather.com/en/in/bengaluru/204108/august-weather/204108\", \"content\": \"Get the monthly weather forecast for Bengaluru, Karnataka, India, including daily high/low, historical averages, to help you plan ahead.\", \"score\": 0.15753852}]', name='tavily_search_results_json', tool_call_id='call_99u2JtQ8Ozp5KtbW4bQKFQCT', artifact={'query': 'current weather in Bangalore', 'follow_up_questions': None, 'answer': None, 'images': [], 'results': [{'url': 'https://www.hindustantimes.com/cities/bengaluru-news/bangalore-weather-today-aqi-and-rain-forecast-updates-january-8-2025-101736299808088.html', 'title': 'Bangalore Weather and AQI Today: Warm start at 16.5 °C, check ...', 'content': \"The temperature in Bangalore today, on January 8, 2025, is 24.87 °C. The day's forecast indicates a minimum and maximum temperature of 16.5 °C and 27.25 °C,\", 'score': 0.9332426, 'raw_content': None}, {'url': 'https://www.indiatoday.in/weather/bangalore-weather-forecast-today', 'title': 'Bangalore Weather Today (Friday, Aug 01, 2025) - India Today', 'content': 'The minimum temperature in Bangalore today is likely to hover around 20 degrees Celsius, while the maximum temperature might reach 27 degrees Celsius.', 'score': 0.902687, 'raw_content': None}, {'url': 'https://www.weather25.com/asia/india/karnataka/bangalore?page=month&month=August', 'title': 'Bangalore weather in August 2025 - Weather25.com', 'content': '| Month | Temperatures | Rainy Days | Dry Days | Snowy Days | Rainfall | Weather | More details |\\n| --- | --- | --- | --- | --- | --- | --- | --- |\\n| January | 29° / 17° | 1 | 31 | 0 | 12 mm | Good | Bangalore in January |\\n| February | 32° / 18° | 1 | 28 | 0 | 14 mm | Good | Bangalore in February |\\n| March | 35° / 22° | 1 | 30 | 0 | 27 mm | Ok | Bangalore in March |\\n| April | 36° / 24° | 4 | 26 | 0 | 61 mm | Ok | Bangalore in April | [...] Patchy rain possible\\nPatchy rain possible\\nLight rain shower\\nLight rain shower\\nLight rain\\nLight rain shower\\nLight rain shower\\nModerate or heavy rain shower\\nLight drizzle\\nLight rain shower\\nLight rain shower\\nLight rain shower\\nLight drizzle\\nLight rain shower\\nPatchy rain possible\\nPartly cloudy\\nLight rain shower\\nTorrential rain shower\\nModerate or heavy rain shower\\nPatchy rain possible\\nModerate or heavy rain shower\\nPatchy rain possible\\nPatchy rain possible\\nPatchy rain possible\\nPatchy rain possible [...] | Sun | Mon | Tue | Wed | Thu | Fri | Sat |\\n| --- | --- | --- | --- | --- | --- | --- |\\n|  |  |  |  |  | 1 Patchy rain possible 27° /20° | 2 Patchy rain possible 28° /20° |\\n| 3 Light rain shower 28° /20° | 4 Light rain shower 25° /20° | 5 Light rain 21° /19° | 6 Light rain shower 22° /19° | 7 Light rain shower 26° /20° | 8 Moderate or heavy rain shower 22° /20° | 9 Light drizzle 23° /19° |', 'score': 0.6892434, 'raw_content': None}, {'url': 'https://en.climate-data.org/asia/india/karnataka/bengaluru-4562/t/august-8/', 'title': 'Weather Bengaluru in August 2025 - Climate-Data.org', 'content': 'In the first third of the month, the average high reaches 25.8°C | 78.4°F and the low is around 19.3°C | 66.7°F. From days 11–20, highs average 25.9°C | 78.6°F,', 'score': 0.63152665, 'raw_content': None}, {'url': 'https://www.accuweather.com/en/in/bengaluru/204108/august-weather/204108', 'title': 'Bengaluru, Karnataka, India Monthly Weather - AccuWeather', 'content': 'Get the monthly weather forecast for Bengaluru, Karnataka, India, including daily high/low, historical averages, to help you plan ahead.', 'score': 0.15753852, 'raw_content': None}], 'response_time': 4.45}), AIMessage(content='As of today, the weather in Bangalore is warm with a temperature around 24.87°C. The forecast indicates a minimum temperature of 16.5°C and a maximum temperature of 27.25°C. For more detailed updates, you can check out [Hindustan Times](https://www.hindustantimes.com/cities/bengaluru-news/bangalore-weather-today-aqi-and-rain-forecast-updates-january-8-2025-101736299808088.html).', additional_kwargs={'refusal': None}, response_metadata={'token_usage': {'completion_tokens': 104, 'prompt_tokens': 4646, 'total_tokens': 4750, 'completion_tokens_details': {'accepted_prediction_tokens': 0, 'audio_tokens': 0, 'reasoning_tokens': 0, 'rejected_prediction_tokens': 0}, 'prompt_tokens_details': {'audio_tokens': 0, 'cached_tokens': 3584}}, 'model_name': 'gpt-4o-2024-08-06', 'system_fingerprint': 'fp_a288987b44', 'id': 'chatcmpl-BziTwmisw9RfSXFVczeCx0CxaP2tj', 'service_tier': 'default', 'finish_reason': 'stop', 'logprobs': None}, id='run--9b113b8e-2504-4a0c-929e-0b603bbcd40c-0', usage_metadata={'input_tokens': 4646, 'output_tokens': 104, 'total_tokens': 4750, 'input_token_details': {'audio': 0, 'cache_read': 3584}, 'output_token_details': {'audio': 0, 'reasoning': 0}})]}, next=(), config={'configurable': {'thread_id': '1', 'checkpoint_ns': '', 'checkpoint_id': '1f06eccf-3764-648c-8008-c5a0b33bee57'}}, metadata={'source': 'loop', 'step': 8, 'parents': {}, 'thread_id': '1'}, created_at='2025-08-01T11:44:58.548318+00:00', parent_config={'configurable': {'thread_id': '1', 'checkpoint_ns': '', 'checkpoint_id': '1f06eccf-1ffd-6910-8007-0b4642266119'}}, tasks=(), interrupts=())"
      ]
     },
     "execution_count": 133,
     "metadata": {},
     "output_type": "execute_result"
    }
   ],
   "source": [
    "\n",
    "app2.get_state(config)"
   ]
  },
  {
   "cell_type": "code",
   "execution_count": 134,
   "id": "b9545780",
   "metadata": {},
   "outputs": [],
   "source": [
    "snapshot = app2.get_state(config)"
   ]
  },
  {
   "cell_type": "code",
   "execution_count": 135,
   "id": "dbbac944",
   "metadata": {},
   "outputs": [
    {
     "data": {
      "text/plain": [
       "()"
      ]
     },
     "execution_count": 135,
     "metadata": {},
     "output_type": "execute_result"
    }
   ],
   "source": [
    "\n",
    "snapshot.next"
   ]
  },
  {
   "cell_type": "code",
   "execution_count": 136,
   "id": "766e50ec",
   "metadata": {},
   "outputs": [],
   "source": [
    "user_input = \"Give me the recent news from there?\"\n",
    "\n",
    "config = {\"configurable\": {\"thread_id\": \"1\"}}"
   ]
  },
  {
   "cell_type": "code",
   "execution_count": 137,
   "id": "eb0ca925",
   "metadata": {},
   "outputs": [],
   "source": [
    "events = app2.stream(\n",
    "    {\"messages\": [(\"user\", user_input)]}, config, stream_mode=\"values\"\n",
    ")"
   ]
  },
  {
   "cell_type": "code",
   "execution_count": 138,
   "id": "0ceadb7b",
   "metadata": {},
   "outputs": [
    {
     "ename": "AttributeError",
     "evalue": "'tuple' object has no attribute 'pretty_print'",
     "output_type": "error",
     "traceback": [
      "\u001b[31m---------------------------------------------------------------------------\u001b[39m",
      "\u001b[31mAttributeError\u001b[39m                            Traceback (most recent call last)",
      "\u001b[36mCell\u001b[39m\u001b[36m \u001b[39m\u001b[32mIn[138]\u001b[39m\u001b[32m, line 3\u001b[39m\n\u001b[32m      1\u001b[39m \u001b[38;5;28;01mfor\u001b[39;00m event \u001b[38;5;129;01min\u001b[39;00m events:\n\u001b[32m      2\u001b[39m     \u001b[38;5;28;01mif\u001b[39;00m \u001b[33m\"\u001b[39m\u001b[33mmessages\u001b[39m\u001b[33m\"\u001b[39m \u001b[38;5;129;01min\u001b[39;00m event:\n\u001b[32m----> \u001b[39m\u001b[32m3\u001b[39m         \u001b[43mevent\u001b[49m\u001b[43m[\u001b[49m\u001b[33;43m\"\u001b[39;49m\u001b[33;43mmessages\u001b[39;49m\u001b[33;43m\"\u001b[39;49m\u001b[43m]\u001b[49m\u001b[43m[\u001b[49m\u001b[43m-\u001b[49m\u001b[32;43m1\u001b[39;49m\u001b[43m]\u001b[49m\u001b[43m.\u001b[49m\u001b[43mpretty_print\u001b[49m()\n",
      "\u001b[31mAttributeError\u001b[39m: 'tuple' object has no attribute 'pretty_print'"
     ]
    }
   ],
   "source": [
    "for event in events:\n",
    "    if \"messages\" in event:\n",
    "        event[\"messages\"][-1].pretty_print()"
   ]
  },
  {
   "cell_type": "code",
   "execution_count": 139,
   "id": "17688970",
   "metadata": {},
   "outputs": [],
   "source": [
    "\n",
    "snapshot = app2.get_state(config)\n",
    "     "
   ]
  },
  {
   "cell_type": "code",
   "execution_count": 140,
   "id": "0458b2c0",
   "metadata": {},
   "outputs": [],
   "source": [
    "\n",
    "current_message = snapshot.values[\"messages\"]\n",
    "     "
   ]
  },
  {
   "cell_type": "code",
   "execution_count": 141,
   "id": "d2ff1937",
   "metadata": {},
   "outputs": [
    {
     "data": {
      "text/plain": [
       "[['user', 'famous places of the bangalore and must visit restaurants?'],\n",
       " AIMessage(content='', additional_kwargs={'tool_calls': [{'id': 'call_LKwaaj05CufAYNRjx74E8TxV', 'function': {'arguments': '{\"query\": \"famous places to visit in Bangalore\"}', 'name': 'tavily_search_results_json'}, 'type': 'function'}, {'id': 'call_odHppkx11gaGQwooaF8VfyOw', 'function': {'arguments': '{\"query\": \"must visit restaurants in Bangalore\"}', 'name': 'tavily_search_results_json'}, 'type': 'function'}], 'refusal': None}, response_metadata={'token_usage': {'completion_tokens': 62, 'prompt_tokens': 91, 'total_tokens': 153, 'completion_tokens_details': {'accepted_prediction_tokens': 0, 'audio_tokens': 0, 'reasoning_tokens': 0, 'rejected_prediction_tokens': 0}, 'prompt_tokens_details': {'audio_tokens': 0, 'cached_tokens': 0}}, 'model_name': 'gpt-4o-2024-08-06', 'system_fingerprint': 'fp_a288987b44', 'id': 'chatcmpl-BziR5hqhkogo8uVUkYbjDwSy0BoDc', 'service_tier': 'default', 'finish_reason': 'tool_calls', 'logprobs': None}, id='run--28988e0d-f048-4626-9f8a-6afe7dee3c94-0', tool_calls=[{'name': 'tavily_search_results_json', 'args': {'query': 'famous places to visit in Bangalore'}, 'id': 'call_LKwaaj05CufAYNRjx74E8TxV', 'type': 'tool_call'}, {'name': 'tavily_search_results_json', 'args': {'query': 'must visit restaurants in Bangalore'}, 'id': 'call_odHppkx11gaGQwooaF8VfyOw', 'type': 'tool_call'}], usage_metadata={'input_tokens': 91, 'output_tokens': 62, 'total_tokens': 153, 'input_token_details': {'audio': 0, 'cache_read': 0}, 'output_token_details': {'audio': 0, 'reasoning': 0}}),\n",
       " ToolMessage(content='[{\"title\": \"Explore The List Of Places To Visit In Bangalore\", \"url\": \"https://www.captureatrip.com/blog/places-to-visit-in-bangalore\", \"content\": \"3. What are the famous places to visit in Bangalore ?\\\\n\\\\nOthers are Vidhana Soudha, Bangalore Palace and Bull Temple for its historical and cultural value.\\\\n\\\\n4. Where can I go for a weekend in Bangalore?\\\\n\\\\nNandi Hills is another suitable place for a weekend trip and it offers scenic views of the city while Bannerghatta National Park offers a wildlife experience.\\\\n\\\\nRecent Blogs\\\\n\\\\n8 Best Bikes in India for Ladakh Trip: Ultimate Adventure Ride\\\\n\\\\nFlame Towers Baku- A Fiery Marvel in the Land of Fire [...] This beautiful palace was the summer residence of the great Kingdom’s ruler, Tipu Sultan and is an Indo Islamic architectural masterpiece. This place is one of the most famous places to visit in Bangalore due to the presence of gorgeous wooden carved work and history.\\\\n\\\\n4. ISKCON Temple: [...] 2. Bannerghatta National Park:\\\\n\\\\nSituated on the outskirts of the city, this national park harbors different wild animals such as tigers, lions and elephants. This is a great way to spend the day with the family making it one of the most popular places to visit in Bangalore.\\\\n\\\\n3. Tipu Sultan’s Summer Palace:\", \"score\": 0.9035075}, {\"title\": \"52 Best Places to visit in Bangalore | Top Tourist Attractions - Holidify\", \"url\": \"https://www.holidify.com/places/bangalore/sightseeing-and-things-to-do.html\", \"content\": \"Reach out to us on: [\\\\\\\\[email protected\\\\\\\\]](\\\\n\\\\n  \\\\n\\\\n  \\\\n\\\\n© Holidify Travels Pvt Ltd.- All Right Reserved\\\\n\\\\n   Bangalore\\\\n   Places To Visit\\\\n   Packages\\\\n   Hotels\\\\n   How to Reach\\\\n   Best Time To Visit\\\\n   Photos\\\\n   Food\\\\n   More\\\\n       Collections\\\\n        \\\\n       Map\\\\n        \\\\n       Reviews & QnA\\\\n        \\\\n       Travel Agents\\\\n        \\\\n   Collections\\\\n   Map\\\\n   Reviews & QnA\\\\n   Travel Agents\\\\n\\\\n     \\\\n\\\\nBangalore, Karnataka\\\\n\\\\nCubbon Park\\\\n\\\\nLalbagh\\\\n\\\\nCubbon Park\\\\n\\\\nBangalore Palace\\\\n\\\\nImage 2 [...] Located in : Central Bangalore\\\\n\\\\nBuilt in 1882, St. Mary\\'s Basilica is the oldest church in Bangalore and is the only church in the state that has been elevated to the status of a minor basilica. It is famous for the festivities it holds during the St. Mary\\'s Feast, in September each year. It is a marvellous sight to behold with its towering façade, glass windows, and the loving statues of Mother Mary.\\\\n\\\\n  Read More [...] Art Gallery (19)\\\\n   Garden & Park (13)\\\\n   Amusement & Theme Park (7)\\\\n   Forts & Palaces (7)\\\\n   Hills & Valleys (7)\\\\n   Temple (6)\\\\n   Lake (4)\\\\n   Museum (4)\\\\n   Waterfall (3)\\\\n   Commercial Street (2)\\\\n   Shopping Market (2)\\\\n   Monument (1)\\\\n   National Park (1)\\\\n   Yoga & Meditation (1)\\\\n   Buddhist Temple (1)\\\\n   Planetarium (1)\\\\n   Church & Cathedral (1)\\\\n   Aquarium (1)\\\\n   Adventure Zone (1)\\\\n\\\\nTop Categories\\\\n--------------\", \"score\": 0.8446273}, {\"title\": \"20 places to visit in Bengaluru that are not tourist traps\", \"url\": \"https://www.cntraveller.in/story/places-to-visit-in-bengaluru-not-tourist-traps/\", \"content\": \"Bengaluru is an epicurean paradise for foodies – do the classic tiffin trail from MTR to CTR, Airlines Hotel, Vidyarthi Bhavan and Veena Stores (Deepika Padukone’s favourite). Try colonial-era cuisine at Koshy’s, Tycoon and The Only Place for steaks. Dig in to some Maratha-style donne biryani at Shivaji Military Hotel and SG Rao Military Hotel at Cottonpet or head to Hoskote for its 4am dum biryani. Try ‘naati’ or native flavours of Gowda cuisine at Malgudi Mylare Mane and Bengaluru Oota [...] Lending its name to one of the oldest residential localities in Bengaluru, Basavana gudi, literally Bull Temple, is one of the city’s most famous landmarks. Nandi’s monolithic idol was built out of black stone during the reign of Kempegowda I. Kempegowda chanced upon a Ganesha rock etching near the Bull Temple, so an 18 ft high, 16 ft wide stone sculpture of Dodda Ganesha, or ‘Satya/Shakti Ganapati’ was carved. Benne alankara, the decoration of the idol with butter, betel leaves, flowers and [...] Bengaluru appreciates music across all genres, from rock shows in Palace Grounds, blues and jazz concerts at Windmills Craftworks, Carnatic and Hindustani recitals at Bangalore Gayana Samaja to EDM and hip hop at Gylt and Sunburn Union, various venues across the city like Hard Rock Café, The Blue Room, Max Mueller Bhavan and Alliance Française de Bangalore host regular gigs. The violin-shaped Chowdiah Memorial Hall, dedicated to Karnataka’s celebrated violinist T Chowdiah, is a popular venue.\", \"score\": 0.8440111}, {\"title\": \"Bengaluru (Bangalore) travel guide - things to do | Qantas NL\", \"url\": \"https://www.qantas.com/us/en/travel-guides/asia/india/bengaluru-bangalore.html\", \"content\": \"A vibrant city with a multi-dimensional aura, Bengaluru is modern while also calming and traditional. With so much to see and do, Bengaluru is one of the most popular holiday destinations for tourists exploring India. You can visit the cultural temples, monuments and buildings such as the ISKCON Temple and Vidhana Soudha. You can also venture on a wildlife safari, relax in the lap of nature at Cubbon Park, or shop your heart out on Bengaluru’s Commercial Street.\", \"score\": 0.8415267}, {\"title\": \"Bengaluru Tourist Places | Best Places To Visit - Incredible India\", \"url\": \"https://www.incredibleindia.gov.in/en/karnataka/bengaluru\", \"content\": \"A welcome green space in the city\\'s heart, shaded by massive clumps of bamboo, Cubbon Park is entered from the western end of MG Road, presided over by a statue of Queen Victoria. On Kasturba Road, which runs along its southern edge, the Government Museum features prehistoric artifacts, Vijayanagar, Hoysala, and Chalukya sculptures, musical instruments, Thanjavur paintings, and Deccani and Rajasthani miniatures. It includes the adjacent Venkat Appa Art Gallery, which exhibits 20th-century [...] The big boom may be over, but Bengaluru’s bright young things still have money to spend, and nightlife in the city is thriving. A night on the town generally starts with a bar crawl along Brigade Road, Residency Road, or Church Street. For quiet, elegant drinking, head for the bars of five-star hotels such as the Jockey Club at the Taj Residency or its competition, the Polo Club at the Oberoi, and for a taste of colonial grandeur, the Colonnade at the Taj West End.\\\\n\\\\n#### A shopper’s paradise [...] Welcome to Bengaluru, the Silicon Valley of India. This vibrant metropolis, nestled in Karnataka, is not just about its dynamic tech scene. It offers a variety of experiences—from lush parks to serene lakes and ancient temples to bustling markets. Whether exploring the majestic Bangalore Palace, enjoying a stroll through Cubbon Park, or indulging in the city\\'s legendary coffee culture, Bengaluru has something to captivate your heart and inspire your soul!\", \"score\": 0.7859175}]', name='tavily_search_results_json', tool_call_id='call_LKwaaj05CufAYNRjx74E8TxV', artifact={'query': 'famous places to visit in Bangalore', 'follow_up_questions': None, 'answer': None, 'images': [], 'results': [{'url': 'https://www.captureatrip.com/blog/places-to-visit-in-bangalore', 'title': 'Explore The List Of Places To Visit In Bangalore', 'content': '3. What are the famous places to visit in Bangalore ?\\n\\nOthers are Vidhana Soudha, Bangalore Palace and Bull Temple for its historical and cultural value.\\n\\n4. Where can I go for a weekend in Bangalore?\\n\\nNandi Hills is another suitable place for a weekend trip and it offers scenic views of the city while Bannerghatta National Park offers a wildlife experience.\\n\\nRecent Blogs\\n\\n8 Best Bikes in India for Ladakh Trip: Ultimate Adventure Ride\\n\\nFlame Towers Baku- A Fiery Marvel in the Land of Fire [...] This beautiful palace was the summer residence of the great Kingdom’s ruler, Tipu Sultan and is an Indo Islamic architectural masterpiece. This place is one of the most famous places to visit in Bangalore due to the presence of gorgeous wooden carved work and history.\\n\\n4. ISKCON Temple: [...] 2. Bannerghatta National Park:\\n\\nSituated on the outskirts of the city, this national park harbors different wild animals such as tigers, lions and elephants. This is a great way to spend the day with the family making it one of the most popular places to visit in Bangalore.\\n\\n3. Tipu Sultan’s Summer Palace:', 'score': 0.9035075, 'raw_content': None}, {'url': 'https://www.holidify.com/places/bangalore/sightseeing-and-things-to-do.html', 'title': '52 Best Places to visit in Bangalore | Top Tourist Attractions - Holidify', 'content': \"Reach out to us on: [\\\\[email protected\\\\]](\\n\\n  \\n\\n  \\n\\n© Holidify Travels Pvt Ltd.- All Right Reserved\\n\\n   Bangalore\\n   Places To Visit\\n   Packages\\n   Hotels\\n   How to Reach\\n   Best Time To Visit\\n   Photos\\n   Food\\n   More\\n       Collections\\n        \\n       Map\\n        \\n       Reviews & QnA\\n        \\n       Travel Agents\\n        \\n   Collections\\n   Map\\n   Reviews & QnA\\n   Travel Agents\\n\\n     \\n\\nBangalore, Karnataka\\n\\nCubbon Park\\n\\nLalbagh\\n\\nCubbon Park\\n\\nBangalore Palace\\n\\nImage 2 [...] Located in : Central Bangalore\\n\\nBuilt in 1882, St. Mary's Basilica is the oldest church in Bangalore and is the only church in the state that has been elevated to the status of a minor basilica. It is famous for the festivities it holds during the St. Mary's Feast, in September each year. It is a marvellous sight to behold with its towering façade, glass windows, and the loving statues of Mother Mary.\\n\\n  Read More [...] Art Gallery (19)\\n   Garden & Park (13)\\n   Amusement & Theme Park (7)\\n   Forts & Palaces (7)\\n   Hills & Valleys (7)\\n   Temple (6)\\n   Lake (4)\\n   Museum (4)\\n   Waterfall (3)\\n   Commercial Street (2)\\n   Shopping Market (2)\\n   Monument (1)\\n   National Park (1)\\n   Yoga & Meditation (1)\\n   Buddhist Temple (1)\\n   Planetarium (1)\\n   Church & Cathedral (1)\\n   Aquarium (1)\\n   Adventure Zone (1)\\n\\nTop Categories\\n--------------\", 'score': 0.8446273, 'raw_content': None}, {'url': 'https://www.cntraveller.in/story/places-to-visit-in-bengaluru-not-tourist-traps/', 'title': '20 places to visit in Bengaluru that are not tourist traps', 'content': 'Bengaluru is an epicurean paradise for foodies – do the classic tiffin trail from MTR to CTR, Airlines Hotel, Vidyarthi Bhavan and Veena Stores (Deepika Padukone’s favourite). Try colonial-era cuisine at Koshy’s, Tycoon and The Only Place for steaks. Dig in to some Maratha-style donne biryani at Shivaji Military Hotel and SG Rao Military Hotel at Cottonpet or head to Hoskote for its 4am dum biryani. Try ‘naati’ or native flavours of Gowda cuisine at Malgudi Mylare Mane and Bengaluru Oota [...] Lending its name to one of the oldest residential localities in Bengaluru, Basavana gudi, literally Bull Temple, is one of the city’s most famous landmarks. Nandi’s monolithic idol was built out of black stone during the reign of Kempegowda I. Kempegowda chanced upon a Ganesha rock etching near the Bull Temple, so an 18 ft high, 16 ft wide stone sculpture of Dodda Ganesha, or ‘Satya/Shakti Ganapati’ was carved. Benne alankara, the decoration of the idol with butter, betel leaves, flowers and [...] Bengaluru appreciates music across all genres, from rock shows in Palace Grounds, blues and jazz concerts at Windmills Craftworks, Carnatic and Hindustani recitals at Bangalore Gayana Samaja to EDM and hip hop at Gylt and Sunburn Union, various venues across the city like Hard Rock Café, The Blue Room, Max Mueller Bhavan and Alliance Française de Bangalore host regular gigs. The violin-shaped Chowdiah Memorial Hall, dedicated to Karnataka’s celebrated violinist T Chowdiah, is a popular venue.', 'score': 0.8440111, 'raw_content': None}, {'url': 'https://www.qantas.com/us/en/travel-guides/asia/india/bengaluru-bangalore.html', 'title': 'Bengaluru (Bangalore) travel guide - things to do | Qantas NL', 'content': 'A vibrant city with a multi-dimensional aura, Bengaluru is modern while also calming and traditional. With so much to see and do, Bengaluru is one of the most popular holiday destinations for tourists exploring India. You can visit the cultural temples, monuments and buildings such as the ISKCON Temple and Vidhana Soudha. You can also venture on a wildlife safari, relax in the lap of nature at Cubbon Park, or shop your heart out on Bengaluru’s Commercial Street.', 'score': 0.8415267, 'raw_content': None}, {'url': 'https://www.incredibleindia.gov.in/en/karnataka/bengaluru', 'title': 'Bengaluru Tourist Places | Best Places To Visit - Incredible India', 'content': \"A welcome green space in the city's heart, shaded by massive clumps of bamboo, Cubbon Park is entered from the western end of MG Road, presided over by a statue of Queen Victoria. On Kasturba Road, which runs along its southern edge, the Government Museum features prehistoric artifacts, Vijayanagar, Hoysala, and Chalukya sculptures, musical instruments, Thanjavur paintings, and Deccani and Rajasthani miniatures. It includes the adjacent Venkat Appa Art Gallery, which exhibits 20th-century [...] The big boom may be over, but Bengaluru’s bright young things still have money to spend, and nightlife in the city is thriving. A night on the town generally starts with a bar crawl along Brigade Road, Residency Road, or Church Street. For quiet, elegant drinking, head for the bars of five-star hotels such as the Jockey Club at the Taj Residency or its competition, the Polo Club at the Oberoi, and for a taste of colonial grandeur, the Colonnade at the Taj West End.\\n\\n#### A shopper’s paradise [...] Welcome to Bengaluru, the Silicon Valley of India. This vibrant metropolis, nestled in Karnataka, is not just about its dynamic tech scene. It offers a variety of experiences—from lush parks to serene lakes and ancient temples to bustling markets. Whether exploring the majestic Bangalore Palace, enjoying a stroll through Cubbon Park, or indulging in the city's legendary coffee culture, Bengaluru has something to captivate your heart and inspire your soul!\", 'score': 0.7859175, 'raw_content': None}], 'response_time': 2.34}),\n",
       " ToolMessage(content='[{\"title\": \"The 11 best restaurants in Bengaluru to know about\", \"url\": \"https://www.cntraveller.in/story/the-11-best-restaurants-in-bengaluru-to-know-about-top-restaurant-awards/\", \"content\": \"There’s no denying that Bengaluru is a salad bowl of all things food and brews, and a look at Condé Nast Traveller’s Top Restaurant Awards 2023 just confirms that. With 11 restaurants in the top 50, the city represented a wild mix of cuisines, cooking techniques, and innovations in fine dining. Alongside familiar names such as Falak and Burma Burma Restaurant & Tearoom, along with a bunch of newer and smaller haunts to take note of, from a ramen bar that took birth in the heat of the pandemic [...] Boteco, led by Brazilian-origin chef Guto Souza, specialises in South American and Brazilian cuisine. Grapefruit sours, Rositos and Twisted Negronis can be paired with prawn croquettes, beef carpaccio and Brazilian cheese bread. The restaurant also has its own ‘Churrasqueira’ or charcoal grill section for sizzling, smokey meat and vegetable barbecues. Look out for chef Guto’s exclusive chef’s tables, which he hosts every few months, with a six-course degustation dinner with wine pairings. [...] From the team behind Olive Bar & Kitchen, Toast & Tonic is all about innovation and sustainability, taking inspiration from local ingredients and American cuisine. Dishes here are led by curiosity but remain comforting and indulgent, like their signature flatbreads, lamb turnovers, ragi chips with edamame hummus and juicy burgers with fries. Head chef Chirag Makwana specialises in Italian, French-Canadian and North American cuisines brings more than 13 years of culinary experience to the table.\", \"score\": 0.7485182}, {\"title\": \"10 Must Eat Foods for Bangalore Visitors and Foodies - Evoma Hotel\", \"url\": \"https://www.evomahotels.com/blog/10-must-eat-foods-for-bangalore-visitors-and-foodies.html\", \"content\": \"You can visit Halli Mane for your great tasting Bisi bele bath. [...] Veena Stores: Margosa Road, Malleswaram (at the Sankey Tank end of the road).  \\\\n Brahminâ\\x80\\x99s Coffee Bar: Near Shankar Mutt, Basavanagudi. [...] The best place to try out Benne Masala is at Central Tiffin Room (CTR), Margosa Road at its K.G. General Hospital end. This place has been dishing out this variety of dosas for more than six decades.  \\\\n Â\", \"score\": 0.7476348}, {\"title\": \"Street Food In Bangalore: 20 Delicacies You Can\\'t Miss In 2025\", \"url\": \"https://traveltriangle.com/blog/street-food-in-bangalore/\", \"content\": \"Some of the popular restaurants in Bangalore are Karavalli, JW Kitchen, The Only Place, and Smally\\'s Resto Cafe. If you are planning a trip to some of these restaurants, make sure you call or book in advance as they are often fairly crowded.\\\\n\\\\n## What is the best time to visit Bangalore?\\\\n\\\\nThe best time to visit Bangalore is from March to May and from October to February as the temperatures are favourable during this time.\\\\n\\\\n## Is Bangalore worth visiting? [...] The best way to satisfy your evening cravings in Bangalore is to go out and munch on these golden Sabudana Vadas. They are light, crispy, and are often served with an assortment of dips which makes the experience a special one. The classic way to try them is in central Bangalore where you can find them in street food shacks or in southern restaurants.\\\\n\\\\nWhere to try: Purnabramha Maharashtrian Restaurant, Rajvardhan Foods  \\\\nMust Try:Sabudana Vada with green chutney  \\\\nPrice: INR 20-200 [...] This one dish is evergreen and gets a new flavor everywhere. Try Pav Bhaji in Bangalore for the soul-satisfying taste of it. One of the famous foods in Bangalore, Pav Bhaji is a delicacy made from soft bread and served with thick vegetable curry.  It is delicious and you must not miss it out on your trip to Bangalore.\\\\n\\\\nWhere to try:Village- The Soul Of India, Sukh Sagar, Sikori, and Chaat Street  \\\\nMust Try: Dahi puri, Cheese Pav Bhaji  \\\\nPrice: INR 20-200\\\\n\\\\n### 13. Shawarma\\\\n\\\\nShawarma\\\\nShawarma\", \"score\": 0.7366474}, {\"title\": \"THE 10 BEST Restaurants in Bengaluru (Updated August 2025)\", \"url\": \"https://www.tripadvisor.com/Restaurants-g297628-Bengaluru_Bangalore_District_Karnataka.html\", \"content\": \"Restaurants in Bengaluru · 1. Karavalli @ Taj. 4.8. (2,559 reviews) · 2. WBG - Whitefield Bar and Grill. 4.9. (224 reviews) · 3. Byg Brewski Brewing Company. 4.9.\", \"score\": 0.73459625}, {\"title\": \"Best restaurant in Bangalore - Reddit\", \"url\": \"https://www.reddit.com/r/bangalore/comments/14mznia/best_restaurant_in_bangalore/\", \"content\": \"Kebabs and Curries and Rim Naam for luxe dining. Burma Burma for fancy vegan. Chianti and Toscano for Italian. Bangalore\\'s speciality is the brewpub.\", \"score\": 0.62523276}]', name='tavily_search_results_json', tool_call_id='call_odHppkx11gaGQwooaF8VfyOw', artifact={'query': 'must visit restaurants in Bangalore', 'follow_up_questions': None, 'answer': None, 'images': [], 'results': [{'url': 'https://www.cntraveller.in/story/the-11-best-restaurants-in-bengaluru-to-know-about-top-restaurant-awards/', 'title': 'The 11 best restaurants in Bengaluru to know about', 'content': 'There’s no denying that Bengaluru is a salad bowl of all things food and brews, and a look at Condé Nast Traveller’s Top Restaurant Awards 2023 just confirms that. With 11 restaurants in the top 50, the city represented a wild mix of cuisines, cooking techniques, and innovations in fine dining. Alongside familiar names such as Falak and Burma Burma Restaurant & Tearoom, along with a bunch of newer and smaller haunts to take note of, from a ramen bar that took birth in the heat of the pandemic [...] Boteco, led by Brazilian-origin chef Guto Souza, specialises in South American and Brazilian cuisine. Grapefruit sours, Rositos and Twisted Negronis can be paired with prawn croquettes, beef carpaccio and Brazilian cheese bread. The restaurant also has its own ‘Churrasqueira’ or charcoal grill section for sizzling, smokey meat and vegetable barbecues. Look out for chef Guto’s exclusive chef’s tables, which he hosts every few months, with a six-course degustation dinner with wine pairings. [...] From the team behind Olive Bar & Kitchen, Toast & Tonic is all about innovation and sustainability, taking inspiration from local ingredients and American cuisine. Dishes here are led by curiosity but remain comforting and indulgent, like their signature flatbreads, lamb turnovers, ragi chips with edamame hummus and juicy burgers with fries. Head chef Chirag Makwana specialises in Italian, French-Canadian and North American cuisines brings more than 13 years of culinary experience to the table.', 'score': 0.7485182, 'raw_content': None}, {'url': 'https://www.evomahotels.com/blog/10-must-eat-foods-for-bangalore-visitors-and-foodies.html', 'title': '10 Must Eat Foods for Bangalore Visitors and Foodies - Evoma Hotel', 'content': 'You can visit Halli Mane for your great tasting Bisi bele bath. [...] Veena Stores: Margosa Road, Malleswaram (at the Sankey Tank end of the road).  \\n Brahminâ\\x80\\x99s Coffee Bar: Near Shankar Mutt, Basavanagudi. [...] The best place to try out Benne Masala is at Central Tiffin Room (CTR), Margosa Road at its K.G. General Hospital end. This place has been dishing out this variety of dosas for more than six decades.  \\n Â', 'score': 0.7476348, 'raw_content': None}, {'url': 'https://traveltriangle.com/blog/street-food-in-bangalore/', 'title': \"Street Food In Bangalore: 20 Delicacies You Can't Miss In 2025\", 'content': \"Some of the popular restaurants in Bangalore are Karavalli, JW Kitchen, The Only Place, and Smally's Resto Cafe. If you are planning a trip to some of these restaurants, make sure you call or book in advance as they are often fairly crowded.\\n\\n## What is the best time to visit Bangalore?\\n\\nThe best time to visit Bangalore is from March to May and from October to February as the temperatures are favourable during this time.\\n\\n## Is Bangalore worth visiting? [...] The best way to satisfy your evening cravings in Bangalore is to go out and munch on these golden Sabudana Vadas. They are light, crispy, and are often served with an assortment of dips which makes the experience a special one. The classic way to try them is in central Bangalore where you can find them in street food shacks or in southern restaurants.\\n\\nWhere to try: Purnabramha Maharashtrian Restaurant, Rajvardhan Foods  \\nMust Try:Sabudana Vada with green chutney  \\nPrice: INR 20-200 [...] This one dish is evergreen and gets a new flavor everywhere. Try Pav Bhaji in Bangalore for the soul-satisfying taste of it. One of the famous foods in Bangalore, Pav Bhaji is a delicacy made from soft bread and served with thick vegetable curry.  It is delicious and you must not miss it out on your trip to Bangalore.\\n\\nWhere to try:Village- The Soul Of India, Sukh Sagar, Sikori, and Chaat Street  \\nMust Try: Dahi puri, Cheese Pav Bhaji  \\nPrice: INR 20-200\\n\\n### 13. Shawarma\\n\\nShawarma\\nShawarma\", 'score': 0.7366474, 'raw_content': None}, {'url': 'https://www.tripadvisor.com/Restaurants-g297628-Bengaluru_Bangalore_District_Karnataka.html', 'title': 'THE 10 BEST Restaurants in Bengaluru (Updated August 2025)', 'content': 'Restaurants in Bengaluru · 1. Karavalli @ Taj. 4.8. (2,559 reviews) · 2. WBG - Whitefield Bar and Grill. 4.9. (224 reviews) · 3. Byg Brewski Brewing Company. 4.9.', 'score': 0.73459625, 'raw_content': None}, {'url': 'https://www.reddit.com/r/bangalore/comments/14mznia/best_restaurant_in_bangalore/', 'title': 'Best restaurant in Bangalore - Reddit', 'content': \"Kebabs and Curries and Rim Naam for luxe dining. Burma Burma for fancy vegan. Chianti and Toscano for Italian. Bangalore's speciality is the brewpub.\", 'score': 0.62523276, 'raw_content': None}], 'response_time': 4.58}),\n",
       " AIMessage(content='**Famous Places to Visit in Bangalore:**\\n\\n1. **Bangalore Palace**: A historic palace showcasing Tudor-style architecture and offering a glimpse into royal heritage.\\n2. **Cubbon Park**: A massive green park in the heart of the city perfect for walks and picnics.\\n3. **Lalbagh Botanical Garden**: Known for its glasshouse and beautiful flora.\\n4. **Vidhana Soudha**: The iconic government building known for its grand architecture.\\n5. **ISKCON Temple**: A spiritual center famous for its architectural beauty.\\n6. **Bannerghatta National Park**: Ideal for wildlife enthusiasts looking to see a variety of animals including tigers and lions.\\n7. **Tipu Sultan’s Summer Palace**: A beautiful Indo-Islamic architecture structure, offering rich historical insights.\\n8. **Bull Temple**: Famous for its monolithic statue of Nandi and historical significance.\\n\\nYou can explore more about these places at [Capture a Trip](https://www.captureatrip.com/blog/places-to-visit-in-bangalore) or [Holidify](https://www.holidify.com/places/bangalore/sightseeing-and-things-to-do.html).\\n\\n**Must Visit Restaurants in Bangalore:**\\n\\n1. **Karavalli**: Famous for serving traditional coastal and Malabar cuisine.\\n2. **Byg Brewski Brewing Company**: Known for its brewpub atmosphere.\\n3. **The Only Place**: Offers colonial-era steaks and continental dishes.\\n4. **Boteco**: Specializes in South American and Brazilian cuisine, featuring unique churrasco grills.\\n5. **Burma Burma Restaurant & Tearoom**: Known for its vegan-friendly Burmese cuisine and delightful teas.\\n6. **Toast & Tonic**: Focuses on innovative dishes with local ingredients, offering a mix of American cuisines.\\n7. **CTR (Central Tiffin Room)**: Renowned for its crispy Benne Masala Dosa.\\n8. **Brahmin’s Coffee Bar**: A go-to spot for traditional South Indian breakfasts like idli and vada.\\n\\nFor more detailed reviews and options, you can visit [Condé Nast Traveller](https://www.cntraveller.in/story/the-11-best-restaurants-in-bengaluru-to-know-about-top-restaurant-awards/) or [TripAdvisor](https://www.tripadvisor.com/Restaurants-g297628-Bengaluru_Bangalore_District_Karnataka.html).\\n\\nBoth the places to visit and restaurants reflect the diverse cultural and culinary spirit of Bangalore.', additional_kwargs={'refusal': None}, response_metadata={'token_usage': {'completion_tokens': 520, 'prompt_tokens': 3151, 'total_tokens': 3671, 'completion_tokens_details': {'accepted_prediction_tokens': 0, 'audio_tokens': 0, 'reasoning_tokens': 0, 'rejected_prediction_tokens': 0}, 'prompt_tokens_details': {'audio_tokens': 0, 'cached_tokens': 0}}, 'model_name': 'gpt-4o-2024-08-06', 'system_fingerprint': 'fp_a288987b44', 'id': 'chatcmpl-BziRXV95WXdVMKrvZ3sm1mMotrUfH', 'service_tier': 'default', 'finish_reason': 'stop', 'logprobs': None}, id='run--63e64252-f55c-495d-b9f9-51d83ba9d6f7-0', usage_metadata={'input_tokens': 3151, 'output_tokens': 520, 'total_tokens': 3671, 'input_token_details': {'audio': 0, 'cache_read': 0}, 'output_token_details': {'audio': 0, 'reasoning': 0}}),\n",
       " ['user', 'what is the weather there?'],\n",
       " AIMessage(content='', additional_kwargs={'tool_calls': [{'id': 'call_99u2JtQ8Ozp5KtbW4bQKFQCT', 'function': {'arguments': '{\"query\":\"current weather in Bangalore\"}', 'name': 'tavily_search_results_json'}, 'type': 'function'}], 'refusal': None}, response_metadata={'token_usage': {'completion_tokens': 21, 'prompt_tokens': 3684, 'total_tokens': 3705, 'completion_tokens_details': {'accepted_prediction_tokens': 0, 'audio_tokens': 0, 'reasoning_tokens': 0, 'rejected_prediction_tokens': 0}, 'prompt_tokens_details': {'audio_tokens': 0, 'cached_tokens': 3584}}, 'model_name': 'gpt-4o-2024-08-06', 'system_fingerprint': 'fp_a288987b44', 'id': 'chatcmpl-BziTQFXiZUVtB4SgkqCnMKbJuLlk6', 'service_tier': 'default', 'finish_reason': 'tool_calls', 'logprobs': None}, id='run--59972bad-516b-41ab-80cd-7d571c4677f0-0', tool_calls=[{'name': 'tavily_search_results_json', 'args': {'query': 'current weather in Bangalore'}, 'id': 'call_99u2JtQ8Ozp5KtbW4bQKFQCT', 'type': 'tool_call'}], usage_metadata={'input_tokens': 3684, 'output_tokens': 21, 'total_tokens': 3705, 'input_token_details': {'audio': 0, 'cache_read': 3584}, 'output_token_details': {'audio': 0, 'reasoning': 0}}),\n",
       " ToolMessage(content='[{\"title\": \"Bangalore Weather and AQI Today: Warm start at 16.5 °C, check ...\", \"url\": \"https://www.hindustantimes.com/cities/bengaluru-news/bangalore-weather-today-aqi-and-rain-forecast-updates-january-8-2025-101736299808088.html\", \"content\": \"The temperature in Bangalore today, on January 8, 2025, is 24.87 °C. The day\\'s forecast indicates a minimum and maximum temperature of 16.5 °C and 27.25 °C,\", \"score\": 0.9332426}, {\"title\": \"Bangalore Weather Today (Friday, Aug 01, 2025) - India Today\", \"url\": \"https://www.indiatoday.in/weather/bangalore-weather-forecast-today\", \"content\": \"The minimum temperature in Bangalore today is likely to hover around 20 degrees Celsius, while the maximum temperature might reach 27 degrees Celsius.\", \"score\": 0.902687}, {\"title\": \"Bangalore weather in August 2025 - Weather25.com\", \"url\": \"https://www.weather25.com/asia/india/karnataka/bangalore?page=month&month=August\", \"content\": \"| Month | Temperatures | Rainy Days | Dry Days | Snowy Days | Rainfall | Weather | More details |\\\\n| --- | --- | --- | --- | --- | --- | --- | --- |\\\\n| January | 29° / 17° | 1 | 31 | 0 | 12 mm | Good | Bangalore in January |\\\\n| February | 32° / 18° | 1 | 28 | 0 | 14 mm | Good | Bangalore in February |\\\\n| March | 35° / 22° | 1 | 30 | 0 | 27 mm | Ok | Bangalore in March |\\\\n| April | 36° / 24° | 4 | 26 | 0 | 61 mm | Ok | Bangalore in April | [...] Patchy rain possible\\\\nPatchy rain possible\\\\nLight rain shower\\\\nLight rain shower\\\\nLight rain\\\\nLight rain shower\\\\nLight rain shower\\\\nModerate or heavy rain shower\\\\nLight drizzle\\\\nLight rain shower\\\\nLight rain shower\\\\nLight rain shower\\\\nLight drizzle\\\\nLight rain shower\\\\nPatchy rain possible\\\\nPartly cloudy\\\\nLight rain shower\\\\nTorrential rain shower\\\\nModerate or heavy rain shower\\\\nPatchy rain possible\\\\nModerate or heavy rain shower\\\\nPatchy rain possible\\\\nPatchy rain possible\\\\nPatchy rain possible\\\\nPatchy rain possible [...] | Sun | Mon | Tue | Wed | Thu | Fri | Sat |\\\\n| --- | --- | --- | --- | --- | --- | --- |\\\\n|  |  |  |  |  | 1 Patchy rain possible 27° /20° | 2 Patchy rain possible 28° /20° |\\\\n| 3 Light rain shower 28° /20° | 4 Light rain shower 25° /20° | 5 Light rain 21° /19° | 6 Light rain shower 22° /19° | 7 Light rain shower 26° /20° | 8 Moderate or heavy rain shower 22° /20° | 9 Light drizzle 23° /19° |\", \"score\": 0.6892434}, {\"title\": \"Weather Bengaluru in August 2025 - Climate-Data.org\", \"url\": \"https://en.climate-data.org/asia/india/karnataka/bengaluru-4562/t/august-8/\", \"content\": \"In the first third of the month, the average high reaches 25.8°C | 78.4°F and the low is around 19.3°C | 66.7°F. From days 11–20, highs average 25.9°C | 78.6°F,\", \"score\": 0.63152665}, {\"title\": \"Bengaluru, Karnataka, India Monthly Weather - AccuWeather\", \"url\": \"https://www.accuweather.com/en/in/bengaluru/204108/august-weather/204108\", \"content\": \"Get the monthly weather forecast for Bengaluru, Karnataka, India, including daily high/low, historical averages, to help you plan ahead.\", \"score\": 0.15753852}]', name='tavily_search_results_json', tool_call_id='call_99u2JtQ8Ozp5KtbW4bQKFQCT', artifact={'query': 'current weather in Bangalore', 'follow_up_questions': None, 'answer': None, 'images': [], 'results': [{'url': 'https://www.hindustantimes.com/cities/bengaluru-news/bangalore-weather-today-aqi-and-rain-forecast-updates-january-8-2025-101736299808088.html', 'title': 'Bangalore Weather and AQI Today: Warm start at 16.5 °C, check ...', 'content': \"The temperature in Bangalore today, on January 8, 2025, is 24.87 °C. The day's forecast indicates a minimum and maximum temperature of 16.5 °C and 27.25 °C,\", 'score': 0.9332426, 'raw_content': None}, {'url': 'https://www.indiatoday.in/weather/bangalore-weather-forecast-today', 'title': 'Bangalore Weather Today (Friday, Aug 01, 2025) - India Today', 'content': 'The minimum temperature in Bangalore today is likely to hover around 20 degrees Celsius, while the maximum temperature might reach 27 degrees Celsius.', 'score': 0.902687, 'raw_content': None}, {'url': 'https://www.weather25.com/asia/india/karnataka/bangalore?page=month&month=August', 'title': 'Bangalore weather in August 2025 - Weather25.com', 'content': '| Month | Temperatures | Rainy Days | Dry Days | Snowy Days | Rainfall | Weather | More details |\\n| --- | --- | --- | --- | --- | --- | --- | --- |\\n| January | 29° / 17° | 1 | 31 | 0 | 12 mm | Good | Bangalore in January |\\n| February | 32° / 18° | 1 | 28 | 0 | 14 mm | Good | Bangalore in February |\\n| March | 35° / 22° | 1 | 30 | 0 | 27 mm | Ok | Bangalore in March |\\n| April | 36° / 24° | 4 | 26 | 0 | 61 mm | Ok | Bangalore in April | [...] Patchy rain possible\\nPatchy rain possible\\nLight rain shower\\nLight rain shower\\nLight rain\\nLight rain shower\\nLight rain shower\\nModerate or heavy rain shower\\nLight drizzle\\nLight rain shower\\nLight rain shower\\nLight rain shower\\nLight drizzle\\nLight rain shower\\nPatchy rain possible\\nPartly cloudy\\nLight rain shower\\nTorrential rain shower\\nModerate or heavy rain shower\\nPatchy rain possible\\nModerate or heavy rain shower\\nPatchy rain possible\\nPatchy rain possible\\nPatchy rain possible\\nPatchy rain possible [...] | Sun | Mon | Tue | Wed | Thu | Fri | Sat |\\n| --- | --- | --- | --- | --- | --- | --- |\\n|  |  |  |  |  | 1 Patchy rain possible 27° /20° | 2 Patchy rain possible 28° /20° |\\n| 3 Light rain shower 28° /20° | 4 Light rain shower 25° /20° | 5 Light rain 21° /19° | 6 Light rain shower 22° /19° | 7 Light rain shower 26° /20° | 8 Moderate or heavy rain shower 22° /20° | 9 Light drizzle 23° /19° |', 'score': 0.6892434, 'raw_content': None}, {'url': 'https://en.climate-data.org/asia/india/karnataka/bengaluru-4562/t/august-8/', 'title': 'Weather Bengaluru in August 2025 - Climate-Data.org', 'content': 'In the first third of the month, the average high reaches 25.8°C | 78.4°F and the low is around 19.3°C | 66.7°F. From days 11–20, highs average 25.9°C | 78.6°F,', 'score': 0.63152665, 'raw_content': None}, {'url': 'https://www.accuweather.com/en/in/bengaluru/204108/august-weather/204108', 'title': 'Bengaluru, Karnataka, India Monthly Weather - AccuWeather', 'content': 'Get the monthly weather forecast for Bengaluru, Karnataka, India, including daily high/low, historical averages, to help you plan ahead.', 'score': 0.15753852, 'raw_content': None}], 'response_time': 4.45}),\n",
       " AIMessage(content='As of today, the weather in Bangalore is warm with a temperature around 24.87°C. The forecast indicates a minimum temperature of 16.5°C and a maximum temperature of 27.25°C. For more detailed updates, you can check out [Hindustan Times](https://www.hindustantimes.com/cities/bengaluru-news/bangalore-weather-today-aqi-and-rain-forecast-updates-january-8-2025-101736299808088.html).', additional_kwargs={'refusal': None}, response_metadata={'token_usage': {'completion_tokens': 104, 'prompt_tokens': 4646, 'total_tokens': 4750, 'completion_tokens_details': {'accepted_prediction_tokens': 0, 'audio_tokens': 0, 'reasoning_tokens': 0, 'rejected_prediction_tokens': 0}, 'prompt_tokens_details': {'audio_tokens': 0, 'cached_tokens': 3584}}, 'model_name': 'gpt-4o-2024-08-06', 'system_fingerprint': 'fp_a288987b44', 'id': 'chatcmpl-BziTwmisw9RfSXFVczeCx0CxaP2tj', 'service_tier': 'default', 'finish_reason': 'stop', 'logprobs': None}, id='run--9b113b8e-2504-4a0c-929e-0b603bbcd40c-0', usage_metadata={'input_tokens': 4646, 'output_tokens': 104, 'total_tokens': 4750, 'input_token_details': {'audio': 0, 'cache_read': 3584}, 'output_token_details': {'audio': 0, 'reasoning': 0}}),\n",
       " ['user', 'Give me the recent news from there?']]"
      ]
     },
     "execution_count": 141,
     "metadata": {},
     "output_type": "execute_result"
    }
   ],
   "source": [
    "current_message"
   ]
  },
  {
   "cell_type": "code",
   "execution_count": 142,
   "id": "1e5dbe7f",
   "metadata": {},
   "outputs": [],
   "source": [
    "for event in events:\n",
    "    if \"messages\" in event:\n",
    "        last_message = event[\"messages\"][-1]\n",
    "        # Print the tuple elements (e.g., role and content)\n",
    "        \n"
   ]
  },
  {
   "cell_type": "code",
   "execution_count": 143,
   "id": "5cd0176c",
   "metadata": {},
   "outputs": [
    {
     "ename": "AttributeError",
     "evalue": "'list' object has no attribute 'pretty_print'",
     "output_type": "error",
     "traceback": [
      "\u001b[31m---------------------------------------------------------------------------\u001b[39m",
      "\u001b[31mAttributeError\u001b[39m                            Traceback (most recent call last)",
      "\u001b[36mCell\u001b[39m\u001b[36m \u001b[39m\u001b[32mIn[143]\u001b[39m\u001b[32m, line 1\u001b[39m\n\u001b[32m----> \u001b[39m\u001b[32m1\u001b[39m \u001b[43mcurrent_message\u001b[49m\u001b[43m.\u001b[49m\u001b[43mpretty_print\u001b[49m()\n",
      "\u001b[31mAttributeError\u001b[39m: 'list' object has no attribute 'pretty_print'"
     ]
    }
   ],
   "source": [
    "current_message.pretty_print()"
   ]
  },
  {
   "cell_type": "code",
   "execution_count": 144,
   "id": "c0d5e933",
   "metadata": {},
   "outputs": [
    {
     "ename": "AttributeError",
     "evalue": "'list' object has no attribute 'tool_calls'",
     "output_type": "error",
     "traceback": [
      "\u001b[31m---------------------------------------------------------------------------\u001b[39m",
      "\u001b[31mAttributeError\u001b[39m                            Traceback (most recent call last)",
      "\u001b[36mCell\u001b[39m\u001b[36m \u001b[39m\u001b[32mIn[144]\u001b[39m\u001b[32m, line 1\u001b[39m\n\u001b[32m----> \u001b[39m\u001b[32m1\u001b[39m tool_call_id = \u001b[43mcurrent_message\u001b[49m\u001b[43m.\u001b[49m\u001b[43mtool_calls\u001b[49m[\u001b[32m0\u001b[39m][\u001b[33m\"\u001b[39m\u001b[33mid\u001b[39m\u001b[33m\"\u001b[39m] \n",
      "\u001b[31mAttributeError\u001b[39m: 'list' object has no attribute 'tool_calls'"
     ]
    }
   ],
   "source": [
    "\n",
    "tool_call_id = current_message.tool_calls[0][\"id\"] "
   ]
  },
  {
   "cell_type": "code",
   "execution_count": 145,
   "id": "fbd8c11d",
   "metadata": {},
   "outputs": [],
   "source": [
    "\n",
    "from langchain_core.messages import AIMessage, ToolMessage"
   ]
  },
  {
   "cell_type": "code",
   "execution_count": 146,
   "id": "05458b2b",
   "metadata": {},
   "outputs": [],
   "source": [
    "answer = \"Delhi is too hot now a days as well as bit foggy\""
   ]
  },
  {
   "cell_type": "code",
   "execution_count": 147,
   "id": "dcf4b4ac",
   "metadata": {},
   "outputs": [
    {
     "ename": "NameError",
     "evalue": "name 'tool_call_id' is not defined",
     "output_type": "error",
     "traceback": [
      "\u001b[31m---------------------------------------------------------------------------\u001b[39m",
      "\u001b[31mNameError\u001b[39m                                 Traceback (most recent call last)",
      "\u001b[36mCell\u001b[39m\u001b[36m \u001b[39m\u001b[32mIn[147]\u001b[39m\u001b[32m, line 2\u001b[39m\n\u001b[32m      1\u001b[39m new_messages = [\n\u001b[32m----> \u001b[39m\u001b[32m2\u001b[39m     ToolMessage(content=answer, tool_call_id=\u001b[43mtool_call_id\u001b[49m),\n\u001b[32m      3\u001b[39m     AIMessage(content=answer),\n\u001b[32m      4\u001b[39m ]\n",
      "\u001b[31mNameError\u001b[39m: name 'tool_call_id' is not defined"
     ]
    }
   ],
   "source": [
    "\n",
    "new_messages = [\n",
    "    ToolMessage(content=answer, tool_call_id=tool_call_id),\n",
    "    AIMessage(content=answer),\n",
    "]"
   ]
  },
  {
   "cell_type": "code",
   "execution_count": 148,
   "id": "7b428561",
   "metadata": {},
   "outputs": [
    {
     "ename": "NameError",
     "evalue": "name 'new_messages' is not defined",
     "output_type": "error",
     "traceback": [
      "\u001b[31m---------------------------------------------------------------------------\u001b[39m",
      "\u001b[31mNameError\u001b[39m                                 Traceback (most recent call last)",
      "\u001b[36mCell\u001b[39m\u001b[36m \u001b[39m\u001b[32mIn[148]\u001b[39m\u001b[32m, line 3\u001b[39m\n\u001b[32m      1\u001b[39m app2.update_state(\n\u001b[32m      2\u001b[39m     config,\n\u001b[32m----> \u001b[39m\u001b[32m3\u001b[39m     {\u001b[33m\"\u001b[39m\u001b[33mmessages\u001b[39m\u001b[33m\"\u001b[39m: \u001b[43mnew_messages\u001b[49m},\n\u001b[32m      4\u001b[39m )\n",
      "\u001b[31mNameError\u001b[39m: name 'new_messages' is not defined"
     ]
    }
   ],
   "source": [
    "\n",
    "app2.update_state(\n",
    "    config,\n",
    "    {\"messages\": new_messages},\n",
    ")"
   ]
  },
  {
   "cell_type": "code",
   "execution_count": 149,
   "id": "7a45c52b",
   "metadata": {},
   "outputs": [
    {
     "name": "stdout",
     "output_type": "stream",
     "text": [
      "[AIMessage(content='', additional_kwargs={'tool_calls': [{'id': 'call_5K7JgECqKIHo4LzcPP8po92v', 'function': {'arguments': '{\"query\":\"recent news in Bangalore\"}', 'name': 'tavily_search_results_json'}, 'type': 'function'}], 'refusal': None}, response_metadata={'token_usage': {'completion_tokens': 21, 'prompt_tokens': 4765, 'total_tokens': 4786, 'completion_tokens_details': {'accepted_prediction_tokens': 0, 'audio_tokens': 0, 'reasoning_tokens': 0, 'rejected_prediction_tokens': 0}, 'prompt_tokens_details': {'audio_tokens': 0, 'cached_tokens': 0}}, 'model_name': 'gpt-4o-2024-08-06', 'system_fingerprint': 'fp_a288987b44', 'id': 'chatcmpl-BzidCEHRvR98rtOvL0fHZGUfskFQL', 'service_tier': 'default', 'finish_reason': 'tool_calls', 'logprobs': None}, id='run--be68ee3e-76e0-44a9-be48-89e1b206e828-0', tool_calls=[{'name': 'tavily_search_results_json', 'args': {'query': 'recent news in Bangalore'}, 'id': 'call_5K7JgECqKIHo4LzcPP8po92v', 'type': 'tool_call'}], usage_metadata={'input_tokens': 4765, 'output_tokens': 21, 'total_tokens': 4786, 'input_token_details': {'audio': 0, 'cache_read': 0}, 'output_token_details': {'audio': 0, 'reasoning': 0}})]\n"
     ]
    }
   ],
   "source": [
    "\n",
    "print(app2.get_state(config).values[\"messages\"][-1:])"
   ]
  },
  {
   "cell_type": "code",
   "execution_count": null,
   "id": "fa4fa45a",
   "metadata": {},
   "outputs": [],
   "source": []
  }
 ],
 "metadata": {
  "kernelspec": {
   "display_name": "rag",
   "language": "python",
   "name": "python3"
  },
  "language_info": {
   "codemirror_mode": {
    "name": "ipython",
    "version": 3
   },
   "file_extension": ".py",
   "mimetype": "text/x-python",
   "name": "python",
   "nbconvert_exporter": "python",
   "pygments_lexer": "ipython3",
   "version": "3.13.3"
  }
 },
 "nbformat": 4,
 "nbformat_minor": 5
}
