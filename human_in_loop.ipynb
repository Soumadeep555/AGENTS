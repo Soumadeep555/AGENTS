{
 "cells": [
  {
   "cell_type": "code",
   "execution_count": 1,
   "id": "c702fb3a",
   "metadata": {},
   "outputs": [],
   "source": [
    "from langchain_openai import ChatOpenAI\n",
    "from dotenv import load_dotenv\n",
    "load_dotenv()\n",
    "import os\n",
    "OPENAI_API_KEY=os.getenv(\"OPENAI_API_KEY\")\n",
    "os.environ[\"OPENAI_API_KEY\"]=OPENAI_API_KEY\n",
    "openai_model=ChatOpenAI(model=\"gpt-4o\")\n",
    "openai_model.invoke(\"hi\")\n",
    "\n",
    "from langgraph.graph import StateGraph,MessagesState, START, END\n",
    "from langgraph.graph.message import add_messages\n",
    "from typing import Annotated, Literal, TypedDict\n",
    "from langchain_core.tools import tool\n",
    "from langchain_core.messages import HumanMessage\n",
    "from langgraph.prebuilt import ToolNode, tools_condition\n",
    "from langgraph.checkpoint.memory import MemorySaver\n",
    "from langgraph.prebuilt import ToolNode\n",
    "\n",
    "import os\n",
    "from langchain_community.tools.tavily_search import TavilySearchResults\n",
    "TAVILY_API_KEY=\"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\"\n",
    "os.environ[\"TAVILY_API_KEY\"]=TAVILY_API_KEY"
   ]
  },
  {
   "cell_type": "markdown",
   "id": "16ef39a3",
   "metadata": {},
   "source": [
    "#### Agent State:"
   ]
  },
  {
   "cell_type": "code",
   "execution_count": 2,
   "id": "6384b597",
   "metadata": {},
   "outputs": [],
   "source": [
    "class AgentState(TypedDict):\n",
    "    messages: Annotated[list, add_messages]"
   ]
  },
  {
   "cell_type": "markdown",
   "id": "f2f19123",
   "metadata": {},
   "source": [
    "#### Tools -> Single Tool (Web Search using Tavily):"
   ]
  },
  {
   "cell_type": "code",
   "execution_count": 3,
   "id": "ef2ad7d4",
   "metadata": {},
   "outputs": [],
   "source": [
    "tavily = TavilySearchResults()"
   ]
  },
  {
   "cell_type": "code",
   "execution_count": 4,
   "id": "08259ad4",
   "metadata": {},
   "outputs": [],
   "source": [
    "tools = [tavily]"
   ]
  },
  {
   "cell_type": "markdown",
   "id": "b170073f",
   "metadata": {},
   "source": [
    "#### Bind Tool with LLM:"
   ]
  },
  {
   "cell_type": "code",
   "execution_count": 5,
   "id": "e21b5705",
   "metadata": {},
   "outputs": [],
   "source": [
    "llm_with_tools = openai_model.bind_tools(tools)"
   ]
  },
  {
   "cell_type": "markdown",
   "id": "380b3404",
   "metadata": {},
   "source": [
    "#### AI Assistant:"
   ]
  },
  {
   "cell_type": "code",
   "execution_count": 6,
   "id": "bf9fca59",
   "metadata": {},
   "outputs": [],
   "source": [
    "def ai_assistant(state: AgentState):\n",
    "    return {\"messages\": [llm_with_tools.invoke(state[\"messages\"])]}"
   ]
  },
  {
   "cell_type": "markdown",
   "id": "52f2dc01",
   "metadata": {},
   "source": [
    "#### Memory Saver:"
   ]
  },
  {
   "cell_type": "code",
   "execution_count": 7,
   "id": "bb56075d",
   "metadata": {},
   "outputs": [],
   "source": [
    "memory = MemorySaver()"
   ]
  },
  {
   "cell_type": "markdown",
   "id": "b5983244",
   "metadata": {},
   "source": [
    "#### Graph Builder:"
   ]
  },
  {
   "cell_type": "code",
   "execution_count": 8,
   "id": "9c36f4bc",
   "metadata": {},
   "outputs": [
    {
     "data": {
      "text/plain": [
       "<langgraph.graph.state.StateGraph at 0x22fef8f6660>"
      ]
     },
     "execution_count": 8,
     "metadata": {},
     "output_type": "execute_result"
    }
   ],
   "source": [
    "graph_builder = StateGraph(AgentState)\n",
    "graph_builder.add_node(\"ai_assistant\", ai_assistant)\n",
    "\n",
    "tool_node = ToolNode(tools=tools)\n",
    "graph_builder.add_node(\"tools\", tool_node)"
   ]
  },
  {
   "cell_type": "markdown",
   "id": "51047a6b",
   "metadata": {},
   "source": [
    "#### Workflow:"
   ]
  },
  {
   "cell_type": "code",
   "execution_count": 9,
   "id": "5d964ac6",
   "metadata": {},
   "outputs": [
    {
     "data": {
      "text/plain": [
       "<langgraph.graph.state.StateGraph at 0x22fef8f6660>"
      ]
     },
     "execution_count": 9,
     "metadata": {},
     "output_type": "execute_result"
    }
   ],
   "source": [
    "graph_builder.add_edge(START, \"ai_assistant\")\n",
    "\n",
    "graph_builder.add_conditional_edges(\n",
    "    \"ai_assistant\",\n",
    "    tools_condition,\n",
    ")\n",
    "graph_builder.add_edge(\"tools\", \"ai_assistant\")"
   ]
  },
  {
   "cell_type": "markdown",
   "id": "632cece4",
   "metadata": {},
   "source": [
    "#### APP:"
   ]
  },
  {
   "cell_type": "code",
   "execution_count": 10,
   "id": "9c1bb3c7",
   "metadata": {},
   "outputs": [],
   "source": [
    "app2 = graph_builder.compile(\n",
    "    checkpointer=memory,\n",
    "    # This is new!\n",
    "    interrupt_before=[\"tools\"],\n",
    "    # Note: can also interrupt __after__ tools, if desired.\n",
    "    # interrupt_after=[\"tools\"]\n",
    ")"
   ]
  },
  {
   "cell_type": "markdown",
   "id": "ca8cf74e",
   "metadata": {},
   "source": [
    "#### APP Display:"
   ]
  },
  {
   "cell_type": "code",
   "execution_count": 11,
   "id": "71ed2dab",
   "metadata": {},
   "outputs": [
    {
     "data": {
      "image/png": "[encoded data removed]",
      "text/plain": [
       "<IPython.core.display.Image object>"
      ]
     },
     "metadata": {},
     "output_type": "display_data"
    }
   ],
   "source": [
    "\n",
    "from IPython.display import Image, display\n",
    "display(Image(app2.get_graph().draw_mermaid_png()))"
   ]
  },
  {
   "cell_type": "markdown",
   "id": "a59cda54",
   "metadata": {},
   "source": [
    "#### User Query Input -> Question:"
   ]
  },
  {
   "cell_type": "code",
   "execution_count": 12,
   "id": "dd4332b7",
   "metadata": {},
   "outputs": [],
   "source": [
    "\n",
    "user_input = \"what is current a capital of india?\"\n",
    "config = {\"configurable\": {\"thread_id\": \"1\"}}"
   ]
  },
  {
   "cell_type": "markdown",
   "id": "ff510cf7",
   "metadata": {},
   "source": [
    "#### Stream APP:"
   ]
  },
  {
   "cell_type": "code",
   "execution_count": 13,
   "id": "c0c993d5",
   "metadata": {},
   "outputs": [],
   "source": [
    "events = app2.stream(\n",
    "    {\"messages\": [(\"user\", user_input)]}, config, stream_mode=\"values\"\n",
    ")"
   ]
  },
  {
   "cell_type": "markdown",
   "id": "b18a781a",
   "metadata": {},
   "source": [
    "#### Pretty Print Response:"
   ]
  },
  {
   "cell_type": "code",
   "execution_count": 14,
   "id": "ffd201b3",
   "metadata": {},
   "outputs": [
    {
     "name": "stdout",
     "output_type": "stream",
     "text": [
      "================================\u001b[1m Human Message \u001b[0m=================================\n",
      "\n",
      "what is current a capital of india?\n",
      "==================================\u001b[1m Ai Message \u001b[0m==================================\n",
      "\n",
      "The current capital of India is New Delhi.\n"
     ]
    }
   ],
   "source": [
    "for event in events:\n",
    "    if \"messages\" in event:\n",
    "        event[\"messages\"][-1].pretty_print()"
   ]
  },
  {
   "cell_type": "markdown",
   "id": "6a7e1a7b",
   "metadata": {},
   "source": [
    "#### Check Shapshot of the Configuration:"
   ]
  },
  {
   "cell_type": "code",
   "execution_count": 15,
   "id": "1e8a100a",
   "metadata": {},
   "outputs": [],
   "source": [
    "snapshot = app2.get_state(config)"
   ]
  },
  {
   "cell_type": "code",
   "execution_count": 16,
   "id": "ddb097f1",
   "metadata": {},
   "outputs": [
    {
     "data": {
      "text/plain": [
       "()"
      ]
     },
     "execution_count": 16,
     "metadata": {},
     "output_type": "execute_result"
    }
   ],
   "source": [
    "snapshot.next"
   ]
  },
  {
   "cell_type": "markdown",
   "id": "6cc55047",
   "metadata": {},
   "source": [
    "#### Collect the Last Message:"
   ]
  },
  {
   "cell_type": "code",
   "execution_count": 17,
   "id": "0cea804c",
   "metadata": {},
   "outputs": [],
   "source": [
    "last_message = snapshot.values[\"messages\"][-1]"
   ]
  },
  {
   "cell_type": "code",
   "execution_count": 18,
   "id": "44c445d4",
   "metadata": {},
   "outputs": [
    {
     "data": {
      "text/plain": [
       "[]"
      ]
     },
     "execution_count": 18,
     "metadata": {},
     "output_type": "execute_result"
    }
   ],
   "source": [
    "last_message.tool_calls"
   ]
  },
  {
   "cell_type": "markdown",
   "id": "b6aca1fc",
   "metadata": {},
   "source": [
    "#### Stream APP:"
   ]
  },
  {
   "cell_type": "code",
   "execution_count": 19,
   "id": "35a273f1",
   "metadata": {},
   "outputs": [],
   "source": [
    "events = app2.stream(None, config, stream_mode=\"values\")"
   ]
  },
  {
   "cell_type": "markdown",
   "id": "ee7376f0",
   "metadata": {},
   "source": [
    "#### Pretty Print the Response:"
   ]
  },
  {
   "cell_type": "code",
   "execution_count": 20,
   "id": "d4102be6",
   "metadata": {},
   "outputs": [
    {
     "name": "stdout",
     "output_type": "stream",
     "text": [
      "==================================\u001b[1m Ai Message \u001b[0m==================================\n",
      "\n",
      "The current capital of India is New Delhi.\n"
     ]
    }
   ],
   "source": [
    "for event in events:\n",
    "    if \"messages\" in event:\n",
    "        event[\"messages\"][-1].pretty_print()\n",
    "     "
   ]
  },
  {
   "cell_type": "markdown",
   "id": "e615788a",
   "metadata": {},
   "source": [
    "#### Use memeory saver in the question:"
   ]
  },
  {
   "cell_type": "code",
   "execution_count": 21,
   "id": "f5541b20",
   "metadata": {},
   "outputs": [],
   "source": [
    "user_input = \"what is a weather there?\"\n",
    "\n",
    "config = {\"configurable\": {\"thread_id\": \"1\"}}"
   ]
  },
  {
   "cell_type": "markdown",
   "id": "cc6e912e",
   "metadata": {},
   "source": [
    "#### Stream APP:"
   ]
  },
  {
   "cell_type": "code",
   "execution_count": 22,
   "id": "4af9b036",
   "metadata": {},
   "outputs": [],
   "source": [
    "events = app2.stream(\n",
    "    {\"messages\": [(\"user\", user_input)]}, config, stream_mode=\"values\"\n",
    ")"
   ]
  },
  {
   "cell_type": "markdown",
   "id": "cb3901a2",
   "metadata": {},
   "source": [
    "#### Pretty Print the Response:"
   ]
  },
  {
   "cell_type": "code",
   "execution_count": 23,
   "id": "e6cf520f",
   "metadata": {},
   "outputs": [
    {
     "name": "stdout",
     "output_type": "stream",
     "text": [
      "================================\u001b[1m Human Message \u001b[0m=================================\n",
      "\n",
      "what is a weather there?\n",
      "==================================\u001b[1m Ai Message \u001b[0m==================================\n",
      "Tool Calls:\n",
      "  tavily_search_results_json (call_BCOHLAGTu5wbPJodv9RFXPYP)\n",
      " Call ID: call_BCOHLAGTu5wbPJodv9RFXPYP\n",
      "  Args:\n",
      "    query: current weather in New Delhi\n"
     ]
    }
   ],
   "source": [
    "for event in events:\n",
    "    if \"messages\" in event:\n",
    "        event[\"messages\"][-1].pretty_print()\n",
    "     "
   ]
  },
  {
   "cell_type": "markdown",
   "id": "c0704464",
   "metadata": {},
   "source": [
    "#### Check Snapshot for the Configuration:"
   ]
  },
  {
   "cell_type": "code",
   "execution_count": 24,
   "id": "33bb3136",
   "metadata": {},
   "outputs": [],
   "source": [
    "snapshot = app2.get_state(config)"
   ]
  },
  {
   "cell_type": "markdown",
   "id": "6bfd12ea",
   "metadata": {},
   "source": [
    "#### Check if Snapshot uses Tools or not:"
   ]
  },
  {
   "cell_type": "code",
   "execution_count": 25,
   "id": "03c8d167",
   "metadata": {},
   "outputs": [
    {
     "data": {
      "text/plain": [
       "('tools',)"
      ]
     },
     "execution_count": 25,
     "metadata": {},
     "output_type": "execute_result"
    }
   ],
   "source": [
    "snapshot.next"
   ]
  },
  {
   "cell_type": "markdown",
   "id": "854caab6",
   "metadata": {},
   "source": [
    "#### Capture the Last Message:"
   ]
  },
  {
   "cell_type": "code",
   "execution_count": 26,
   "id": "e2896e4d",
   "metadata": {},
   "outputs": [],
   "source": [
    "last_message = snapshot.values[\"messages\"][-1]"
   ]
  },
  {
   "cell_type": "code",
   "execution_count": 27,
   "id": "617c3191",
   "metadata": {},
   "outputs": [
    {
     "data": {
      "text/plain": [
       "[{'name': 'tavily_search_results_json',\n",
       "  'args': {'query': 'current weather in New Delhi'},\n",
       "  'id': 'call_BCOHLAGTu5wbPJodv9RFXPYP',\n",
       "  'type': 'tool_call'}]"
      ]
     },
     "execution_count": 27,
     "metadata": {},
     "output_type": "execute_result"
    }
   ],
   "source": [
    "last_message.tool_calls"
   ]
  },
  {
   "cell_type": "markdown",
   "id": "fe404383",
   "metadata": {},
   "source": [
    "#### Stream APP with NONE:"
   ]
  },
  {
   "cell_type": "code",
   "execution_count": 28,
   "id": "d3c013b1",
   "metadata": {},
   "outputs": [],
   "source": [
    "events = app2.stream(None, config, stream_mode=\"values\")"
   ]
  },
  {
   "cell_type": "markdown",
   "id": "5c09dd02",
   "metadata": {},
   "source": [
    "#### Pretty Print the Response:"
   ]
  },
  {
   "cell_type": "code",
   "execution_count": 29,
   "id": "7757566c",
   "metadata": {},
   "outputs": [
    {
     "name": "stdout",
     "output_type": "stream",
     "text": [
      "==================================\u001b[1m Ai Message \u001b[0m==================================\n",
      "Tool Calls:\n",
      "  tavily_search_results_json (call_BCOHLAGTu5wbPJodv9RFXPYP)\n",
      " Call ID: call_BCOHLAGTu5wbPJodv9RFXPYP\n",
      "  Args:\n",
      "    query: current weather in New Delhi\n",
      "=================================\u001b[1m Tool Message \u001b[0m=================================\n",
      "Name: tavily_search_results_json\n",
      "\n",
      "[{\"title\": \"New Delhi 14 Day Extended Forecast - Weather - Time and Date\", \"url\": \"https://www.timeanddate.com/weather/india/new-delhi/ext\", \"content\": \"| \\\\ Updated Friday, August 1, 2025 2:54:29 pm New Delhi time - Weather by CustomWeather, © 2025 | | | | | | | | | | | | | [...] |  | Conditions | | | Comfort | | | | Precipitation | | Sun | | |\\n| --- | --- | --- | --- | --- | --- | --- | --- | --- | --- | --- | --- | --- |\\n| Day |  | Temperature | Weather | Feels Like | Wind |  | Humidity | Chance | Amount | UV | Sunrise | Sunset |\\n| Fri Aug 1 |  | 91 / 80 °F | Passing showers. Cloudy. | 107 °F | 10 mph | ↑ | 73% | 76% | 0.36\\\" | 5 (Moderate) | 5:42 am | 7:11 pm | [...] | Fri Aug 8 |  | 96 / 80 °F | Mostly cloudy. | 112 °F | 7 mph | ↑ | 59% | 6% | 0.00\\\" | 7 (High) | 5:46 am | 7:06 pm |\\n| Sat Aug 9 |  | 93 / 86 °F | Thunderstorms. Mostly cloudy. | 110 °F | 9 mph | ↑ | 65% | 99% | 0.80\\\" | 5 (Moderate) | 5:47 am | 7:05 pm |\\n| Sun Aug 10 |  | 89 / 82 °F | A few tstorms. Cloudy. | 96 °F | 8 mph | ↑ | 58% | 92% | 0.16\\\" | 5 (Moderate) | 5:47 am | 7:04 pm |\", \"score\": 0.72231215}, {\"title\": \"Delhi weather in August 2025 | Delhi 14 day weather - Weather25.com\", \"url\": \"https://www.weather25.com/asia/india/delhi?page=month&month=August\", \"content\": \"| Month | Temperatures | Rainy Days | Dry Days | Snowy Days | Rainfall | Weather | More details |\\n| --- | --- | --- | --- | --- | --- | --- | --- |\\n| January | 22° / 12° | 1 | 30 | 0 | 20 mm | Good | Delhi in January |\\n| February | 26° / 14° | 2 | 27 | 0 | 21 mm | Perfect | Delhi in February |\\n| March | 33° / 20° | 2 | 29 | 0 | 18 mm | Good | Delhi in March |\\n| April | 39° / 27° | 1 | 29 | 0 | 15 mm | Bad | Delhi in April |\\n| May | 43° / 32° | 1 | 30 | 0 | 17 mm | Awful | Delhi in May | [...] | Sun | Mon | Tue | Wed | Thu | Fri | Sat |\\n| --- | --- | --- | --- | --- | --- | --- |\\n|  |  |  |  |  | 1 Light rain shower 34° /27° | 2 Patchy rain possible 35° /29° |\\n| 3 Patchy light drizzle 37° /30° | 4 Patchy rain possible 38° /31° | 5 Patchy rain possible 30° /27° | 6 Patchy rain possible 29° /26° | 7 Patchy rain possible 36° /27° | 8 Partly cloudy 37° /31° | 9 Light rain shower 32° /28° | [...] | 24 Partly cloudy 35° /28° | 25 Partly cloudy 37° /29° | 26 Partly cloudy 37° /28° | 27 Partly cloudy 36° /28° | 28 Partly cloudy 37° /28° | 29 Light rain shower 37° /28° | 30 Cloudy 36° /28° |\\n| 31 Partly cloudy 37° /29° |  |  |  |  |  |  |\", \"score\": 0.5962692}, {\"title\": \"2025 - New Delhi, Delhi, India Monthly Weather | AccuWeather\", \"url\": \"https://www.accuweather.com/en/in/new-delhi/187745/january-weather/187745\", \"content\": \"# New Delhi, Delhi\\n\\nNew Delhi\\n\\nDelhi\\n\\n## Around the Globe\\n\\nAround the Globe\\n\\n### Hurricane Tracker\\n\\n### Severe Weather\\n\\n### Radar & Maps\\n\\n### News & Features\\n\\n### Astronomy\\n\\n### Business\\n\\n### Climate\\n\\n### Health\\n\\n### Recreation\\n\\n### Sports\\n\\n### Travel\\n\\n### Warnings\\n\\n### Data Suite\\n\\n### Forensics\\n\\n### Advertising\\n\\n### Superior Accuracy™\\n\\n### Video\\n\\n## Monthly\\n\\n## January\\n\\n## 2025\\n\\n## Daily\\n\\n## Temperature Graph\\n\\n## Around the Globe\\n\\nAround the Globe\\n\\n### Hurricane Tracker\\n\\n### Severe Weather [...] Featured Stories\\n\\nTravel\\n\\nUS Navy F-35 crashes in California, pilot ejects safely\\n\\n1 day ago\\n\\nWeather News\\n\\nMegaquake could trigger land drop, spike flood risk along West Coast\\n\\n1 day ago\\n\\nSevere Weather\\n\\nHow to tell how far away lightning is by counting\\n\\n21 hours ago\\n\\nHurricane\\n\\nTropics may ramp up as Atlantic hurricane season enters next phase\\n\\n2 days ago\\n\\nTravel\\n\\nFlights at UK airports hit by major technical issue\\n\\n1 day ago\\n\\n## Weather Near New Delhi:\\n\\n...\\n\\n...\\n\\n... [...] ### Radar & Maps\\n\\n### News\\n\\n### Video\\n\\nTop Stories\\n\\nWeather Forecasts\\n\\nCool, dry air to replace flood-inducing storms in Northeast\\n\\n41 minutes ago\\n\\nSevere Weather\\n\\nTorrential rain, deadly flash flooding slam I-95 corridor\\n\\n42 minutes ago\\n\\nHurricane\\n\\nHawaii faces wildfire risk amid drought, winds\\n\\n4 hours ago\\n\\nWeather News\\n\\nWoman races home after security cam shows dogs trapped in floodwaters\\n\\n1 day ago\\n\\nHealth\\n\\nWildfire smoke sends air quality plummeting in Chicago, Minneapolis\\n\\n21 hours ago\", \"score\": 0.51032627}, {\"title\": \"Delhi, Delhi, India Current Weather - AccuWeather\", \"url\": \"https://www.accuweather.com/en/in/delhi/202396/current-weather/202396\", \"content\": \"Probability of Precipitation86%\\n\\nProbability of Thunderstorms21%\\n\\nPrecipitation0.30 in\\n\\nRain0.30 in\\n\\nHours of Precipitation1.5\\n\\nHours of Rain1.5\\n\\nCloud Cover75%\\n\\n### Morning\\n\\n### Afternoon\\n\\n## Night\\n\\nWindW 5 mph\\n\\nWind Gusts13 mph\\n\\nProbability of Precipitation25%\\n\\nProbability of Thunderstorms6%\\n\\nPrecipitation0.00 in\\n\\nCloud Cover89%\\n\\n### Evening\\n\\n### Overnight\\n\\n## Sun & Moon\\n\\n## Temperature History\\n\\n## Further Ahead\\n\\nFurther Ahead\\n\\n### Hourly\\n\\n### Daily\\n\\n### Monthly\\n\\n## Around the Globe [...] # Delhi, Delhi\\n\\nDelhi\\n\\nDelhi\\n\\n## Around the Globe\\n\\nAround the Globe\\n\\n### Hurricane Tracker\\n\\n### Severe Weather\\n\\n### Radar & Maps\\n\\n### News & Features\\n\\n### Astronomy\\n\\n### Business\\n\\n### Climate\\n\\n### Health\\n\\n### Recreation\\n\\n### Sports\\n\\n### Travel\\n\\n### Warnings\\n\\n### Data Suite\\n\\n### Forensics\\n\\n### Advertising\\n\\n### Superior Accuracy™\\n\\n### Video\\n\\n# Current Weather\\n\\n5:55 PM\\n\\n## Day\\n\\nMax UV Index12 (Extreme)\\n\\nAccuLumen Brightness Index™5 (Medium)\\n\\nWindWSW 5 mph\\n\\nWind Gusts14 mph [...] Wildfire smoke sends air quality plummeting in Chicago, Minneapolis\\n\\n21 hours ago\\n\\nFeatured Stories\\n\\nTravel\\n\\nUS Navy F-35 crashes in California, pilot ejects safely\\n\\n1 day ago\\n\\nWeather News\\n\\nMegaquake could trigger land drop, spike flood risk along West Coast\\n\\n1 day ago\\n\\nSevere Weather\\n\\nHow to tell how far away lightning is by counting\\n\\n21 hours ago\\n\\nHurricane\\n\\nTropics may ramp up as Atlantic hurricane season enters next phase\\n\\n2 days ago\\n\\nTravel\", \"score\": 0.40683898}, {\"title\": \"Delhi, Delhi, India Weather Forecast - AccuWeather\", \"url\": \"https://www.accuweather.com/en/in/delhi/202396/weather-forecast/202396\", \"content\": \"# Delhi, Delhi\\n\\n## Around the Globe\\n\\nAround the Globe\\n\\n### Hurricane Tracker\\n\\n### Severe Weather\\n\\n### Radar & Maps\\n\\n### News & Features\\n\\n### Astronomy\\n\\n### Business\\n\\n### Climate\\n\\n### Health\\n\\n### Recreation\\n\\n### Sports\\n\\n### Travel\\n\\n### Warnings\\n\\n### Data Suite\\n\\n### Forensics\\n\\n### Advertising\\n\\n### Superior Accuracy™\\n\\n### Video\\n\\n## Today\\n\\n## Today's Weather\\n\\nFri, Aug 1\\n\\nA bit of morning rain; otherwise, mostly cloudy\\nHi: 89°\\n\\nTonight: Partly to mostly cloudy\\nLo: 79°\\n\\n## Current Weather\\n\\n5:55 PM [...] 8/4\\n\\nAn afternoon shower or two\\n\\nA heavy thunderstorm or two\\n\\nTue\\n\\n8/5\\n\\nCloudy, a t-storm in the p.m.\\n\\nHeavy showers late\\n\\nWed\\n\\n8/6\\n\\nDownpours in the a.m.; cloudy\\n\\nRain and a thunderstorm late\\n\\nThu\\n\\n8/7\\n\\nCloudy, a t-storm in the p.m.\\n\\nLow clouds\\n\\nFri\\n\\n8/8\\n\\nCloudy with a bit of rain\\n\\nA thunderstorm in spots late\\n\\nSat\\n\\n8/9\\n\\nMostly cloudy, a little rain\\n\\nPartly cloudy, a shower late\\n\\nSun\\n\\n8/10\\n\\nA little rain in the morning\\n\\nTurning cloudy\\n\\n## Sun & Moon\\n\\n## Air Quality\", \"score\": 0.37518036}]\n",
      "==================================\u001b[1m Ai Message \u001b[0m==================================\n",
      "\n",
      "The current weather in New Delhi is mostly cloudy with a high of 89°F (approximately 31.7°C). There's a bit of morning rain expected, and the chance of precipitation is around 86%. The wind is coming from the west at 5 mph, with gusts up to 14 mph.\n"
     ]
    }
   ],
   "source": [
    "for event in events:\n",
    "    if \"messages\" in event:\n",
    "        event[\"messages\"][-1].pretty_print()"
   ]
  },
  {
   "cell_type": "markdown",
   "id": "53b0d0f6",
   "metadata": {},
   "source": [
    "#### Memory Saver Current State Configuration:"
   ]
  },
  {
   "cell_type": "code",
   "execution_count": 30,
   "id": "1d0e0d2a",
   "metadata": {},
   "outputs": [
    {
     "data": {
      "text/plain": [
       "StateSnapshot(values={'messages': [HumanMessage(content='what is current a capital of india?', additional_kwargs={}, response_metadata={}, id='42620944-4fad-404f-b2f3-d8d9b25b5187'), AIMessage(content='The current capital of India is New Delhi.', additional_kwargs={'refusal': None}, response_metadata={'token_usage': {'completion_tokens': 10, 'prompt_tokens': 87, 'total_tokens': 97, 'completion_tokens_details': {'accepted_prediction_tokens': 0, 'audio_tokens': 0, 'reasoning_tokens': 0, 'rejected_prediction_tokens': 0}, 'prompt_tokens_details': {'audio_tokens': 0, 'cached_tokens': 0}}, 'model_name': 'gpt-4o-2024-08-06', 'system_fingerprint': 'fp_a288987b44', 'id': 'chatcmpl-Bzj3aXV7isHzRzumLJqo0o9hasBC4', 'service_tier': 'default', 'finish_reason': 'stop', 'logprobs': None}, id='run--c3604934-4745-468a-a234-63de1533c66b-0', usage_metadata={'input_tokens': 87, 'output_tokens': 10, 'total_tokens': 97, 'input_token_details': {'audio': 0, 'cache_read': 0}, 'output_token_details': {'audio': 0, 'reasoning': 0}}), HumanMessage(content='what is a weather there?', additional_kwargs={}, response_metadata={}, id='a8f79c0d-e93d-4c06-8a93-5eaee38fdedc'), AIMessage(content='', additional_kwargs={'tool_calls': [{'id': 'call_BCOHLAGTu5wbPJodv9RFXPYP', 'function': {'arguments': '{\"query\":\"current weather in New Delhi\"}', 'name': 'tavily_search_results_json'}, 'type': 'function'}], 'refusal': None}, response_metadata={'token_usage': {'completion_tokens': 22, 'prompt_tokens': 110, 'total_tokens': 132, 'completion_tokens_details': {'accepted_prediction_tokens': 0, 'audio_tokens': 0, 'reasoning_tokens': 0, 'rejected_prediction_tokens': 0}, 'prompt_tokens_details': {'audio_tokens': 0, 'cached_tokens': 0}}, 'model_name': 'gpt-4o-2024-08-06', 'system_fingerprint': 'fp_a288987b44', 'id': 'chatcmpl-Bzj4JPtUu9FsjNOw2fuEJrExK65Dx', 'service_tier': 'default', 'finish_reason': 'tool_calls', 'logprobs': None}, id='run--04d3f88d-00f7-4c1a-93f9-14be5be81478-0', tool_calls=[{'name': 'tavily_search_results_json', 'args': {'query': 'current weather in New Delhi'}, 'id': 'call_BCOHLAGTu5wbPJodv9RFXPYP', 'type': 'tool_call'}], usage_metadata={'input_tokens': 110, 'output_tokens': 22, 'total_tokens': 132, 'input_token_details': {'audio': 0, 'cache_read': 0}, 'output_token_details': {'audio': 0, 'reasoning': 0}}), ToolMessage(content='[{\"title\": \"New Delhi 14 Day Extended Forecast - Weather - Time and Date\", \"url\": \"https://www.timeanddate.com/weather/india/new-delhi/ext\", \"content\": \"| \\\\\\\\ Updated Friday, August 1, 2025 2:54:29 pm New Delhi time - Weather by CustomWeather, © 2025 | | | | | | | | | | | | | [...] |  | Conditions | | | Comfort | | | | Precipitation | | Sun | | |\\\\n| --- | --- | --- | --- | --- | --- | --- | --- | --- | --- | --- | --- | --- |\\\\n| Day |  | Temperature | Weather | Feels Like | Wind |  | Humidity | Chance | Amount | UV | Sunrise | Sunset |\\\\n| Fri Aug 1 |  | 91 / 80 °F | Passing showers. Cloudy. | 107 °F | 10 mph | ↑ | 73% | 76% | 0.36\\\\\" | 5 (Moderate) | 5:42 am | 7:11 pm | [...] | Fri Aug 8 |  | 96 / 80 °F | Mostly cloudy. | 112 °F | 7 mph | ↑ | 59% | 6% | 0.00\\\\\" | 7 (High) | 5:46 am | 7:06 pm |\\\\n| Sat Aug 9 |  | 93 / 86 °F | Thunderstorms. Mostly cloudy. | 110 °F | 9 mph | ↑ | 65% | 99% | 0.80\\\\\" | 5 (Moderate) | 5:47 am | 7:05 pm |\\\\n| Sun Aug 10 |  | 89 / 82 °F | A few tstorms. Cloudy. | 96 °F | 8 mph | ↑ | 58% | 92% | 0.16\\\\\" | 5 (Moderate) | 5:47 am | 7:04 pm |\", \"score\": 0.72231215}, {\"title\": \"Delhi weather in August 2025 | Delhi 14 day weather - Weather25.com\", \"url\": \"https://www.weather25.com/asia/india/delhi?page=month&month=August\", \"content\": \"| Month | Temperatures | Rainy Days | Dry Days | Snowy Days | Rainfall | Weather | More details |\\\\n| --- | --- | --- | --- | --- | --- | --- | --- |\\\\n| January | 22° / 12° | 1 | 30 | 0 | 20 mm | Good | Delhi in January |\\\\n| February | 26° / 14° | 2 | 27 | 0 | 21 mm | Perfect | Delhi in February |\\\\n| March | 33° / 20° | 2 | 29 | 0 | 18 mm | Good | Delhi in March |\\\\n| April | 39° / 27° | 1 | 29 | 0 | 15 mm | Bad | Delhi in April |\\\\n| May | 43° / 32° | 1 | 30 | 0 | 17 mm | Awful | Delhi in May | [...] | Sun | Mon | Tue | Wed | Thu | Fri | Sat |\\\\n| --- | --- | --- | --- | --- | --- | --- |\\\\n|  |  |  |  |  | 1 Light rain shower 34° /27° | 2 Patchy rain possible 35° /29° |\\\\n| 3 Patchy light drizzle 37° /30° | 4 Patchy rain possible 38° /31° | 5 Patchy rain possible 30° /27° | 6 Patchy rain possible 29° /26° | 7 Patchy rain possible 36° /27° | 8 Partly cloudy 37° /31° | 9 Light rain shower 32° /28° | [...] | 24 Partly cloudy 35° /28° | 25 Partly cloudy 37° /29° | 26 Partly cloudy 37° /28° | 27 Partly cloudy 36° /28° | 28 Partly cloudy 37° /28° | 29 Light rain shower 37° /28° | 30 Cloudy 36° /28° |\\\\n| 31 Partly cloudy 37° /29° |  |  |  |  |  |  |\", \"score\": 0.5962692}, {\"title\": \"2025 - New Delhi, Delhi, India Monthly Weather | AccuWeather\", \"url\": \"https://www.accuweather.com/en/in/new-delhi/187745/january-weather/187745\", \"content\": \"# New Delhi, Delhi\\\\n\\\\nNew Delhi\\\\n\\\\nDelhi\\\\n\\\\n## Around the Globe\\\\n\\\\nAround the Globe\\\\n\\\\n### Hurricane Tracker\\\\n\\\\n### Severe Weather\\\\n\\\\n### Radar & Maps\\\\n\\\\n### News & Features\\\\n\\\\n### Astronomy\\\\n\\\\n### Business\\\\n\\\\n### Climate\\\\n\\\\n### Health\\\\n\\\\n### Recreation\\\\n\\\\n### Sports\\\\n\\\\n### Travel\\\\n\\\\n### Warnings\\\\n\\\\n### Data Suite\\\\n\\\\n### Forensics\\\\n\\\\n### Advertising\\\\n\\\\n### Superior Accuracy™\\\\n\\\\n### Video\\\\n\\\\n## Monthly\\\\n\\\\n## January\\\\n\\\\n## 2025\\\\n\\\\n## Daily\\\\n\\\\n## Temperature Graph\\\\n\\\\n## Around the Globe\\\\n\\\\nAround the Globe\\\\n\\\\n### Hurricane Tracker\\\\n\\\\n### Severe Weather [...] Featured Stories\\\\n\\\\nTravel\\\\n\\\\nUS Navy F-35 crashes in California, pilot ejects safely\\\\n\\\\n1 day ago\\\\n\\\\nWeather News\\\\n\\\\nMegaquake could trigger land drop, spike flood risk along West Coast\\\\n\\\\n1 day ago\\\\n\\\\nSevere Weather\\\\n\\\\nHow to tell how far away lightning is by counting\\\\n\\\\n21 hours ago\\\\n\\\\nHurricane\\\\n\\\\nTropics may ramp up as Atlantic hurricane season enters next phase\\\\n\\\\n2 days ago\\\\n\\\\nTravel\\\\n\\\\nFlights at UK airports hit by major technical issue\\\\n\\\\n1 day ago\\\\n\\\\n## Weather Near New Delhi:\\\\n\\\\n...\\\\n\\\\n...\\\\n\\\\n... [...] ### Radar & Maps\\\\n\\\\n### News\\\\n\\\\n### Video\\\\n\\\\nTop Stories\\\\n\\\\nWeather Forecasts\\\\n\\\\nCool, dry air to replace flood-inducing storms in Northeast\\\\n\\\\n41 minutes ago\\\\n\\\\nSevere Weather\\\\n\\\\nTorrential rain, deadly flash flooding slam I-95 corridor\\\\n\\\\n42 minutes ago\\\\n\\\\nHurricane\\\\n\\\\nHawaii faces wildfire risk amid drought, winds\\\\n\\\\n4 hours ago\\\\n\\\\nWeather News\\\\n\\\\nWoman races home after security cam shows dogs trapped in floodwaters\\\\n\\\\n1 day ago\\\\n\\\\nHealth\\\\n\\\\nWildfire smoke sends air quality plummeting in Chicago, Minneapolis\\\\n\\\\n21 hours ago\", \"score\": 0.51032627}, {\"title\": \"Delhi, Delhi, India Current Weather - AccuWeather\", \"url\": \"https://www.accuweather.com/en/in/delhi/202396/current-weather/202396\", \"content\": \"Probability of Precipitation86%\\\\n\\\\nProbability of Thunderstorms21%\\\\n\\\\nPrecipitation0.30 in\\\\n\\\\nRain0.30 in\\\\n\\\\nHours of Precipitation1.5\\\\n\\\\nHours of Rain1.5\\\\n\\\\nCloud Cover75%\\\\n\\\\n### Morning\\\\n\\\\n### Afternoon\\\\n\\\\n## Night\\\\n\\\\nWindW 5 mph\\\\n\\\\nWind Gusts13 mph\\\\n\\\\nProbability of Precipitation25%\\\\n\\\\nProbability of Thunderstorms6%\\\\n\\\\nPrecipitation0.00 in\\\\n\\\\nCloud Cover89%\\\\n\\\\n### Evening\\\\n\\\\n### Overnight\\\\n\\\\n## Sun & Moon\\\\n\\\\n## Temperature History\\\\n\\\\n## Further Ahead\\\\n\\\\nFurther Ahead\\\\n\\\\n### Hourly\\\\n\\\\n### Daily\\\\n\\\\n### Monthly\\\\n\\\\n## Around the Globe [...] # Delhi, Delhi\\\\n\\\\nDelhi\\\\n\\\\nDelhi\\\\n\\\\n## Around the Globe\\\\n\\\\nAround the Globe\\\\n\\\\n### Hurricane Tracker\\\\n\\\\n### Severe Weather\\\\n\\\\n### Radar & Maps\\\\n\\\\n### News & Features\\\\n\\\\n### Astronomy\\\\n\\\\n### Business\\\\n\\\\n### Climate\\\\n\\\\n### Health\\\\n\\\\n### Recreation\\\\n\\\\n### Sports\\\\n\\\\n### Travel\\\\n\\\\n### Warnings\\\\n\\\\n### Data Suite\\\\n\\\\n### Forensics\\\\n\\\\n### Advertising\\\\n\\\\n### Superior Accuracy™\\\\n\\\\n### Video\\\\n\\\\n# Current Weather\\\\n\\\\n5:55 PM\\\\n\\\\n## Day\\\\n\\\\nMax UV Index12 (Extreme)\\\\n\\\\nAccuLumen Brightness Index™5 (Medium)\\\\n\\\\nWindWSW 5 mph\\\\n\\\\nWind Gusts14 mph [...] Wildfire smoke sends air quality plummeting in Chicago, Minneapolis\\\\n\\\\n21 hours ago\\\\n\\\\nFeatured Stories\\\\n\\\\nTravel\\\\n\\\\nUS Navy F-35 crashes in California, pilot ejects safely\\\\n\\\\n1 day ago\\\\n\\\\nWeather News\\\\n\\\\nMegaquake could trigger land drop, spike flood risk along West Coast\\\\n\\\\n1 day ago\\\\n\\\\nSevere Weather\\\\n\\\\nHow to tell how far away lightning is by counting\\\\n\\\\n21 hours ago\\\\n\\\\nHurricane\\\\n\\\\nTropics may ramp up as Atlantic hurricane season enters next phase\\\\n\\\\n2 days ago\\\\n\\\\nTravel\", \"score\": 0.40683898}, {\"title\": \"Delhi, Delhi, India Weather Forecast - AccuWeather\", \"url\": \"https://www.accuweather.com/en/in/delhi/202396/weather-forecast/202396\", \"content\": \"# Delhi, Delhi\\\\n\\\\n## Around the Globe\\\\n\\\\nAround the Globe\\\\n\\\\n### Hurricane Tracker\\\\n\\\\n### Severe Weather\\\\n\\\\n### Radar & Maps\\\\n\\\\n### News & Features\\\\n\\\\n### Astronomy\\\\n\\\\n### Business\\\\n\\\\n### Climate\\\\n\\\\n### Health\\\\n\\\\n### Recreation\\\\n\\\\n### Sports\\\\n\\\\n### Travel\\\\n\\\\n### Warnings\\\\n\\\\n### Data Suite\\\\n\\\\n### Forensics\\\\n\\\\n### Advertising\\\\n\\\\n### Superior Accuracy™\\\\n\\\\n### Video\\\\n\\\\n## Today\\\\n\\\\n## Today\\'s Weather\\\\n\\\\nFri, Aug 1\\\\n\\\\nA bit of morning rain; otherwise, mostly cloudy\\\\nHi: 89°\\\\n\\\\nTonight: Partly to mostly cloudy\\\\nLo: 79°\\\\n\\\\n## Current Weather\\\\n\\\\n5:55 PM [...] 8/4\\\\n\\\\nAn afternoon shower or two\\\\n\\\\nA heavy thunderstorm or two\\\\n\\\\nTue\\\\n\\\\n8/5\\\\n\\\\nCloudy, a t-storm in the p.m.\\\\n\\\\nHeavy showers late\\\\n\\\\nWed\\\\n\\\\n8/6\\\\n\\\\nDownpours in the a.m.; cloudy\\\\n\\\\nRain and a thunderstorm late\\\\n\\\\nThu\\\\n\\\\n8/7\\\\n\\\\nCloudy, a t-storm in the p.m.\\\\n\\\\nLow clouds\\\\n\\\\nFri\\\\n\\\\n8/8\\\\n\\\\nCloudy with a bit of rain\\\\n\\\\nA thunderstorm in spots late\\\\n\\\\nSat\\\\n\\\\n8/9\\\\n\\\\nMostly cloudy, a little rain\\\\n\\\\nPartly cloudy, a shower late\\\\n\\\\nSun\\\\n\\\\n8/10\\\\n\\\\nA little rain in the morning\\\\n\\\\nTurning cloudy\\\\n\\\\n## Sun & Moon\\\\n\\\\n## Air Quality\", \"score\": 0.37518036}]', name='tavily_search_results_json', id='0ed30557-cfde-4b79-8fb3-172e9adf0c6f', tool_call_id='call_BCOHLAGTu5wbPJodv9RFXPYP', artifact={'query': 'current weather in New Delhi', 'follow_up_questions': None, 'answer': None, 'images': [], 'results': [{'url': 'https://www.timeanddate.com/weather/india/new-delhi/ext', 'title': 'New Delhi 14 Day Extended Forecast - Weather - Time and Date', 'content': '| \\\\ Updated Friday, August 1, 2025 2:54:29 pm New Delhi time - Weather by CustomWeather, © 2025 | | | | | | | | | | | | | [...] |  | Conditions | | | Comfort | | | | Precipitation | | Sun | | |\\n| --- | --- | --- | --- | --- | --- | --- | --- | --- | --- | --- | --- | --- |\\n| Day |  | Temperature | Weather | Feels Like | Wind |  | Humidity | Chance | Amount | UV | Sunrise | Sunset |\\n| Fri Aug 1 |  | 91 / 80 °F | Passing showers. Cloudy. | 107 °F | 10 mph | ↑ | 73% | 76% | 0.36\" | 5 (Moderate) | 5:42 am | 7:11 pm | [...] | Fri Aug 8 |  | 96 / 80 °F | Mostly cloudy. | 112 °F | 7 mph | ↑ | 59% | 6% | 0.00\" | 7 (High) | 5:46 am | 7:06 pm |\\n| Sat Aug 9 |  | 93 / 86 °F | Thunderstorms. Mostly cloudy. | 110 °F | 9 mph | ↑ | 65% | 99% | 0.80\" | 5 (Moderate) | 5:47 am | 7:05 pm |\\n| Sun Aug 10 |  | 89 / 82 °F | A few tstorms. Cloudy. | 96 °F | 8 mph | ↑ | 58% | 92% | 0.16\" | 5 (Moderate) | 5:47 am | 7:04 pm |', 'score': 0.72231215, 'raw_content': None}, {'url': 'https://www.weather25.com/asia/india/delhi?page=month&month=August', 'title': 'Delhi weather in August 2025 | Delhi 14 day weather - Weather25.com', 'content': '| Month | Temperatures | Rainy Days | Dry Days | Snowy Days | Rainfall | Weather | More details |\\n| --- | --- | --- | --- | --- | --- | --- | --- |\\n| January | 22° / 12° | 1 | 30 | 0 | 20 mm | Good | Delhi in January |\\n| February | 26° / 14° | 2 | 27 | 0 | 21 mm | Perfect | Delhi in February |\\n| March | 33° / 20° | 2 | 29 | 0 | 18 mm | Good | Delhi in March |\\n| April | 39° / 27° | 1 | 29 | 0 | 15 mm | Bad | Delhi in April |\\n| May | 43° / 32° | 1 | 30 | 0 | 17 mm | Awful | Delhi in May | [...] | Sun | Mon | Tue | Wed | Thu | Fri | Sat |\\n| --- | --- | --- | --- | --- | --- | --- |\\n|  |  |  |  |  | 1 Light rain shower 34° /27° | 2 Patchy rain possible 35° /29° |\\n| 3 Patchy light drizzle 37° /30° | 4 Patchy rain possible 38° /31° | 5 Patchy rain possible 30° /27° | 6 Patchy rain possible 29° /26° | 7 Patchy rain possible 36° /27° | 8 Partly cloudy 37° /31° | 9 Light rain shower 32° /28° | [...] | 24 Partly cloudy 35° /28° | 25 Partly cloudy 37° /29° | 26 Partly cloudy 37° /28° | 27 Partly cloudy 36° /28° | 28 Partly cloudy 37° /28° | 29 Light rain shower 37° /28° | 30 Cloudy 36° /28° |\\n| 31 Partly cloudy 37° /29° |  |  |  |  |  |  |', 'score': 0.5962692, 'raw_content': None}, {'url': 'https://www.accuweather.com/en/in/new-delhi/187745/january-weather/187745', 'title': '2025 - New Delhi, Delhi, India Monthly Weather | AccuWeather', 'content': '# New Delhi, Delhi\\n\\nNew Delhi\\n\\nDelhi\\n\\n## Around the Globe\\n\\nAround the Globe\\n\\n### Hurricane Tracker\\n\\n### Severe Weather\\n\\n### Radar & Maps\\n\\n### News & Features\\n\\n### Astronomy\\n\\n### Business\\n\\n### Climate\\n\\n### Health\\n\\n### Recreation\\n\\n### Sports\\n\\n### Travel\\n\\n### Warnings\\n\\n### Data Suite\\n\\n### Forensics\\n\\n### Advertising\\n\\n### Superior Accuracy™\\n\\n### Video\\n\\n## Monthly\\n\\n## January\\n\\n## 2025\\n\\n## Daily\\n\\n## Temperature Graph\\n\\n## Around the Globe\\n\\nAround the Globe\\n\\n### Hurricane Tracker\\n\\n### Severe Weather [...] Featured Stories\\n\\nTravel\\n\\nUS Navy F-35 crashes in California, pilot ejects safely\\n\\n1 day ago\\n\\nWeather News\\n\\nMegaquake could trigger land drop, spike flood risk along West Coast\\n\\n1 day ago\\n\\nSevere Weather\\n\\nHow to tell how far away lightning is by counting\\n\\n21 hours ago\\n\\nHurricane\\n\\nTropics may ramp up as Atlantic hurricane season enters next phase\\n\\n2 days ago\\n\\nTravel\\n\\nFlights at UK airports hit by major technical issue\\n\\n1 day ago\\n\\n## Weather Near New Delhi:\\n\\n...\\n\\n...\\n\\n... [...] ### Radar & Maps\\n\\n### News\\n\\n### Video\\n\\nTop Stories\\n\\nWeather Forecasts\\n\\nCool, dry air to replace flood-inducing storms in Northeast\\n\\n41 minutes ago\\n\\nSevere Weather\\n\\nTorrential rain, deadly flash flooding slam I-95 corridor\\n\\n42 minutes ago\\n\\nHurricane\\n\\nHawaii faces wildfire risk amid drought, winds\\n\\n4 hours ago\\n\\nWeather News\\n\\nWoman races home after security cam shows dogs trapped in floodwaters\\n\\n1 day ago\\n\\nHealth\\n\\nWildfire smoke sends air quality plummeting in Chicago, Minneapolis\\n\\n21 hours ago', 'score': 0.51032627, 'raw_content': None}, {'url': 'https://www.accuweather.com/en/in/delhi/202396/current-weather/202396', 'title': 'Delhi, Delhi, India Current Weather - AccuWeather', 'content': 'Probability of Precipitation86%\\n\\nProbability of Thunderstorms21%\\n\\nPrecipitation0.30 in\\n\\nRain0.30 in\\n\\nHours of Precipitation1.5\\n\\nHours of Rain1.5\\n\\nCloud Cover75%\\n\\n### Morning\\n\\n### Afternoon\\n\\n## Night\\n\\nWindW 5 mph\\n\\nWind Gusts13 mph\\n\\nProbability of Precipitation25%\\n\\nProbability of Thunderstorms6%\\n\\nPrecipitation0.00 in\\n\\nCloud Cover89%\\n\\n### Evening\\n\\n### Overnight\\n\\n## Sun & Moon\\n\\n## Temperature History\\n\\n## Further Ahead\\n\\nFurther Ahead\\n\\n### Hourly\\n\\n### Daily\\n\\n### Monthly\\n\\n## Around the Globe [...] # Delhi, Delhi\\n\\nDelhi\\n\\nDelhi\\n\\n## Around the Globe\\n\\nAround the Globe\\n\\n### Hurricane Tracker\\n\\n### Severe Weather\\n\\n### Radar & Maps\\n\\n### News & Features\\n\\n### Astronomy\\n\\n### Business\\n\\n### Climate\\n\\n### Health\\n\\n### Recreation\\n\\n### Sports\\n\\n### Travel\\n\\n### Warnings\\n\\n### Data Suite\\n\\n### Forensics\\n\\n### Advertising\\n\\n### Superior Accuracy™\\n\\n### Video\\n\\n# Current Weather\\n\\n5:55 PM\\n\\n## Day\\n\\nMax UV Index12 (Extreme)\\n\\nAccuLumen Brightness Index™5 (Medium)\\n\\nWindWSW 5 mph\\n\\nWind Gusts14 mph [...] Wildfire smoke sends air quality plummeting in Chicago, Minneapolis\\n\\n21 hours ago\\n\\nFeatured Stories\\n\\nTravel\\n\\nUS Navy F-35 crashes in California, pilot ejects safely\\n\\n1 day ago\\n\\nWeather News\\n\\nMegaquake could trigger land drop, spike flood risk along West Coast\\n\\n1 day ago\\n\\nSevere Weather\\n\\nHow to tell how far away lightning is by counting\\n\\n21 hours ago\\n\\nHurricane\\n\\nTropics may ramp up as Atlantic hurricane season enters next phase\\n\\n2 days ago\\n\\nTravel', 'score': 0.40683898, 'raw_content': None}, {'url': 'https://www.accuweather.com/en/in/delhi/202396/weather-forecast/202396', 'title': 'Delhi, Delhi, India Weather Forecast - AccuWeather', 'content': \"# Delhi, Delhi\\n\\n## Around the Globe\\n\\nAround the Globe\\n\\n### Hurricane Tracker\\n\\n### Severe Weather\\n\\n### Radar & Maps\\n\\n### News & Features\\n\\n### Astronomy\\n\\n### Business\\n\\n### Climate\\n\\n### Health\\n\\n### Recreation\\n\\n### Sports\\n\\n### Travel\\n\\n### Warnings\\n\\n### Data Suite\\n\\n### Forensics\\n\\n### Advertising\\n\\n### Superior Accuracy™\\n\\n### Video\\n\\n## Today\\n\\n## Today's Weather\\n\\nFri, Aug 1\\n\\nA bit of morning rain; otherwise, mostly cloudy\\nHi: 89°\\n\\nTonight: Partly to mostly cloudy\\nLo: 79°\\n\\n## Current Weather\\n\\n5:55 PM [...] 8/4\\n\\nAn afternoon shower or two\\n\\nA heavy thunderstorm or two\\n\\nTue\\n\\n8/5\\n\\nCloudy, a t-storm in the p.m.\\n\\nHeavy showers late\\n\\nWed\\n\\n8/6\\n\\nDownpours in the a.m.; cloudy\\n\\nRain and a thunderstorm late\\n\\nThu\\n\\n8/7\\n\\nCloudy, a t-storm in the p.m.\\n\\nLow clouds\\n\\nFri\\n\\n8/8\\n\\nCloudy with a bit of rain\\n\\nA thunderstorm in spots late\\n\\nSat\\n\\n8/9\\n\\nMostly cloudy, a little rain\\n\\nPartly cloudy, a shower late\\n\\nSun\\n\\n8/10\\n\\nA little rain in the morning\\n\\nTurning cloudy\\n\\n## Sun & Moon\\n\\n## Air Quality\", 'score': 0.37518036, 'raw_content': None}], 'response_time': 4.86}), AIMessage(content=\"The current weather in New Delhi is mostly cloudy with a high of 89°F (approximately 31.7°C). There's a bit of morning rain expected, and the chance of precipitation is around 86%. The wind is coming from the west at 5 mph, with gusts up to 14 mph.\", additional_kwargs={'refusal': None}, response_metadata={'token_usage': {'completion_tokens': 64, 'prompt_tokens': 2478, 'total_tokens': 2542, 'completion_tokens_details': {'accepted_prediction_tokens': 0, 'audio_tokens': 0, 'reasoning_tokens': 0, 'rejected_prediction_tokens': 0}, 'prompt_tokens_details': {'audio_tokens': 0, 'cached_tokens': 0}}, 'model_name': 'gpt-4o-2024-08-06', 'system_fingerprint': 'fp_a288987b44', 'id': 'chatcmpl-Bzj7h50z8K01N4eWCFYdUApFCiwAN', 'service_tier': 'default', 'finish_reason': 'stop', 'logprobs': None}, id='run--bfd8c9e3-a211-40c6-9975-98cc93bac00d-0', usage_metadata={'input_tokens': 2478, 'output_tokens': 64, 'total_tokens': 2542, 'input_token_details': {'audio': 0, 'cache_read': 0}, 'output_token_details': {'audio': 0, 'reasoning': 0}})]}, next=(), config={'configurable': {'thread_id': '1', 'checkpoint_ns': '', 'checkpoint_id': '1f06ed2b-0aba-6578-8006-7de71920de3c'}}, metadata={'source': 'loop', 'step': 6, 'parents': {}, 'thread_id': '1'}, created_at='2025-08-01T12:26:03.471091+00:00', parent_config={'configurable': {'thread_id': '1', 'checkpoint_ns': '', 'checkpoint_id': '1f06ed2a-f277-65ab-8005-469a7ebbae50'}}, tasks=(), interrupts=())"
      ]
     },
     "execution_count": 30,
     "metadata": {},
     "output_type": "execute_result"
    }
   ],
   "source": [
    "app2.get_state(config)"
   ]
  },
  {
   "cell_type": "markdown",
   "id": "d9ba2f6d",
   "metadata": {},
   "source": [
    "#### Snapshot the Configuration:"
   ]
  },
  {
   "cell_type": "code",
   "execution_count": 31,
   "id": "db5ee0b0",
   "metadata": {},
   "outputs": [],
   "source": [
    "snapshot=app2.get_state(config)   "
   ]
  },
  {
   "cell_type": "code",
   "execution_count": 32,
   "id": "f196a47a",
   "metadata": {},
   "outputs": [
    {
     "data": {
      "text/plain": [
       "()"
      ]
     },
     "execution_count": 32,
     "metadata": {},
     "output_type": "execute_result"
    }
   ],
   "source": [
    "snapshot.next"
   ]
  },
  {
   "cell_type": "markdown",
   "id": "430ceebc",
   "metadata": {},
   "source": [
    "#### Next User Query with Memory Saver:"
   ]
  },
  {
   "cell_type": "code",
   "execution_count": 33,
   "id": "e52e6508",
   "metadata": {},
   "outputs": [],
   "source": [
    "user_input = \"give me the recent news there?\"\n",
    "\n",
    "config = {\"configurable\": {\"thread_id\": \"1\"}}"
   ]
  },
  {
   "cell_type": "markdown",
   "id": "676cb5d0",
   "metadata": {},
   "source": [
    "#### Stream APP:"
   ]
  },
  {
   "cell_type": "code",
   "execution_count": 34,
   "id": "207c2aa2",
   "metadata": {},
   "outputs": [],
   "source": [
    "events = app2.stream(\n",
    "    {\"messages\": [(\"user\", user_input)]}, config, stream_mode=\"values\"\n",
    ")"
   ]
  },
  {
   "cell_type": "markdown",
   "id": "ec6e5b41",
   "metadata": {},
   "source": [
    "#### Pretty Print the Response:"
   ]
  },
  {
   "cell_type": "code",
   "execution_count": 35,
   "id": "ff52e54d",
   "metadata": {},
   "outputs": [
    {
     "name": "stdout",
     "output_type": "stream",
     "text": [
      "================================\u001b[1m Human Message \u001b[0m=================================\n",
      "\n",
      "give me the recent news there?\n",
      "==================================\u001b[1m Ai Message \u001b[0m==================================\n",
      "Tool Calls:\n",
      "  tavily_search_results_json (call_i7EqDgAkuTFzlxJxOpeJG0ja)\n",
      " Call ID: call_i7EqDgAkuTFzlxJxOpeJG0ja\n",
      "  Args:\n",
      "    query: recent news in New Delhi\n"
     ]
    }
   ],
   "source": [
    "\n",
    "for event in events:\n",
    "    if \"messages\" in event:\n",
    "        event[\"messages\"][-1].pretty_print()"
   ]
  },
  {
   "cell_type": "markdown",
   "id": "39f76012",
   "metadata": {},
   "source": [
    "#### Snapshot the Configuration:"
   ]
  },
  {
   "cell_type": "code",
   "execution_count": 36,
   "id": "1e2538e2",
   "metadata": {},
   "outputs": [],
   "source": [
    "snapshot=app2.get_state(config)"
   ]
  },
  {
   "cell_type": "code",
   "execution_count": 37,
   "id": "961d4c6c",
   "metadata": {},
   "outputs": [
    {
     "data": {
      "text/plain": [
       "('tools',)"
      ]
     },
     "execution_count": 37,
     "metadata": {},
     "output_type": "execute_result"
    }
   ],
   "source": [
    "snapshot.next"
   ]
  },
  {
   "cell_type": "markdown",
   "id": "f1ee9f89",
   "metadata": {},
   "source": [
    "#### Capture the Last Message:"
   ]
  },
  {
   "cell_type": "code",
   "execution_count": 38,
   "id": "23b97f53",
   "metadata": {},
   "outputs": [],
   "source": [
    "current_message = snapshot.values[\"messages\"][-1]"
   ]
  },
  {
   "cell_type": "markdown",
   "id": "826d54e0",
   "metadata": {},
   "source": [
    "#### Tool Call ID:"
   ]
  },
  {
   "cell_type": "code",
   "execution_count": 39,
   "id": "f2cd8236",
   "metadata": {},
   "outputs": [
    {
     "name": "stdout",
     "output_type": "stream",
     "text": [
      "==================================\u001b[1m Ai Message \u001b[0m==================================\n",
      "Tool Calls:\n",
      "  tavily_search_results_json (call_i7EqDgAkuTFzlxJxOpeJG0ja)\n",
      " Call ID: call_i7EqDgAkuTFzlxJxOpeJG0ja\n",
      "  Args:\n",
      "    query: recent news in New Delhi\n"
     ]
    }
   ],
   "source": [
    "current_message.pretty_print()"
   ]
  },
  {
   "cell_type": "code",
   "execution_count": 40,
   "id": "b7081b51",
   "metadata": {},
   "outputs": [],
   "source": [
    "tool_call_id = current_message.tool_calls[0][\"id\"] "
   ]
  },
  {
   "cell_type": "code",
   "execution_count": 41,
   "id": "36a64b83",
   "metadata": {},
   "outputs": [
    {
     "data": {
      "text/plain": [
       "'call_i7EqDgAkuTFzlxJxOpeJG0ja'"
      ]
     },
     "execution_count": 41,
     "metadata": {},
     "output_type": "execute_result"
    }
   ],
   "source": [
    "tool_call_id"
   ]
  },
  {
   "cell_type": "markdown",
   "id": "86b6411e",
   "metadata": {},
   "source": [
    "#### Own Message:"
   ]
  },
  {
   "cell_type": "code",
   "execution_count": 42,
   "id": "4c2e1439",
   "metadata": {},
   "outputs": [],
   "source": [
    "from langchain_core.messages import AIMessage, ToolMessage"
   ]
  },
  {
   "cell_type": "code",
   "execution_count": 43,
   "id": "55f19de8",
   "metadata": {},
   "outputs": [],
   "source": [
    "answer = \"it is just related to raining which is happing on daily basis in delhi\""
   ]
  },
  {
   "cell_type": "code",
   "execution_count": 44,
   "id": "98720786",
   "metadata": {},
   "outputs": [],
   "source": [
    "new_messages = [\n",
    "    ToolMessage(content=answer, tool_call_id=tool_call_id),\n",
    "    AIMessage(content=answer),\n",
    "]"
   ]
  },
  {
   "cell_type": "code",
   "execution_count": 45,
   "id": "6324e7f2",
   "metadata": {},
   "outputs": [
    {
     "data": {
      "text/plain": [
       "{'configurable': {'thread_id': '1',\n",
       "  'checkpoint_ns': '',\n",
       "  'checkpoint_id': '1f06ed35-ec6f-65c0-800a-628007cd3b21'}}"
      ]
     },
     "execution_count": 45,
     "metadata": {},
     "output_type": "execute_result"
    }
   ],
   "source": [
    "app2.update_state(\n",
    "    config,\n",
    "    {\"messages\": new_messages},\n",
    ")\n",
    "  "
   ]
  },
  {
   "cell_type": "markdown",
   "id": "851169ba",
   "metadata": {},
   "source": [
    "#### New Response:"
   ]
  },
  {
   "cell_type": "code",
   "execution_count": 46,
   "id": "1c7bb9cc",
   "metadata": {},
   "outputs": [
    {
     "name": "stdout",
     "output_type": "stream",
     "text": [
      "[AIMessage(content='it is just related to raining which is happing on daily basis in delhi', additional_kwargs={}, response_metadata={}, id='933a99b6-a2da-422e-956f-84b3bcd8c7ae')]\n"
     ]
    }
   ],
   "source": [
    "print(app2.get_state(config).values[\"messages\"][-1:])"
   ]
  },
  {
   "cell_type": "code",
   "execution_count": null,
   "id": "9f672dc5",
   "metadata": {},
   "outputs": [],
   "source": []
  }
 ],
 "metadata": {
  "kernelspec": {
   "display_name": "rag",
   "language": "python",
   "name": "python3"
  },
  "language_info": {
   "codemirror_mode": {
    "name": "ipython",
    "version": 3
   },
   "file_extension": ".py",
   "mimetype": "text/x-python",
   "name": "python",
   "nbconvert_exporter": "python",
   "pygments_lexer": "ipython3",
   "version": "3.13.3"
  }
 },
 "nbformat": 4,
 "nbformat_minor": 5
}
